{
 "cells": [
  {
   "cell_type": "markdown",
   "id": "264388b5",
   "metadata": {},
   "source": [
    "# Lab task   ID: 193-15-13526"
   ]
  },
  {
   "cell_type": "code",
   "execution_count": null,
   "id": "35450d1a",
   "metadata": {},
   "outputs": [],
   "source": []
  },
  {
   "cell_type": "markdown",
   "id": "b45e45cc",
   "metadata": {},
   "source": [
    "# Python Basics"
   ]
  },
  {
   "cell_type": "code",
   "execution_count": 1,
   "id": "e9455ef1",
   "metadata": {},
   "outputs": [
    {
     "data": {
      "text/plain": [
       "14"
      ]
     },
     "execution_count": 1,
     "metadata": {},
     "output_type": "execute_result"
    }
   ],
   "source": [
    "2 + 4 * 3"
   ]
  },
  {
   "cell_type": "code",
   "execution_count": 2,
   "id": "a5a2bbfd",
   "metadata": {},
   "outputs": [
    {
     "data": {
      "text/plain": [
       "16"
      ]
     },
     "execution_count": 2,
     "metadata": {},
     "output_type": "execute_result"
    }
   ],
   "source": [
    "2**4"
   ]
  },
  {
   "cell_type": "code",
   "execution_count": 3,
   "id": "35d2a575",
   "metadata": {},
   "outputs": [
    {
     "name": "stdout",
     "output_type": "stream",
     "text": [
      "Data Mining and Machine Learning\n"
     ]
    }
   ],
   "source": [
    "x = \"Data \" + \"Mining \" + \"and \" + \"Machine\" + \" Learning\"\n",
    "print(x)"
   ]
  },
  {
   "cell_type": "code",
   "execution_count": 4,
   "id": "b2524515",
   "metadata": {},
   "outputs": [
    {
     "data": {
      "text/plain": [
       "'DATA MINING AND MACHINE LEARNING'"
      ]
     },
     "execution_count": 4,
     "metadata": {},
     "output_type": "execute_result"
    }
   ],
   "source": [
    "x.upper()"
   ]
  },
  {
   "cell_type": "code",
   "execution_count": 5,
   "id": "7667699e",
   "metadata": {},
   "outputs": [
    {
     "data": {
      "text/plain": [
       "'data mining and machine learning'"
      ]
     },
     "execution_count": 5,
     "metadata": {},
     "output_type": "execute_result"
    }
   ],
   "source": [
    "x.lower()"
   ]
  },
  {
   "cell_type": "code",
   "execution_count": 6,
   "id": "85726c3c",
   "metadata": {},
   "outputs": [
    {
     "data": {
      "text/plain": [
       "32"
      ]
     },
     "execution_count": 6,
     "metadata": {},
     "output_type": "execute_result"
    }
   ],
   "source": [
    "len(x)"
   ]
  },
  {
   "cell_type": "code",
   "execution_count": 7,
   "id": "4db8d690",
   "metadata": {},
   "outputs": [
    {
     "name": "stdout",
     "output_type": "stream",
     "text": [
      "[10, 40, 35]\n"
     ]
    }
   ],
   "source": [
    "a = 7 + 3\n",
    "\n",
    "b = a * 4\n",
    "c = b - 5\n",
    "L = [a,b,c]\n",
    "print(L)"
   ]
  },
  {
   "cell_type": "code",
   "execution_count": 8,
   "id": "272c9e4c",
   "metadata": {},
   "outputs": [
    {
     "name": "stdout",
     "output_type": "stream",
     "text": [
      "[10, 40, 35, 15, 32, 'd', 3.5]\n"
     ]
    }
   ],
   "source": [
    "M = [15, 32, \"d\", 3.5]\n",
    "\n",
    "N = L + M\n",
    "print(N)"
   ]
  },
  {
   "cell_type": "code",
   "execution_count": 9,
   "id": "d977726c",
   "metadata": {},
   "outputs": [
    {
     "data": {
      "text/plain": [
       "7"
      ]
     },
     "execution_count": 9,
     "metadata": {},
     "output_type": "execute_result"
    }
   ],
   "source": [
    "len(N)"
   ]
  },
  {
   "cell_type": "code",
   "execution_count": 10,
   "id": "6a60dd9b",
   "metadata": {},
   "outputs": [
    {
     "data": {
      "text/plain": [
       "15"
      ]
     },
     "execution_count": 10,
     "metadata": {},
     "output_type": "execute_result"
    }
   ],
   "source": [
    "N[3]"
   ]
  },
  {
   "cell_type": "code",
   "execution_count": 11,
   "id": "7a687754",
   "metadata": {},
   "outputs": [
    {
     "data": {
      "text/plain": [
       "[10, 40]"
      ]
     },
     "execution_count": 11,
     "metadata": {},
     "output_type": "execute_result"
    }
   ],
   "source": [
    "N[:2]"
   ]
  },
  {
   "cell_type": "code",
   "execution_count": 12,
   "id": "9d0a3b4a",
   "metadata": {},
   "outputs": [
    {
     "data": {
      "text/plain": [
       "[35, 15, 32, 'd', 3.5]"
      ]
     },
     "execution_count": 12,
     "metadata": {},
     "output_type": "execute_result"
    }
   ],
   "source": [
    "N[2:]"
   ]
  },
  {
   "cell_type": "code",
   "execution_count": 13,
   "id": "470961f6",
   "metadata": {},
   "outputs": [
    {
     "data": {
      "text/plain": [
       "[15, 32, 'd']"
      ]
     },
     "execution_count": 13,
     "metadata": {},
     "output_type": "execute_result"
    }
   ],
   "source": [
    "N[3:6]"
   ]
  },
  {
   "cell_type": "code",
   "execution_count": 14,
   "id": "a9e1e460",
   "metadata": {},
   "outputs": [
    {
     "name": "stdout",
     "output_type": "stream",
     "text": [
      "mango for sale\n",
      "oranges for sale\n",
      "litchi for sale\n",
      "bananas for sale\n",
      "mango are too expensive!\n",
      "oranges cost 1.500000 a pound\n",
      "litchi are too expensive!\n",
      "bananas cost 1.500000 a pound\n"
     ]
    }
   ],
   "source": [
    "# This is what a comment looks like\n",
    "\n",
    "fruits = ['mango','oranges','litchi','bananas']\n",
    "for fruit in fruits:\n",
    "    print(fruit + ' for sale')\n",
    "fruitPrices = {'mango': 2.00, 'oranges': 1.50, 'litchi': 2.75,'bananas': 1.5}\n",
    "for fruit, price in fruitPrices.items():\n",
    "    if price < 2.00:\n",
    "        print('%s cost %f a pound' % (fruit, price))\n",
    "    else:\n",
    "        print(fruit + ' are too expensive!')"
   ]
  },
  {
   "cell_type": "code",
   "execution_count": 15,
   "id": "9913e9af",
   "metadata": {},
   "outputs": [
    {
     "name": "stdout",
     "output_type": "stream",
     "text": [
      "plusOneNums = [2, 3, 4, 5, 6, 7]\n",
      "oddNums =  [1, 3, 5]\n",
      "oddNumsPlusOn =  [2, 4, 6]\n"
     ]
    }
   ],
   "source": [
    "# Example of python's list comprehension construction:\n",
    "\n",
    "nums = [1,2,3,4,5,6]\n",
    "plusOneNums = [x+1 for x in nums]\n",
    "print(\"plusOneNums =\", plusOneNums)\n",
    "oddNums = [x for x in nums if x % 2 == 1]\n",
    "print(\"oddNums = \", oddNums)\n",
    "oddNumsPlusOne = [x+1 for x in nums if x % 2 ==1]\n",
    "print(\"oddNumsPlusOn = \", oddNumsPlusOne)"
   ]
  },
  {
   "cell_type": "code",
   "execution_count": 16,
   "id": "4d58b2db",
   "metadata": {},
   "outputs": [
    {
     "data": {
      "text/plain": [
       "50.0"
      ]
     },
     "execution_count": 16,
     "metadata": {},
     "output_type": "execute_result"
    }
   ],
   "source": [
    "# Dictionaries\n",
    "\n",
    "studentIds = {'knuth': 42.0, 'turing': 50.0, 'nash': 92.0 }\n",
    "studentIds['turing']"
   ]
  },
  {
   "cell_type": "code",
   "execution_count": 17,
   "id": "ab2a2fea",
   "metadata": {},
   "outputs": [
    {
     "data": {
      "text/plain": [
       "{'knuth': 42.0, 'turing': 50.0, 'nash': 92.0, 'ada': 97.0}"
      ]
     },
     "execution_count": 17,
     "metadata": {},
     "output_type": "execute_result"
    }
   ],
   "source": [
    "studentIds['ada'] = 97.0\n",
    "studentIds"
   ]
  },
  {
   "cell_type": "code",
   "execution_count": 18,
   "id": "e1dc95fe",
   "metadata": {},
   "outputs": [
    {
     "data": {
      "text/plain": [
       "{'turing': 50.0, 'nash': 92.0, 'ada': 97.0}"
      ]
     },
     "execution_count": 18,
     "metadata": {},
     "output_type": "execute_result"
    }
   ],
   "source": [
    "del studentIds['knuth']\n",
    "studentIds"
   ]
  },
  {
   "cell_type": "code",
   "execution_count": 19,
   "id": "230135df",
   "metadata": {},
   "outputs": [
    {
     "data": {
      "text/plain": [
       "{'turing': 50.0, 'nash': 92.0, 'ada': 97.0, 'knuth': [42.0, 'forty-two']}"
      ]
     },
     "execution_count": 19,
     "metadata": {},
     "output_type": "execute_result"
    }
   ],
   "source": [
    "studentIds['knuth'] = [42.0,'forty-two']\n",
    "studentIds"
   ]
  },
  {
   "cell_type": "code",
   "execution_count": 20,
   "id": "4ea9fe5f",
   "metadata": {},
   "outputs": [
    {
     "data": {
      "text/plain": [
       "dict_keys(['turing', 'nash', 'ada', 'knuth'])"
      ]
     },
     "execution_count": 20,
     "metadata": {},
     "output_type": "execute_result"
    }
   ],
   "source": [
    "studentIds.keys()"
   ]
  },
  {
   "cell_type": "code",
   "execution_count": 21,
   "id": "9646489a",
   "metadata": {},
   "outputs": [
    {
     "data": {
      "text/plain": [
       "dict_values([50.0, 92.0, 97.0, [42.0, 'forty-two']])"
      ]
     },
     "execution_count": 21,
     "metadata": {},
     "output_type": "execute_result"
    }
   ],
   "source": [
    "studentIds.values()"
   ]
  },
  {
   "cell_type": "code",
   "execution_count": 22,
   "id": "828dd8a9",
   "metadata": {},
   "outputs": [
    {
     "data": {
      "text/plain": [
       "dict_items([('turing', 50.0), ('nash', 92.0), ('ada', 97.0), ('knuth', [42.0, 'forty-two'])])"
      ]
     },
     "execution_count": 22,
     "metadata": {},
     "output_type": "execute_result"
    }
   ],
   "source": [
    "studentIds.items()"
   ]
  },
  {
   "cell_type": "code",
   "execution_count": 23,
   "id": "ae2a39fb",
   "metadata": {},
   "outputs": [
    {
     "data": {
      "text/plain": [
       "4"
      ]
     },
     "execution_count": 23,
     "metadata": {},
     "output_type": "execute_result"
    }
   ],
   "source": [
    "len(studentIds)"
   ]
  },
  {
   "cell_type": "markdown",
   "id": "076036ba",
   "metadata": {},
   "source": [
    "# Numpy"
   ]
  },
  {
   "cell_type": "code",
   "execution_count": 24,
   "id": "c67e9875",
   "metadata": {},
   "outputs": [],
   "source": [
    "import numpy as np"
   ]
  },
  {
   "cell_type": "code",
   "execution_count": 25,
   "id": "2d5a24af",
   "metadata": {},
   "outputs": [
    {
     "data": {
      "text/plain": [
       "array([13, 25,  3, 44,  5])"
      ]
     },
     "execution_count": 25,
     "metadata": {},
     "output_type": "execute_result"
    }
   ],
   "source": [
    "# Creating a 1-d array\n",
    "A = np.array([13,25,3,44,5])\n",
    "A"
   ]
  },
  {
   "cell_type": "code",
   "execution_count": 26,
   "id": "4b18be1b",
   "metadata": {},
   "outputs": [
    {
     "data": {
      "text/plain": [
       "array([11, 22, 23, 42, 55, 46])"
      ]
     },
     "execution_count": 26,
     "metadata": {},
     "output_type": "execute_result"
    }
   ],
   "source": [
    "# Creating a 1-d array from an existing Python list\n",
    "\n",
    "L = [11, 22, 23, 42, 55, 46]\n",
    "A = np.array(L)\n",
    "A"
   ]
  },
  {
   "cell_type": "code",
   "execution_count": 27,
   "id": "25189c92",
   "metadata": {},
   "outputs": [
    {
     "data": {
      "text/plain": [
       "array([ 3.66666667,  7.33333333,  7.66666667, 14.        , 18.33333333,\n",
       "       15.33333333])"
      ]
     },
     "execution_count": 27,
     "metadata": {},
     "output_type": "execute_result"
    }
   ],
   "source": [
    "A / 3"
   ]
  },
  {
   "cell_type": "code",
   "execution_count": 28,
   "id": "c4fe5700",
   "metadata": {},
   "outputs": [
    {
     "data": {
      "text/plain": [
       "array([0.16666667, 0.33333333, 0.5       , 0.66666667, 0.83333333])"
      ]
     },
     "execution_count": 28,
     "metadata": {},
     "output_type": "execute_result"
    }
   ],
   "source": [
    "np.array([1.0,2,3,4,5]) / 6"
   ]
  },
  {
   "cell_type": "code",
   "execution_count": 29,
   "id": "beb1c582",
   "metadata": {},
   "outputs": [
    {
     "data": {
      "text/plain": [
       "array([ 22,  66,  92, 210, 330, 322])"
      ]
     },
     "execution_count": 29,
     "metadata": {},
     "output_type": "execute_result"
    }
   ],
   "source": [
    "M = np.array([2, 3, 4, 5, 6, 7])\n",
    "\n",
    "P = L * M\n",
    "P"
   ]
  },
  {
   "cell_type": "code",
   "execution_count": 30,
   "id": "b4a9e4be",
   "metadata": {},
   "outputs": [
    {
     "data": {
      "text/plain": [
       "1042"
      ]
     },
     "execution_count": 30,
     "metadata": {},
     "output_type": "execute_result"
    }
   ],
   "source": [
    "P.sum()"
   ]
  },
  {
   "cell_type": "code",
   "execution_count": 31,
   "id": "f8fc2b93",
   "metadata": {},
   "outputs": [
    {
     "data": {
      "text/plain": [
       "173.66666666666666"
      ]
     },
     "execution_count": 31,
     "metadata": {},
     "output_type": "execute_result"
    }
   ],
   "source": [
    "P.mean()"
   ]
  },
  {
   "cell_type": "code",
   "execution_count": 32,
   "id": "4dbefe16",
   "metadata": {},
   "outputs": [
    {
     "name": "stdout",
     "output_type": "stream",
     "text": [
      "[11, 22, 23, 42, 55, 46]\n",
      "[2 3 4 5 6 7]\n"
     ]
    },
    {
     "data": {
      "text/plain": [
       "1042"
      ]
     },
     "execution_count": 32,
     "metadata": {},
     "output_type": "execute_result"
    }
   ],
   "source": [
    "# Dot product of two vectors\n",
    "print(L)\n",
    "print(M)\n",
    "np.dot(L, M) # works like sum of M[i]*L[i]"
   ]
  },
  {
   "cell_type": "code",
   "execution_count": 33,
   "id": "73e565a0",
   "metadata": {},
   "outputs": [
    {
     "data": {
      "text/plain": [
       "array([[1, 2, 3],\n",
       "       [4, 5, 6],\n",
       "       [7, 8, 9]])"
      ]
     },
     "execution_count": 33,
     "metadata": {},
     "output_type": "execute_result"
    }
   ],
   "source": [
    "# Creating a 2-d array\n",
    "X = np.array([[1,2,3],[4,5,6],[7,8,9]])\n",
    "X"
   ]
  },
  {
   "cell_type": "code",
   "execution_count": 34,
   "id": "ae2633b9",
   "metadata": {},
   "outputs": [
    {
     "data": {
      "text/plain": [
       "array([[1, 4, 7],\n",
       "       [2, 5, 8],\n",
       "       [3, 6, 9]])"
      ]
     },
     "execution_count": 34,
     "metadata": {},
     "output_type": "execute_result"
    }
   ],
   "source": [
    "# Transpose a 2-d array\n",
    "X.T"
   ]
  },
  {
   "cell_type": "code",
   "execution_count": 35,
   "id": "406e58e5",
   "metadata": {},
   "outputs": [
    {
     "data": {
      "text/plain": [
       "6"
      ]
     },
     "execution_count": 35,
     "metadata": {},
     "output_type": "execute_result"
    }
   ],
   "source": [
    "# Array slicing\n",
    "X[1,2]"
   ]
  },
  {
   "cell_type": "code",
   "execution_count": 36,
   "id": "f713fb60",
   "metadata": {},
   "outputs": [
    {
     "data": {
      "text/plain": [
       "9"
      ]
     },
     "execution_count": 36,
     "metadata": {},
     "output_type": "execute_result"
    }
   ],
   "source": [
    "# Array slicing\n",
    "\n",
    "X[2,2]"
   ]
  },
  {
   "cell_type": "code",
   "execution_count": 37,
   "id": "d96688a9",
   "metadata": {},
   "outputs": [
    {
     "data": {
      "text/plain": [
       "array([2, 5, 8])"
      ]
     },
     "execution_count": 37,
     "metadata": {},
     "output_type": "execute_result"
    }
   ],
   "source": [
    "X[:,1]"
   ]
  },
  {
   "cell_type": "code",
   "execution_count": 38,
   "id": "560b4356",
   "metadata": {},
   "outputs": [
    {
     "data": {
      "text/plain": [
       "array([1, 2, 3])"
      ]
     },
     "execution_count": 38,
     "metadata": {},
     "output_type": "execute_result"
    }
   ],
   "source": [
    "X[0,:]"
   ]
  },
  {
   "cell_type": "code",
   "execution_count": 39,
   "id": "31e26634",
   "metadata": {},
   "outputs": [
    {
     "data": {
      "text/plain": [
       "array([[5, 6],\n",
       "       [8, 9]])"
      ]
     },
     "execution_count": 39,
     "metadata": {},
     "output_type": "execute_result"
    }
   ],
   "source": [
    "X[1:,1:]"
   ]
  },
  {
   "cell_type": "code",
   "execution_count": 40,
   "id": "58291353",
   "metadata": {},
   "outputs": [
    {
     "data": {
      "text/plain": [
       "array([[4, 5, 6],\n",
       "       [7, 8, 9]])"
      ]
     },
     "execution_count": 40,
     "metadata": {},
     "output_type": "execute_result"
    }
   ],
   "source": [
    "X[1:,0:3]"
   ]
  },
  {
   "cell_type": "code",
   "execution_count": 41,
   "id": "fcd771c0",
   "metadata": {},
   "outputs": [
    {
     "data": {
      "text/plain": [
       "array([False, False, False,  True,  True,  True])"
      ]
     },
     "execution_count": 41,
     "metadata": {},
     "output_type": "execute_result"
    }
   ],
   "source": [
    "# Using arrays to index into other arrays (e.g., Boolean masks)\n",
    "\n",
    "A = np.array([1, 2, 3, 4, 5, 6])\n",
    "A > 3"
   ]
  },
  {
   "cell_type": "code",
   "execution_count": 42,
   "id": "338195f9",
   "metadata": {},
   "outputs": [
    {
     "data": {
      "text/plain": [
       "array([4, 5, 6])"
      ]
     },
     "execution_count": 42,
     "metadata": {},
     "output_type": "execute_result"
    }
   ],
   "source": [
    "A[A > 3]"
   ]
  },
  {
   "cell_type": "code",
   "execution_count": 43,
   "id": "3afee69c",
   "metadata": {},
   "outputs": [
    {
     "data": {
      "text/plain": [
       "15"
      ]
     },
     "execution_count": 43,
     "metadata": {},
     "output_type": "execute_result"
    }
   ],
   "source": [
    "sum(A[A > 3])"
   ]
  },
  {
   "cell_type": "code",
   "execution_count": 44,
   "id": "ffa39176",
   "metadata": {},
   "outputs": [
    {
     "name": "stdout",
     "output_type": "stream",
     "text": [
      "[False  True  True  True  True False]\n"
     ]
    },
    {
     "data": {
      "text/plain": [
       "array([2, 3, 4, 5])"
      ]
     },
     "execution_count": 44,
     "metadata": {},
     "output_type": "execute_result"
    }
   ],
   "source": [
    "Ind = (A > 1) & (A < 6)\n",
    "print(Ind)\n",
    "A[Ind]"
   ]
  },
  {
   "cell_type": "markdown",
   "id": "c577a8ec",
   "metadata": {},
   "source": [
    "# Numpy Part-2"
   ]
  },
  {
   "cell_type": "code",
   "execution_count": 45,
   "id": "e1746ee1",
   "metadata": {},
   "outputs": [],
   "source": [
    "import numpy as np"
   ]
  },
  {
   "cell_type": "code",
   "execution_count": 46,
   "id": "3018904b",
   "metadata": {},
   "outputs": [
    {
     "name": "stderr",
     "output_type": "stream",
     "text": [
      "C:\\Users\\DCL\\AppData\\Local\\Temp\\ipykernel_2932\\817535529.py:1: VisibleDeprecationWarning: Reading unicode strings without specifying the encoding argument is deprecated. Set the encoding, use None for the system default.\n",
      "  data = np.genfromtxt(\"D:\\Academic\\8th semester\\Data Mining Lab\\CSV\\Video_Store.csv\", delimiter=\",\", dtype=None)\n"
     ]
    },
    {
     "data": {
      "text/plain": [
       "array([[b'ID', b'Gender', b'Income', b'Age', b'Rentals', b'AvgPerVisit',\n",
       "        b'Genre'],\n",
       "       [b'1', b'M', b'45000', b'25', b'27', b'2.5', b'Action'],\n",
       "       [b'2', b'F', b'54000', b'33', b'12', b'3.4', b'Drama'],\n",
       "       [b'3', b'F', b'32000', b'20', b'42', b'1.6', b'Comedy'],\n",
       "       [b'4', b'F', b'59000', b'70', b'16', b'4.2', b'Drama'],\n",
       "       [b'5', b'M', b'37000', b'35', b'25', b'3.2', b'Action'],\n",
       "       [b'6', b'M', b'18000', b'20', b'33', b'1.7', b'Action'],\n",
       "       [b'7', b'F', b'29000', b'45', b'19', b'3.8', b'Drama'],\n",
       "       [b'8', b'M', b'74000', b'25', b'31', b'2.4', b'Action'],\n",
       "       [b'9', b'M', b'38000', b'21', b'18', b'2.1', b'Comedy'],\n",
       "       [b'10', b'F', b'65000', b'40', b'21', b'3.3', b'Drama'],\n",
       "       [b'11', b'F', b'41000', b'22', b'48', b'2.3', b'Drama'],\n",
       "       [b'12', b'F', b'26000', b'22', b'29', b'2.9', b'Action'],\n",
       "       [b'13', b'M', b'83000', b'46', b'14', b'3.6', b'Comedy'],\n",
       "       [b'14', b'M', b'45000', b'36', b'24', b'2.7', b'Drama'],\n",
       "       [b'15', b'M', b'68000', b'30', b'36', b'2.7', b'Comedy'],\n",
       "       [b'16', b'M', b'17000', b'19', b'26', b'2.2', b'Action'],\n",
       "       [b'17', b'M', b'36000', b'35', b'28', b'3.5', b'Drama'],\n",
       "       [b'18', b'F', b'6000', b'16', b'39', b'1.8', b'Action'],\n",
       "       [b'19', b'F', b'24000', b'25', b'41', b'3.1', b'Comedy'],\n",
       "       [b'20', b'M', b'12000', b'16', b'23', b'2.2', b'Action'],\n",
       "       [b'21', b'F', b'47000', b'52', b'11', b'3.1', b'Drama'],\n",
       "       [b'22', b'M', b'25000', b'33', b'16', b'2.9', b'Drama'],\n",
       "       [b'23', b'F', b'2000', b'15', b'30', b'2.5', b'Comedy'],\n",
       "       [b'24', b'F', b'79000', b'35', b'22', b'3.8', b'Drama'],\n",
       "       [b'25', b'M', b'1000', b'16', b'25', b'1.4', b'Comedy'],\n",
       "       [b'26', b'F', b'56000', b'35', b'40', b'2.6', b'Action'],\n",
       "       [b'27', b'F', b'62000', b'47', b'32', b'3.6', b'Drama'],\n",
       "       [b'28', b'M', b'57000', b'52', b'22', b'4.1', b'Comedy'],\n",
       "       [b'29', b'F', b'15000', b'18', b'37', b'2.1', b'Action'],\n",
       "       [b'30', b'M', b'41000', b'25', b'17', b'1.4', b'Action'],\n",
       "       [b'31', b'F', b'49000', b'56', b'15', b'3.2', b'Comedy'],\n",
       "       [b'32', b'M', b'47000', b'30', b'21', b'3.1', b'Drama'],\n",
       "       [b'33', b'M', b'23000', b'25', b'28', b'2.7', b'Action'],\n",
       "       [b'34', b'F', b'29000', b'32', b'19', b'2.9', b'Action'],\n",
       "       [b'35', b'M', b'74000', b'29', b'43', b'4.6', b'Action'],\n",
       "       [b'36', b'F', b'29000', b'21', b'34', b'2.3', b'Comedy'],\n",
       "       [b'37', b'M', b'89000', b'46', b'12', b'1.2', b'Comedy'],\n",
       "       [b'38', b'M', b'41000', b'38', b'20', b'3.3', b'Drama'],\n",
       "       [b'39', b'F', b'68000', b'35', b'19', b'3.9', b'Comedy'],\n",
       "       [b'40', b'M', b'17000', b'19', b'32', b'1.8', b'Action']],\n",
       "      dtype='|S11')"
      ]
     },
     "execution_count": 46,
     "metadata": {},
     "output_type": "execute_result"
    }
   ],
   "source": [
    "data = np.genfromtxt(\"D:\\Academic\\8th semester\\Data Mining Lab\\CSV\\Video_Store.csv\", delimiter=\",\", dtype=None)\n",
    "data"
   ]
  },
  {
   "cell_type": "code",
   "execution_count": 47,
   "id": "dc7dccb0",
   "metadata": {},
   "outputs": [
    {
     "name": "stdout",
     "output_type": "stream",
     "text": [
      "[b'ID' b'Gender' b'Income' b'Age' b'Rentals' b'AvgPerVisit' b'Genre']\n"
     ]
    }
   ],
   "source": [
    "labels = data[0]\n",
    "print(labels)"
   ]
  },
  {
   "cell_type": "code",
   "execution_count": 48,
   "id": "8b947edd",
   "metadata": {},
   "outputs": [
    {
     "data": {
      "text/plain": [
       "array([[b'1', b'M', b'45000', b'25', b'27', b'2.5', b'Action'],\n",
       "       [b'2', b'F', b'54000', b'33', b'12', b'3.4', b'Drama'],\n",
       "       [b'3', b'F', b'32000', b'20', b'42', b'1.6', b'Comedy'],\n",
       "       [b'4', b'F', b'59000', b'70', b'16', b'4.2', b'Drama'],\n",
       "       [b'5', b'M', b'37000', b'35', b'25', b'3.2', b'Action']],\n",
       "      dtype='|S11')"
      ]
     },
     "execution_count": 48,
     "metadata": {},
     "output_type": "execute_result"
    }
   ],
   "source": [
    "data = data[1:]\n",
    "data[0:5]"
   ]
  },
  {
   "cell_type": "markdown",
   "id": "09083d0a",
   "metadata": {},
   "source": [
    "**Now we can convert columns to the appropriate type as necessary:**"
   ]
  },
  {
   "cell_type": "code",
   "execution_count": 49,
   "id": "4ce51642",
   "metadata": {},
   "outputs": [
    {
     "name": "stdout",
     "output_type": "stream",
     "text": [
      "[25 33 20 70 35 20 45 25 21 40 22 22 46 36 30 19 35 16 25 16 52 33 15 35\n",
      " 16 35 47 52 18 25 56 30 25 32 29 21 46 38 35 19]\n"
     ]
    }
   ],
   "source": [
    "age = np.array(data[:,3], dtype=int)\n",
    "print(age)"
   ]
  },
  {
   "cell_type": "code",
   "execution_count": 50,
   "id": "c965d082",
   "metadata": {},
   "outputs": [
    {
     "name": "stdout",
     "output_type": "stream",
     "text": [
      "[45000. 54000. 32000. 59000. 37000. 18000. 29000. 74000. 38000. 65000.\n",
      " 41000. 26000. 83000. 45000. 68000. 17000. 36000.  6000. 24000. 12000.\n",
      " 47000. 25000.  2000. 79000.  1000. 56000. 62000. 57000. 15000. 41000.\n",
      " 49000. 47000. 23000. 29000. 74000. 29000. 89000. 41000. 68000. 17000.]\n"
     ]
    }
   ],
   "source": [
    "sal = np.array(data[:,2], dtype=float)\n",
    "print(sal)"
   ]
  },
  {
   "cell_type": "code",
   "execution_count": 51,
   "id": "958c9e37",
   "metadata": {},
   "outputs": [
    {
     "name": "stdout",
     "output_type": "stream",
     "text": [
      "1000.0 89000.0\n"
     ]
    }
   ],
   "source": [
    "min_sal = sal.min()\n",
    "max_sal = sal.max()\n",
    "print(min_sal, max_sal)"
   ]
  },
  {
   "cell_type": "code",
   "execution_count": 52,
   "id": "8e19f909",
   "metadata": {},
   "outputs": [
    {
     "name": "stdout",
     "output_type": "stream",
     "text": [
      "[2.5 3.4 1.6 4.2 3.2 1.7 3.8 2.4 2.1 3.3 2.3 2.9 3.6 2.7 2.7 2.2 3.5 1.8\n",
      " 3.1 2.2 3.1 2.9 2.5 3.8 1.4 2.6 3.6 4.1 2.1 1.4 3.2 3.1 2.7 2.9 4.6 2.3\n",
      " 1.2 3.3 3.9 1.8]\n",
      "[27. 12. 42. 16. 25. 33. 19. 31. 18. 21. 48. 29. 14. 24. 36. 26. 28. 39.\n",
      " 41. 23. 11. 16. 30. 22. 25. 40. 32. 22. 37. 17. 15. 21. 28. 19. 43. 34.\n",
      " 12. 20. 19. 32.]\n"
     ]
    }
   ],
   "source": [
    "visit_avg = np.array(data[:,5], dtype=float)\n",
    "rentals = np.array(data[:,4], dtype=float)\n",
    "print(visit_avg)\n",
    "print(rentals)"
   ]
  },
  {
   "cell_type": "code",
   "execution_count": 53,
   "id": "825ede97",
   "metadata": {},
   "outputs": [
    {
     "name": "stdout",
     "output_type": "stream",
     "text": [
      "[0.5, 0.6022727272727273, 0.3522727272727273, 0.6590909090909091, 0.4090909090909091, 0.19318181818181818, 0.3181818181818182, 0.8295454545454546, 0.42045454545454547, 0.7272727272727273, 0.45454545454545453, 0.2840909090909091, 0.9318181818181818, 0.5, 0.7613636363636364, 0.18181818181818182, 0.3977272727272727, 0.056818181818181816, 0.26136363636363635, 0.125, 0.5227272727272727, 0.2727272727272727, 0.011363636363636364, 0.8863636363636364, 0.0, 0.625, 0.6931818181818182, 0.6363636363636364, 0.1590909090909091, 0.45454545454545453, 0.5454545454545454, 0.5227272727272727, 0.25, 0.3181818181818182, 0.8295454545454546, 0.3181818181818182, 1.0, 0.45454545454545453, 0.7613636363636364, 0.18181818181818182]\n"
     ]
    }
   ],
   "source": [
    "norm_sal = [(x-min_sal)/(max_sal-min_sal) for x in sal]\n",
    "\n",
    "print(norm_sal)"
   ]
  },
  {
   "cell_type": "code",
   "execution_count": 54,
   "id": "d307cf29",
   "metadata": {},
   "outputs": [
    {
     "name": "stdout",
     "output_type": "stream",
     "text": [
      "[0.5    0.6023 0.3523 0.6591 0.4091 0.1932 0.3182 0.8295 0.4205 0.7273 0.4545\n",
      " 0.2841 0.9318 0.5    0.7614 0.1818 0.3977 0.0568 0.2614 0.125  0.5227 0.2727\n",
      " 0.0114 0.8864 0.     0.625  0.6932 0.6364 0.1591 0.4545 0.5455 0.5227 0.25\n",
      " 0.3182 0.8295 0.3182 1.     0.4545 0.7614 0.1818]\n"
     ]
    }
   ],
   "source": [
    "np.set_printoptions(precision=4, linewidth=80, suppress=True)\n",
    "\n",
    "sal_range = max_sal - min_sal\n",
    "norm_sal = (sal - min_sal) / sal_range\n",
    "print(norm_sal)"
   ]
  },
  {
   "cell_type": "markdown",
   "id": "0b91d56b",
   "metadata": {},
   "source": [
    "**Z-Score Standardization on Age**"
   ]
  },
  {
   "cell_type": "code",
   "execution_count": 55,
   "id": "f5e27950",
   "metadata": {},
   "outputs": [
    {
     "name": "stdout",
     "output_type": "stream",
     "text": [
      "31.5 12.591663909110663\n"
     ]
    }
   ],
   "source": [
    "age_mean = age.mean()\n",
    "\n",
    "age_std = age.std()\n",
    "print(age_mean, age_std)"
   ]
  },
  {
   "cell_type": "code",
   "execution_count": 56,
   "id": "88b752bb",
   "metadata": {},
   "outputs": [
    {
     "name": "stdout",
     "output_type": "stream",
     "text": [
      "[-0.5162  0.1191 -0.9133  3.0576  0.278  -0.9133  1.0721 -0.5162 -0.8339\n",
      "  0.675  -0.7545 -0.7545  1.1516  0.3574 -0.1191 -0.9927  0.278  -1.231\n",
      " -0.5162 -1.231   1.6281  0.1191 -1.3104  0.278  -1.231   0.278   1.231\n",
      "  1.6281 -1.0721 -0.5162  1.9457 -0.1191 -0.5162  0.0397 -0.1985 -0.8339\n",
      "  1.1516  0.5162  0.278  -0.9927]\n"
     ]
    }
   ],
   "source": [
    "age_znorm = (age - age_mean) / age_std\n",
    "print(age_znorm)"
   ]
  },
  {
   "cell_type": "markdown",
   "id": "5032f43f",
   "metadata": {},
   "source": [
    "**Suppose that we would like to find all \"good cutomers\" defined as those with Rentals value\n",
    "of >= 30:**"
   ]
  },
  {
   "cell_type": "code",
   "execution_count": 57,
   "id": "2a189e3c",
   "metadata": {},
   "outputs": [
    {
     "name": "stdout",
     "output_type": "stream",
     "text": [
      "[[b'3' b'F' b'32000' b'20' b'42' b'1.6' b'Comedy']\n",
      " [b'6' b'M' b'18000' b'20' b'33' b'1.7' b'Action']\n",
      " [b'8' b'M' b'74000' b'25' b'31' b'2.4' b'Action']\n",
      " [b'11' b'F' b'41000' b'22' b'48' b'2.3' b'Drama']\n",
      " [b'15' b'M' b'68000' b'30' b'36' b'2.7' b'Comedy']\n",
      " [b'18' b'F' b'6000' b'16' b'39' b'1.8' b'Action']\n",
      " [b'19' b'F' b'24000' b'25' b'41' b'3.1' b'Comedy']\n",
      " [b'23' b'F' b'2000' b'15' b'30' b'2.5' b'Comedy']\n",
      " [b'26' b'F' b'56000' b'35' b'40' b'2.6' b'Action']\n",
      " [b'27' b'F' b'62000' b'47' b'32' b'3.6' b'Drama']\n",
      " [b'29' b'F' b'15000' b'18' b'37' b'2.1' b'Action']\n",
      " [b'35' b'M' b'74000' b'29' b'43' b'4.6' b'Action']\n",
      " [b'36' b'F' b'29000' b'21' b'34' b'2.3' b'Comedy']\n",
      " [b'40' b'M' b'17000' b'19' b'32' b'1.8' b'Action']]\n"
     ]
    }
   ],
   "source": [
    "is_good = np.array(rentals >= 30)\n",
    "good_cust = np.array(data[is_good])\n",
    "print(good_cust)"
   ]
  },
  {
   "cell_type": "markdown",
   "id": "f1847407",
   "metadata": {},
   "source": [
    "**Now, suppose we want to change the Gender atrribute into binary (converting it from one\n",
    "cateogrical attribute with two values into two attributes (say 'Gender_F' and 'Gender_M')\n",
    "with 0 or 1 as values depending on the original value. These new variables are sometimes\n",
    "called \"dummy\" variable. The purpose of this transfromation is to allow for the application\n",
    "of technqiues that require all attributes to be numerical (e.g., regression analysis or\n",
    "correlation analysis). Below, we show how this could be done manually for illustration\n",
    "purposes. In practice (as we shall see later in this notebook), there are Python libraries and\n",
    "packages that perform this type of transformation automatically.**"
   ]
  },
  {
   "cell_type": "code",
   "execution_count": 58,
   "id": "0a881fd7",
   "metadata": {},
   "outputs": [
    {
     "data": {
      "text/plain": [
       "array([b'M', b'F', b'F', b'F', b'M', b'M', b'F', b'M', b'M', b'F', b'F', b'F',\n",
       "       b'M', b'M', b'M', b'M', b'M', b'F', b'F', b'M', b'F', b'M', b'F', b'F',\n",
       "       b'M', b'F', b'F', b'M', b'F', b'M', b'F', b'M', b'M', b'F', b'M', b'F',\n",
       "       b'M', b'M', b'F', b'M'], dtype='|S11')"
      ]
     },
     "execution_count": 58,
     "metadata": {},
     "output_type": "execute_result"
    }
   ],
   "source": [
    "gender = np.array(data[:,1])\n",
    "gender"
   ]
  },
  {
   "cell_type": "code",
   "execution_count": 59,
   "id": "ab814af3",
   "metadata": {},
   "outputs": [
    {
     "data": {
      "text/plain": [
       "array([0., 0., 0., 0., 0., 0., 0., 0., 0., 0., 0., 0., 0., 0., 0., 0., 0., 0.,\n",
       "       0., 0., 0., 0., 0., 0., 0., 0., 0., 0., 0., 0., 0., 0., 0., 0., 0., 0.,\n",
       "       0., 0., 0., 0.])"
      ]
     },
     "execution_count": 59,
     "metadata": {},
     "output_type": "execute_result"
    }
   ],
   "source": [
    "gen_f = np.zeros(len(gender))\n",
    "gen_f"
   ]
  },
  {
   "cell_type": "code",
   "execution_count": 60,
   "id": "6c488dd5",
   "metadata": {},
   "outputs": [
    {
     "data": {
      "text/plain": [
       "array([0., 1., 1., 1., 0., 0., 1., 0., 0., 1., 1., 1., 0., 0., 0., 0., 0., 1.,\n",
       "       1., 0., 1., 0., 1., 1., 0., 1., 1., 0., 1., 0., 1., 0., 0., 1., 0., 1.,\n",
       "       0., 0., 1., 0.])"
      ]
     },
     "execution_count": 60,
     "metadata": {},
     "output_type": "execute_result"
    }
   ],
   "source": [
    "gen_f[gender==b'F'] = 1\n",
    "gen_f"
   ]
  },
  {
   "cell_type": "code",
   "execution_count": 61,
   "id": "e10f98cc",
   "metadata": {},
   "outputs": [
    {
     "data": {
      "text/plain": [
       "array([1., 0., 0., 0., 1., 1., 0., 1., 1., 0., 0., 0., 1., 1., 1., 1., 1., 0.,\n",
       "       0., 1., 0., 1., 0., 0., 1., 0., 0., 1., 0., 1., 0., 1., 1., 0., 1., 0.,\n",
       "       1., 1., 0., 1.])"
      ]
     },
     "execution_count": 61,
     "metadata": {},
     "output_type": "execute_result"
    }
   ],
   "source": [
    "gen_m = np.zeros(len(gender))\n",
    "\n",
    "gen_m[gender==b'M'] = 1\n",
    "gen_m"
   ]
  },
  {
   "cell_type": "markdown",
   "id": "5302d129",
   "metadata": {},
   "source": [
    "**Let's now create a new 2d array with the old Gender attributes replaced with the new ones.\n",
    "In the example below, we have removed the two other categorical attributes (Incidentals and\n",
    "Genre) for now, just to illustrate what the data would look like in \"Standard Spreadsheet\n",
    "Fromat\":**"
   ]
  },
  {
   "cell_type": "code",
   "execution_count": 62,
   "id": "fd911437",
   "metadata": {},
   "outputs": [
    {
     "name": "stdout",
     "output_type": "stream",
     "text": [
      "[[    0.      1.  45000.     25.     27.      2.5]\n",
      " [    1.      0.  54000.     33.     12.      3.4]\n",
      " [    1.      0.  32000.     20.     42.      1.6]\n",
      " [    1.      0.  59000.     70.     16.      4.2]\n",
      " [    0.      1.  37000.     35.     25.      3.2]\n",
      " [    0.      1.  18000.     20.     33.      1.7]\n",
      " [    1.      0.  29000.     45.     19.      3.8]\n",
      " [    0.      1.  74000.     25.     31.      2.4]\n",
      " [    0.      1.  38000.     21.     18.      2.1]\n",
      " [    1.      0.  65000.     40.     21.      3.3]\n",
      " [    1.      0.  41000.     22.     48.      2.3]\n",
      " [    1.      0.  26000.     22.     29.      2.9]\n",
      " [    0.      1.  83000.     46.     14.      3.6]\n",
      " [    0.      1.  45000.     36.     24.      2.7]\n",
      " [    0.      1.  68000.     30.     36.      2.7]]\n"
     ]
    }
   ],
   "source": [
    "vs_new = np.array([gen_f,gen_m,sal,age,rentals,visit_avg])\n",
    "\n",
    "vs_new = vs_new.T\n",
    "np.set_printoptions(linewidth=80)\n",
    "#Here are the first 5 elements of the new array\n",
    "print(vs_new[0:15])"
   ]
  },
  {
   "cell_type": "markdown",
   "id": "61454571",
   "metadata": {},
   "source": [
    "**we can apply standard statistical or numeric functions to the whole array and not\n",
    "just to individual columns:**"
   ]
  },
  {
   "cell_type": "code",
   "execution_count": 63,
   "id": "c201a9ce",
   "metadata": {},
   "outputs": [
    {
     "name": "stdout",
     "output_type": "stream",
     "text": [
      " Gen=F Gen=M Income Age Rntls VisAvg\n",
      "Mean:  0.475 0.525 41500.0 31.5 26.175 2.7924999999999995\n"
     ]
    }
   ],
   "source": [
    "f_mean,m_mean,sal_mean,age_mean,rentals_mean,visavg_mean= vs_new.mean(axis=0)\n",
    "\n",
    "print(\" Gen=F Gen=M Income Age Rntls VisAvg\")\n",
    "print(\"Mean: \", f_mean,m_mean,sal_mean,age_mean,rentals_mean,visavg_mean)"
   ]
  },
  {
   "cell_type": "code",
   "execution_count": 64,
   "id": "b5c544a1",
   "metadata": {},
   "outputs": [
    {
     "data": {
      "text/plain": [
       "array([[ 1.    , -1.    , -0.0365,  0.161 ,  0.1515,  0.2033],\n",
       "       [-1.    ,  1.    ,  0.0365, -0.161 , -0.1515, -0.2033],\n",
       "       [-0.0365,  0.0365,  1.    ,  0.6138, -0.2625,  0.4686],\n",
       "       [ 0.161 , -0.161 ,  0.6138,  1.    , -0.5471,  0.6291],\n",
       "       [ 0.1515, -0.1515, -0.2625, -0.5471,  1.    , -0.2064],\n",
       "       [ 0.2033, -0.2033,  0.4686,  0.6291, -0.2064,  1.    ]])"
      ]
     },
     "execution_count": 64,
     "metadata": {},
     "output_type": "execute_result"
    }
   ],
   "source": [
    "#Now that the data is in all numeric form, we can apply techiques such as correlation analysis\n",
    "\n",
    "np.corrcoef(vs_new.T)"
   ]
  },
  {
   "cell_type": "code",
   "execution_count": 65,
   "id": "9738e8a1",
   "metadata": {},
   "outputs": [],
   "source": [
    "# The new table can be written into a file using \"savetxt\" function:\n",
    "out_file = open(\"D:/Academic/8th semester/Data Mining Lab/new/new_file\", \"w\")\n",
    "\n",
    "np.savetxt(out_file, vs_new, fmt='%d,%d,%1.2f,%1.2f,%1.2f,%1.2f', delimiter='\\t')"
   ]
  },
  {
   "cell_type": "markdown",
   "id": "26dbdbef",
   "metadata": {},
   "source": [
    "**An alternative method for loading heterogenous (mixed type) data into an array is to specify\n",
    "the dtype and set \"Names\" to \"True\". This creates a structured array with each row\n",
    "representing a tuple. Each column can be accessed by the keys extracted from the first line\n",
    "of the data file.**"
   ]
  },
  {
   "cell_type": "code",
   "execution_count": 66,
   "id": "5746a369",
   "metadata": {},
   "outputs": [
    {
     "name": "stdout",
     "output_type": "stream",
     "text": [
      "[(b'1', b'M', 45000, 25, 27, 2.5, b'Action')\n",
      " (b'2', b'F', 54000, 33, 12, 3.4, b'Drama')\n",
      " (b'3', b'F', 32000, 20, 42, 1.6, b'Comedy')\n",
      " (b'4', b'F', 59000, 70, 16, 4.2, b'Drama')\n",
      " (b'5', b'M', 37000, 35, 25, 3.2, b'Action')\n",
      " (b'6', b'M', 18000, 20, 33, 1.7, b'Action')\n",
      " (b'7', b'F', 29000, 45, 19, 3.8, b'Drama')\n",
      " (b'8', b'M', 74000, 25, 31, 2.4, b'Action')\n",
      " (b'9', b'M', 38000, 21, 18, 2.1, b'Comedy')\n",
      " (b'1', b'F', 65000, 40, 21, 3.3, b'Drama')\n",
      " (b'1', b'F', 41000, 22, 48, 2.3, b'Drama')\n",
      " (b'1', b'F', 26000, 22, 29, 2.9, b'Action')\n",
      " (b'1', b'M', 83000, 46, 14, 3.6, b'Comedy')\n",
      " (b'1', b'M', 45000, 36, 24, 2.7, b'Drama')\n",
      " (b'1', b'M', 68000, 30, 36, 2.7, b'Comedy')\n",
      " (b'1', b'M', 17000, 19, 26, 2.2, b'Action')\n",
      " (b'1', b'M', 36000, 35, 28, 3.5, b'Drama')\n",
      " (b'1', b'F',  6000, 16, 39, 1.8, b'Action')\n",
      " (b'1', b'F', 24000, 25, 41, 3.1, b'Comedy')\n",
      " (b'2', b'M', 12000, 16, 23, 2.2, b'Action')\n",
      " (b'2', b'F', 47000, 52, 11, 3.1, b'Drama')\n",
      " (b'2', b'M', 25000, 33, 16, 2.9, b'Drama')\n",
      " (b'2', b'F',  2000, 15, 30, 2.5, b'Comedy')\n",
      " (b'2', b'F', 79000, 35, 22, 3.8, b'Drama')\n",
      " (b'2', b'M',  1000, 16, 25, 1.4, b'Comedy')\n",
      " (b'2', b'F', 56000, 35, 40, 2.6, b'Action')\n",
      " (b'2', b'F', 62000, 47, 32, 3.6, b'Drama')\n",
      " (b'2', b'M', 57000, 52, 22, 4.1, b'Comedy')\n",
      " (b'2', b'F', 15000, 18, 37, 2.1, b'Action')\n",
      " (b'3', b'M', 41000, 25, 17, 1.4, b'Action')\n",
      " (b'3', b'F', 49000, 56, 15, 3.2, b'Comedy')\n",
      " (b'3', b'M', 47000, 30, 21, 3.1, b'Drama')\n",
      " (b'3', b'M', 23000, 25, 28, 2.7, b'Action')\n",
      " (b'3', b'F', 29000, 32, 19, 2.9, b'Action')\n",
      " (b'3', b'M', 74000, 29, 43, 4.6, b'Action')\n",
      " (b'3', b'F', 29000, 21, 34, 2.3, b'Comedy')\n",
      " (b'3', b'M', 89000, 46, 12, 1.2, b'Comedy')\n",
      " (b'3', b'M', 41000, 38, 20, 3.3, b'Drama')\n",
      " (b'3', b'F', 68000, 35, 19, 3.9, b'Comedy')\n",
      " (b'4', b'M', 17000, 19, 32, 1.8, b'Action')]\n"
     ]
    }
   ],
   "source": [
    "vs = np.genfromtxt(\"D:\\Academic\\8th semester\\Data Mining Lab\\CSV\\Video_Store.csv\", delimiter=\",\", names=True, dtype=('S1','S1',int,int,int,float,'S10'))\n",
    "\n",
    "print(vs)"
   ]
  },
  {
   "cell_type": "code",
   "execution_count": 67,
   "id": "3b14a849",
   "metadata": {},
   "outputs": [
    {
     "data": {
      "text/plain": [
       "dtype([('ID', 'S1'), ('Gender', 'S1'), ('Income', '<i4'), ('Age', '<i4'), ('Rentals', '<i4'), ('AvgPerVisit', '<f8'), ('Genre', 'S10')])"
      ]
     },
     "execution_count": 67,
     "metadata": {},
     "output_type": "execute_result"
    }
   ],
   "source": [
    "np.dtype(vs[0])"
   ]
  },
  {
   "cell_type": "code",
   "execution_count": 68,
   "id": "fdcadfb5",
   "metadata": {},
   "outputs": [
    {
     "name": "stdout",
     "output_type": "stream",
     "text": [
      "[b'M' b'F' b'F' b'F' b'M' b'M' b'F' b'M' b'M' b'F' b'F' b'F' b'M' b'M' b'M'\n",
      " b'M' b'M' b'F' b'F' b'M' b'F' b'M' b'F' b'F' b'M' b'F' b'F' b'M' b'F' b'M'\n",
      " b'F' b'M' b'M' b'F' b'M' b'F' b'M' b'M' b'F' b'M']\n"
     ]
    }
   ],
   "source": [
    "print(vs['Gender'])"
   ]
  },
  {
   "cell_type": "code",
   "execution_count": 69,
   "id": "34397d8d",
   "metadata": {},
   "outputs": [
    {
     "name": "stdout",
     "output_type": "stream",
     "text": [
      "[45000 54000 32000 59000 37000 18000 29000 74000 38000 65000 41000 26000 83000\n",
      " 45000 68000 17000 36000  6000 24000 12000 47000 25000  2000 79000  1000 56000\n",
      " 62000 57000 15000 41000 49000 47000 23000 29000 74000 29000 89000 41000 68000\n",
      " 17000]\n"
     ]
    }
   ],
   "source": [
    "print(vs['Income'])"
   ]
  },
  {
   "cell_type": "code",
   "execution_count": 70,
   "id": "6537b8f4",
   "metadata": {},
   "outputs": [
    {
     "data": {
      "text/plain": [
       "array([(b'3', b'F', 32000, 20, 42, 1.6, b'Comedy'),\n",
       "       (b'6', b'M', 18000, 20, 33, 1.7, b'Action'),\n",
       "       (b'8', b'M', 74000, 25, 31, 2.4, b'Action'),\n",
       "       (b'1', b'F', 41000, 22, 48, 2.3, b'Drama'),\n",
       "       (b'1', b'M', 68000, 30, 36, 2.7, b'Comedy'),\n",
       "       (b'1', b'F',  6000, 16, 39, 1.8, b'Action'),\n",
       "       (b'1', b'F', 24000, 25, 41, 3.1, b'Comedy'),\n",
       "       (b'2', b'F',  2000, 15, 30, 2.5, b'Comedy'),\n",
       "       (b'2', b'F', 56000, 35, 40, 2.6, b'Action'),\n",
       "       (b'2', b'F', 62000, 47, 32, 3.6, b'Drama'),\n",
       "       (b'2', b'F', 15000, 18, 37, 2.1, b'Action'),\n",
       "       (b'3', b'M', 74000, 29, 43, 4.6, b'Action'),\n",
       "       (b'3', b'F', 29000, 21, 34, 2.3, b'Comedy'),\n",
       "       (b'4', b'M', 17000, 19, 32, 1.8, b'Action')],\n",
       "      dtype=[('ID', 'S1'), ('Gender', 'S1'), ('Income', '<i4'), ('Age', '<i4'), ('Rentals', '<i4'), ('AvgPerVisit', '<f8'), ('Genre', 'S10')])"
      ]
     },
     "execution_count": 70,
     "metadata": {},
     "output_type": "execute_result"
    }
   ],
   "source": [
    "is_good = np.array(vs['Rentals'] >= 30)\n",
    "good_cust = np.array(vs[is_good])\n",
    "good_cust"
   ]
  },
  {
   "cell_type": "code",
   "execution_count": 71,
   "id": "a898310c",
   "metadata": {},
   "outputs": [
    {
     "name": "stdout",
     "output_type": "stream",
     "text": [
      "Min Rentals:  30\n",
      "Max Rentals:  48\n",
      "Rentals Mean:  37.0\n",
      "Rentals Median:  36.5\n",
      "Rentals Std. Dev.:  5.154748157905347\n"
     ]
    }
   ],
   "source": [
    "print(\"Min Rentals: \", good_cust['Rentals'].min())\n",
    "print(\"Max Rentals: \", good_cust['Rentals'].max())\n",
    "print(\"Rentals Mean: \", good_cust['Rentals'].mean())\n",
    "print(\"Rentals Median: \", np.median(good_cust['Rentals']))\n",
    "print(\"Rentals Std. Dev.: \", good_cust['Rentals'].std())"
   ]
  },
  {
   "cell_type": "markdown",
   "id": "50cfa8c5",
   "metadata": {},
   "source": [
    "**For most types of analysis, we would want to exclude the index column from the data (in\n",
    "this case the ID attribute). This could be done by removing the first column of the matrix.\n",
    "However, it could have been done when reading the data in using the \"usecols\" parameter\n",
    "in \"genfromtxt\".**"
   ]
  },
  {
   "cell_type": "code",
   "execution_count": 72,
   "id": "8cf37ff9",
   "metadata": {},
   "outputs": [
    {
     "data": {
      "text/plain": [
       "array([(b'G', b'Income', b'Age', b'Rentals', b'AvgPerVisi', b'Genre'),\n",
       "       (b'M', b'45000', b'25', b'27', b'2.5', b'Action'),\n",
       "       (b'F', b'54000', b'33', b'12', b'3.4', b'Drama'),\n",
       "       (b'F', b'32000', b'20', b'42', b'1.6', b'Comedy'),\n",
       "       (b'F', b'59000', b'70', b'16', b'4.2', b'Drama')],\n",
       "      dtype=[('f1', 'S1'), ('f2', 'S10'), ('f3', 'S10'), ('f4', 'S10'), ('f5', 'S10'), ('f6', 'S10')])"
      ]
     },
     "execution_count": 72,
     "metadata": {},
     "output_type": "execute_result"
    }
   ],
   "source": [
    "vs_nid = np.genfromtxt(\"D:\\Academic\\8th semester\\Data Mining Lab\\CSV\\Video_Store.csv\", delimiter=\",\", usecols=(1,2,3,4,5,6), dtype=('S1','S1','S10','S10','S10','S10','S10'))\n",
    "vs_nid[0:5]"
   ]
  },
  {
   "cell_type": "markdown",
   "id": "c27a985e",
   "metadata": {},
   "source": [
    "**Once the data is in structured array format as above, we can combine the tuples with\n",
    "feature names to create an array of dicts. The DictVectorizer package from the Scikit-learn\n",
    "library can then be used to create dummy variables for each of the categorical attriibutes\n",
    "and convert the data into the standard spreadsheet format. This is the preferred approach\n",
    "for creating dummy variables than the manual approach discussed earlier in cells\n",
    "25-30.**"
   ]
  },
  {
   "cell_type": "code",
   "execution_count": 73,
   "id": "3cb78cc5",
   "metadata": {},
   "outputs": [],
   "source": [
    "names = vs_nid.dtype.names\n",
    "\n",
    "vs_dict = [dict(zip(names, record)) for record in vs_nid]"
   ]
  },
  {
   "cell_type": "code",
   "execution_count": 74,
   "id": "920ed7fb",
   "metadata": {},
   "outputs": [
    {
     "name": "stdout",
     "output_type": "stream",
     "text": [
      "{'f1': b'G', 'f2': b'Income', 'f3': b'Age', 'f4': b'Rentals', 'f5': b'AvgPerVisi', 'f6': b'Genre'}\n"
     ]
    }
   ],
   "source": [
    "print(vs_dict[0])"
   ]
  },
  {
   "cell_type": "code",
   "execution_count": null,
   "id": "19d870ef",
   "metadata": {},
   "outputs": [],
   "source": []
  },
  {
   "cell_type": "code",
   "execution_count": null,
   "id": "97b0a276",
   "metadata": {},
   "outputs": [],
   "source": []
  },
  {
   "cell_type": "code",
   "execution_count": 75,
   "id": "0cdf6f88",
   "metadata": {},
   "outputs": [],
   "source": [
    "import matplotlib.pyplot as plt\n",
    "\n",
    "%matplotlib inline"
   ]
  },
  {
   "cell_type": "code",
   "execution_count": 76,
   "id": "d023fe08",
   "metadata": {},
   "outputs": [
    {
     "data": {
      "image/png": "[encoded data removed]",
      "text/plain": [
       "<Figure size 432x288 with 1 Axes>"
      ]
     },
     "metadata": {
      "needs_background": "light"
     },
     "output_type": "display_data"
    }
   ],
   "source": [
    "plt.hist(vs['Income'], bins=9, alpha=0.5)\n",
    "\n",
    "plt.xlabel('Income')\n",
    "plt.ylabel('Count')\n",
    "plt.title('Histogram of Income')\n",
    "plt.axis([0, 100000, 0, 10])\n",
    "plt.grid(True)\n",
    "plt.show()"
   ]
  },
  {
   "cell_type": "markdown",
   "id": "123cfdfb",
   "metadata": {},
   "source": [
    "**cross-tabulate the Genre and the Gender attributes to find out if men and women have\n",
    "different movie preferences. [Note: correlation analysis perfromed earlier could also shed\n",
    "some light on this question.]**"
   ]
  },
  {
   "cell_type": "code",
   "execution_count": 77,
   "id": "4769e458",
   "metadata": {},
   "outputs": [],
   "source": [
    "# First we need the counts for males and females across different genres\n",
    "m_counts = [14, 6, 8] # counts of Action, Comedy, Drama for male custs.\n",
    "f_counts = [8, 6, 12] # counts of Action, Comedy, Drama for female custs.\n",
    "N = len(f_counts)"
   ]
  },
  {
   "cell_type": "code",
   "execution_count": 78,
   "id": "f9f51e3c",
   "metadata": {},
   "outputs": [
    {
     "data": {
      "image/png": "[encoded data removed]",
      "text/plain": [
       "<Figure size 432x288 with 1 Axes>"
      ]
     },
     "metadata": {
      "needs_background": "light"
     },
     "output_type": "display_data"
    }
   ],
   "source": [
    "ind = np.arange(N) # the x locations for the groups\n",
    "\n",
    "ind = ind + 0.15\n",
    "width = 0.35 # the width of the bars\n",
    "fig, ax = plt.subplots()\n",
    "rects1 = ax.bar(ind, f_counts, width, color='g')\n",
    "rects2 = ax.bar(ind+width, m_counts, width, color='r')\n",
    "rects1 = plt.bar(ind, f_counts, width, color='g')\n",
    "rects2 = plt.bar(ind+width, m_counts, width, color='r')\n",
    "ax.set_ylabel('Counts')\n",
    "ax.set_ybound(upper=16)\n",
    "ax.set_title('Counts by Genre and Gender')\n",
    "ax.set_xticks(ind+width)\n",
    "ax.set_xticklabels( ('Action', 'Comedy', 'Drama') )\n",
    "ax.legend( (rects1[0], rects2[0]), ('Female', 'Male') )\n",
    "plt.show()\n",
    "# plt.savefig(\"figure.pdf\")"
   ]
  },
  {
   "cell_type": "markdown",
   "id": "7a360070",
   "metadata": {},
   "source": [
    "This figure shows that male customers tend to prefer action movies, while female\n",
    "customers tend to like dramas."
   ]
  },
  {
   "cell_type": "code",
   "execution_count": null,
   "id": "85f6e6bf",
   "metadata": {},
   "outputs": [],
   "source": []
  },
  {
   "cell_type": "markdown",
   "id": "c64b4928",
   "metadata": {},
   "source": [
    "**scatter plot discover possible correlations between Age and Income.**"
   ]
  },
  {
   "cell_type": "code",
   "execution_count": 79,
   "id": "5c41d2bc",
   "metadata": {},
   "outputs": [
    {
     "data": {
      "image/png": "[encoded data removed]",
      "text/plain": [
       "<Figure size 360x288 with 1 Axes>"
      ]
     },
     "metadata": {
      "needs_background": "light"
     },
     "output_type": "display_data"
    }
   ],
   "source": [
    "fig = plt.figure(figsize=(5, 4))\n",
    "\n",
    "# Create an Axes object.\n",
    "ax = fig.add_subplot(1,1,1) # one row, one column, first plot\n",
    "# Plot the data.\n",
    "ax.scatter(vs['Age'], vs['Income'], color=\"green\", marker=\"*\")\n",
    "# Add a title.\n",
    "ax.set_title(\"Age VS. Income\")\n",
    "# Add some axis labels.\n",
    "ax.set_xlabel(\"Age\")\n",
    "ax.set_ylabel(\"Income\")\n",
    "# Produce an image.\n",
    "# fig.savefig(\"scatterplot.png\")\n",
    "plt.show()"
   ]
  },
  {
   "cell_type": "markdown",
   "id": "32d49b08",
   "metadata": {},
   "source": [
    "Indeed, there does appear to be a positive correlation between Age and Income. This can\n",
    "also be observed by viewing the Pearson r correlation coefficient in our correlation matrix\n",
    "shown earlier."
   ]
  },
  {
   "cell_type": "code",
   "execution_count": null,
   "id": "e626416f",
   "metadata": {},
   "outputs": [],
   "source": []
  },
  {
   "cell_type": "code",
   "execution_count": null,
   "id": "afa62cc6",
   "metadata": {},
   "outputs": [],
   "source": []
  },
  {
   "cell_type": "markdown",
   "id": "dddd109a",
   "metadata": {},
   "source": [
    "# Working With Population.txt data file"
   ]
  },
  {
   "cell_type": "code",
   "execution_count": 80,
   "id": "c2eb5212",
   "metadata": {},
   "outputs": [
    {
     "name": "stdout",
     "output_type": "stream",
     "text": [
      "[1900, 30000.0, 4000.0, 48300.0]\n",
      "[1901, 47200.0, 6100.0, 48200.0]\n",
      "[1902, 70200.0, 9800.0, 41500.0]\n",
      "[1903, 77400.0, 35200.0, 38200.0]\n",
      "[1904, 36300.0, 59400.0, 40600.0]\n",
      "[1905, 20600.0, 41700.0, 39800.0]\n",
      "[1906, 18100.0, 19000.0, 38600.0]\n",
      "[1907, 21400.0, 13000.0, 42300.0]\n",
      "[1908, 22000.0, 8300.0, 44500.0]\n",
      "[1909, 25400.0, 9100.0, 42100.0]\n",
      "[1910, 27100.0, 7400.0, 46000.0]\n",
      "[1911, 40300.0, 8000.0, 46800.0]\n",
      "[1912, 57000.0, 12300.0, 43800.0]\n",
      "[1913, 76600.0, 19500.0, 40900.0]\n",
      "[1914, 52300.0, 45700.0, 39400.0]\n",
      "[1915, 19500.0, 51100.0, 39000.0]\n",
      "[1916, 11200.0, 29700.0, 36700.0]\n",
      "[1917, 7600.0, 15800.0, 41800.0]\n",
      "[1918, 14600.0, 9700.0, 43300.0]\n",
      "[1919, 16200.0, 10100.0, 41300.0]\n",
      "[1920, 24700.0, 8600.0, 47300.0]\n",
      "21\n"
     ]
    }
   ],
   "source": [
    "datafile = open(\"D:/Academic/8th semester/Data Mining Lab/txt/populations.txt\", \"r\")\n",
    "#first line of the file contains labels for column names\n",
    "labels_line = datafile.readline().strip()\n",
    "poptable = []\n",
    "total = 0\n",
    "for line in datafile.readlines():\n",
    "    line = line.strip()\n",
    "    row = line.split(\"\\t\")\n",
    "    record = [int(row[0]),float(row[1]),float(row[2]), float(row[3])]\n",
    "    print(record)\n",
    "    poptable.append(record)\n",
    "    total += 1\n",
    "print(total)"
   ]
  },
  {
   "cell_type": "code",
   "execution_count": 81,
   "id": "3ff92372",
   "metadata": {},
   "outputs": [
    {
     "name": "stdout",
     "output_type": "stream",
     "text": [
      "[[1900, 30000.0, 4000.0, 48300.0], [1901, 47200.0, 6100.0, 48200.0], [1902, 70200.0, 9800.0, 41500.0], [1903, 77400.0, 35200.0, 38200.0], [1904, 36300.0, 59400.0, 40600.0], [1905, 20600.0, 41700.0, 39800.0], [1906, 18100.0, 19000.0, 38600.0], [1907, 21400.0, 13000.0, 42300.0], [1908, 22000.0, 8300.0, 44500.0], [1909, 25400.0, 9100.0, 42100.0], [1910, 27100.0, 7400.0, 46000.0], [1911, 40300.0, 8000.0, 46800.0], [1912, 57000.0, 12300.0, 43800.0], [1913, 76600.0, 19500.0, 40900.0], [1914, 52300.0, 45700.0, 39400.0], [1915, 19500.0, 51100.0, 39000.0], [1916, 11200.0, 29700.0, 36700.0], [1917, 7600.0, 15800.0, 41800.0], [1918, 14600.0, 9700.0, 43300.0], [1919, 16200.0, 10100.0, 41300.0], [1920, 24700.0, 8600.0, 47300.0]]\n"
     ]
    }
   ],
   "source": [
    "print(poptable)"
   ]
  },
  {
   "cell_type": "code",
   "execution_count": 82,
   "id": "1be64b65",
   "metadata": {},
   "outputs": [
    {
     "name": "stdout",
     "output_type": "stream",
     "text": [
      "[[1900, 30000.0, 4000.0, 48300.0], [1901, 47200.0, 6100.0, 48200.0], [1902, 70200.0, 9800.0, 41500.0], [1903, 77400.0, 35200.0, 38200.0], [1904, 36300.0, 59400.0, 40600.0]]\n"
     ]
    }
   ],
   "source": [
    "#printing the top5 elements\n",
    "print(poptable[0:5])"
   ]
  },
  {
   "cell_type": "code",
   "execution_count": null,
   "id": "70454380",
   "metadata": {},
   "outputs": [],
   "source": []
  },
  {
   "cell_type": "code",
   "execution_count": 235,
   "id": "e30699d6",
   "metadata": {},
   "outputs": [
    {
     "ename": "IndexError",
     "evalue": "index 3 is out of bounds for axis 0 with size 3",
     "output_type": "error",
     "traceback": [
      "\u001b[1;31m---------------------------------------------------------------------------\u001b[0m",
      "\u001b[1;31mIndexError\u001b[0m                                Traceback (most recent call last)",
      "Input \u001b[1;32mIn [235]\u001b[0m, in \u001b[0;36m<cell line: 5>\u001b[1;34m()\u001b[0m\n\u001b[0;32m      6\u001b[0m     hares[row[\u001b[38;5;241m0\u001b[39m]] \u001b[38;5;241m=\u001b[39m row[\u001b[38;5;241m1\u001b[39m]\n\u001b[0;32m      7\u001b[0m     lynxes[row[\u001b[38;5;241m0\u001b[39m]] \u001b[38;5;241m=\u001b[39m row[\u001b[38;5;241m2\u001b[39m]\n\u001b[1;32m----> 8\u001b[0m     carrots[row[\u001b[38;5;241m0\u001b[39m]] \u001b[38;5;241m=\u001b[39m \u001b[43mrow\u001b[49m\u001b[43m[\u001b[49m\u001b[38;5;241;43m3\u001b[39;49m\u001b[43m]\u001b[49m\n\u001b[0;32m      9\u001b[0m \u001b[38;5;28mprint\u001b[39m(\u001b[38;5;28msorted\u001b[39m(hares\u001b[38;5;241m.\u001b[39mitems(), key\u001b[38;5;241m=\u001b[39mhares\u001b[38;5;241m.\u001b[39mget))\n",
      "\u001b[1;31mIndexError\u001b[0m: index 3 is out of bounds for axis 0 with size 3"
     ]
    }
   ],
   "source": [
    "hares = {}\n",
    "\n",
    "lynxes = {}\n",
    "carrots = {}\n",
    "for row in poptable:\n",
    "    hares[row[0]] = row[1]\n",
    "    lynxes[row[0]] = row[2]\n",
    "    carrots[row[0]] = row[3]\n",
    "print(sorted(hares.items(), key=hares.get))"
   ]
  },
  {
   "cell_type": "code",
   "execution_count": 87,
   "id": "a5aa509f",
   "metadata": {},
   "outputs": [
    {
     "name": "stdout",
     "output_type": "stream",
     "text": [
      "77400.0\n"
     ]
    }
   ],
   "source": [
    "print(hares[1903])"
   ]
  },
  {
   "cell_type": "code",
   "execution_count": 88,
   "id": "9f30ec3a",
   "metadata": {},
   "outputs": [
    {
     "name": "stdout",
     "output_type": "stream",
     "text": [
      "[1902, 1903, 1912, 1913, 1914]\n"
     ]
    }
   ],
   "source": [
    "# finding the years during which the population of hares was greater than 50K\n",
    "# Here we'll use standard Python list comprehensions\n",
    "\n",
    "hares_above_50k = [yr for yr in hares.keys() if hares[yr]>50000.0]\n",
    "print(hares_above_50k)"
   ]
  },
  {
   "cell_type": "code",
   "execution_count": 89,
   "id": "2a2286b5",
   "metadata": {},
   "outputs": [
    {
     "name": "stdout",
     "output_type": "stream",
     "text": [
      "1903 77400.0\n"
     ]
    }
   ],
   "source": [
    "# Finding the year(s) with maximal value of Hares\n",
    "\n",
    "maxhares = [yr for yr in hares.keys() if hares[yr] == max(hares.values())]\n",
    "for i in range(0,len(maxhares)):\n",
    "    print(maxhares[i], hares[maxhares[i]])"
   ]
  },
  {
   "cell_type": "markdown",
   "id": "5ef7c57e",
   "metadata": {},
   "source": [
    "**So far, we have not used Numpy, only standard Python. But, many operations on data\n",
    "involving tables or matrices are much simpler and more efficient using Numpy. Let's now\n",
    "try using NumPy arrays:**"
   ]
  },
  {
   "cell_type": "code",
   "execution_count": 90,
   "id": "91f778db",
   "metadata": {},
   "outputs": [],
   "source": [
    "import numpy as np"
   ]
  },
  {
   "cell_type": "code",
   "execution_count": 91,
   "id": "75626b8e",
   "metadata": {},
   "outputs": [
    {
     "name": "stdout",
     "output_type": "stream",
     "text": [
      "[[ 1900. 30000.  4000. 48300.]\n",
      " [ 1901. 47200.  6100. 48200.]\n",
      " [ 1902. 70200.  9800. 41500.]\n",
      " [ 1903. 77400. 35200. 38200.]\n",
      " [ 1904. 36300. 59400. 40600.]\n",
      " [ 1905. 20600. 41700. 39800.]\n",
      " [ 1906. 18100. 19000. 38600.]\n",
      " [ 1907. 21400. 13000. 42300.]\n",
      " [ 1908. 22000.  8300. 44500.]\n",
      " [ 1909. 25400.  9100. 42100.]\n",
      " [ 1910. 27100.  7400. 46000.]\n",
      " [ 1911. 40300.  8000. 46800.]\n",
      " [ 1912. 57000. 12300. 43800.]\n",
      " [ 1913. 76600. 19500. 40900.]\n",
      " [ 1914. 52300. 45700. 39400.]\n",
      " [ 1915. 19500. 51100. 39000.]\n",
      " [ 1916. 11200. 29700. 36700.]\n",
      " [ 1917.  7600. 15800. 41800.]\n",
      " [ 1918. 14600.  9700. 43300.]\n",
      " [ 1919. 16200. 10100. 41300.]\n",
      " [ 1920. 24700.  8600. 47300.]]\n"
     ]
    }
   ],
   "source": [
    "pop = np.array(poptable)\n",
    "print(pop)"
   ]
  },
  {
   "cell_type": "markdown",
   "id": "5687e7c8",
   "metadata": {},
   "source": [
    "**However, we could have, from the start, loaded the data into a Numpy array. One way to do\n",
    "this is via \"loadtxt\" which reads numerical values from tab-delimited or CSV files (converted\n",
    "into floats).**"
   ]
  },
  {
   "cell_type": "code",
   "execution_count": 92,
   "id": "50fc0656",
   "metadata": {},
   "outputs": [
    {
     "name": "stdout",
     "output_type": "stream",
     "text": [
      "[[ 1900. 30000.  4000. 48300.]\n",
      " [ 1901. 47200.  6100. 48200.]\n",
      " [ 1902. 70200.  9800. 41500.]\n",
      " [ 1903. 77400. 35200. 38200.]\n",
      " [ 1904. 36300. 59400. 40600.]\n",
      " [ 1905. 20600. 41700. 39800.]\n",
      " [ 1906. 18100. 19000. 38600.]\n",
      " [ 1907. 21400. 13000. 42300.]\n",
      " [ 1908. 22000.  8300. 44500.]\n",
      " [ 1909. 25400.  9100. 42100.]\n",
      " [ 1910. 27100.  7400. 46000.]\n",
      " [ 1911. 40300.  8000. 46800.]\n",
      " [ 1912. 57000. 12300. 43800.]\n",
      " [ 1913. 76600. 19500. 40900.]\n",
      " [ 1914. 52300. 45700. 39400.]\n",
      " [ 1915. 19500. 51100. 39000.]\n",
      " [ 1916. 11200. 29700. 36700.]\n",
      " [ 1917.  7600. 15800. 41800.]\n",
      " [ 1918. 14600.  9700. 43300.]\n",
      " [ 1919. 16200. 10100. 41300.]\n",
      " [ 1920. 24700.  8600. 47300.]]\n"
     ]
    }
   ],
   "source": [
    "poptable = np.loadtxt('D:/Academic/8th semester/Data Mining Lab/txt/populations.txt', skiprows=1)\n",
    "\n",
    "print(poptable)"
   ]
  },
  {
   "cell_type": "code",
   "execution_count": 93,
   "id": "3897e157",
   "metadata": {},
   "outputs": [
    {
     "data": {
      "text/plain": [
       "(21, 4)"
      ]
     },
     "execution_count": 93,
     "metadata": {},
     "output_type": "execute_result"
    }
   ],
   "source": [
    "poptable.shape"
   ]
  },
  {
   "cell_type": "code",
   "execution_count": null,
   "id": "018f9f32",
   "metadata": {},
   "outputs": [],
   "source": []
  },
  {
   "cell_type": "markdown",
   "id": "5e0cc020",
   "metadata": {},
   "source": [
    "**In fact, we can assign each column directly into separate 1-d arrays, by splitting the\n",
    "transpose of poptable:**"
   ]
  },
  {
   "cell_type": "code",
   "execution_count": 94,
   "id": "d489b01b",
   "metadata": {},
   "outputs": [
    {
     "name": "stdout",
     "output_type": "stream",
     "text": [
      "[1900. 1901. 1902. 1903. 1904. 1905. 1906. 1907. 1908. 1909. 1910. 1911. 1912.\n",
      " 1913. 1914. 1915. 1916. 1917. 1918. 1919. 1920.]\n",
      "[30000. 47200. 70200. 77400. 36300. 20600. 18100. 21400. 22000. 25400. 27100.\n",
      " 40300. 57000. 76600. 52300. 19500. 11200.  7600. 14600. 16200. 24700.]\n",
      "Mean Hare Population:  34080.95238095238\n"
     ]
    }
   ],
   "source": [
    "year, hares, lynxes, carrots = poptable.T\n",
    "print(year)\n",
    "print(hares)\n",
    "print(\"Mean Hare Population: \", hares.mean())\n",
    "\n",
    "# Numpy allows us to easily perform operations on rows, columns, or to the whole array:"
   ]
  },
  {
   "cell_type": "code",
   "execution_count": 95,
   "id": "fc4e6a7f",
   "metadata": {},
   "outputs": [
    {
     "name": "stdout",
     "output_type": "stream",
     "text": [
      "[False False  True  True  True False False False False False False False  True\n",
      "  True  True  True False False False False False]\n",
      "[1902. 1903. 1904. 1912. 1913. 1914. 1915.]\n"
     ]
    }
   ],
   "source": [
    "# finding all years when the population of one of the species is above 50k\n",
    "\n",
    "above_50k = np.any(poptable>50000, axis=1) # axis=1 means the operation will be performed\n",
    "print(above_50k)\n",
    "print(year[above_50k])"
   ]
  },
  {
   "cell_type": "code",
   "execution_count": 96,
   "id": "420ddb7a",
   "metadata": {},
   "outputs": [
    {
     "name": "stdout",
     "output_type": "stream",
     "text": [
      " Hares Lynxes Carrots\n",
      "Mean: [34080.9524 20166.6667 42400.    ]\n",
      "Std:  [20897.9065 16254.5915  3322.5062]\n"
     ]
    }
   ],
   "source": [
    "# now print some summary statistics on each of the species:\n",
    "\n",
    "pop_no_year = poptable[:,1:] # Removing the first column (\"Year\")\n",
    "\n",
    "print (\" Hares Lynxes Carrots\")\n",
    "print (\"Mean:\", pop_no_year.mean(axis=0))\n",
    "print (\"Std: \", pop_no_year.std(axis=0))"
   ]
  },
  {
   "cell_type": "code",
   "execution_count": 97,
   "id": "83717043",
   "metadata": {},
   "outputs": [
    {
     "name": "stdout",
     "output_type": "stream",
     "text": [
      "Indecies for the maximums: [3 4 0]\n",
      " Hares Lynxes Carrots\n",
      "Max. year: [1903. 1904. 1900.]\n"
     ]
    }
   ],
   "source": [
    "# Finding indecies of years when one of the populations was at max\n",
    "\n",
    "j_max_years = np.argmax(pop_no_year, axis=0) # ranging over rows for each column\n",
    "print (\"Indecies for the maximums:\", j_max_years)\n",
    "print(\" Hares Lynxes Carrots\")\n",
    "print(\"Max. year:\", year[j_max_years])"
   ]
  },
  {
   "cell_type": "code",
   "execution_count": 98,
   "id": "49e69d9b",
   "metadata": {},
   "outputs": [
    {
     "name": "stdout",
     "output_type": "stream",
     "text": [
      "[2 2 0 0 1 1 2 2 2 2 2 2 0 0 0 1 2 2 2 2 2]\n",
      "Max specie from 1900 to 1920:\n",
      "['Carrot' 'Carrot' 'Hare' 'Hare' 'Lynx' 'Lynx' 'Carrot' 'Carrot' 'Carrot'\n",
      " 'Carrot' 'Carrot' 'Carrot' 'Hare' 'Hare' 'Hare' 'Lynx' 'Carrot' 'Carrot'\n",
      " 'Carrot' 'Carrot' 'Carrot']\n"
     ]
    }
   ],
   "source": [
    "# Ranging over cols for each row, find the specie with the highest pop for each year\n",
    "\n",
    "max_species = np.argmax(pop_no_year, axis=1)\n",
    "species = np.array(['Hare', 'Lynx', 'Carrot'])\n",
    "print(max_species)\n",
    "print(\"Max specie from 1900 to 1920:\")\n",
    "print(species[max_species])"
   ]
  },
  {
   "cell_type": "markdown",
   "id": "b12c20b9",
   "metadata": {},
   "source": [
    "**correlations among the three population variables**"
   ]
  },
  {
   "cell_type": "code",
   "execution_count": 99,
   "id": "44902db1",
   "metadata": {},
   "outputs": [
    {
     "name": "stdout",
     "output_type": "stream",
     "text": [
      "[[ 1.      0.0719 -0.0166]\n",
      " [ 0.0719  1.     -0.6806]\n",
      " [-0.0166 -0.6806  1.    ]]\n"
     ]
    }
   ],
   "source": [
    "corr_matrix = np.corrcoef(pop_no_year.T)\n",
    "print(corr_matrix)"
   ]
  },
  {
   "cell_type": "code",
   "execution_count": 100,
   "id": "ee120f6b",
   "metadata": {},
   "outputs": [
    {
     "data": {
      "text/plain": [
       "array([[(1900., 30000.,  4000., 48300.)],\n",
       "       [(1901., 47200.,  6100., 48200.)],\n",
       "       [(1902., 70200.,  9800., 41500.)],\n",
       "       [(1903., 77400., 35200., 38200.)],\n",
       "       [(1904., 36300., 59400., 40600.)],\n",
       "       [(1905., 20600., 41700., 39800.)],\n",
       "       [(1906., 18100., 19000., 38600.)],\n",
       "       [(1907., 21400., 13000., 42300.)],\n",
       "       [(1908., 22000.,  8300., 44500.)],\n",
       "       [(1909., 25400.,  9100., 42100.)],\n",
       "       [(1910., 27100.,  7400., 46000.)],\n",
       "       [(1911., 40300.,  8000., 46800.)],\n",
       "       [(1912., 57000., 12300., 43800.)],\n",
       "       [(1913., 76600., 19500., 40900.)],\n",
       "       [(1914., 52300., 45700., 39400.)],\n",
       "       [(1915., 19500., 51100., 39000.)],\n",
       "       [(1916., 11200., 29700., 36700.)],\n",
       "       [(1917.,  7600., 15800., 41800.)],\n",
       "       [(1918., 14600.,  9700., 43300.)],\n",
       "       [(1919., 16200., 10100., 41300.)],\n",
       "       [(1920., 24700.,  8600., 47300.)]],\n",
       "      dtype=[('year', '<f8'), ('hares', '<f8'), ('lynx', '<f8'), ('carrot', '<f8')])"
      ]
     },
     "execution_count": 100,
     "metadata": {},
     "output_type": "execute_result"
    }
   ],
   "source": [
    "pop_with_keys = poptable.view(dtype=[('year', 'float'), ('hares', 'float'),('lynx', 'float'),('carrot', 'float')])\n",
    "pop_with_keys"
   ]
  },
  {
   "cell_type": "code",
   "execution_count": 101,
   "id": "89152555",
   "metadata": {},
   "outputs": [
    {
     "name": "stdout",
     "output_type": "stream",
     "text": [
      "[[30000.]\n",
      " [47200.]\n",
      " [70200.]\n",
      " [77400.]\n",
      " [36300.]\n",
      " [20600.]\n",
      " [18100.]\n",
      " [21400.]\n",
      " [22000.]\n",
      " [25400.]\n",
      " [27100.]\n",
      " [40300.]\n",
      " [57000.]\n",
      " [76600.]\n",
      " [52300.]\n",
      " [19500.]\n",
      " [11200.]\n",
      " [ 7600.]\n",
      " [14600.]\n",
      " [16200.]\n",
      " [24700.]]\n"
     ]
    }
   ],
   "source": [
    "print(pop_with_keys['hares'])"
   ]
  },
  {
   "cell_type": "code",
   "execution_count": 102,
   "id": "7ed894fb",
   "metadata": {},
   "outputs": [
    {
     "name": "stdout",
     "output_type": "stream",
     "text": [
      "[[(1917.,  7600., 15800., 41800.)]\n",
      " [(1916., 11200., 29700., 36700.)]\n",
      " [(1918., 14600.,  9700., 43300.)]\n",
      " [(1919., 16200., 10100., 41300.)]\n",
      " [(1906., 18100., 19000., 38600.)]\n",
      " [(1915., 19500., 51100., 39000.)]\n",
      " [(1905., 20600., 41700., 39800.)]\n",
      " [(1907., 21400., 13000., 42300.)]\n",
      " [(1908., 22000.,  8300., 44500.)]\n",
      " [(1920., 24700.,  8600., 47300.)]\n",
      " [(1909., 25400.,  9100., 42100.)]\n",
      " [(1910., 27100.,  7400., 46000.)]\n",
      " [(1900., 30000.,  4000., 48300.)]\n",
      " [(1904., 36300., 59400., 40600.)]\n",
      " [(1911., 40300.,  8000., 46800.)]\n",
      " [(1901., 47200.,  6100., 48200.)]\n",
      " [(1914., 52300., 45700., 39400.)]\n",
      " [(1912., 57000., 12300., 43800.)]\n",
      " [(1902., 70200.,  9800., 41500.)]\n",
      " [(1913., 76600., 19500., 40900.)]\n",
      " [(1903., 77400., 35200., 38200.)]]\n"
     ]
    }
   ],
   "source": [
    "# Now we can do sorting using the desired label. For example, we can sort the table using the 'hares' field:\n",
    "\n",
    "sorted_by_hares = np.sort(pop_with_keys, order='hares', axis=0)\n",
    "print(sorted_by_hares)"
   ]
  },
  {
   "cell_type": "code",
   "execution_count": null,
   "id": "15dc21a8",
   "metadata": {},
   "outputs": [],
   "source": []
  },
  {
   "cell_type": "markdown",
   "id": "48a4c680",
   "metadata": {},
   "source": [
    "**basic visualization with matplotlib:**"
   ]
  },
  {
   "cell_type": "code",
   "execution_count": 103,
   "id": "c47f2537",
   "metadata": {},
   "outputs": [],
   "source": [
    "import matplotlib.pyplot as plt\n",
    "%matplotlib inline"
   ]
  },
  {
   "cell_type": "code",
   "execution_count": 104,
   "id": "1b809a08",
   "metadata": {},
   "outputs": [
    {
     "data": {
      "text/plain": [
       "[<matplotlib.lines.Line2D at 0x29e69b0bca0>]"
      ]
     },
     "execution_count": 104,
     "metadata": {},
     "output_type": "execute_result"
    },
    {
     "data": {
      "image/png": "[encoded data removed]",
      "text/plain": [
       "<Figure size 432x288 with 1 Axes>"
      ]
     },
     "metadata": {
      "needs_background": "light"
     },
     "output_type": "display_data"
    }
   ],
   "source": [
    "plt.plot(year, hares)"
   ]
  },
  {
   "cell_type": "code",
   "execution_count": 105,
   "id": "c2619c00",
   "metadata": {},
   "outputs": [
    {
     "data": {
      "image/png": "[encoded data removed]",
      "text/plain": [
       "<Figure size 432x288 with 1 Axes>"
      ]
     },
     "metadata": {
      "needs_background": "light"
     },
     "output_type": "display_data"
    }
   ],
   "source": [
    "plt.plot(year, hares, label='Hares')\n",
    "plt.plot(year, lynxes, label='Lynxes')\n",
    "plt.plot(year, carrots, label='Carrots')\n",
    "plt.legend( ('Hares','Lynxes','Carrots') )\n",
    "plt.ylabel('Population')\n",
    "plt.xlabel('Year')\n",
    "plt.show()"
   ]
  },
  {
   "cell_type": "code",
   "execution_count": 106,
   "id": "2ed2540c",
   "metadata": {},
   "outputs": [
    {
     "data": {
      "image/png": "[encoded data removed]",
      "text/plain": [
       "<Figure size 432x288 with 1 Axes>"
      ]
     },
     "metadata": {
      "needs_background": "light"
     },
     "output_type": "display_data"
    }
   ],
   "source": [
    "plt.hist(carrots, bins=8, alpha=0.5)\n",
    "\n",
    "plt.xlabel('Carrots')\n",
    "plt.ylabel('Count')\n",
    "plt.title('Histogram of Carrot Populaions')\n",
    "plt.axis([35000, 50000, 0, 6])\n",
    "plt.grid(True)"
   ]
  },
  {
   "cell_type": "code",
   "execution_count": 107,
   "id": "3afaf600",
   "metadata": {},
   "outputs": [
    {
     "data": {
      "image/png": "[encoded data removed]",
      "text/plain": [
       "<Figure size 432x288 with 1 Axes>"
      ]
     },
     "metadata": {
      "needs_background": "light"
     },
     "output_type": "display_data"
    }
   ],
   "source": [
    "plt.scatter(hares, carrots, color=\"blue\", marker=\"*\")\n",
    "\n",
    "plt.xlabel('Hares')\n",
    "plt.ylabel('Carrots')\n",
    "plt.title('Hares v. Carrots')\n",
    "plt.grid(True)"
   ]
  },
  {
   "cell_type": "code",
   "execution_count": 108,
   "id": "8e93e5c0",
   "metadata": {},
   "outputs": [
    {
     "data": {
      "text/plain": [
       "Text(0, 0.5, 'Lynx Population')"
      ]
     },
     "execution_count": 108,
     "metadata": {},
     "output_type": "execute_result"
    },
    {
     "data": {
      "image/png": "[encoded data removed]",
      "text/plain": [
       "<Figure size 864x288 with 2 Axes>"
      ]
     },
     "metadata": {
      "needs_background": "light"
     },
     "output_type": "display_data"
    }
   ],
   "source": [
    "fig = plt.figure(figsize=(12, 4))\n",
    "\n",
    "# Create an Axes object.\n",
    "ax1 = fig.add_subplot(1,2,1) # one row, two column, first plot\n",
    "# Plot the data.\n",
    "ax1.scatter(hares, carrots, color=\"red\", marker=\"*\")\n",
    "ax1.set_title(\"Hares vs. Carrots\")\n",
    "# Add some axis labels.\n",
    "ax1.set_xlabel(\"Hare Population\")\n",
    "ax1.set_ylabel(\"Carrot Population\")\n",
    "ax2 = fig.add_subplot(1,2,2) # one row, two column, 2nd plot\n",
    "# Plot the data.\n",
    "ax2.scatter(hares, lynxes, color=\"blue\", marker=\"^\")\n",
    "ax2.set_title(\"Hares vs. Lynxes\")\n",
    "# Add some axis labels.\n",
    "ax2.set_xlabel(\"Hare Population\")\n",
    "ax2.set_ylabel(\"Lynx Population\")\n",
    "# Produce an image.\n",
    "# fig.savefig(\"scatterplot.png\")"
   ]
  },
  {
   "cell_type": "code",
   "execution_count": null,
   "id": "d621a4eb",
   "metadata": {},
   "outputs": [],
   "source": []
  },
  {
   "cell_type": "code",
   "execution_count": null,
   "id": "60374fed",
   "metadata": {},
   "outputs": [],
   "source": []
  },
  {
   "cell_type": "markdown",
   "id": "f8752c43",
   "metadata": {},
   "source": [
    "# Pandas"
   ]
  },
  {
   "cell_type": "code",
   "execution_count": 109,
   "id": "197c6bc8",
   "metadata": {},
   "outputs": [],
   "source": [
    "import numpy as np\n",
    "import pandas as pd"
   ]
  },
  {
   "cell_type": "code",
   "execution_count": 121,
   "id": "372f914a",
   "metadata": {},
   "outputs": [
    {
     "data": {
      "text/html": [
       "<div>\n",
       "<style scoped>\n",
       "    .dataframe tbody tr th:only-of-type {\n",
       "        vertical-align: middle;\n",
       "    }\n",
       "\n",
       "    .dataframe tbody tr th {\n",
       "        vertical-align: top;\n",
       "    }\n",
       "\n",
       "    .dataframe thead th {\n",
       "        text-align: right;\n",
       "    }\n",
       "</style>\n",
       "<table border=\"1\" class=\"dataframe\">\n",
       "  <thead>\n",
       "    <tr style=\"text-align: right;\">\n",
       "      <th></th>\n",
       "      <th>year</th>\n",
       "      <th>hare</th>\n",
       "      <th>lynx</th>\n",
       "      <th>carrot</th>\n",
       "    </tr>\n",
       "  </thead>\n",
       "  <tbody>\n",
       "    <tr>\n",
       "      <th>0</th>\n",
       "      <td>1900</td>\n",
       "      <td>30000.0</td>\n",
       "      <td>4000.0</td>\n",
       "      <td>48300</td>\n",
       "    </tr>\n",
       "    <tr>\n",
       "      <th>1</th>\n",
       "      <td>1901</td>\n",
       "      <td>47200.0</td>\n",
       "      <td>6100.0</td>\n",
       "      <td>48200</td>\n",
       "    </tr>\n",
       "    <tr>\n",
       "      <th>2</th>\n",
       "      <td>1902</td>\n",
       "      <td>70200.0</td>\n",
       "      <td>9800.0</td>\n",
       "      <td>41500</td>\n",
       "    </tr>\n",
       "    <tr>\n",
       "      <th>3</th>\n",
       "      <td>1903</td>\n",
       "      <td>77400.0</td>\n",
       "      <td>35200.0</td>\n",
       "      <td>38200</td>\n",
       "    </tr>\n",
       "    <tr>\n",
       "      <th>4</th>\n",
       "      <td>1904</td>\n",
       "      <td>36300.0</td>\n",
       "      <td>59400.0</td>\n",
       "      <td>40600</td>\n",
       "    </tr>\n",
       "    <tr>\n",
       "      <th>5</th>\n",
       "      <td>1905</td>\n",
       "      <td>20600.0</td>\n",
       "      <td>41700.0</td>\n",
       "      <td>39800</td>\n",
       "    </tr>\n",
       "    <tr>\n",
       "      <th>6</th>\n",
       "      <td>1906</td>\n",
       "      <td>18100.0</td>\n",
       "      <td>19000.0</td>\n",
       "      <td>38600</td>\n",
       "    </tr>\n",
       "    <tr>\n",
       "      <th>7</th>\n",
       "      <td>1907</td>\n",
       "      <td>21400.0</td>\n",
       "      <td>13000.0</td>\n",
       "      <td>42300</td>\n",
       "    </tr>\n",
       "    <tr>\n",
       "      <th>8</th>\n",
       "      <td>1908</td>\n",
       "      <td>22000.0</td>\n",
       "      <td>8300.0</td>\n",
       "      <td>44500</td>\n",
       "    </tr>\n",
       "    <tr>\n",
       "      <th>9</th>\n",
       "      <td>1909</td>\n",
       "      <td>25400.0</td>\n",
       "      <td>9100.0</td>\n",
       "      <td>42100</td>\n",
       "    </tr>\n",
       "    <tr>\n",
       "      <th>10</th>\n",
       "      <td>1910</td>\n",
       "      <td>27100.0</td>\n",
       "      <td>7400.0</td>\n",
       "      <td>46000</td>\n",
       "    </tr>\n",
       "    <tr>\n",
       "      <th>11</th>\n",
       "      <td>1911</td>\n",
       "      <td>40300.0</td>\n",
       "      <td>8000.0</td>\n",
       "      <td>46800</td>\n",
       "    </tr>\n",
       "    <tr>\n",
       "      <th>12</th>\n",
       "      <td>1912</td>\n",
       "      <td>57000.0</td>\n",
       "      <td>12300.0</td>\n",
       "      <td>43800</td>\n",
       "    </tr>\n",
       "    <tr>\n",
       "      <th>13</th>\n",
       "      <td>1913</td>\n",
       "      <td>76600.0</td>\n",
       "      <td>19500.0</td>\n",
       "      <td>40900</td>\n",
       "    </tr>\n",
       "    <tr>\n",
       "      <th>14</th>\n",
       "      <td>1914</td>\n",
       "      <td>52300.0</td>\n",
       "      <td>45700.0</td>\n",
       "      <td>39400</td>\n",
       "    </tr>\n",
       "    <tr>\n",
       "      <th>15</th>\n",
       "      <td>1915</td>\n",
       "      <td>19500.0</td>\n",
       "      <td>51100.0</td>\n",
       "      <td>39000</td>\n",
       "    </tr>\n",
       "    <tr>\n",
       "      <th>16</th>\n",
       "      <td>1916</td>\n",
       "      <td>11200.0</td>\n",
       "      <td>29700.0</td>\n",
       "      <td>36700</td>\n",
       "    </tr>\n",
       "    <tr>\n",
       "      <th>17</th>\n",
       "      <td>1917</td>\n",
       "      <td>7600.0</td>\n",
       "      <td>15800.0</td>\n",
       "      <td>41800</td>\n",
       "    </tr>\n",
       "    <tr>\n",
       "      <th>18</th>\n",
       "      <td>1918</td>\n",
       "      <td>14600.0</td>\n",
       "      <td>9700.0</td>\n",
       "      <td>43300</td>\n",
       "    </tr>\n",
       "    <tr>\n",
       "      <th>19</th>\n",
       "      <td>1919</td>\n",
       "      <td>16200.0</td>\n",
       "      <td>10100.0</td>\n",
       "      <td>41300</td>\n",
       "    </tr>\n",
       "    <tr>\n",
       "      <th>20</th>\n",
       "      <td>1920</td>\n",
       "      <td>24700.0</td>\n",
       "      <td>8600.0</td>\n",
       "      <td>47300</td>\n",
       "    </tr>\n",
       "  </tbody>\n",
       "</table>\n",
       "</div>"
      ],
      "text/plain": [
       "    year     hare     lynx  carrot\n",
       "0   1900  30000.0   4000.0   48300\n",
       "1   1901  47200.0   6100.0   48200\n",
       "2   1902  70200.0   9800.0   41500\n",
       "3   1903  77400.0  35200.0   38200\n",
       "4   1904  36300.0  59400.0   40600\n",
       "5   1905  20600.0  41700.0   39800\n",
       "6   1906  18100.0  19000.0   38600\n",
       "7   1907  21400.0  13000.0   42300\n",
       "8   1908  22000.0   8300.0   44500\n",
       "9   1909  25400.0   9100.0   42100\n",
       "10  1910  27100.0   7400.0   46000\n",
       "11  1911  40300.0   8000.0   46800\n",
       "12  1912  57000.0  12300.0   43800\n",
       "13  1913  76600.0  19500.0   40900\n",
       "14  1914  52300.0  45700.0   39400\n",
       "15  1915  19500.0  51100.0   39000\n",
       "16  1916  11200.0  29700.0   36700\n",
       "17  1917   7600.0  15800.0   41800\n",
       "18  1918  14600.0   9700.0   43300\n",
       "19  1919  16200.0  10100.0   41300\n",
       "20  1920  24700.0   8600.0   47300"
      ]
     },
     "execution_count": 121,
     "metadata": {},
     "output_type": "execute_result"
    }
   ],
   "source": [
    "pop_df = pd.read_csv(\"D:/Academic/8th semester/Data Mining Lab/txt/populations.txt\", delimiter='\\t')\n",
    "pop_df"
   ]
  },
  {
   "cell_type": "code",
   "execution_count": 122,
   "id": "31ea08ad",
   "metadata": {},
   "outputs": [
    {
     "data": {
      "text/html": [
       "<div>\n",
       "<style scoped>\n",
       "    .dataframe tbody tr th:only-of-type {\n",
       "        vertical-align: middle;\n",
       "    }\n",
       "\n",
       "    .dataframe tbody tr th {\n",
       "        vertical-align: top;\n",
       "    }\n",
       "\n",
       "    .dataframe thead th {\n",
       "        text-align: right;\n",
       "    }\n",
       "</style>\n",
       "<table border=\"1\" class=\"dataframe\">\n",
       "  <thead>\n",
       "    <tr style=\"text-align: right;\">\n",
       "      <th></th>\n",
       "      <th>year</th>\n",
       "      <th>hare</th>\n",
       "      <th>lynx</th>\n",
       "      <th>carrot</th>\n",
       "    </tr>\n",
       "  </thead>\n",
       "  <tbody>\n",
       "    <tr>\n",
       "      <th>0</th>\n",
       "      <td>1900</td>\n",
       "      <td>30000.0</td>\n",
       "      <td>4000.0</td>\n",
       "      <td>48300</td>\n",
       "    </tr>\n",
       "    <tr>\n",
       "      <th>1</th>\n",
       "      <td>1901</td>\n",
       "      <td>47200.0</td>\n",
       "      <td>6100.0</td>\n",
       "      <td>48200</td>\n",
       "    </tr>\n",
       "    <tr>\n",
       "      <th>2</th>\n",
       "      <td>1902</td>\n",
       "      <td>70200.0</td>\n",
       "      <td>9800.0</td>\n",
       "      <td>41500</td>\n",
       "    </tr>\n",
       "    <tr>\n",
       "      <th>3</th>\n",
       "      <td>1903</td>\n",
       "      <td>77400.0</td>\n",
       "      <td>35200.0</td>\n",
       "      <td>38200</td>\n",
       "    </tr>\n",
       "    <tr>\n",
       "      <th>4</th>\n",
       "      <td>1904</td>\n",
       "      <td>36300.0</td>\n",
       "      <td>59400.0</td>\n",
       "      <td>40600</td>\n",
       "    </tr>\n",
       "  </tbody>\n",
       "</table>\n",
       "</div>"
      ],
      "text/plain": [
       "   year     hare     lynx  carrot\n",
       "0  1900  30000.0   4000.0   48300\n",
       "1  1901  47200.0   6100.0   48200\n",
       "2  1902  70200.0   9800.0   41500\n",
       "3  1903  77400.0  35200.0   38200\n",
       "4  1904  36300.0  59400.0   40600"
      ]
     },
     "execution_count": 122,
     "metadata": {},
     "output_type": "execute_result"
    }
   ],
   "source": [
    "pop_df.head(5)"
   ]
  },
  {
   "cell_type": "code",
   "execution_count": 123,
   "id": "3b7762e0",
   "metadata": {},
   "outputs": [
    {
     "data": {
      "text/plain": [
       "Index(['year', 'hare', 'lynx', 'carrot'], dtype='object')"
      ]
     },
     "execution_count": 123,
     "metadata": {},
     "output_type": "execute_result"
    }
   ],
   "source": [
    "pop_df.columns"
   ]
  },
  {
   "cell_type": "code",
   "execution_count": 124,
   "id": "27e2c3d6",
   "metadata": {},
   "outputs": [
    {
     "data": {
      "text/plain": [
       "array([[ 1900., 30000.,  4000., 48300.],\n",
       "       [ 1901., 47200.,  6100., 48200.],\n",
       "       [ 1902., 70200.,  9800., 41500.],\n",
       "       [ 1903., 77400., 35200., 38200.],\n",
       "       [ 1904., 36300., 59400., 40600.],\n",
       "       [ 1905., 20600., 41700., 39800.],\n",
       "       [ 1906., 18100., 19000., 38600.],\n",
       "       [ 1907., 21400., 13000., 42300.],\n",
       "       [ 1908., 22000.,  8300., 44500.],\n",
       "       [ 1909., 25400.,  9100., 42100.],\n",
       "       [ 1910., 27100.,  7400., 46000.],\n",
       "       [ 1911., 40300.,  8000., 46800.],\n",
       "       [ 1912., 57000., 12300., 43800.],\n",
       "       [ 1913., 76600., 19500., 40900.],\n",
       "       [ 1914., 52300., 45700., 39400.],\n",
       "       [ 1915., 19500., 51100., 39000.],\n",
       "       [ 1916., 11200., 29700., 36700.],\n",
       "       [ 1917.,  7600., 15800., 41800.],\n",
       "       [ 1918., 14600.,  9700., 43300.],\n",
       "       [ 1919., 16200., 10100., 41300.],\n",
       "       [ 1920., 24700.,  8600., 47300.]])"
      ]
     },
     "execution_count": 124,
     "metadata": {},
     "output_type": "execute_result"
    }
   ],
   "source": [
    "pop_df.values"
   ]
  },
  {
   "cell_type": "code",
   "execution_count": 125,
   "id": "6e57f429",
   "metadata": {},
   "outputs": [
    {
     "data": {
      "text/plain": [
       "year        int64\n",
       "hare      float64\n",
       "lynx      float64\n",
       "carrot      int64\n",
       "dtype: object"
      ]
     },
     "execution_count": 125,
     "metadata": {},
     "output_type": "execute_result"
    }
   ],
   "source": [
    "pop_df.dtypes"
   ]
  },
  {
   "cell_type": "markdown",
   "id": "ae3af0bd",
   "metadata": {},
   "source": [
    "**We can access columns (Pandas series) using their labels:**"
   ]
  },
  {
   "cell_type": "code",
   "execution_count": 126,
   "id": "5576402d",
   "metadata": {},
   "outputs": [
    {
     "data": {
      "text/plain": [
       "0     30000.0\n",
       "1     47200.0\n",
       "2     70200.0\n",
       "3     77400.0\n",
       "4     36300.0\n",
       "5     20600.0\n",
       "6     18100.0\n",
       "7     21400.0\n",
       "8     22000.0\n",
       "9     25400.0\n",
       "10    27100.0\n",
       "11    40300.0\n",
       "12    57000.0\n",
       "13    76600.0\n",
       "14    52300.0\n",
       "15    19500.0\n",
       "16    11200.0\n",
       "17     7600.0\n",
       "18    14600.0\n",
       "19    16200.0\n",
       "20    24700.0\n",
       "Name: hare, dtype: float64"
      ]
     },
     "execution_count": 126,
     "metadata": {},
     "output_type": "execute_result"
    }
   ],
   "source": [
    "hare_df = pop_df[\"hare\"]\n",
    "hare_df"
   ]
  },
  {
   "cell_type": "code",
   "execution_count": 127,
   "id": "3ecb5c92",
   "metadata": {},
   "outputs": [
    {
     "data": {
      "text/plain": [
       "0     30000.0\n",
       "1     47200.0\n",
       "2     70200.0\n",
       "3     77400.0\n",
       "4     36300.0\n",
       "5     20600.0\n",
       "6     18100.0\n",
       "7     21400.0\n",
       "8     22000.0\n",
       "9     25400.0\n",
       "10    27100.0\n",
       "11    40300.0\n",
       "12    57000.0\n",
       "13    76600.0\n",
       "14    52300.0\n",
       "15    19500.0\n",
       "16    11200.0\n",
       "17     7600.0\n",
       "18    14600.0\n",
       "19    16200.0\n",
       "20    24700.0\n",
       "Name: hare, dtype: float64"
      ]
     },
     "execution_count": 127,
     "metadata": {},
     "output_type": "execute_result"
    }
   ],
   "source": [
    "pop_df.hare"
   ]
  },
  {
   "cell_type": "code",
   "execution_count": 128,
   "id": "9cd85cad",
   "metadata": {},
   "outputs": [
    {
     "name": "stdout",
     "output_type": "stream",
     "text": [
      "Mean Hare Population:  34080.95238095238\n"
     ]
    }
   ],
   "source": [
    "print(\"Mean Hare Population: \", hare_df.mean())"
   ]
  },
  {
   "cell_type": "code",
   "execution_count": 129,
   "id": "07d643c3",
   "metadata": {},
   "outputs": [
    {
     "name": "stdout",
     "output_type": "stream",
     "text": [
      "Mean Populations: \n",
      "\n",
      "hare      34080.952381\n",
      "lynx      20166.666667\n",
      "carrot    42400.000000\n",
      "dtype: float64\n",
      "\n",
      "\n",
      "Standard Deviations: \n",
      "\n",
      "hare      21413.981859\n",
      "lynx      16655.999920\n",
      "carrot     3404.555771\n",
      "dtype: float64\n"
     ]
    }
   ],
   "source": [
    "print(\"Mean Populations: \\n\")\n",
    "\n",
    "print(pop_df[[\"hare\",\"lynx\",\"carrot\"]].mean())\n",
    "print(\"\\n\")\n",
    "print(\"Standard Deviations: \\n\")\n",
    "print(pop_df[[\"hare\",\"lynx\",\"carrot\"]].std())"
   ]
  },
  {
   "cell_type": "markdown",
   "id": "cf08d67c",
   "metadata": {},
   "source": [
    "**The describe() method provides a detailed description of variables:**"
   ]
  },
  {
   "cell_type": "code",
   "execution_count": 130,
   "id": "c3e9647a",
   "metadata": {},
   "outputs": [
    {
     "data": {
      "text/html": [
       "<div>\n",
       "<style scoped>\n",
       "    .dataframe tbody tr th:only-of-type {\n",
       "        vertical-align: middle;\n",
       "    }\n",
       "\n",
       "    .dataframe tbody tr th {\n",
       "        vertical-align: top;\n",
       "    }\n",
       "\n",
       "    .dataframe thead th {\n",
       "        text-align: right;\n",
       "    }\n",
       "</style>\n",
       "<table border=\"1\" class=\"dataframe\">\n",
       "  <thead>\n",
       "    <tr style=\"text-align: right;\">\n",
       "      <th></th>\n",
       "      <th>hare</th>\n",
       "      <th>lynx</th>\n",
       "      <th>carrot</th>\n",
       "    </tr>\n",
       "  </thead>\n",
       "  <tbody>\n",
       "    <tr>\n",
       "      <th>count</th>\n",
       "      <td>21.000000</td>\n",
       "      <td>21.000000</td>\n",
       "      <td>21.000000</td>\n",
       "    </tr>\n",
       "    <tr>\n",
       "      <th>mean</th>\n",
       "      <td>34080.952381</td>\n",
       "      <td>20166.666667</td>\n",
       "      <td>42400.000000</td>\n",
       "    </tr>\n",
       "    <tr>\n",
       "      <th>std</th>\n",
       "      <td>21413.981859</td>\n",
       "      <td>16655.999920</td>\n",
       "      <td>3404.555771</td>\n",
       "    </tr>\n",
       "    <tr>\n",
       "      <th>min</th>\n",
       "      <td>7600.000000</td>\n",
       "      <td>4000.000000</td>\n",
       "      <td>36700.000000</td>\n",
       "    </tr>\n",
       "    <tr>\n",
       "      <th>25%</th>\n",
       "      <td>19500.000000</td>\n",
       "      <td>8600.000000</td>\n",
       "      <td>39800.000000</td>\n",
       "    </tr>\n",
       "    <tr>\n",
       "      <th>50%</th>\n",
       "      <td>25400.000000</td>\n",
       "      <td>12300.000000</td>\n",
       "      <td>41800.000000</td>\n",
       "    </tr>\n",
       "    <tr>\n",
       "      <th>75%</th>\n",
       "      <td>47200.000000</td>\n",
       "      <td>29700.000000</td>\n",
       "      <td>44500.000000</td>\n",
       "    </tr>\n",
       "    <tr>\n",
       "      <th>max</th>\n",
       "      <td>77400.000000</td>\n",
       "      <td>59400.000000</td>\n",
       "      <td>48300.000000</td>\n",
       "    </tr>\n",
       "  </tbody>\n",
       "</table>\n",
       "</div>"
      ],
      "text/plain": [
       "               hare          lynx        carrot\n",
       "count     21.000000     21.000000     21.000000\n",
       "mean   34080.952381  20166.666667  42400.000000\n",
       "std    21413.981859  16655.999920   3404.555771\n",
       "min     7600.000000   4000.000000  36700.000000\n",
       "25%    19500.000000   8600.000000  39800.000000\n",
       "50%    25400.000000  12300.000000  41800.000000\n",
       "75%    47200.000000  29700.000000  44500.000000\n",
       "max    77400.000000  59400.000000  48300.000000"
      ]
     },
     "execution_count": 130,
     "metadata": {},
     "output_type": "execute_result"
    }
   ],
   "source": [
    "pop_df[[\"hare\",\"lynx\",\"carrot\"]].describe()"
   ]
  },
  {
   "cell_type": "code",
   "execution_count": 131,
   "id": "80db774d",
   "metadata": {},
   "outputs": [
    {
     "data": {
      "text/html": [
       "<div>\n",
       "<style scoped>\n",
       "    .dataframe tbody tr th:only-of-type {\n",
       "        vertical-align: middle;\n",
       "    }\n",
       "\n",
       "    .dataframe tbody tr th {\n",
       "        vertical-align: top;\n",
       "    }\n",
       "\n",
       "    .dataframe thead th {\n",
       "        text-align: right;\n",
       "    }\n",
       "</style>\n",
       "<table border=\"1\" class=\"dataframe\">\n",
       "  <thead>\n",
       "    <tr style=\"text-align: right;\">\n",
       "      <th></th>\n",
       "      <th>year</th>\n",
       "      <th>hare</th>\n",
       "      <th>lynx</th>\n",
       "      <th>carrot</th>\n",
       "    </tr>\n",
       "  </thead>\n",
       "  <tbody>\n",
       "    <tr>\n",
       "      <th>count</th>\n",
       "      <td>21.000000</td>\n",
       "      <td>21.000000</td>\n",
       "      <td>21.000000</td>\n",
       "      <td>21.000000</td>\n",
       "    </tr>\n",
       "    <tr>\n",
       "      <th>mean</th>\n",
       "      <td>1910.000000</td>\n",
       "      <td>34080.952381</td>\n",
       "      <td>20166.666667</td>\n",
       "      <td>42400.000000</td>\n",
       "    </tr>\n",
       "    <tr>\n",
       "      <th>std</th>\n",
       "      <td>6.204837</td>\n",
       "      <td>21413.981859</td>\n",
       "      <td>16655.999920</td>\n",
       "      <td>3404.555771</td>\n",
       "    </tr>\n",
       "    <tr>\n",
       "      <th>min</th>\n",
       "      <td>1900.000000</td>\n",
       "      <td>7600.000000</td>\n",
       "      <td>4000.000000</td>\n",
       "      <td>36700.000000</td>\n",
       "    </tr>\n",
       "    <tr>\n",
       "      <th>25%</th>\n",
       "      <td>1905.000000</td>\n",
       "      <td>19500.000000</td>\n",
       "      <td>8600.000000</td>\n",
       "      <td>39800.000000</td>\n",
       "    </tr>\n",
       "    <tr>\n",
       "      <th>50%</th>\n",
       "      <td>1910.000000</td>\n",
       "      <td>25400.000000</td>\n",
       "      <td>12300.000000</td>\n",
       "      <td>41800.000000</td>\n",
       "    </tr>\n",
       "    <tr>\n",
       "      <th>75%</th>\n",
       "      <td>1915.000000</td>\n",
       "      <td>47200.000000</td>\n",
       "      <td>29700.000000</td>\n",
       "      <td>44500.000000</td>\n",
       "    </tr>\n",
       "    <tr>\n",
       "      <th>max</th>\n",
       "      <td>1920.000000</td>\n",
       "      <td>77400.000000</td>\n",
       "      <td>59400.000000</td>\n",
       "      <td>48300.000000</td>\n",
       "    </tr>\n",
       "  </tbody>\n",
       "</table>\n",
       "</div>"
      ],
      "text/plain": [
       "              year          hare          lynx        carrot\n",
       "count    21.000000     21.000000     21.000000     21.000000\n",
       "mean   1910.000000  34080.952381  20166.666667  42400.000000\n",
       "std       6.204837  21413.981859  16655.999920   3404.555771\n",
       "min    1900.000000   7600.000000   4000.000000  36700.000000\n",
       "25%    1905.000000  19500.000000   8600.000000  39800.000000\n",
       "50%    1910.000000  25400.000000  12300.000000  41800.000000\n",
       "75%    1915.000000  47200.000000  29700.000000  44500.000000\n",
       "max    1920.000000  77400.000000  59400.000000  48300.000000"
      ]
     },
     "execution_count": 131,
     "metadata": {},
     "output_type": "execute_result"
    }
   ],
   "source": [
    "pop_df.describe()"
   ]
  },
  {
   "cell_type": "code",
   "execution_count": 132,
   "id": "bdf183c1",
   "metadata": {},
   "outputs": [
    {
     "data": {
      "text/html": [
       "<div>\n",
       "<style scoped>\n",
       "    .dataframe tbody tr th:only-of-type {\n",
       "        vertical-align: middle;\n",
       "    }\n",
       "\n",
       "    .dataframe tbody tr th {\n",
       "        vertical-align: top;\n",
       "    }\n",
       "\n",
       "    .dataframe thead th {\n",
       "        text-align: right;\n",
       "    }\n",
       "</style>\n",
       "<table border=\"1\" class=\"dataframe\">\n",
       "  <thead>\n",
       "    <tr style=\"text-align: right;\">\n",
       "      <th></th>\n",
       "      <th>hare</th>\n",
       "      <th>lynx</th>\n",
       "      <th>carrot</th>\n",
       "    </tr>\n",
       "  </thead>\n",
       "  <tbody>\n",
       "    <tr>\n",
       "      <th>hare</th>\n",
       "      <td>1.000000</td>\n",
       "      <td>0.071892</td>\n",
       "      <td>-0.016604</td>\n",
       "    </tr>\n",
       "    <tr>\n",
       "      <th>lynx</th>\n",
       "      <td>0.071892</td>\n",
       "      <td>1.000000</td>\n",
       "      <td>-0.680577</td>\n",
       "    </tr>\n",
       "    <tr>\n",
       "      <th>carrot</th>\n",
       "      <td>-0.016604</td>\n",
       "      <td>-0.680577</td>\n",
       "      <td>1.000000</td>\n",
       "    </tr>\n",
       "  </tbody>\n",
       "</table>\n",
       "</div>"
      ],
      "text/plain": [
       "            hare      lynx    carrot\n",
       "hare    1.000000  0.071892 -0.016604\n",
       "lynx    0.071892  1.000000 -0.680577\n",
       "carrot -0.016604 -0.680577  1.000000"
      ]
     },
     "execution_count": 132,
     "metadata": {},
     "output_type": "execute_result"
    }
   ],
   "source": [
    "pop_df[[\"hare\",\"lynx\",\"carrot\"]].corr()"
   ]
  },
  {
   "cell_type": "code",
   "execution_count": 133,
   "id": "289ac195",
   "metadata": {},
   "outputs": [
    {
     "data": {
      "text/html": [
       "<div>\n",
       "<style scoped>\n",
       "    .dataframe tbody tr th:only-of-type {\n",
       "        vertical-align: middle;\n",
       "    }\n",
       "\n",
       "    .dataframe tbody tr th {\n",
       "        vertical-align: top;\n",
       "    }\n",
       "\n",
       "    .dataframe thead th {\n",
       "        text-align: right;\n",
       "    }\n",
       "</style>\n",
       "<table border=\"1\" class=\"dataframe\">\n",
       "  <thead>\n",
       "    <tr style=\"text-align: right;\">\n",
       "      <th></th>\n",
       "      <th>year</th>\n",
       "      <th>hare</th>\n",
       "      <th>lynx</th>\n",
       "      <th>carrot</th>\n",
       "    </tr>\n",
       "  </thead>\n",
       "  <tbody>\n",
       "    <tr>\n",
       "      <th>0</th>\n",
       "      <td>1900</td>\n",
       "      <td>30000.0</td>\n",
       "      <td>4000.0</td>\n",
       "      <td>48300</td>\n",
       "    </tr>\n",
       "    <tr>\n",
       "      <th>1</th>\n",
       "      <td>1901</td>\n",
       "      <td>47200.0</td>\n",
       "      <td>6100.0</td>\n",
       "      <td>48200</td>\n",
       "    </tr>\n",
       "    <tr>\n",
       "      <th>2</th>\n",
       "      <td>1902</td>\n",
       "      <td>70200.0</td>\n",
       "      <td>9800.0</td>\n",
       "      <td>41500</td>\n",
       "    </tr>\n",
       "    <tr>\n",
       "      <th>3</th>\n",
       "      <td>1903</td>\n",
       "      <td>77400.0</td>\n",
       "      <td>35200.0</td>\n",
       "      <td>38200</td>\n",
       "    </tr>\n",
       "    <tr>\n",
       "      <th>4</th>\n",
       "      <td>1904</td>\n",
       "      <td>36300.0</td>\n",
       "      <td>59400.0</td>\n",
       "      <td>40600</td>\n",
       "    </tr>\n",
       "    <tr>\n",
       "      <th>5</th>\n",
       "      <td>1905</td>\n",
       "      <td>20600.0</td>\n",
       "      <td>41700.0</td>\n",
       "      <td>39800</td>\n",
       "    </tr>\n",
       "    <tr>\n",
       "      <th>6</th>\n",
       "      <td>1906</td>\n",
       "      <td>18100.0</td>\n",
       "      <td>19000.0</td>\n",
       "      <td>38600</td>\n",
       "    </tr>\n",
       "    <tr>\n",
       "      <th>7</th>\n",
       "      <td>1907</td>\n",
       "      <td>21400.0</td>\n",
       "      <td>13000.0</td>\n",
       "      <td>42300</td>\n",
       "    </tr>\n",
       "    <tr>\n",
       "      <th>8</th>\n",
       "      <td>1908</td>\n",
       "      <td>22000.0</td>\n",
       "      <td>8300.0</td>\n",
       "      <td>44500</td>\n",
       "    </tr>\n",
       "    <tr>\n",
       "      <th>9</th>\n",
       "      <td>1909</td>\n",
       "      <td>25400.0</td>\n",
       "      <td>9100.0</td>\n",
       "      <td>42100</td>\n",
       "    </tr>\n",
       "    <tr>\n",
       "      <th>10</th>\n",
       "      <td>1910</td>\n",
       "      <td>27100.0</td>\n",
       "      <td>7400.0</td>\n",
       "      <td>46000</td>\n",
       "    </tr>\n",
       "    <tr>\n",
       "      <th>11</th>\n",
       "      <td>1911</td>\n",
       "      <td>40300.0</td>\n",
       "      <td>8000.0</td>\n",
       "      <td>46800</td>\n",
       "    </tr>\n",
       "    <tr>\n",
       "      <th>12</th>\n",
       "      <td>1912</td>\n",
       "      <td>57000.0</td>\n",
       "      <td>12300.0</td>\n",
       "      <td>43800</td>\n",
       "    </tr>\n",
       "    <tr>\n",
       "      <th>13</th>\n",
       "      <td>1913</td>\n",
       "      <td>76600.0</td>\n",
       "      <td>19500.0</td>\n",
       "      <td>40900</td>\n",
       "    </tr>\n",
       "    <tr>\n",
       "      <th>14</th>\n",
       "      <td>1914</td>\n",
       "      <td>52300.0</td>\n",
       "      <td>45700.0</td>\n",
       "      <td>39400</td>\n",
       "    </tr>\n",
       "    <tr>\n",
       "      <th>15</th>\n",
       "      <td>1915</td>\n",
       "      <td>19500.0</td>\n",
       "      <td>51100.0</td>\n",
       "      <td>39000</td>\n",
       "    </tr>\n",
       "    <tr>\n",
       "      <th>16</th>\n",
       "      <td>1916</td>\n",
       "      <td>11200.0</td>\n",
       "      <td>29700.0</td>\n",
       "      <td>36700</td>\n",
       "    </tr>\n",
       "    <tr>\n",
       "      <th>17</th>\n",
       "      <td>1917</td>\n",
       "      <td>7600.0</td>\n",
       "      <td>15800.0</td>\n",
       "      <td>41800</td>\n",
       "    </tr>\n",
       "    <tr>\n",
       "      <th>18</th>\n",
       "      <td>1918</td>\n",
       "      <td>14600.0</td>\n",
       "      <td>9700.0</td>\n",
       "      <td>43300</td>\n",
       "    </tr>\n",
       "    <tr>\n",
       "      <th>19</th>\n",
       "      <td>1919</td>\n",
       "      <td>16200.0</td>\n",
       "      <td>10100.0</td>\n",
       "      <td>41300</td>\n",
       "    </tr>\n",
       "    <tr>\n",
       "      <th>20</th>\n",
       "      <td>1920</td>\n",
       "      <td>24700.0</td>\n",
       "      <td>8600.0</td>\n",
       "      <td>47300</td>\n",
       "    </tr>\n",
       "  </tbody>\n",
       "</table>\n",
       "</div>"
      ],
      "text/plain": [
       "    year     hare     lynx  carrot\n",
       "0   1900  30000.0   4000.0   48300\n",
       "1   1901  47200.0   6100.0   48200\n",
       "2   1902  70200.0   9800.0   41500\n",
       "3   1903  77400.0  35200.0   38200\n",
       "4   1904  36300.0  59400.0   40600\n",
       "5   1905  20600.0  41700.0   39800\n",
       "6   1906  18100.0  19000.0   38600\n",
       "7   1907  21400.0  13000.0   42300\n",
       "8   1908  22000.0   8300.0   44500\n",
       "9   1909  25400.0   9100.0   42100\n",
       "10  1910  27100.0   7400.0   46000\n",
       "11  1911  40300.0   8000.0   46800\n",
       "12  1912  57000.0  12300.0   43800\n",
       "13  1913  76600.0  19500.0   40900\n",
       "14  1914  52300.0  45700.0   39400\n",
       "15  1915  19500.0  51100.0   39000\n",
       "16  1916  11200.0  29700.0   36700\n",
       "17  1917   7600.0  15800.0   41800\n",
       "18  1918  14600.0   9700.0   43300\n",
       "19  1919  16200.0  10100.0   41300\n",
       "20  1920  24700.0   8600.0   47300"
      ]
     },
     "execution_count": 133,
     "metadata": {},
     "output_type": "execute_result"
    }
   ],
   "source": [
    "pop_df"
   ]
  },
  {
   "cell_type": "code",
   "execution_count": 134,
   "id": "da8e4f1d",
   "metadata": {},
   "outputs": [
    {
     "data": {
      "text/html": [
       "<div>\n",
       "<style scoped>\n",
       "    .dataframe tbody tr th:only-of-type {\n",
       "        vertical-align: middle;\n",
       "    }\n",
       "\n",
       "    .dataframe tbody tr th {\n",
       "        vertical-align: top;\n",
       "    }\n",
       "\n",
       "    .dataframe thead th {\n",
       "        text-align: right;\n",
       "    }\n",
       "</style>\n",
       "<table border=\"1\" class=\"dataframe\">\n",
       "  <thead>\n",
       "    <tr style=\"text-align: right;\">\n",
       "      <th></th>\n",
       "      <th>year</th>\n",
       "      <th>hare</th>\n",
       "      <th>lynx</th>\n",
       "      <th>carrot</th>\n",
       "    </tr>\n",
       "  </thead>\n",
       "  <tbody>\n",
       "    <tr>\n",
       "      <th>17</th>\n",
       "      <td>1917</td>\n",
       "      <td>7600.0</td>\n",
       "      <td>15800.0</td>\n",
       "      <td>41800</td>\n",
       "    </tr>\n",
       "    <tr>\n",
       "      <th>16</th>\n",
       "      <td>1916</td>\n",
       "      <td>11200.0</td>\n",
       "      <td>29700.0</td>\n",
       "      <td>36700</td>\n",
       "    </tr>\n",
       "    <tr>\n",
       "      <th>18</th>\n",
       "      <td>1918</td>\n",
       "      <td>14600.0</td>\n",
       "      <td>9700.0</td>\n",
       "      <td>43300</td>\n",
       "    </tr>\n",
       "    <tr>\n",
       "      <th>19</th>\n",
       "      <td>1919</td>\n",
       "      <td>16200.0</td>\n",
       "      <td>10100.0</td>\n",
       "      <td>41300</td>\n",
       "    </tr>\n",
       "    <tr>\n",
       "      <th>6</th>\n",
       "      <td>1906</td>\n",
       "      <td>18100.0</td>\n",
       "      <td>19000.0</td>\n",
       "      <td>38600</td>\n",
       "    </tr>\n",
       "    <tr>\n",
       "      <th>15</th>\n",
       "      <td>1915</td>\n",
       "      <td>19500.0</td>\n",
       "      <td>51100.0</td>\n",
       "      <td>39000</td>\n",
       "    </tr>\n",
       "    <tr>\n",
       "      <th>5</th>\n",
       "      <td>1905</td>\n",
       "      <td>20600.0</td>\n",
       "      <td>41700.0</td>\n",
       "      <td>39800</td>\n",
       "    </tr>\n",
       "    <tr>\n",
       "      <th>7</th>\n",
       "      <td>1907</td>\n",
       "      <td>21400.0</td>\n",
       "      <td>13000.0</td>\n",
       "      <td>42300</td>\n",
       "    </tr>\n",
       "    <tr>\n",
       "      <th>8</th>\n",
       "      <td>1908</td>\n",
       "      <td>22000.0</td>\n",
       "      <td>8300.0</td>\n",
       "      <td>44500</td>\n",
       "    </tr>\n",
       "    <tr>\n",
       "      <th>20</th>\n",
       "      <td>1920</td>\n",
       "      <td>24700.0</td>\n",
       "      <td>8600.0</td>\n",
       "      <td>47300</td>\n",
       "    </tr>\n",
       "    <tr>\n",
       "      <th>9</th>\n",
       "      <td>1909</td>\n",
       "      <td>25400.0</td>\n",
       "      <td>9100.0</td>\n",
       "      <td>42100</td>\n",
       "    </tr>\n",
       "    <tr>\n",
       "      <th>10</th>\n",
       "      <td>1910</td>\n",
       "      <td>27100.0</td>\n",
       "      <td>7400.0</td>\n",
       "      <td>46000</td>\n",
       "    </tr>\n",
       "    <tr>\n",
       "      <th>0</th>\n",
       "      <td>1900</td>\n",
       "      <td>30000.0</td>\n",
       "      <td>4000.0</td>\n",
       "      <td>48300</td>\n",
       "    </tr>\n",
       "    <tr>\n",
       "      <th>4</th>\n",
       "      <td>1904</td>\n",
       "      <td>36300.0</td>\n",
       "      <td>59400.0</td>\n",
       "      <td>40600</td>\n",
       "    </tr>\n",
       "    <tr>\n",
       "      <th>11</th>\n",
       "      <td>1911</td>\n",
       "      <td>40300.0</td>\n",
       "      <td>8000.0</td>\n",
       "      <td>46800</td>\n",
       "    </tr>\n",
       "    <tr>\n",
       "      <th>1</th>\n",
       "      <td>1901</td>\n",
       "      <td>47200.0</td>\n",
       "      <td>6100.0</td>\n",
       "      <td>48200</td>\n",
       "    </tr>\n",
       "    <tr>\n",
       "      <th>14</th>\n",
       "      <td>1914</td>\n",
       "      <td>52300.0</td>\n",
       "      <td>45700.0</td>\n",
       "      <td>39400</td>\n",
       "    </tr>\n",
       "    <tr>\n",
       "      <th>12</th>\n",
       "      <td>1912</td>\n",
       "      <td>57000.0</td>\n",
       "      <td>12300.0</td>\n",
       "      <td>43800</td>\n",
       "    </tr>\n",
       "    <tr>\n",
       "      <th>2</th>\n",
       "      <td>1902</td>\n",
       "      <td>70200.0</td>\n",
       "      <td>9800.0</td>\n",
       "      <td>41500</td>\n",
       "    </tr>\n",
       "    <tr>\n",
       "      <th>13</th>\n",
       "      <td>1913</td>\n",
       "      <td>76600.0</td>\n",
       "      <td>19500.0</td>\n",
       "      <td>40900</td>\n",
       "    </tr>\n",
       "    <tr>\n",
       "      <th>3</th>\n",
       "      <td>1903</td>\n",
       "      <td>77400.0</td>\n",
       "      <td>35200.0</td>\n",
       "      <td>38200</td>\n",
       "    </tr>\n",
       "  </tbody>\n",
       "</table>\n",
       "</div>"
      ],
      "text/plain": [
       "    year     hare     lynx  carrot\n",
       "17  1917   7600.0  15800.0   41800\n",
       "16  1916  11200.0  29700.0   36700\n",
       "18  1918  14600.0   9700.0   43300\n",
       "19  1919  16200.0  10100.0   41300\n",
       "6   1906  18100.0  19000.0   38600\n",
       "15  1915  19500.0  51100.0   39000\n",
       "5   1905  20600.0  41700.0   39800\n",
       "7   1907  21400.0  13000.0   42300\n",
       "8   1908  22000.0   8300.0   44500\n",
       "20  1920  24700.0   8600.0   47300\n",
       "9   1909  25400.0   9100.0   42100\n",
       "10  1910  27100.0   7400.0   46000\n",
       "0   1900  30000.0   4000.0   48300\n",
       "4   1904  36300.0  59400.0   40600\n",
       "11  1911  40300.0   8000.0   46800\n",
       "1   1901  47200.0   6100.0   48200\n",
       "14  1914  52300.0  45700.0   39400\n",
       "12  1912  57000.0  12300.0   43800\n",
       "2   1902  70200.0   9800.0   41500\n",
       "13  1913  76600.0  19500.0   40900\n",
       "3   1903  77400.0  35200.0   38200"
      ]
     },
     "execution_count": 134,
     "metadata": {},
     "output_type": "execute_result"
    }
   ],
   "source": [
    "pop_df.sort_values(by=['hare'])"
   ]
  },
  {
   "cell_type": "code",
   "execution_count": 135,
   "id": "3b2e0d13",
   "metadata": {},
   "outputs": [
    {
     "name": "stdout",
     "output_type": "stream",
     "text": [
      "0     False\n",
      "1     False\n",
      "2      True\n",
      "3      True\n",
      "4     False\n",
      "5     False\n",
      "6     False\n",
      "7     False\n",
      "8     False\n",
      "9     False\n",
      "10    False\n",
      "11    False\n",
      "12     True\n",
      "13     True\n",
      "14     True\n",
      "15    False\n",
      "16    False\n",
      "17    False\n",
      "18    False\n",
      "19    False\n",
      "20    False\n",
      "Name: hare, dtype: bool\n",
      "\n",
      "\n",
      "    year     hare     lynx  carrot\n",
      "2   1902  70200.0   9800.0   41500\n",
      "3   1903  77400.0  35200.0   38200\n",
      "12  1912  57000.0  12300.0   43800\n",
      "13  1913  76600.0  19500.0   40900\n",
      "14  1914  52300.0  45700.0   39400\n",
      "\n",
      "\n",
      "2     1902\n",
      "3     1903\n",
      "12    1912\n",
      "13    1913\n",
      "14    1914\n",
      "Name: year, dtype: int64\n"
     ]
    }
   ],
   "source": [
    "# finding all instances when the population of hares is above 50k\n",
    "hare_above_50K = pop_df.hare>50000\n",
    "print(hare_above_50K)\n",
    "print(\"\\n\")\n",
    "print(pop_df[hare_above_50K])\n",
    "print(\"\\n\")\n",
    "print(pop_df[hare_above_50K].year)"
   ]
  },
  {
   "cell_type": "code",
   "execution_count": 136,
   "id": "c7a1542e",
   "metadata": {},
   "outputs": [
    {
     "data": {
      "text/html": [
       "<div>\n",
       "<style scoped>\n",
       "    .dataframe tbody tr th:only-of-type {\n",
       "        vertical-align: middle;\n",
       "    }\n",
       "\n",
       "    .dataframe tbody tr th {\n",
       "        vertical-align: top;\n",
       "    }\n",
       "\n",
       "    .dataframe thead th {\n",
       "        text-align: right;\n",
       "    }\n",
       "</style>\n",
       "<table border=\"1\" class=\"dataframe\">\n",
       "  <thead>\n",
       "    <tr style=\"text-align: right;\">\n",
       "      <th></th>\n",
       "      <th>year</th>\n",
       "      <th>hare</th>\n",
       "      <th>lynx</th>\n",
       "      <th>carrot</th>\n",
       "    </tr>\n",
       "  </thead>\n",
       "  <tbody>\n",
       "    <tr>\n",
       "      <th>2</th>\n",
       "      <td>1902</td>\n",
       "      <td>70200.0</td>\n",
       "      <td>9800.0</td>\n",
       "      <td>41500</td>\n",
       "    </tr>\n",
       "    <tr>\n",
       "      <th>3</th>\n",
       "      <td>1903</td>\n",
       "      <td>77400.0</td>\n",
       "      <td>35200.0</td>\n",
       "      <td>38200</td>\n",
       "    </tr>\n",
       "    <tr>\n",
       "      <th>4</th>\n",
       "      <td>1904</td>\n",
       "      <td>36300.0</td>\n",
       "      <td>59400.0</td>\n",
       "      <td>40600</td>\n",
       "    </tr>\n",
       "    <tr>\n",
       "      <th>12</th>\n",
       "      <td>1912</td>\n",
       "      <td>57000.0</td>\n",
       "      <td>12300.0</td>\n",
       "      <td>43800</td>\n",
       "    </tr>\n",
       "    <tr>\n",
       "      <th>13</th>\n",
       "      <td>1913</td>\n",
       "      <td>76600.0</td>\n",
       "      <td>19500.0</td>\n",
       "      <td>40900</td>\n",
       "    </tr>\n",
       "    <tr>\n",
       "      <th>14</th>\n",
       "      <td>1914</td>\n",
       "      <td>52300.0</td>\n",
       "      <td>45700.0</td>\n",
       "      <td>39400</td>\n",
       "    </tr>\n",
       "    <tr>\n",
       "      <th>15</th>\n",
       "      <td>1915</td>\n",
       "      <td>19500.0</td>\n",
       "      <td>51100.0</td>\n",
       "      <td>39000</td>\n",
       "    </tr>\n",
       "  </tbody>\n",
       "</table>\n",
       "</div>"
      ],
      "text/plain": [
       "    year     hare     lynx  carrot\n",
       "2   1902  70200.0   9800.0   41500\n",
       "3   1903  77400.0  35200.0   38200\n",
       "4   1904  36300.0  59400.0   40600\n",
       "12  1912  57000.0  12300.0   43800\n",
       "13  1913  76600.0  19500.0   40900\n",
       "14  1914  52300.0  45700.0   39400\n",
       "15  1915  19500.0  51100.0   39000"
      ]
     },
     "execution_count": 136,
     "metadata": {},
     "output_type": "execute_result"
    }
   ],
   "source": [
    "# finding all instances when the population of one of the animal species is above 50k\n",
    "above_50K = (pop_df[\"hare\"]>50000) | (pop_df[\"lynx\"]>50000)\n",
    "pop_df[above_50K]"
   ]
  },
  {
   "cell_type": "code",
   "execution_count": 137,
   "id": "1d925a33",
   "metadata": {},
   "outputs": [
    {
     "data": {
      "text/html": [
       "<div>\n",
       "<style scoped>\n",
       "    .dataframe tbody tr th:only-of-type {\n",
       "        vertical-align: middle;\n",
       "    }\n",
       "\n",
       "    .dataframe tbody tr th {\n",
       "        vertical-align: top;\n",
       "    }\n",
       "\n",
       "    .dataframe thead th {\n",
       "        text-align: right;\n",
       "    }\n",
       "</style>\n",
       "<table border=\"1\" class=\"dataframe\">\n",
       "  <thead>\n",
       "    <tr style=\"text-align: right;\">\n",
       "      <th></th>\n",
       "      <th>hare</th>\n",
       "      <th>lynx</th>\n",
       "      <th>carrot</th>\n",
       "    </tr>\n",
       "  </thead>\n",
       "  <tbody>\n",
       "    <tr>\n",
       "      <th>0</th>\n",
       "      <td>30000.0</td>\n",
       "      <td>4000.0</td>\n",
       "      <td>48300</td>\n",
       "    </tr>\n",
       "    <tr>\n",
       "      <th>1</th>\n",
       "      <td>47200.0</td>\n",
       "      <td>6100.0</td>\n",
       "      <td>48200</td>\n",
       "    </tr>\n",
       "    <tr>\n",
       "      <th>2</th>\n",
       "      <td>70200.0</td>\n",
       "      <td>9800.0</td>\n",
       "      <td>41500</td>\n",
       "    </tr>\n",
       "    <tr>\n",
       "      <th>3</th>\n",
       "      <td>77400.0</td>\n",
       "      <td>35200.0</td>\n",
       "      <td>38200</td>\n",
       "    </tr>\n",
       "    <tr>\n",
       "      <th>4</th>\n",
       "      <td>36300.0</td>\n",
       "      <td>59400.0</td>\n",
       "      <td>40600</td>\n",
       "    </tr>\n",
       "    <tr>\n",
       "      <th>5</th>\n",
       "      <td>20600.0</td>\n",
       "      <td>41700.0</td>\n",
       "      <td>39800</td>\n",
       "    </tr>\n",
       "    <tr>\n",
       "      <th>6</th>\n",
       "      <td>18100.0</td>\n",
       "      <td>19000.0</td>\n",
       "      <td>38600</td>\n",
       "    </tr>\n",
       "    <tr>\n",
       "      <th>7</th>\n",
       "      <td>21400.0</td>\n",
       "      <td>13000.0</td>\n",
       "      <td>42300</td>\n",
       "    </tr>\n",
       "    <tr>\n",
       "      <th>8</th>\n",
       "      <td>22000.0</td>\n",
       "      <td>8300.0</td>\n",
       "      <td>44500</td>\n",
       "    </tr>\n",
       "    <tr>\n",
       "      <th>9</th>\n",
       "      <td>25400.0</td>\n",
       "      <td>9100.0</td>\n",
       "      <td>42100</td>\n",
       "    </tr>\n",
       "    <tr>\n",
       "      <th>10</th>\n",
       "      <td>27100.0</td>\n",
       "      <td>7400.0</td>\n",
       "      <td>46000</td>\n",
       "    </tr>\n",
       "    <tr>\n",
       "      <th>11</th>\n",
       "      <td>40300.0</td>\n",
       "      <td>8000.0</td>\n",
       "      <td>46800</td>\n",
       "    </tr>\n",
       "    <tr>\n",
       "      <th>12</th>\n",
       "      <td>57000.0</td>\n",
       "      <td>12300.0</td>\n",
       "      <td>43800</td>\n",
       "    </tr>\n",
       "    <tr>\n",
       "      <th>13</th>\n",
       "      <td>76600.0</td>\n",
       "      <td>19500.0</td>\n",
       "      <td>40900</td>\n",
       "    </tr>\n",
       "    <tr>\n",
       "      <th>14</th>\n",
       "      <td>52300.0</td>\n",
       "      <td>45700.0</td>\n",
       "      <td>39400</td>\n",
       "    </tr>\n",
       "    <tr>\n",
       "      <th>15</th>\n",
       "      <td>19500.0</td>\n",
       "      <td>51100.0</td>\n",
       "      <td>39000</td>\n",
       "    </tr>\n",
       "    <tr>\n",
       "      <th>16</th>\n",
       "      <td>11200.0</td>\n",
       "      <td>29700.0</td>\n",
       "      <td>36700</td>\n",
       "    </tr>\n",
       "    <tr>\n",
       "      <th>17</th>\n",
       "      <td>7600.0</td>\n",
       "      <td>15800.0</td>\n",
       "      <td>41800</td>\n",
       "    </tr>\n",
       "    <tr>\n",
       "      <th>18</th>\n",
       "      <td>14600.0</td>\n",
       "      <td>9700.0</td>\n",
       "      <td>43300</td>\n",
       "    </tr>\n",
       "    <tr>\n",
       "      <th>19</th>\n",
       "      <td>16200.0</td>\n",
       "      <td>10100.0</td>\n",
       "      <td>41300</td>\n",
       "    </tr>\n",
       "    <tr>\n",
       "      <th>20</th>\n",
       "      <td>24700.0</td>\n",
       "      <td>8600.0</td>\n",
       "      <td>47300</td>\n",
       "    </tr>\n",
       "  </tbody>\n",
       "</table>\n",
       "</div>"
      ],
      "text/plain": [
       "       hare     lynx  carrot\n",
       "0   30000.0   4000.0   48300\n",
       "1   47200.0   6100.0   48200\n",
       "2   70200.0   9800.0   41500\n",
       "3   77400.0  35200.0   38200\n",
       "4   36300.0  59400.0   40600\n",
       "5   20600.0  41700.0   39800\n",
       "6   18100.0  19000.0   38600\n",
       "7   21400.0  13000.0   42300\n",
       "8   22000.0   8300.0   44500\n",
       "9   25400.0   9100.0   42100\n",
       "10  27100.0   7400.0   46000\n",
       "11  40300.0   8000.0   46800\n",
       "12  57000.0  12300.0   43800\n",
       "13  76600.0  19500.0   40900\n",
       "14  52300.0  45700.0   39400\n",
       "15  19500.0  51100.0   39000\n",
       "16  11200.0  29700.0   36700\n",
       "17   7600.0  15800.0   41800\n",
       "18  14600.0   9700.0   43300\n",
       "19  16200.0  10100.0   41300\n",
       "20  24700.0   8600.0   47300"
      ]
     },
     "execution_count": 137,
     "metadata": {},
     "output_type": "execute_result"
    }
   ],
   "source": [
    "pop2 = pop_df.drop(\"year\", axis=1)\n",
    "\n",
    "pop2"
   ]
  },
  {
   "cell_type": "markdown",
   "id": "fe3f3b6e",
   "metadata": {},
   "source": [
    "**When necessary, we can convert a dataframe (or a series) into a Numpy array:**"
   ]
  },
  {
   "cell_type": "code",
   "execution_count": 138,
   "id": "4eb29c9e",
   "metadata": {},
   "outputs": [
    {
     "data": {
      "text/plain": [
       "array([[30000.,  4000., 48300.],\n",
       "       [47200.,  6100., 48200.],\n",
       "       [70200.,  9800., 41500.],\n",
       "       [77400., 35200., 38200.],\n",
       "       [36300., 59400., 40600.],\n",
       "       [20600., 41700., 39800.],\n",
       "       [18100., 19000., 38600.],\n",
       "       [21400., 13000., 42300.],\n",
       "       [22000.,  8300., 44500.],\n",
       "       [25400.,  9100., 42100.],\n",
       "       [27100.,  7400., 46000.],\n",
       "       [40300.,  8000., 46800.],\n",
       "       [57000., 12300., 43800.],\n",
       "       [76600., 19500., 40900.],\n",
       "       [52300., 45700., 39400.],\n",
       "       [19500., 51100., 39000.],\n",
       "       [11200., 29700., 36700.],\n",
       "       [ 7600., 15800., 41800.],\n",
       "       [14600.,  9700., 43300.],\n",
       "       [16200., 10100., 41300.],\n",
       "       [24700.,  8600., 47300.]])"
      ]
     },
     "execution_count": 138,
     "metadata": {},
     "output_type": "execute_result"
    }
   ],
   "source": [
    "poptable = np.array(pop2)\n",
    "poptable"
   ]
  },
  {
   "cell_type": "markdown",
   "id": "fc3cbc25",
   "metadata": {},
   "source": [
    "**basic visualization using Pandas and with Matplotlib:**"
   ]
  },
  {
   "cell_type": "code",
   "execution_count": 140,
   "id": "0f143c50",
   "metadata": {},
   "outputs": [],
   "source": [
    "%matplotlib inline\n",
    "\n",
    "import matplotlib.pyplot as plt"
   ]
  },
  {
   "cell_type": "code",
   "execution_count": 141,
   "id": "2950cf8f",
   "metadata": {},
   "outputs": [
    {
     "data": {
      "text/plain": [
       "[<matplotlib.lines.Line2D at 0x29e6cb90640>]"
      ]
     },
     "execution_count": 141,
     "metadata": {},
     "output_type": "execute_result"
    },
    {
     "data": {
      "image/png": "[encoded data removed]",
      "text/plain": [
       "<Figure size 432x288 with 1 Axes>"
      ]
     },
     "metadata": {
      "needs_background": "light"
     },
     "output_type": "display_data"
    }
   ],
   "source": [
    "plt.plot(pop_df[\"year\"], pop_df[\"hare\"])"
   ]
  },
  {
   "cell_type": "code",
   "execution_count": 142,
   "id": "a2639722",
   "metadata": {},
   "outputs": [
    {
     "data": {
      "image/png": "[encoded data removed]",
      "text/plain": [
       "<Figure size 432x288 with 1 Axes>"
      ]
     },
     "metadata": {
      "needs_background": "light"
     },
     "output_type": "display_data"
    }
   ],
   "source": [
    "plt.plot(pop_df[\"year\"], pop2, label=['Hares','Lynxes','Carrots'])\n",
    "plt.legend( ('Hares','Lynxes','Carrots') )\n",
    "plt.ylabel('Population')\n",
    "plt.xlabel('Year')\n",
    "plt.show()"
   ]
  },
  {
   "cell_type": "code",
   "execution_count": 143,
   "id": "59e27042",
   "metadata": {},
   "outputs": [
    {
     "data": {
      "image/png": "[encoded data removed]",
      "text/plain": [
       "<Figure size 432x288 with 1 Axes>"
      ]
     },
     "metadata": {
      "needs_background": "light"
     },
     "output_type": "display_data"
    }
   ],
   "source": [
    "plt.hist(pop_df[\"carrot\"], bins=8, alpha=0.5)\n",
    "\n",
    "plt.xlabel('Carrots')\n",
    "plt.ylabel('Count')\n",
    "plt.title('Histogram of Carrot Populaions')\n",
    "plt.axis([36000, 49000, 0, 6])\n",
    "plt.grid(True)"
   ]
  },
  {
   "cell_type": "code",
   "execution_count": 144,
   "id": "0a8c4d83",
   "metadata": {},
   "outputs": [
    {
     "data": {
      "text/plain": [
       "<AxesSubplot:title={'center':'Populations'}, xlabel='year'>"
      ]
     },
     "execution_count": 144,
     "metadata": {},
     "output_type": "execute_result"
    },
    {
     "data": {
      "image/png": "[encoded data removed]",
      "text/plain": [
       "<Figure size 432x288 with 1 Axes>"
      ]
     },
     "metadata": {
      "needs_background": "light"
     },
     "output_type": "display_data"
    }
   ],
   "source": [
    "pop_df.plot(x=\"year\", title=\"Populations\")"
   ]
  },
  {
   "cell_type": "code",
   "execution_count": 145,
   "id": "95e1651a",
   "metadata": {},
   "outputs": [
    {
     "data": {
      "text/plain": [
       "<AxesSubplot:xlabel='carrot', ylabel='lynx'>"
      ]
     },
     "execution_count": 145,
     "metadata": {},
     "output_type": "execute_result"
    },
    {
     "data": {
      "image/png": "[encoded data removed]",
      "text/plain": [
       "<Figure size 432x288 with 1 Axes>"
      ]
     },
     "metadata": {
      "needs_background": "light"
     },
     "output_type": "display_data"
    }
   ],
   "source": [
    "pop_df.plot(x=\"carrot\", y=\"lynx\", kind=\"scatter\")"
   ]
  },
  {
   "cell_type": "code",
   "execution_count": 146,
   "id": "dd27f21c",
   "metadata": {},
   "outputs": [
    {
     "data": {
      "text/plain": [
       "<AxesSubplot:>"
      ]
     },
     "execution_count": 146,
     "metadata": {},
     "output_type": "execute_result"
    },
    {
     "data": {
      "image/png": "[encoded data removed]",
      "text/plain": [
       "<Figure size 432x288 with 1 Axes>"
      ]
     },
     "metadata": {
      "needs_background": "light"
     },
     "output_type": "display_data"
    }
   ],
   "source": [
    "pop_df.boxplot(column=[\"hare\",\"lynx\",\"carrot\"], return_type='axes')"
   ]
  },
  {
   "cell_type": "code",
   "execution_count": 148,
   "id": "b2122c57",
   "metadata": {},
   "outputs": [
    {
     "data": {
      "text/plain": [
       "array([ 5105,  6804, 16111,  8946,  7208, 12616, 15922, 15783, 19730, 12195,\n",
       "       15943, 19077, 12684,  6319,  9088,  7604, 17273, 12640,  7761,  8800,\n",
       "        9634])"
      ]
     },
     "execution_count": 148,
     "metadata": {},
     "output_type": "execute_result"
    }
   ],
   "source": [
    "fox_col = np.random.randint(low=5000, high=20000, size=21)\n",
    "\n",
    "fox_col"
   ]
  },
  {
   "cell_type": "code",
   "execution_count": 149,
   "id": "d28587a5",
   "metadata": {},
   "outputs": [
    {
     "data": {
      "text/html": [
       "<div>\n",
       "<style scoped>\n",
       "    .dataframe tbody tr th:only-of-type {\n",
       "        vertical-align: middle;\n",
       "    }\n",
       "\n",
       "    .dataframe tbody tr th {\n",
       "        vertical-align: top;\n",
       "    }\n",
       "\n",
       "    .dataframe thead th {\n",
       "        text-align: right;\n",
       "    }\n",
       "</style>\n",
       "<table border=\"1\" class=\"dataframe\">\n",
       "  <thead>\n",
       "    <tr style=\"text-align: right;\">\n",
       "      <th></th>\n",
       "      <th>year</th>\n",
       "      <th>hare</th>\n",
       "      <th>lynx</th>\n",
       "      <th>carrot</th>\n",
       "      <th>fox</th>\n",
       "    </tr>\n",
       "  </thead>\n",
       "  <tbody>\n",
       "    <tr>\n",
       "      <th>0</th>\n",
       "      <td>1900</td>\n",
       "      <td>30000.0</td>\n",
       "      <td>4000.0</td>\n",
       "      <td>48300</td>\n",
       "      <td>5105</td>\n",
       "    </tr>\n",
       "    <tr>\n",
       "      <th>1</th>\n",
       "      <td>1901</td>\n",
       "      <td>47200.0</td>\n",
       "      <td>6100.0</td>\n",
       "      <td>48200</td>\n",
       "      <td>6804</td>\n",
       "    </tr>\n",
       "    <tr>\n",
       "      <th>2</th>\n",
       "      <td>1902</td>\n",
       "      <td>70200.0</td>\n",
       "      <td>9800.0</td>\n",
       "      <td>41500</td>\n",
       "      <td>16111</td>\n",
       "    </tr>\n",
       "    <tr>\n",
       "      <th>3</th>\n",
       "      <td>1903</td>\n",
       "      <td>77400.0</td>\n",
       "      <td>35200.0</td>\n",
       "      <td>38200</td>\n",
       "      <td>8946</td>\n",
       "    </tr>\n",
       "    <tr>\n",
       "      <th>4</th>\n",
       "      <td>1904</td>\n",
       "      <td>36300.0</td>\n",
       "      <td>59400.0</td>\n",
       "      <td>40600</td>\n",
       "      <td>7208</td>\n",
       "    </tr>\n",
       "    <tr>\n",
       "      <th>5</th>\n",
       "      <td>1905</td>\n",
       "      <td>20600.0</td>\n",
       "      <td>41700.0</td>\n",
       "      <td>39800</td>\n",
       "      <td>12616</td>\n",
       "    </tr>\n",
       "    <tr>\n",
       "      <th>6</th>\n",
       "      <td>1906</td>\n",
       "      <td>18100.0</td>\n",
       "      <td>19000.0</td>\n",
       "      <td>38600</td>\n",
       "      <td>15922</td>\n",
       "    </tr>\n",
       "    <tr>\n",
       "      <th>7</th>\n",
       "      <td>1907</td>\n",
       "      <td>21400.0</td>\n",
       "      <td>13000.0</td>\n",
       "      <td>42300</td>\n",
       "      <td>15783</td>\n",
       "    </tr>\n",
       "    <tr>\n",
       "      <th>8</th>\n",
       "      <td>1908</td>\n",
       "      <td>22000.0</td>\n",
       "      <td>8300.0</td>\n",
       "      <td>44500</td>\n",
       "      <td>19730</td>\n",
       "    </tr>\n",
       "    <tr>\n",
       "      <th>9</th>\n",
       "      <td>1909</td>\n",
       "      <td>25400.0</td>\n",
       "      <td>9100.0</td>\n",
       "      <td>42100</td>\n",
       "      <td>12195</td>\n",
       "    </tr>\n",
       "    <tr>\n",
       "      <th>10</th>\n",
       "      <td>1910</td>\n",
       "      <td>27100.0</td>\n",
       "      <td>7400.0</td>\n",
       "      <td>46000</td>\n",
       "      <td>15943</td>\n",
       "    </tr>\n",
       "    <tr>\n",
       "      <th>11</th>\n",
       "      <td>1911</td>\n",
       "      <td>40300.0</td>\n",
       "      <td>8000.0</td>\n",
       "      <td>46800</td>\n",
       "      <td>19077</td>\n",
       "    </tr>\n",
       "    <tr>\n",
       "      <th>12</th>\n",
       "      <td>1912</td>\n",
       "      <td>57000.0</td>\n",
       "      <td>12300.0</td>\n",
       "      <td>43800</td>\n",
       "      <td>12684</td>\n",
       "    </tr>\n",
       "    <tr>\n",
       "      <th>13</th>\n",
       "      <td>1913</td>\n",
       "      <td>76600.0</td>\n",
       "      <td>19500.0</td>\n",
       "      <td>40900</td>\n",
       "      <td>6319</td>\n",
       "    </tr>\n",
       "    <tr>\n",
       "      <th>14</th>\n",
       "      <td>1914</td>\n",
       "      <td>52300.0</td>\n",
       "      <td>45700.0</td>\n",
       "      <td>39400</td>\n",
       "      <td>9088</td>\n",
       "    </tr>\n",
       "    <tr>\n",
       "      <th>15</th>\n",
       "      <td>1915</td>\n",
       "      <td>19500.0</td>\n",
       "      <td>51100.0</td>\n",
       "      <td>39000</td>\n",
       "      <td>7604</td>\n",
       "    </tr>\n",
       "    <tr>\n",
       "      <th>16</th>\n",
       "      <td>1916</td>\n",
       "      <td>11200.0</td>\n",
       "      <td>29700.0</td>\n",
       "      <td>36700</td>\n",
       "      <td>17273</td>\n",
       "    </tr>\n",
       "    <tr>\n",
       "      <th>17</th>\n",
       "      <td>1917</td>\n",
       "      <td>7600.0</td>\n",
       "      <td>15800.0</td>\n",
       "      <td>41800</td>\n",
       "      <td>12640</td>\n",
       "    </tr>\n",
       "    <tr>\n",
       "      <th>18</th>\n",
       "      <td>1918</td>\n",
       "      <td>14600.0</td>\n",
       "      <td>9700.0</td>\n",
       "      <td>43300</td>\n",
       "      <td>7761</td>\n",
       "    </tr>\n",
       "    <tr>\n",
       "      <th>19</th>\n",
       "      <td>1919</td>\n",
       "      <td>16200.0</td>\n",
       "      <td>10100.0</td>\n",
       "      <td>41300</td>\n",
       "      <td>8800</td>\n",
       "    </tr>\n",
       "    <tr>\n",
       "      <th>20</th>\n",
       "      <td>1920</td>\n",
       "      <td>24700.0</td>\n",
       "      <td>8600.0</td>\n",
       "      <td>47300</td>\n",
       "      <td>9634</td>\n",
       "    </tr>\n",
       "  </tbody>\n",
       "</table>\n",
       "</div>"
      ],
      "text/plain": [
       "    year     hare     lynx  carrot    fox\n",
       "0   1900  30000.0   4000.0   48300   5105\n",
       "1   1901  47200.0   6100.0   48200   6804\n",
       "2   1902  70200.0   9800.0   41500  16111\n",
       "3   1903  77400.0  35200.0   38200   8946\n",
       "4   1904  36300.0  59400.0   40600   7208\n",
       "5   1905  20600.0  41700.0   39800  12616\n",
       "6   1906  18100.0  19000.0   38600  15922\n",
       "7   1907  21400.0  13000.0   42300  15783\n",
       "8   1908  22000.0   8300.0   44500  19730\n",
       "9   1909  25400.0   9100.0   42100  12195\n",
       "10  1910  27100.0   7400.0   46000  15943\n",
       "11  1911  40300.0   8000.0   46800  19077\n",
       "12  1912  57000.0  12300.0   43800  12684\n",
       "13  1913  76600.0  19500.0   40900   6319\n",
       "14  1914  52300.0  45700.0   39400   9088\n",
       "15  1915  19500.0  51100.0   39000   7604\n",
       "16  1916  11200.0  29700.0   36700  17273\n",
       "17  1917   7600.0  15800.0   41800  12640\n",
       "18  1918  14600.0   9700.0   43300   7761\n",
       "19  1919  16200.0  10100.0   41300   8800\n",
       "20  1920  24700.0   8600.0   47300   9634"
      ]
     },
     "execution_count": 149,
     "metadata": {},
     "output_type": "execute_result"
    }
   ],
   "source": [
    "pop_df[\"fox\"] = pd.Series(fox_col, index=pop_df.index)\n",
    "\n",
    "pop_df"
   ]
  },
  {
   "cell_type": "code",
   "execution_count": 150,
   "id": "f7e455da",
   "metadata": {},
   "outputs": [
    {
     "data": {
      "text/plain": [
       "<AxesSubplot:title={'center':'Fox Population'}, xlabel='year'>"
      ]
     },
     "execution_count": 150,
     "metadata": {},
     "output_type": "execute_result"
    },
    {
     "data": {
      "image/png": "[encoded data removed]",
      "text/plain": [
       "<Figure size 432x288 with 1 Axes>"
      ]
     },
     "metadata": {
      "needs_background": "light"
     },
     "output_type": "display_data"
    }
   ],
   "source": [
    "pop_df.plot(x=\"year\", y=\"fox\", kind=\"area\", title=\"Fox Population\")"
   ]
  },
  {
   "cell_type": "code",
   "execution_count": 153,
   "id": "7acf335c",
   "metadata": {},
   "outputs": [
    {
     "data": {
      "text/plain": [
       "array([[<AxesSubplot:xlabel='hare', ylabel='hare'>,\n",
       "        <AxesSubplot:xlabel='lynx', ylabel='hare'>,\n",
       "        <AxesSubplot:xlabel='carrot', ylabel='hare'>],\n",
       "       [<AxesSubplot:xlabel='hare', ylabel='lynx'>,\n",
       "        <AxesSubplot:xlabel='lynx', ylabel='lynx'>,\n",
       "        <AxesSubplot:xlabel='carrot', ylabel='lynx'>],\n",
       "       [<AxesSubplot:xlabel='hare', ylabel='carrot'>,\n",
       "        <AxesSubplot:xlabel='lynx', ylabel='carrot'>,\n",
       "        <AxesSubplot:xlabel='carrot', ylabel='carrot'>]], dtype=object)"
      ]
     },
     "execution_count": 153,
     "metadata": {},
     "output_type": "execute_result"
    },
    {
     "data": {
      "image/png": "[encoded data removed]",
      "text/plain": [
       "<Figure size 504x504 with 9 Axes>"
      ]
     },
     "metadata": {
      "needs_background": "light"
     },
     "output_type": "display_data"
    }
   ],
   "source": [
    "pd.plotting.scatter_matrix(pop_df[[\"hare\",\"lynx\",\"carrot\"]], figsize=(7,7))"
   ]
  },
  {
   "cell_type": "code",
   "execution_count": null,
   "id": "7049501f",
   "metadata": {},
   "outputs": [],
   "source": []
  },
  {
   "cell_type": "code",
   "execution_count": null,
   "id": "68fd5956",
   "metadata": {},
   "outputs": [],
   "source": []
  },
  {
   "cell_type": "markdown",
   "id": "d6f02a5f",
   "metadata": {},
   "source": [
    "# Python and Pandas Part-1"
   ]
  },
  {
   "cell_type": "code",
   "execution_count": 154,
   "id": "dcf0166d",
   "metadata": {},
   "outputs": [],
   "source": [
    "import numpy as np\n",
    "import pandas as pd\n",
    "import matplotlib.pyplot as plt\n",
    "%matplotlib inline"
   ]
  },
  {
   "cell_type": "code",
   "execution_count": 156,
   "id": "1b8ac6f7",
   "metadata": {},
   "outputs": [
    {
     "data": {
      "text/plain": [
       "(40, 7)"
      ]
     },
     "execution_count": 156,
     "metadata": {},
     "output_type": "execute_result"
    }
   ],
   "source": [
    "vstable = pd.read_csv(\"D:/Academic/8th semester/Data Mining Lab/CSV/Video_Store (1).csv\", delimiter=',')\n",
    "vstable.shape"
   ]
  },
  {
   "cell_type": "code",
   "execution_count": 157,
   "id": "43881b7c",
   "metadata": {},
   "outputs": [
    {
     "data": {
      "text/html": [
       "<div>\n",
       "<style scoped>\n",
       "    .dataframe tbody tr th:only-of-type {\n",
       "        vertical-align: middle;\n",
       "    }\n",
       "\n",
       "    .dataframe tbody tr th {\n",
       "        vertical-align: top;\n",
       "    }\n",
       "\n",
       "    .dataframe thead th {\n",
       "        text-align: right;\n",
       "    }\n",
       "</style>\n",
       "<table border=\"1\" class=\"dataframe\">\n",
       "  <thead>\n",
       "    <tr style=\"text-align: right;\">\n",
       "      <th></th>\n",
       "      <th>ID</th>\n",
       "      <th>Gender</th>\n",
       "      <th>Income</th>\n",
       "      <th>Age</th>\n",
       "      <th>Rentals</th>\n",
       "      <th>AvgPerVisit</th>\n",
       "      <th>Genre</th>\n",
       "    </tr>\n",
       "  </thead>\n",
       "  <tbody>\n",
       "    <tr>\n",
       "      <th>0</th>\n",
       "      <td>1</td>\n",
       "      <td>M</td>\n",
       "      <td>45000</td>\n",
       "      <td>25</td>\n",
       "      <td>27</td>\n",
       "      <td>2.5</td>\n",
       "      <td>Action</td>\n",
       "    </tr>\n",
       "    <tr>\n",
       "      <th>1</th>\n",
       "      <td>2</td>\n",
       "      <td>F</td>\n",
       "      <td>54000</td>\n",
       "      <td>33</td>\n",
       "      <td>12</td>\n",
       "      <td>3.4</td>\n",
       "      <td>Drama</td>\n",
       "    </tr>\n",
       "    <tr>\n",
       "      <th>2</th>\n",
       "      <td>3</td>\n",
       "      <td>F</td>\n",
       "      <td>32000</td>\n",
       "      <td>20</td>\n",
       "      <td>42</td>\n",
       "      <td>1.6</td>\n",
       "      <td>Comedy</td>\n",
       "    </tr>\n",
       "    <tr>\n",
       "      <th>3</th>\n",
       "      <td>4</td>\n",
       "      <td>F</td>\n",
       "      <td>59000</td>\n",
       "      <td>70</td>\n",
       "      <td>16</td>\n",
       "      <td>4.2</td>\n",
       "      <td>Drama</td>\n",
       "    </tr>\n",
       "    <tr>\n",
       "      <th>4</th>\n",
       "      <td>5</td>\n",
       "      <td>M</td>\n",
       "      <td>37000</td>\n",
       "      <td>35</td>\n",
       "      <td>25</td>\n",
       "      <td>3.2</td>\n",
       "      <td>Action</td>\n",
       "    </tr>\n",
       "    <tr>\n",
       "      <th>5</th>\n",
       "      <td>6</td>\n",
       "      <td>M</td>\n",
       "      <td>18000</td>\n",
       "      <td>20</td>\n",
       "      <td>33</td>\n",
       "      <td>1.7</td>\n",
       "      <td>Action</td>\n",
       "    </tr>\n",
       "    <tr>\n",
       "      <th>6</th>\n",
       "      <td>7</td>\n",
       "      <td>F</td>\n",
       "      <td>29000</td>\n",
       "      <td>45</td>\n",
       "      <td>19</td>\n",
       "      <td>3.8</td>\n",
       "      <td>Drama</td>\n",
       "    </tr>\n",
       "    <tr>\n",
       "      <th>7</th>\n",
       "      <td>8</td>\n",
       "      <td>M</td>\n",
       "      <td>74000</td>\n",
       "      <td>25</td>\n",
       "      <td>31</td>\n",
       "      <td>2.4</td>\n",
       "      <td>Action</td>\n",
       "    </tr>\n",
       "    <tr>\n",
       "      <th>8</th>\n",
       "      <td>9</td>\n",
       "      <td>M</td>\n",
       "      <td>38000</td>\n",
       "      <td>21</td>\n",
       "      <td>18</td>\n",
       "      <td>2.1</td>\n",
       "      <td>Comedy</td>\n",
       "    </tr>\n",
       "    <tr>\n",
       "      <th>9</th>\n",
       "      <td>10</td>\n",
       "      <td>F</td>\n",
       "      <td>65000</td>\n",
       "      <td>40</td>\n",
       "      <td>21</td>\n",
       "      <td>3.3</td>\n",
       "      <td>Drama</td>\n",
       "    </tr>\n",
       "  </tbody>\n",
       "</table>\n",
       "</div>"
      ],
      "text/plain": [
       "   ID Gender  Income  Age  Rentals  AvgPerVisit   Genre\n",
       "0   1      M   45000   25       27          2.5  Action\n",
       "1   2      F   54000   33       12          3.4   Drama\n",
       "2   3      F   32000   20       42          1.6  Comedy\n",
       "3   4      F   59000   70       16          4.2   Drama\n",
       "4   5      M   37000   35       25          3.2  Action\n",
       "5   6      M   18000   20       33          1.7  Action\n",
       "6   7      F   29000   45       19          3.8   Drama\n",
       "7   8      M   74000   25       31          2.4  Action\n",
       "8   9      M   38000   21       18          2.1  Comedy\n",
       "9  10      F   65000   40       21          3.3   Drama"
      ]
     },
     "execution_count": 157,
     "metadata": {},
     "output_type": "execute_result"
    }
   ],
   "source": [
    "vstable.head(10)"
   ]
  },
  {
   "cell_type": "code",
   "execution_count": 158,
   "id": "e470d8b6",
   "metadata": {},
   "outputs": [
    {
     "data": {
      "text/plain": [
       "Index(['ID', 'Gender', 'Income', 'Age', 'Rentals', 'AvgPerVisit', 'Genre'], dtype='object')"
      ]
     },
     "execution_count": 158,
     "metadata": {},
     "output_type": "execute_result"
    }
   ],
   "source": [
    "vstable.columns"
   ]
  },
  {
   "cell_type": "code",
   "execution_count": 159,
   "id": "70808925",
   "metadata": {},
   "outputs": [
    {
     "data": {
      "text/plain": [
       "ID               int64\n",
       "Gender          object\n",
       "Income           int64\n",
       "Age              int64\n",
       "Rentals          int64\n",
       "AvgPerVisit    float64\n",
       "Genre           object\n",
       "dtype: object"
      ]
     },
     "execution_count": 159,
     "metadata": {},
     "output_type": "execute_result"
    }
   ],
   "source": [
    "vstable.dtypes"
   ]
  },
  {
   "cell_type": "code",
   "execution_count": 160,
   "id": "752e0174",
   "metadata": {},
   "outputs": [
    {
     "data": {
      "text/plain": [
       "ID               int64\n",
       "Gender          object\n",
       "Income         float64\n",
       "Age              int64\n",
       "Rentals          int64\n",
       "AvgPerVisit    float64\n",
       "Genre           object\n",
       "dtype: object"
      ]
     },
     "execution_count": 160,
     "metadata": {},
     "output_type": "execute_result"
    }
   ],
   "source": [
    "vstable[\"Income\"] = vstable[\"Income\"].astype(float)\n",
    "\n",
    "vstable.dtypes"
   ]
  },
  {
   "cell_type": "code",
   "execution_count": 161,
   "id": "a9201aff",
   "metadata": {},
   "outputs": [
    {
     "name": "stdout",
     "output_type": "stream",
     "text": [
      "<class 'pandas.core.frame.DataFrame'>\n",
      "RangeIndex: 40 entries, 0 to 39\n",
      "Data columns (total 7 columns):\n",
      " #   Column       Non-Null Count  Dtype  \n",
      "---  ------       --------------  -----  \n",
      " 0   ID           40 non-null     int64  \n",
      " 1   Gender       40 non-null     object \n",
      " 2   Income       40 non-null     float64\n",
      " 3   Age          40 non-null     int64  \n",
      " 4   Rentals      40 non-null     int64  \n",
      " 5   AvgPerVisit  40 non-null     float64\n",
      " 6   Genre        40 non-null     object \n",
      "dtypes: float64(2), int64(3), object(2)\n",
      "memory usage: 2.3+ KB\n"
     ]
    }
   ],
   "source": [
    "vstable.info()"
   ]
  },
  {
   "cell_type": "code",
   "execution_count": 162,
   "id": "d835ebcb",
   "metadata": {},
   "outputs": [
    {
     "data": {
      "text/html": [
       "<div>\n",
       "<style scoped>\n",
       "    .dataframe tbody tr th:only-of-type {\n",
       "        vertical-align: middle;\n",
       "    }\n",
       "\n",
       "    .dataframe tbody tr th {\n",
       "        vertical-align: top;\n",
       "    }\n",
       "\n",
       "    .dataframe thead th {\n",
       "        text-align: right;\n",
       "    }\n",
       "</style>\n",
       "<table border=\"1\" class=\"dataframe\">\n",
       "  <thead>\n",
       "    <tr style=\"text-align: right;\">\n",
       "      <th></th>\n",
       "      <th>ID</th>\n",
       "      <th>Income</th>\n",
       "      <th>Age</th>\n",
       "      <th>Rentals</th>\n",
       "      <th>AvgPerVisit</th>\n",
       "    </tr>\n",
       "  </thead>\n",
       "  <tbody>\n",
       "    <tr>\n",
       "      <th>count</th>\n",
       "      <td>40.000000</td>\n",
       "      <td>40.000000</td>\n",
       "      <td>40.000000</td>\n",
       "      <td>40.000000</td>\n",
       "      <td>40.000000</td>\n",
       "    </tr>\n",
       "    <tr>\n",
       "      <th>mean</th>\n",
       "      <td>20.500000</td>\n",
       "      <td>41500.000000</td>\n",
       "      <td>31.500000</td>\n",
       "      <td>26.175000</td>\n",
       "      <td>2.792500</td>\n",
       "    </tr>\n",
       "    <tr>\n",
       "      <th>std</th>\n",
       "      <td>11.690452</td>\n",
       "      <td>22925.744123</td>\n",
       "      <td>12.752074</td>\n",
       "      <td>9.594035</td>\n",
       "      <td>0.833401</td>\n",
       "    </tr>\n",
       "    <tr>\n",
       "      <th>min</th>\n",
       "      <td>1.000000</td>\n",
       "      <td>1000.000000</td>\n",
       "      <td>15.000000</td>\n",
       "      <td>11.000000</td>\n",
       "      <td>1.200000</td>\n",
       "    </tr>\n",
       "    <tr>\n",
       "      <th>25%</th>\n",
       "      <td>10.750000</td>\n",
       "      <td>24750.000000</td>\n",
       "      <td>21.000000</td>\n",
       "      <td>19.000000</td>\n",
       "      <td>2.200000</td>\n",
       "    </tr>\n",
       "    <tr>\n",
       "      <th>50%</th>\n",
       "      <td>20.500000</td>\n",
       "      <td>41000.000000</td>\n",
       "      <td>30.000000</td>\n",
       "      <td>25.000000</td>\n",
       "      <td>2.800000</td>\n",
       "    </tr>\n",
       "    <tr>\n",
       "      <th>75%</th>\n",
       "      <td>30.250000</td>\n",
       "      <td>57500.000000</td>\n",
       "      <td>36.500000</td>\n",
       "      <td>32.250000</td>\n",
       "      <td>3.325000</td>\n",
       "    </tr>\n",
       "    <tr>\n",
       "      <th>max</th>\n",
       "      <td>40.000000</td>\n",
       "      <td>89000.000000</td>\n",
       "      <td>70.000000</td>\n",
       "      <td>48.000000</td>\n",
       "      <td>4.600000</td>\n",
       "    </tr>\n",
       "  </tbody>\n",
       "</table>\n",
       "</div>"
      ],
      "text/plain": [
       "              ID        Income        Age    Rentals  AvgPerVisit\n",
       "count  40.000000     40.000000  40.000000  40.000000    40.000000\n",
       "mean   20.500000  41500.000000  31.500000  26.175000     2.792500\n",
       "std    11.690452  22925.744123  12.752074   9.594035     0.833401\n",
       "min     1.000000   1000.000000  15.000000  11.000000     1.200000\n",
       "25%    10.750000  24750.000000  21.000000  19.000000     2.200000\n",
       "50%    20.500000  41000.000000  30.000000  25.000000     2.800000\n",
       "75%    30.250000  57500.000000  36.500000  32.250000     3.325000\n",
       "max    40.000000  89000.000000  70.000000  48.000000     4.600000"
      ]
     },
     "execution_count": 162,
     "metadata": {},
     "output_type": "execute_result"
    }
   ],
   "source": [
    "vstable.describe()"
   ]
  },
  {
   "cell_type": "code",
   "execution_count": 163,
   "id": "11cdb64c",
   "metadata": {},
   "outputs": [
    {
     "name": "stdout",
     "output_type": "stream",
     "text": [
      "1000.0 89000.0\n"
     ]
    }
   ],
   "source": [
    "min_sal = vstable[\"Income\"].min()\n",
    "max_sal = vstable[\"Income\"].max()\n",
    "print(min_sal, max_sal)"
   ]
  },
  {
   "cell_type": "code",
   "execution_count": 164,
   "id": "1e58ca27",
   "metadata": {},
   "outputs": [
    {
     "data": {
      "text/html": [
       "<div>\n",
       "<style scoped>\n",
       "    .dataframe tbody tr th:only-of-type {\n",
       "        vertical-align: middle;\n",
       "    }\n",
       "\n",
       "    .dataframe tbody tr th {\n",
       "        vertical-align: top;\n",
       "    }\n",
       "\n",
       "    .dataframe thead th {\n",
       "        text-align: right;\n",
       "    }\n",
       "</style>\n",
       "<table border=\"1\" class=\"dataframe\">\n",
       "  <thead>\n",
       "    <tr style=\"text-align: right;\">\n",
       "      <th></th>\n",
       "      <th>ID</th>\n",
       "      <th>Gender</th>\n",
       "      <th>Income</th>\n",
       "      <th>Age</th>\n",
       "      <th>Rentals</th>\n",
       "      <th>AvgPerVisit</th>\n",
       "      <th>Genre</th>\n",
       "    </tr>\n",
       "  </thead>\n",
       "  <tbody>\n",
       "    <tr>\n",
       "      <th>count</th>\n",
       "      <td>40.000000</td>\n",
       "      <td>40</td>\n",
       "      <td>40.000000</td>\n",
       "      <td>40.000000</td>\n",
       "      <td>40.000000</td>\n",
       "      <td>40.000000</td>\n",
       "      <td>40</td>\n",
       "    </tr>\n",
       "    <tr>\n",
       "      <th>unique</th>\n",
       "      <td>NaN</td>\n",
       "      <td>2</td>\n",
       "      <td>NaN</td>\n",
       "      <td>NaN</td>\n",
       "      <td>NaN</td>\n",
       "      <td>NaN</td>\n",
       "      <td>3</td>\n",
       "    </tr>\n",
       "    <tr>\n",
       "      <th>top</th>\n",
       "      <td>NaN</td>\n",
       "      <td>M</td>\n",
       "      <td>NaN</td>\n",
       "      <td>NaN</td>\n",
       "      <td>NaN</td>\n",
       "      <td>NaN</td>\n",
       "      <td>Action</td>\n",
       "    </tr>\n",
       "    <tr>\n",
       "      <th>freq</th>\n",
       "      <td>NaN</td>\n",
       "      <td>21</td>\n",
       "      <td>NaN</td>\n",
       "      <td>NaN</td>\n",
       "      <td>NaN</td>\n",
       "      <td>NaN</td>\n",
       "      <td>15</td>\n",
       "    </tr>\n",
       "    <tr>\n",
       "      <th>mean</th>\n",
       "      <td>20.500000</td>\n",
       "      <td>NaN</td>\n",
       "      <td>41500.000000</td>\n",
       "      <td>31.500000</td>\n",
       "      <td>26.175000</td>\n",
       "      <td>2.792500</td>\n",
       "      <td>NaN</td>\n",
       "    </tr>\n",
       "    <tr>\n",
       "      <th>std</th>\n",
       "      <td>11.690452</td>\n",
       "      <td>NaN</td>\n",
       "      <td>22925.744123</td>\n",
       "      <td>12.752074</td>\n",
       "      <td>9.594035</td>\n",
       "      <td>0.833401</td>\n",
       "      <td>NaN</td>\n",
       "    </tr>\n",
       "    <tr>\n",
       "      <th>min</th>\n",
       "      <td>1.000000</td>\n",
       "      <td>NaN</td>\n",
       "      <td>1000.000000</td>\n",
       "      <td>15.000000</td>\n",
       "      <td>11.000000</td>\n",
       "      <td>1.200000</td>\n",
       "      <td>NaN</td>\n",
       "    </tr>\n",
       "    <tr>\n",
       "      <th>25%</th>\n",
       "      <td>10.750000</td>\n",
       "      <td>NaN</td>\n",
       "      <td>24750.000000</td>\n",
       "      <td>21.000000</td>\n",
       "      <td>19.000000</td>\n",
       "      <td>2.200000</td>\n",
       "      <td>NaN</td>\n",
       "    </tr>\n",
       "    <tr>\n",
       "      <th>50%</th>\n",
       "      <td>20.500000</td>\n",
       "      <td>NaN</td>\n",
       "      <td>41000.000000</td>\n",
       "      <td>30.000000</td>\n",
       "      <td>25.000000</td>\n",
       "      <td>2.800000</td>\n",
       "      <td>NaN</td>\n",
       "    </tr>\n",
       "    <tr>\n",
       "      <th>75%</th>\n",
       "      <td>30.250000</td>\n",
       "      <td>NaN</td>\n",
       "      <td>57500.000000</td>\n",
       "      <td>36.500000</td>\n",
       "      <td>32.250000</td>\n",
       "      <td>3.325000</td>\n",
       "      <td>NaN</td>\n",
       "    </tr>\n",
       "    <tr>\n",
       "      <th>max</th>\n",
       "      <td>40.000000</td>\n",
       "      <td>NaN</td>\n",
       "      <td>89000.000000</td>\n",
       "      <td>70.000000</td>\n",
       "      <td>48.000000</td>\n",
       "      <td>4.600000</td>\n",
       "      <td>NaN</td>\n",
       "    </tr>\n",
       "  </tbody>\n",
       "</table>\n",
       "</div>"
      ],
      "text/plain": [
       "               ID Gender        Income        Age    Rentals  AvgPerVisit  \\\n",
       "count   40.000000     40     40.000000  40.000000  40.000000    40.000000   \n",
       "unique        NaN      2           NaN        NaN        NaN          NaN   \n",
       "top           NaN      M           NaN        NaN        NaN          NaN   \n",
       "freq          NaN     21           NaN        NaN        NaN          NaN   \n",
       "mean    20.500000    NaN  41500.000000  31.500000  26.175000     2.792500   \n",
       "std     11.690452    NaN  22925.744123  12.752074   9.594035     0.833401   \n",
       "min      1.000000    NaN   1000.000000  15.000000  11.000000     1.200000   \n",
       "25%     10.750000    NaN  24750.000000  21.000000  19.000000     2.200000   \n",
       "50%     20.500000    NaN  41000.000000  30.000000  25.000000     2.800000   \n",
       "75%     30.250000    NaN  57500.000000  36.500000  32.250000     3.325000   \n",
       "max     40.000000    NaN  89000.000000  70.000000  48.000000     4.600000   \n",
       "\n",
       "         Genre  \n",
       "count       40  \n",
       "unique       3  \n",
       "top     Action  \n",
       "freq        15  \n",
       "mean       NaN  \n",
       "std        NaN  \n",
       "min        NaN  \n",
       "25%        NaN  \n",
       "50%        NaN  \n",
       "75%        NaN  \n",
       "max        NaN  "
      ]
     },
     "execution_count": 164,
     "metadata": {},
     "output_type": "execute_result"
    }
   ],
   "source": [
    "vstable.describe(include=\"all\")"
   ]
  },
  {
   "cell_type": "code",
   "execution_count": 165,
   "id": "a7c8be65",
   "metadata": {},
   "outputs": [
    {
     "data": {
      "text/html": [
       "<div>\n",
       "<style scoped>\n",
       "    .dataframe tbody tr th:only-of-type {\n",
       "        vertical-align: middle;\n",
       "    }\n",
       "\n",
       "    .dataframe tbody tr th {\n",
       "        vertical-align: top;\n",
       "    }\n",
       "\n",
       "    .dataframe thead th {\n",
       "        text-align: right;\n",
       "    }\n",
       "</style>\n",
       "<table border=\"1\" class=\"dataframe\">\n",
       "  <thead>\n",
       "    <tr style=\"text-align: right;\">\n",
       "      <th></th>\n",
       "      <th>Income</th>\n",
       "      <th>Age</th>\n",
       "    </tr>\n",
       "  </thead>\n",
       "  <tbody>\n",
       "    <tr>\n",
       "      <th>count</th>\n",
       "      <td>40.000000</td>\n",
       "      <td>40.000000</td>\n",
       "    </tr>\n",
       "    <tr>\n",
       "      <th>mean</th>\n",
       "      <td>41500.000000</td>\n",
       "      <td>31.500000</td>\n",
       "    </tr>\n",
       "    <tr>\n",
       "      <th>std</th>\n",
       "      <td>22925.744123</td>\n",
       "      <td>12.752074</td>\n",
       "    </tr>\n",
       "    <tr>\n",
       "      <th>min</th>\n",
       "      <td>1000.000000</td>\n",
       "      <td>15.000000</td>\n",
       "    </tr>\n",
       "    <tr>\n",
       "      <th>25%</th>\n",
       "      <td>24750.000000</td>\n",
       "      <td>21.000000</td>\n",
       "    </tr>\n",
       "    <tr>\n",
       "      <th>50%</th>\n",
       "      <td>41000.000000</td>\n",
       "      <td>30.000000</td>\n",
       "    </tr>\n",
       "    <tr>\n",
       "      <th>75%</th>\n",
       "      <td>57500.000000</td>\n",
       "      <td>36.500000</td>\n",
       "    </tr>\n",
       "    <tr>\n",
       "      <th>max</th>\n",
       "      <td>89000.000000</td>\n",
       "      <td>70.000000</td>\n",
       "    </tr>\n",
       "  </tbody>\n",
       "</table>\n",
       "</div>"
      ],
      "text/plain": [
       "             Income        Age\n",
       "count     40.000000  40.000000\n",
       "mean   41500.000000  31.500000\n",
       "std    22925.744123  12.752074\n",
       "min     1000.000000  15.000000\n",
       "25%    24750.000000  21.000000\n",
       "50%    41000.000000  30.000000\n",
       "75%    57500.000000  36.500000\n",
       "max    89000.000000  70.000000"
      ]
     },
     "execution_count": 165,
     "metadata": {},
     "output_type": "execute_result"
    }
   ],
   "source": [
    "vstable[[\"Income\", \"Age\"]].describe()"
   ]
  },
  {
   "cell_type": "code",
   "execution_count": null,
   "id": "53362fc4",
   "metadata": {},
   "outputs": [],
   "source": []
  },
  {
   "cell_type": "markdown",
   "id": "926c327c",
   "metadata": {},
   "source": [
    "**We can perform data transformations such as normalization by directly\n",
    "applying the operation to the Pandas Series:**"
   ]
  },
  {
   "cell_type": "code",
   "execution_count": 166,
   "id": "e9a6e3f3",
   "metadata": {},
   "outputs": [
    {
     "data": {
      "text/plain": [
       "0    0.500000\n",
       "1    0.602273\n",
       "2    0.352273\n",
       "3    0.659091\n",
       "4    0.409091\n",
       "5    0.193182\n",
       "6    0.318182\n",
       "7    0.829545\n",
       "8    0.420455\n",
       "9    0.727273\n",
       "Name: Income, dtype: float64"
      ]
     },
     "execution_count": 166,
     "metadata": {},
     "output_type": "execute_result"
    }
   ],
   "source": [
    "norm_sal = (vstable[\"Income\"] - min_sal) / (max_sal-min_sal)\n",
    "\n",
    "norm_sal.head(10)"
   ]
  },
  {
   "cell_type": "code",
   "execution_count": null,
   "id": "32c1bf42",
   "metadata": {},
   "outputs": [],
   "source": []
  },
  {
   "cell_type": "markdown",
   "id": "3bd20109",
   "metadata": {},
   "source": [
    "**Z-Score Standardization on Age**"
   ]
  },
  {
   "cell_type": "code",
   "execution_count": 168,
   "id": "f9acbd7a",
   "metadata": {},
   "outputs": [
    {
     "data": {
      "text/plain": [
       "0   -0.260000\n",
       "1    0.045455\n",
       "2   -0.575000\n",
       "3    0.550000\n",
       "4    0.100000\n",
       "Name: Age, dtype: float64"
      ]
     },
     "execution_count": 168,
     "metadata": {},
     "output_type": "execute_result"
    }
   ],
   "source": [
    "age_z = (vstable[\"Age\"] - vstable[\"Age\"].mean()) / vstable[\"Age\"]\n",
    "age_z.head(5)"
   ]
  },
  {
   "cell_type": "code",
   "execution_count": 169,
   "id": "3454f368",
   "metadata": {},
   "outputs": [
    {
     "data": {
      "text/html": [
       "<div>\n",
       "<style scoped>\n",
       "    .dataframe tbody tr th:only-of-type {\n",
       "        vertical-align: middle;\n",
       "    }\n",
       "\n",
       "    .dataframe tbody tr th {\n",
       "        vertical-align: top;\n",
       "    }\n",
       "\n",
       "    .dataframe thead th {\n",
       "        text-align: right;\n",
       "    }\n",
       "</style>\n",
       "<table border=\"1\" class=\"dataframe\">\n",
       "  <thead>\n",
       "    <tr style=\"text-align: right;\">\n",
       "      <th></th>\n",
       "      <th>ID</th>\n",
       "      <th>Gender</th>\n",
       "      <th>Income</th>\n",
       "      <th>Age</th>\n",
       "      <th>Rentals</th>\n",
       "      <th>AvgPerVisit</th>\n",
       "      <th>Genre</th>\n",
       "      <th>Age-Std</th>\n",
       "    </tr>\n",
       "  </thead>\n",
       "  <tbody>\n",
       "    <tr>\n",
       "      <th>0</th>\n",
       "      <td>1</td>\n",
       "      <td>M</td>\n",
       "      <td>45000.0</td>\n",
       "      <td>25</td>\n",
       "      <td>27</td>\n",
       "      <td>2.5</td>\n",
       "      <td>Action</td>\n",
       "      <td>-0.260000</td>\n",
       "    </tr>\n",
       "    <tr>\n",
       "      <th>1</th>\n",
       "      <td>2</td>\n",
       "      <td>F</td>\n",
       "      <td>54000.0</td>\n",
       "      <td>33</td>\n",
       "      <td>12</td>\n",
       "      <td>3.4</td>\n",
       "      <td>Drama</td>\n",
       "      <td>0.045455</td>\n",
       "    </tr>\n",
       "    <tr>\n",
       "      <th>2</th>\n",
       "      <td>3</td>\n",
       "      <td>F</td>\n",
       "      <td>32000.0</td>\n",
       "      <td>20</td>\n",
       "      <td>42</td>\n",
       "      <td>1.6</td>\n",
       "      <td>Comedy</td>\n",
       "      <td>-0.575000</td>\n",
       "    </tr>\n",
       "    <tr>\n",
       "      <th>3</th>\n",
       "      <td>4</td>\n",
       "      <td>F</td>\n",
       "      <td>59000.0</td>\n",
       "      <td>70</td>\n",
       "      <td>16</td>\n",
       "      <td>4.2</td>\n",
       "      <td>Drama</td>\n",
       "      <td>0.550000</td>\n",
       "    </tr>\n",
       "    <tr>\n",
       "      <th>4</th>\n",
       "      <td>5</td>\n",
       "      <td>M</td>\n",
       "      <td>37000.0</td>\n",
       "      <td>35</td>\n",
       "      <td>25</td>\n",
       "      <td>3.2</td>\n",
       "      <td>Action</td>\n",
       "      <td>0.100000</td>\n",
       "    </tr>\n",
       "  </tbody>\n",
       "</table>\n",
       "</div>"
      ],
      "text/plain": [
       "   ID Gender   Income  Age  Rentals  AvgPerVisit   Genre   Age-Std\n",
       "0   1      M  45000.0   25       27          2.5  Action -0.260000\n",
       "1   2      F  54000.0   33       12          3.4   Drama  0.045455\n",
       "2   3      F  32000.0   20       42          1.6  Comedy -0.575000\n",
       "3   4      F  59000.0   70       16          4.2   Drama  0.550000\n",
       "4   5      M  37000.0   35       25          3.2  Action  0.100000"
      ]
     },
     "execution_count": 169,
     "metadata": {},
     "output_type": "execute_result"
    }
   ],
   "source": [
    "# New columns can be added to the dataframe as needed\n",
    "vstable[\"Age-Std\"] = age_z\n",
    "\n",
    "vstable.head()"
   ]
  },
  {
   "cell_type": "code",
   "execution_count": 170,
   "id": "66faa28d",
   "metadata": {},
   "outputs": [
    {
     "data": {
      "text/plain": [
       "0    (29000.0, 49000.0]\n",
       "1    (49000.0, 89000.0]\n",
       "2    (29000.0, 49000.0]\n",
       "3    (49000.0, 89000.0]\n",
       "4    (29000.0, 49000.0]\n",
       "5    (999.999, 29000.0]\n",
       "6    (999.999, 29000.0]\n",
       "7    (49000.0, 89000.0]\n",
       "8    (29000.0, 49000.0]\n",
       "9    (49000.0, 89000.0]\n",
       "Name: Income, dtype: category\n",
       "Categories (3, interval[float64, right]): [(999.999, 29000.0] < (29000.0, 49000.0] < (49000.0, 89000.0]]"
      ]
     },
     "execution_count": 170,
     "metadata": {},
     "output_type": "execute_result"
    }
   ],
   "source": [
    "# Discretize variable into equal-sized buckets based on rank or based on sample quantiles.\n",
    "inc_bins = pd.qcut(vstable.Income, 3)\n",
    "inc_bins.head(10)"
   ]
  },
  {
   "cell_type": "code",
   "execution_count": 172,
   "id": "9609c6d5",
   "metadata": {},
   "outputs": [
    {
     "data": {
      "text/plain": [
       "0     mid\n",
       "1    high\n",
       "2     mid\n",
       "3    high\n",
       "4     mid\n",
       "5     low\n",
       "6     low\n",
       "7    high\n",
       "8     mid\n",
       "9    high\n",
       "Name: Income, dtype: category\n",
       "Categories (3, object): ['low' < 'mid' < 'high']"
      ]
     },
     "execution_count": 172,
     "metadata": {},
     "output_type": "execute_result"
    }
   ],
   "source": [
    "# We can specifiy an array of quantiles for discretization together with labels for the bins)\n",
    "inc_bins = pd.qcut(vstable.Income, [0, .33, .66, 1], labels=[\"low\",\"mid\",\"high\"])\n",
    "inc_bins.head(10)"
   ]
  },
  {
   "cell_type": "code",
   "execution_count": 173,
   "id": "5b44ecc7",
   "metadata": {},
   "outputs": [
    {
     "data": {
      "text/html": [
       "<div>\n",
       "<style scoped>\n",
       "    .dataframe tbody tr th:only-of-type {\n",
       "        vertical-align: middle;\n",
       "    }\n",
       "\n",
       "    .dataframe tbody tr th {\n",
       "        vertical-align: top;\n",
       "    }\n",
       "\n",
       "    .dataframe thead th {\n",
       "        text-align: right;\n",
       "    }\n",
       "</style>\n",
       "<table border=\"1\" class=\"dataframe\">\n",
       "  <thead>\n",
       "    <tr style=\"text-align: right;\">\n",
       "      <th></th>\n",
       "      <th>ID</th>\n",
       "      <th>Gender</th>\n",
       "      <th>Income</th>\n",
       "      <th>Age</th>\n",
       "      <th>Rentals</th>\n",
       "      <th>AvgPerVisit</th>\n",
       "      <th>Genre</th>\n",
       "      <th>Age-Std</th>\n",
       "      <th>inc-bins</th>\n",
       "    </tr>\n",
       "  </thead>\n",
       "  <tbody>\n",
       "    <tr>\n",
       "      <th>0</th>\n",
       "      <td>1</td>\n",
       "      <td>M</td>\n",
       "      <td>45000.0</td>\n",
       "      <td>25</td>\n",
       "      <td>27</td>\n",
       "      <td>2.5</td>\n",
       "      <td>Action</td>\n",
       "      <td>-0.260000</td>\n",
       "      <td>mid</td>\n",
       "    </tr>\n",
       "    <tr>\n",
       "      <th>1</th>\n",
       "      <td>2</td>\n",
       "      <td>F</td>\n",
       "      <td>54000.0</td>\n",
       "      <td>33</td>\n",
       "      <td>12</td>\n",
       "      <td>3.4</td>\n",
       "      <td>Drama</td>\n",
       "      <td>0.045455</td>\n",
       "      <td>high</td>\n",
       "    </tr>\n",
       "    <tr>\n",
       "      <th>2</th>\n",
       "      <td>3</td>\n",
       "      <td>F</td>\n",
       "      <td>32000.0</td>\n",
       "      <td>20</td>\n",
       "      <td>42</td>\n",
       "      <td>1.6</td>\n",
       "      <td>Comedy</td>\n",
       "      <td>-0.575000</td>\n",
       "      <td>mid</td>\n",
       "    </tr>\n",
       "    <tr>\n",
       "      <th>3</th>\n",
       "      <td>4</td>\n",
       "      <td>F</td>\n",
       "      <td>59000.0</td>\n",
       "      <td>70</td>\n",
       "      <td>16</td>\n",
       "      <td>4.2</td>\n",
       "      <td>Drama</td>\n",
       "      <td>0.550000</td>\n",
       "      <td>high</td>\n",
       "    </tr>\n",
       "    <tr>\n",
       "      <th>4</th>\n",
       "      <td>5</td>\n",
       "      <td>M</td>\n",
       "      <td>37000.0</td>\n",
       "      <td>35</td>\n",
       "      <td>25</td>\n",
       "      <td>3.2</td>\n",
       "      <td>Action</td>\n",
       "      <td>0.100000</td>\n",
       "      <td>mid</td>\n",
       "    </tr>\n",
       "    <tr>\n",
       "      <th>5</th>\n",
       "      <td>6</td>\n",
       "      <td>M</td>\n",
       "      <td>18000.0</td>\n",
       "      <td>20</td>\n",
       "      <td>33</td>\n",
       "      <td>1.7</td>\n",
       "      <td>Action</td>\n",
       "      <td>-0.575000</td>\n",
       "      <td>low</td>\n",
       "    </tr>\n",
       "    <tr>\n",
       "      <th>6</th>\n",
       "      <td>7</td>\n",
       "      <td>F</td>\n",
       "      <td>29000.0</td>\n",
       "      <td>45</td>\n",
       "      <td>19</td>\n",
       "      <td>3.8</td>\n",
       "      <td>Drama</td>\n",
       "      <td>0.300000</td>\n",
       "      <td>low</td>\n",
       "    </tr>\n",
       "    <tr>\n",
       "      <th>7</th>\n",
       "      <td>8</td>\n",
       "      <td>M</td>\n",
       "      <td>74000.0</td>\n",
       "      <td>25</td>\n",
       "      <td>31</td>\n",
       "      <td>2.4</td>\n",
       "      <td>Action</td>\n",
       "      <td>-0.260000</td>\n",
       "      <td>high</td>\n",
       "    </tr>\n",
       "    <tr>\n",
       "      <th>8</th>\n",
       "      <td>9</td>\n",
       "      <td>M</td>\n",
       "      <td>38000.0</td>\n",
       "      <td>21</td>\n",
       "      <td>18</td>\n",
       "      <td>2.1</td>\n",
       "      <td>Comedy</td>\n",
       "      <td>-0.500000</td>\n",
       "      <td>mid</td>\n",
       "    </tr>\n",
       "    <tr>\n",
       "      <th>9</th>\n",
       "      <td>10</td>\n",
       "      <td>F</td>\n",
       "      <td>65000.0</td>\n",
       "      <td>40</td>\n",
       "      <td>21</td>\n",
       "      <td>3.3</td>\n",
       "      <td>Drama</td>\n",
       "      <td>0.212500</td>\n",
       "      <td>high</td>\n",
       "    </tr>\n",
       "  </tbody>\n",
       "</table>\n",
       "</div>"
      ],
      "text/plain": [
       "   ID Gender   Income  Age  Rentals  AvgPerVisit   Genre   Age-Std inc-bins\n",
       "0   1      M  45000.0   25       27          2.5  Action -0.260000      mid\n",
       "1   2      F  54000.0   33       12          3.4   Drama  0.045455     high\n",
       "2   3      F  32000.0   20       42          1.6  Comedy -0.575000      mid\n",
       "3   4      F  59000.0   70       16          4.2   Drama  0.550000     high\n",
       "4   5      M  37000.0   35       25          3.2  Action  0.100000      mid\n",
       "5   6      M  18000.0   20       33          1.7  Action -0.575000      low\n",
       "6   7      F  29000.0   45       19          3.8   Drama  0.300000      low\n",
       "7   8      M  74000.0   25       31          2.4  Action -0.260000     high\n",
       "8   9      M  38000.0   21       18          2.1  Comedy -0.500000      mid\n",
       "9  10      F  65000.0   40       21          3.3   Drama  0.212500     high"
      ]
     },
     "execution_count": 173,
     "metadata": {},
     "output_type": "execute_result"
    }
   ],
   "source": [
    "vstable[\"inc-bins\"] = inc_bins\n",
    "\n",
    "vstable.head(10)"
   ]
  },
  {
   "cell_type": "code",
   "execution_count": 174,
   "id": "0d03162a",
   "metadata": {},
   "outputs": [
    {
     "data": {
      "text/html": [
       "<div>\n",
       "<style scoped>\n",
       "    .dataframe tbody tr th:only-of-type {\n",
       "        vertical-align: middle;\n",
       "    }\n",
       "\n",
       "    .dataframe tbody tr th {\n",
       "        vertical-align: top;\n",
       "    }\n",
       "\n",
       "    .dataframe thead th {\n",
       "        text-align: right;\n",
       "    }\n",
       "</style>\n",
       "<table border=\"1\" class=\"dataframe\">\n",
       "  <thead>\n",
       "    <tr style=\"text-align: right;\">\n",
       "      <th></th>\n",
       "      <th>ID</th>\n",
       "      <th>Gender</th>\n",
       "      <th>Income</th>\n",
       "      <th>Age</th>\n",
       "      <th>Rentals</th>\n",
       "      <th>AvgPerVisit</th>\n",
       "      <th>Genre</th>\n",
       "    </tr>\n",
       "  </thead>\n",
       "  <tbody>\n",
       "    <tr>\n",
       "      <th>0</th>\n",
       "      <td>1</td>\n",
       "      <td>M</td>\n",
       "      <td>45000.0</td>\n",
       "      <td>25</td>\n",
       "      <td>27</td>\n",
       "      <td>2.5</td>\n",
       "      <td>Action</td>\n",
       "    </tr>\n",
       "    <tr>\n",
       "      <th>1</th>\n",
       "      <td>2</td>\n",
       "      <td>F</td>\n",
       "      <td>54000.0</td>\n",
       "      <td>33</td>\n",
       "      <td>12</td>\n",
       "      <td>3.4</td>\n",
       "      <td>Drama</td>\n",
       "    </tr>\n",
       "    <tr>\n",
       "      <th>2</th>\n",
       "      <td>3</td>\n",
       "      <td>F</td>\n",
       "      <td>32000.0</td>\n",
       "      <td>20</td>\n",
       "      <td>42</td>\n",
       "      <td>1.6</td>\n",
       "      <td>Comedy</td>\n",
       "    </tr>\n",
       "    <tr>\n",
       "      <th>3</th>\n",
       "      <td>4</td>\n",
       "      <td>F</td>\n",
       "      <td>59000.0</td>\n",
       "      <td>70</td>\n",
       "      <td>16</td>\n",
       "      <td>4.2</td>\n",
       "      <td>Drama</td>\n",
       "    </tr>\n",
       "    <tr>\n",
       "      <th>4</th>\n",
       "      <td>5</td>\n",
       "      <td>M</td>\n",
       "      <td>37000.0</td>\n",
       "      <td>35</td>\n",
       "      <td>25</td>\n",
       "      <td>3.2</td>\n",
       "      <td>Action</td>\n",
       "    </tr>\n",
       "  </tbody>\n",
       "</table>\n",
       "</div>"
      ],
      "text/plain": [
       "   ID Gender   Income  Age  Rentals  AvgPerVisit   Genre\n",
       "0   1      M  45000.0   25       27          2.5  Action\n",
       "1   2      F  54000.0   33       12          3.4   Drama\n",
       "2   3      F  32000.0   20       42          1.6  Comedy\n",
       "3   4      F  59000.0   70       16          4.2   Drama\n",
       "4   5      M  37000.0   35       25          3.2  Action"
      ]
     },
     "execution_count": 174,
     "metadata": {},
     "output_type": "execute_result"
    }
   ],
   "source": [
    "# We can also drop columns from the dataframe\n",
    "\n",
    "vstable.drop(columns=['Age-Std','inc-bins'], inplace=True)\n",
    "vstable.head()"
   ]
  },
  {
   "cell_type": "code",
   "execution_count": 175,
   "id": "170291a4",
   "metadata": {},
   "outputs": [
    {
     "data": {
      "text/html": [
       "<div>\n",
       "<style scoped>\n",
       "    .dataframe tbody tr th:only-of-type {\n",
       "        vertical-align: middle;\n",
       "    }\n",
       "\n",
       "    .dataframe tbody tr th {\n",
       "        vertical-align: top;\n",
       "    }\n",
       "\n",
       "    .dataframe thead th {\n",
       "        text-align: right;\n",
       "    }\n",
       "</style>\n",
       "<table border=\"1\" class=\"dataframe\">\n",
       "  <thead>\n",
       "    <tr style=\"text-align: right;\">\n",
       "      <th></th>\n",
       "      <th>Age</th>\n",
       "      <th>Income</th>\n",
       "      <th>Rentals</th>\n",
       "      <th>AvgPerVisit</th>\n",
       "    </tr>\n",
       "  </thead>\n",
       "  <tbody>\n",
       "    <tr>\n",
       "      <th>0</th>\n",
       "      <td>-0.509721</td>\n",
       "      <td>0.152667</td>\n",
       "      <td>0.085991</td>\n",
       "      <td>-0.350971</td>\n",
       "    </tr>\n",
       "    <tr>\n",
       "      <th>1</th>\n",
       "      <td>0.117628</td>\n",
       "      <td>0.545239</td>\n",
       "      <td>-1.477480</td>\n",
       "      <td>0.728941</td>\n",
       "    </tr>\n",
       "    <tr>\n",
       "      <th>2</th>\n",
       "      <td>-0.901814</td>\n",
       "      <td>-0.414381</td>\n",
       "      <td>1.649462</td>\n",
       "      <td>-1.430883</td>\n",
       "    </tr>\n",
       "    <tr>\n",
       "      <th>3</th>\n",
       "      <td>3.019117</td>\n",
       "      <td>0.763334</td>\n",
       "      <td>-1.060555</td>\n",
       "      <td>1.688862</td>\n",
       "    </tr>\n",
       "    <tr>\n",
       "      <th>4</th>\n",
       "      <td>0.274465</td>\n",
       "      <td>-0.196286</td>\n",
       "      <td>-0.122472</td>\n",
       "      <td>0.488960</td>\n",
       "    </tr>\n",
       "    <tr>\n",
       "      <th>5</th>\n",
       "      <td>-0.901814</td>\n",
       "      <td>-1.025049</td>\n",
       "      <td>0.711379</td>\n",
       "      <td>-1.310893</td>\n",
       "    </tr>\n",
       "    <tr>\n",
       "      <th>6</th>\n",
       "      <td>1.058651</td>\n",
       "      <td>-0.545239</td>\n",
       "      <td>-0.747860</td>\n",
       "      <td>1.208901</td>\n",
       "    </tr>\n",
       "    <tr>\n",
       "      <th>7</th>\n",
       "      <td>-0.509721</td>\n",
       "      <td>1.417620</td>\n",
       "      <td>0.502917</td>\n",
       "      <td>-0.470962</td>\n",
       "    </tr>\n",
       "    <tr>\n",
       "      <th>8</th>\n",
       "      <td>-0.823395</td>\n",
       "      <td>-0.152667</td>\n",
       "      <td>-0.852092</td>\n",
       "      <td>-0.830932</td>\n",
       "    </tr>\n",
       "    <tr>\n",
       "      <th>9</th>\n",
       "      <td>0.666558</td>\n",
       "      <td>1.025049</td>\n",
       "      <td>-0.539398</td>\n",
       "      <td>0.608950</td>\n",
       "    </tr>\n",
       "  </tbody>\n",
       "</table>\n",
       "</div>"
      ],
      "text/plain": [
       "        Age    Income   Rentals  AvgPerVisit\n",
       "0 -0.509721  0.152667  0.085991    -0.350971\n",
       "1  0.117628  0.545239 -1.477480     0.728941\n",
       "2 -0.901814 -0.414381  1.649462    -1.430883\n",
       "3  3.019117  0.763334 -1.060555     1.688862\n",
       "4  0.274465 -0.196286 -0.122472     0.488960\n",
       "5 -0.901814 -1.025049  0.711379    -1.310893\n",
       "6  1.058651 -0.545239 -0.747860     1.208901\n",
       "7 -0.509721  1.417620  0.502917    -0.470962\n",
       "8 -0.823395 -0.152667 -0.852092    -0.830932\n",
       "9  0.666558  1.025049 -0.539398     0.608950"
      ]
     },
     "execution_count": 175,
     "metadata": {},
     "output_type": "execute_result"
    }
   ],
   "source": [
    "vs_numeric = vstable[[\"Age\",\"Income\",\"Rentals\",\"AvgPerVisit\"]]\n",
    "vs_num_std = (vs_numeric - vs_numeric.mean()) / vs_numeric.std()\n",
    "vs_num_std.head(10)"
   ]
  },
  {
   "cell_type": "code",
   "execution_count": 176,
   "id": "15b7261f",
   "metadata": {},
   "outputs": [
    {
     "data": {
      "text/html": [
       "<div>\n",
       "<style scoped>\n",
       "    .dataframe tbody tr th:only-of-type {\n",
       "        vertical-align: middle;\n",
       "    }\n",
       "\n",
       "    .dataframe tbody tr th {\n",
       "        vertical-align: top;\n",
       "    }\n",
       "\n",
       "    .dataframe thead th {\n",
       "        text-align: right;\n",
       "    }\n",
       "</style>\n",
       "<table border=\"1\" class=\"dataframe\">\n",
       "  <thead>\n",
       "    <tr style=\"text-align: right;\">\n",
       "      <th></th>\n",
       "      <th>Age</th>\n",
       "      <th>Income</th>\n",
       "      <th>Rentals</th>\n",
       "      <th>AvgPerVisit</th>\n",
       "    </tr>\n",
       "  </thead>\n",
       "  <tbody>\n",
       "    <tr>\n",
       "      <th>0</th>\n",
       "      <td>-0.509721</td>\n",
       "      <td>0.152667</td>\n",
       "      <td>0.085991</td>\n",
       "      <td>-0.350971</td>\n",
       "    </tr>\n",
       "    <tr>\n",
       "      <th>1</th>\n",
       "      <td>0.117628</td>\n",
       "      <td>0.545239</td>\n",
       "      <td>-1.477480</td>\n",
       "      <td>0.728941</td>\n",
       "    </tr>\n",
       "    <tr>\n",
       "      <th>2</th>\n",
       "      <td>-0.901814</td>\n",
       "      <td>-0.414381</td>\n",
       "      <td>1.649462</td>\n",
       "      <td>-1.430883</td>\n",
       "    </tr>\n",
       "    <tr>\n",
       "      <th>3</th>\n",
       "      <td>3.019117</td>\n",
       "      <td>0.763334</td>\n",
       "      <td>-1.060555</td>\n",
       "      <td>1.688862</td>\n",
       "    </tr>\n",
       "    <tr>\n",
       "      <th>4</th>\n",
       "      <td>0.274465</td>\n",
       "      <td>-0.196286</td>\n",
       "      <td>-0.122472</td>\n",
       "      <td>0.488960</td>\n",
       "    </tr>\n",
       "  </tbody>\n",
       "</table>\n",
       "</div>"
      ],
      "text/plain": [
       "        Age    Income   Rentals  AvgPerVisit\n",
       "0 -0.509721  0.152667  0.085991    -0.350971\n",
       "1  0.117628  0.545239 -1.477480     0.728941\n",
       "2 -0.901814 -0.414381  1.649462    -1.430883\n",
       "3  3.019117  0.763334 -1.060555     1.688862\n",
       "4  0.274465 -0.196286 -0.122472     0.488960"
      ]
     },
     "execution_count": 176,
     "metadata": {},
     "output_type": "execute_result"
    }
   ],
   "source": [
    "zscore = lambda x: (x - x.mean()) / x.std()\n",
    "vs_num_std = vs_numeric.apply(zscore)\n",
    "vs_num_std.head()"
   ]
  },
  {
   "cell_type": "code",
   "execution_count": 182,
   "id": "1fd9e654",
   "metadata": {},
   "outputs": [
    {
     "data": {
      "text/html": [
       "<div>\n",
       "<style scoped>\n",
       "    .dataframe tbody tr th:only-of-type {\n",
       "        vertical-align: middle;\n",
       "    }\n",
       "\n",
       "    .dataframe tbody tr th {\n",
       "        vertical-align: top;\n",
       "    }\n",
       "\n",
       "    .dataframe thead th {\n",
       "        text-align: right;\n",
       "    }\n",
       "</style>\n",
       "<table border=\"1\" class=\"dataframe\">\n",
       "  <thead>\n",
       "    <tr style=\"text-align: right;\">\n",
       "      <th></th>\n",
       "      <th>ID</th>\n",
       "      <th>Income</th>\n",
       "      <th>Age</th>\n",
       "      <th>Rentals</th>\n",
       "      <th>AvgPerVisit</th>\n",
       "    </tr>\n",
       "    <tr>\n",
       "      <th>Genre</th>\n",
       "      <th></th>\n",
       "      <th></th>\n",
       "      <th></th>\n",
       "      <th></th>\n",
       "      <th></th>\n",
       "    </tr>\n",
       "  </thead>\n",
       "  <tbody>\n",
       "    <tr>\n",
       "      <th>Action</th>\n",
       "      <td>20.866667</td>\n",
       "      <td>32666.666667</td>\n",
       "      <td>24.066667</td>\n",
       "      <td>29.933333</td>\n",
       "      <td>2.466667</td>\n",
       "    </tr>\n",
       "    <tr>\n",
       "      <th>Comedy</th>\n",
       "      <td>23.166667</td>\n",
       "      <td>45000.000000</td>\n",
       "      <td>31.916667</td>\n",
       "      <td>25.666667</td>\n",
       "      <td>2.641667</td>\n",
       "    </tr>\n",
       "    <tr>\n",
       "      <th>Drama</th>\n",
       "      <td>17.615385</td>\n",
       "      <td>48461.538462</td>\n",
       "      <td>39.692308</td>\n",
       "      <td>22.307692</td>\n",
       "      <td>3.307692</td>\n",
       "    </tr>\n",
       "  </tbody>\n",
       "</table>\n",
       "</div>"
      ],
      "text/plain": [
       "               ID        Income        Age    Rentals  AvgPerVisit\n",
       "Genre                                                             \n",
       "Action  20.866667  32666.666667  24.066667  29.933333     2.466667\n",
       "Comedy  23.166667  45000.000000  31.916667  25.666667     2.641667\n",
       "Drama   17.615385  48461.538462  39.692308  22.307692     3.307692"
      ]
     },
     "execution_count": 182,
     "metadata": {},
     "output_type": "execute_result"
    }
   ],
   "source": [
    "# Grouping and aggregating data\n",
    "vstable.groupby(\"Genre\").mean()"
   ]
  },
  {
   "cell_type": "code",
   "execution_count": 183,
   "id": "6d0abbe8",
   "metadata": {},
   "outputs": [
    {
     "data": {
      "text/html": [
       "<div>\n",
       "<style scoped>\n",
       "    .dataframe tbody tr th:only-of-type {\n",
       "        vertical-align: middle;\n",
       "    }\n",
       "\n",
       "    .dataframe tbody tr th {\n",
       "        vertical-align: top;\n",
       "    }\n",
       "\n",
       "    .dataframe thead th {\n",
       "        text-align: right;\n",
       "    }\n",
       "</style>\n",
       "<table border=\"1\" class=\"dataframe\">\n",
       "  <thead>\n",
       "    <tr style=\"text-align: right;\">\n",
       "      <th></th>\n",
       "      <th>ID</th>\n",
       "      <th>Income</th>\n",
       "      <th>Age</th>\n",
       "      <th>Rentals</th>\n",
       "      <th>AvgPerVisit</th>\n",
       "    </tr>\n",
       "    <tr>\n",
       "      <th>Gender</th>\n",
       "      <th></th>\n",
       "      <th></th>\n",
       "      <th></th>\n",
       "      <th></th>\n",
       "      <th></th>\n",
       "    </tr>\n",
       "  </thead>\n",
       "  <tbody>\n",
       "    <tr>\n",
       "      <th>F</th>\n",
       "      <td>19.789474</td>\n",
       "      <td>40631.578947</td>\n",
       "      <td>33.631579</td>\n",
       "      <td>27.684211</td>\n",
       "      <td>2.968421</td>\n",
       "    </tr>\n",
       "    <tr>\n",
       "      <th>M</th>\n",
       "      <td>21.142857</td>\n",
       "      <td>42285.714286</td>\n",
       "      <td>29.571429</td>\n",
       "      <td>24.809524</td>\n",
       "      <td>2.633333</td>\n",
       "    </tr>\n",
       "  </tbody>\n",
       "</table>\n",
       "</div>"
      ],
      "text/plain": [
       "               ID        Income        Age    Rentals  AvgPerVisit\n",
       "Gender                                                            \n",
       "F       19.789474  40631.578947  33.631579  27.684211     2.968421\n",
       "M       21.142857  42285.714286  29.571429  24.809524     2.633333"
      ]
     },
     "execution_count": 183,
     "metadata": {},
     "output_type": "execute_result"
    }
   ],
   "source": [
    "vstable.groupby(\"Gender\").mean()"
   ]
  },
  {
   "cell_type": "code",
   "execution_count": 184,
   "id": "8466f23b",
   "metadata": {},
   "outputs": [
    {
     "data": {
      "text/html": [
       "<div>\n",
       "<style scoped>\n",
       "    .dataframe tbody tr th:only-of-type {\n",
       "        vertical-align: middle;\n",
       "    }\n",
       "\n",
       "    .dataframe tbody tr th {\n",
       "        vertical-align: top;\n",
       "    }\n",
       "\n",
       "    .dataframe thead th {\n",
       "        text-align: right;\n",
       "    }\n",
       "</style>\n",
       "<table border=\"1\" class=\"dataframe\">\n",
       "  <thead>\n",
       "    <tr style=\"text-align: right;\">\n",
       "      <th></th>\n",
       "      <th>Genre</th>\n",
       "      <th>Action</th>\n",
       "      <th>Comedy</th>\n",
       "      <th>Drama</th>\n",
       "    </tr>\n",
       "  </thead>\n",
       "  <tbody>\n",
       "    <tr>\n",
       "      <th rowspan=\"8\" valign=\"top\">ID</th>\n",
       "      <th>count</th>\n",
       "      <td>15.000000</td>\n",
       "      <td>12.000000</td>\n",
       "      <td>13.000000</td>\n",
       "    </tr>\n",
       "    <tr>\n",
       "      <th>mean</th>\n",
       "      <td>20.866667</td>\n",
       "      <td>23.166667</td>\n",
       "      <td>17.615385</td>\n",
       "    </tr>\n",
       "    <tr>\n",
       "      <th>std</th>\n",
       "      <td>12.551987</td>\n",
       "      <td>11.637192</td>\n",
       "      <td>10.950940</td>\n",
       "    </tr>\n",
       "    <tr>\n",
       "      <th>min</th>\n",
       "      <td>1.000000</td>\n",
       "      <td>3.000000</td>\n",
       "      <td>2.000000</td>\n",
       "    </tr>\n",
       "    <tr>\n",
       "      <th>25%</th>\n",
       "      <td>10.000000</td>\n",
       "      <td>14.500000</td>\n",
       "      <td>10.000000</td>\n",
       "    </tr>\n",
       "    <tr>\n",
       "      <th>50%</th>\n",
       "      <td>20.000000</td>\n",
       "      <td>24.000000</td>\n",
       "      <td>17.000000</td>\n",
       "    </tr>\n",
       "    <tr>\n",
       "      <th>75%</th>\n",
       "      <td>31.500000</td>\n",
       "      <td>32.250000</td>\n",
       "      <td>24.000000</td>\n",
       "    </tr>\n",
       "    <tr>\n",
       "      <th>max</th>\n",
       "      <td>40.000000</td>\n",
       "      <td>39.000000</td>\n",
       "      <td>38.000000</td>\n",
       "    </tr>\n",
       "    <tr>\n",
       "      <th rowspan=\"8\" valign=\"top\">Income</th>\n",
       "      <th>count</th>\n",
       "      <td>15.000000</td>\n",
       "      <td>12.000000</td>\n",
       "      <td>13.000000</td>\n",
       "    </tr>\n",
       "    <tr>\n",
       "      <th>mean</th>\n",
       "      <td>32666.666667</td>\n",
       "      <td>45000.000000</td>\n",
       "      <td>48461.538462</td>\n",
       "    </tr>\n",
       "    <tr>\n",
       "      <th>std</th>\n",
       "      <td>21562.754484</td>\n",
       "      <td>29073.574381</td>\n",
       "      <td>15119.608596</td>\n",
       "    </tr>\n",
       "    <tr>\n",
       "      <th>min</th>\n",
       "      <td>6000.000000</td>\n",
       "      <td>1000.000000</td>\n",
       "      <td>25000.000000</td>\n",
       "    </tr>\n",
       "    <tr>\n",
       "      <th>25%</th>\n",
       "      <td>17000.000000</td>\n",
       "      <td>27750.000000</td>\n",
       "      <td>41000.000000</td>\n",
       "    </tr>\n",
       "    <tr>\n",
       "      <th>50%</th>\n",
       "      <td>26000.000000</td>\n",
       "      <td>43500.000000</td>\n",
       "      <td>47000.000000</td>\n",
       "    </tr>\n",
       "    <tr>\n",
       "      <th>75%</th>\n",
       "      <td>43000.000000</td>\n",
       "      <td>68000.000000</td>\n",
       "      <td>59000.000000</td>\n",
       "    </tr>\n",
       "    <tr>\n",
       "      <th>max</th>\n",
       "      <td>74000.000000</td>\n",
       "      <td>89000.000000</td>\n",
       "      <td>79000.000000</td>\n",
       "    </tr>\n",
       "    <tr>\n",
       "      <th rowspan=\"8\" valign=\"top\">Age</th>\n",
       "      <th>count</th>\n",
       "      <td>15.000000</td>\n",
       "      <td>12.000000</td>\n",
       "      <td>13.000000</td>\n",
       "    </tr>\n",
       "    <tr>\n",
       "      <th>mean</th>\n",
       "      <td>24.066667</td>\n",
       "      <td>31.916667</td>\n",
       "      <td>39.692308</td>\n",
       "    </tr>\n",
       "    <tr>\n",
       "      <th>std</th>\n",
       "      <td>6.374802</td>\n",
       "      <td>14.650215</td>\n",
       "      <td>11.933040</td>\n",
       "    </tr>\n",
       "    <tr>\n",
       "      <th>min</th>\n",
       "      <td>16.000000</td>\n",
       "      <td>15.000000</td>\n",
       "      <td>22.000000</td>\n",
       "    </tr>\n",
       "    <tr>\n",
       "      <th>25%</th>\n",
       "      <td>19.000000</td>\n",
       "      <td>20.750000</td>\n",
       "      <td>33.000000</td>\n",
       "    </tr>\n",
       "    <tr>\n",
       "      <th>50%</th>\n",
       "      <td>25.000000</td>\n",
       "      <td>27.500000</td>\n",
       "      <td>36.000000</td>\n",
       "    </tr>\n",
       "    <tr>\n",
       "      <th>75%</th>\n",
       "      <td>27.000000</td>\n",
       "      <td>46.000000</td>\n",
       "      <td>45.000000</td>\n",
       "    </tr>\n",
       "    <tr>\n",
       "      <th>max</th>\n",
       "      <td>35.000000</td>\n",
       "      <td>56.000000</td>\n",
       "      <td>70.000000</td>\n",
       "    </tr>\n",
       "    <tr>\n",
       "      <th rowspan=\"8\" valign=\"top\">Rentals</th>\n",
       "      <th>count</th>\n",
       "      <td>15.000000</td>\n",
       "      <td>12.000000</td>\n",
       "      <td>13.000000</td>\n",
       "    </tr>\n",
       "    <tr>\n",
       "      <th>mean</th>\n",
       "      <td>29.933333</td>\n",
       "      <td>25.666667</td>\n",
       "      <td>22.307692</td>\n",
       "    </tr>\n",
       "    <tr>\n",
       "      <th>std</th>\n",
       "      <td>7.591976</td>\n",
       "      <td>10.662878</td>\n",
       "      <td>9.672854</td>\n",
       "    </tr>\n",
       "    <tr>\n",
       "      <th>min</th>\n",
       "      <td>17.000000</td>\n",
       "      <td>12.000000</td>\n",
       "      <td>11.000000</td>\n",
       "    </tr>\n",
       "    <tr>\n",
       "      <th>25%</th>\n",
       "      <td>25.500000</td>\n",
       "      <td>17.250000</td>\n",
       "      <td>16.000000</td>\n",
       "    </tr>\n",
       "    <tr>\n",
       "      <th>50%</th>\n",
       "      <td>29.000000</td>\n",
       "      <td>23.500000</td>\n",
       "      <td>21.000000</td>\n",
       "    </tr>\n",
       "    <tr>\n",
       "      <th>75%</th>\n",
       "      <td>35.000000</td>\n",
       "      <td>34.500000</td>\n",
       "      <td>24.000000</td>\n",
       "    </tr>\n",
       "    <tr>\n",
       "      <th>max</th>\n",
       "      <td>43.000000</td>\n",
       "      <td>42.000000</td>\n",
       "      <td>48.000000</td>\n",
       "    </tr>\n",
       "    <tr>\n",
       "      <th rowspan=\"8\" valign=\"top\">AvgPerVisit</th>\n",
       "      <th>count</th>\n",
       "      <td>15.000000</td>\n",
       "      <td>12.000000</td>\n",
       "      <td>13.000000</td>\n",
       "    </tr>\n",
       "    <tr>\n",
       "      <th>mean</th>\n",
       "      <td>2.466667</td>\n",
       "      <td>2.641667</td>\n",
       "      <td>3.307692</td>\n",
       "    </tr>\n",
       "    <tr>\n",
       "      <th>std</th>\n",
       "      <td>0.776132</td>\n",
       "      <td>0.967150</td>\n",
       "      <td>0.504086</td>\n",
       "    </tr>\n",
       "    <tr>\n",
       "      <th>min</th>\n",
       "      <td>1.400000</td>\n",
       "      <td>1.200000</td>\n",
       "      <td>2.300000</td>\n",
       "    </tr>\n",
       "    <tr>\n",
       "      <th>25%</th>\n",
       "      <td>1.950000</td>\n",
       "      <td>1.975000</td>\n",
       "      <td>3.100000</td>\n",
       "    </tr>\n",
       "    <tr>\n",
       "      <th>50%</th>\n",
       "      <td>2.400000</td>\n",
       "      <td>2.600000</td>\n",
       "      <td>3.300000</td>\n",
       "    </tr>\n",
       "    <tr>\n",
       "      <th>75%</th>\n",
       "      <td>2.800000</td>\n",
       "      <td>3.300000</td>\n",
       "      <td>3.600000</td>\n",
       "    </tr>\n",
       "    <tr>\n",
       "      <th>max</th>\n",
       "      <td>4.600000</td>\n",
       "      <td>4.100000</td>\n",
       "      <td>4.200000</td>\n",
       "    </tr>\n",
       "  </tbody>\n",
       "</table>\n",
       "</div>"
      ],
      "text/plain": [
       "Genre                    Action        Comedy         Drama\n",
       "ID          count     15.000000     12.000000     13.000000\n",
       "            mean      20.866667     23.166667     17.615385\n",
       "            std       12.551987     11.637192     10.950940\n",
       "            min        1.000000      3.000000      2.000000\n",
       "            25%       10.000000     14.500000     10.000000\n",
       "            50%       20.000000     24.000000     17.000000\n",
       "            75%       31.500000     32.250000     24.000000\n",
       "            max       40.000000     39.000000     38.000000\n",
       "Income      count     15.000000     12.000000     13.000000\n",
       "            mean   32666.666667  45000.000000  48461.538462\n",
       "            std    21562.754484  29073.574381  15119.608596\n",
       "            min     6000.000000   1000.000000  25000.000000\n",
       "            25%    17000.000000  27750.000000  41000.000000\n",
       "            50%    26000.000000  43500.000000  47000.000000\n",
       "            75%    43000.000000  68000.000000  59000.000000\n",
       "            max    74000.000000  89000.000000  79000.000000\n",
       "Age         count     15.000000     12.000000     13.000000\n",
       "            mean      24.066667     31.916667     39.692308\n",
       "            std        6.374802     14.650215     11.933040\n",
       "            min       16.000000     15.000000     22.000000\n",
       "            25%       19.000000     20.750000     33.000000\n",
       "            50%       25.000000     27.500000     36.000000\n",
       "            75%       27.000000     46.000000     45.000000\n",
       "            max       35.000000     56.000000     70.000000\n",
       "Rentals     count     15.000000     12.000000     13.000000\n",
       "            mean      29.933333     25.666667     22.307692\n",
       "            std        7.591976     10.662878      9.672854\n",
       "            min       17.000000     12.000000     11.000000\n",
       "            25%       25.500000     17.250000     16.000000\n",
       "            50%       29.000000     23.500000     21.000000\n",
       "            75%       35.000000     34.500000     24.000000\n",
       "            max       43.000000     42.000000     48.000000\n",
       "AvgPerVisit count     15.000000     12.000000     13.000000\n",
       "            mean       2.466667      2.641667      3.307692\n",
       "            std        0.776132      0.967150      0.504086\n",
       "            min        1.400000      1.200000      2.300000\n",
       "            25%        1.950000      1.975000      3.100000\n",
       "            50%        2.400000      2.600000      3.300000\n",
       "            75%        2.800000      3.300000      3.600000\n",
       "            max        4.600000      4.100000      4.200000"
      ]
     },
     "execution_count": 184,
     "metadata": {},
     "output_type": "execute_result"
    }
   ],
   "source": [
    "vstable.groupby(\"Genre\").describe().T"
   ]
  },
  {
   "cell_type": "code",
   "execution_count": 185,
   "id": "8ade2032",
   "metadata": {},
   "outputs": [
    {
     "data": {
      "text/plain": [
       "<AxesSubplot:ylabel='Frequency'>"
      ]
     },
     "execution_count": 185,
     "metadata": {},
     "output_type": "execute_result"
    },
    {
     "data": {
      "image/png": "[encoded data removed]",
      "text/plain": [
       "<Figure size 432x288 with 1 Axes>"
      ]
     },
     "metadata": {
      "needs_background": "light"
     },
     "output_type": "display_data"
    }
   ],
   "source": [
    "vstable[\"Income\"].plot(kind=\"hist\", bins=6)"
   ]
  },
  {
   "cell_type": "code",
   "execution_count": 186,
   "id": "e6965a5c",
   "metadata": {},
   "outputs": [
    {
     "data": {
      "text/plain": [
       "<AxesSubplot:>"
      ]
     },
     "execution_count": 186,
     "metadata": {},
     "output_type": "execute_result"
    },
    {
     "data": {
      "image/png": "[encoded data removed]",
      "text/plain": [
       "<Figure size 432x288 with 1 Axes>"
      ]
     },
     "metadata": {
      "needs_background": "light"
     },
     "output_type": "display_data"
    }
   ],
   "source": [
    "vstable[\"Genre\"].value_counts().plot(kind='bar')"
   ]
  },
  {
   "cell_type": "code",
   "execution_count": 188,
   "id": "4ccb2c37",
   "metadata": {},
   "outputs": [
    {
     "data": {
      "text/plain": [
       "<AxesSubplot:title={'center':'Gender Distribution'}, xlabel='Gender', ylabel='Percentage'>"
      ]
     },
     "execution_count": 188,
     "metadata": {},
     "output_type": "execute_result"
    },
    {
     "data": {
      "image/png": "[encoded data removed]",
      "text/plain": [
       "<Figure size 720x288 with 2 Axes>"
      ]
     },
     "metadata": {
      "needs_background": "light"
     },
     "output_type": "display_data"
    }
   ],
   "source": [
    "temp1 = vstable[\"Genre\"].value_counts()/vstable[\"Genre\"].count()\n",
    "temp2 = vstable[\"Gender\"].value_counts()/vstable[\"Gender\"].count()\n",
    "temp2\n",
    "fig = plt.figure(figsize=(10,4))\n",
    "ax1 = fig.add_subplot(121)\n",
    "ax1.set_xlabel('Genre')\n",
    "ax1.set_ylabel('Percentage')\n",
    "ax1.set_title(\"Genre Distribution\")\n",
    "temp1.plot(kind='bar', grid = True)\n",
    "ax1 = fig.add_subplot(122)\n",
    "ax1.set_xlabel('Gender')\n",
    "ax1.set_ylabel('Percentage')\n",
    "ax1.set_title(\"Gender Distribution\")\n",
    "temp2.plot(kind='bar', grid = True)"
   ]
  },
  {
   "cell_type": "code",
   "execution_count": 189,
   "id": "949f3392",
   "metadata": {},
   "outputs": [
    {
     "data": {
      "text/plain": [
       "<AxesSubplot:xlabel='Income', ylabel='Age'>"
      ]
     },
     "execution_count": 189,
     "metadata": {},
     "output_type": "execute_result"
    },
    {
     "data": {
      "image/png": "[encoded data removed]",
      "text/plain": [
       "<Figure size 432x288 with 1 Axes>"
      ]
     },
     "metadata": {
      "needs_background": "light"
     },
     "output_type": "display_data"
    }
   ],
   "source": [
    "vstable.plot(x=\"Income\", y=\"Age\", kind=\"scatter\")"
   ]
  },
  {
   "cell_type": "code",
   "execution_count": 191,
   "id": "59ff268a",
   "metadata": {},
   "outputs": [
    {
     "data": {
      "text/plain": [
       "Genre   Gender\n",
       "Action  F          5\n",
       "        M         10\n",
       "Comedy  F          6\n",
       "        M          6\n",
       "Drama   F          8\n",
       "        M          5\n",
       "Name: Gender, dtype: int64"
      ]
     },
     "execution_count": 191,
     "metadata": {},
     "output_type": "execute_result"
    }
   ],
   "source": [
    "vstable.groupby([\"Genre\",\"Gender\"])[\"Gender\"].count()"
   ]
  },
  {
   "cell_type": "code",
   "execution_count": 192,
   "id": "abe30b5c",
   "metadata": {},
   "outputs": [
    {
     "data": {
      "text/html": [
       "<div>\n",
       "<style scoped>\n",
       "    .dataframe tbody tr th:only-of-type {\n",
       "        vertical-align: middle;\n",
       "    }\n",
       "\n",
       "    .dataframe tbody tr th {\n",
       "        vertical-align: top;\n",
       "    }\n",
       "\n",
       "    .dataframe thead th {\n",
       "        text-align: right;\n",
       "    }\n",
       "</style>\n",
       "<table border=\"1\" class=\"dataframe\">\n",
       "  <thead>\n",
       "    <tr style=\"text-align: right;\">\n",
       "      <th>Gender</th>\n",
       "      <th>F</th>\n",
       "      <th>M</th>\n",
       "    </tr>\n",
       "    <tr>\n",
       "      <th>Genre</th>\n",
       "      <th></th>\n",
       "      <th></th>\n",
       "    </tr>\n",
       "  </thead>\n",
       "  <tbody>\n",
       "    <tr>\n",
       "      <th>Action</th>\n",
       "      <td>5</td>\n",
       "      <td>10</td>\n",
       "    </tr>\n",
       "    <tr>\n",
       "      <th>Comedy</th>\n",
       "      <td>6</td>\n",
       "      <td>6</td>\n",
       "    </tr>\n",
       "    <tr>\n",
       "      <th>Drama</th>\n",
       "      <td>8</td>\n",
       "      <td>5</td>\n",
       "    </tr>\n",
       "  </tbody>\n",
       "</table>\n",
       "</div>"
      ],
      "text/plain": [
       "Gender  F   M\n",
       "Genre        \n",
       "Action  5  10\n",
       "Comedy  6   6\n",
       "Drama   8   5"
      ]
     },
     "execution_count": 192,
     "metadata": {},
     "output_type": "execute_result"
    }
   ],
   "source": [
    "gg = pd.crosstab(vstable[\"Genre\"], vstable[\"Gender\"])\n",
    "gg"
   ]
  },
  {
   "cell_type": "code",
   "execution_count": 193,
   "id": "d95b5d77",
   "metadata": {},
   "outputs": [
    {
     "data": {
      "image/png": "[encoded data removed]",
      "text/plain": [
       "<Figure size 432x288 with 1 Axes>"
      ]
     },
     "metadata": {
      "needs_background": "light"
     },
     "output_type": "display_data"
    }
   ],
   "source": [
    "plt.show(gg.plot(kind=\"bar\"))"
   ]
  },
  {
   "cell_type": "code",
   "execution_count": 194,
   "id": "ed684ffe",
   "metadata": {},
   "outputs": [
    {
     "data": {
      "text/html": [
       "<div>\n",
       "<style scoped>\n",
       "    .dataframe tbody tr th:only-of-type {\n",
       "        vertical-align: middle;\n",
       "    }\n",
       "\n",
       "    .dataframe tbody tr th {\n",
       "        vertical-align: top;\n",
       "    }\n",
       "\n",
       "    .dataframe thead th {\n",
       "        text-align: right;\n",
       "    }\n",
       "</style>\n",
       "<table border=\"1\" class=\"dataframe\">\n",
       "  <thead>\n",
       "    <tr style=\"text-align: right;\">\n",
       "      <th>Gender</th>\n",
       "      <th>F</th>\n",
       "      <th>M</th>\n",
       "      <th>percent_female</th>\n",
       "    </tr>\n",
       "    <tr>\n",
       "      <th>Genre</th>\n",
       "      <th></th>\n",
       "      <th></th>\n",
       "      <th></th>\n",
       "    </tr>\n",
       "  </thead>\n",
       "  <tbody>\n",
       "    <tr>\n",
       "      <th>Action</th>\n",
       "      <td>5</td>\n",
       "      <td>10</td>\n",
       "      <td>0.333333</td>\n",
       "    </tr>\n",
       "    <tr>\n",
       "      <th>Comedy</th>\n",
       "      <td>6</td>\n",
       "      <td>6</td>\n",
       "      <td>0.500000</td>\n",
       "    </tr>\n",
       "    <tr>\n",
       "      <th>Drama</th>\n",
       "      <td>8</td>\n",
       "      <td>5</td>\n",
       "      <td>0.615385</td>\n",
       "    </tr>\n",
       "  </tbody>\n",
       "</table>\n",
       "</div>"
      ],
      "text/plain": [
       "Gender  F   M  percent_female\n",
       "Genre                        \n",
       "Action  5  10        0.333333\n",
       "Comedy  6   6        0.500000\n",
       "Drama   8   5        0.615385"
      ]
     },
     "execution_count": 194,
     "metadata": {},
     "output_type": "execute_result"
    }
   ],
   "source": [
    "gg[\"percent_female\"] = gg[\"F\"]/(gg[\"F\"]+gg[\"M\"])\n",
    "gg"
   ]
  },
  {
   "cell_type": "code",
   "execution_count": 195,
   "id": "0fd0d8d5",
   "metadata": {},
   "outputs": [
    {
     "data": {
      "image/png": "[encoded data removed]",
      "text/plain": [
       "<Figure size 432x288 with 1 Axes>"
      ]
     },
     "metadata": {
      "needs_background": "light"
     },
     "output_type": "display_data"
    }
   ],
   "source": [
    "plt.show(gg[\"percent_female\"].plot(kind=\"bar\"))"
   ]
  },
  {
   "cell_type": "code",
   "execution_count": 196,
   "id": "645d2239",
   "metadata": {},
   "outputs": [
    {
     "data": {
      "text/html": [
       "<div>\n",
       "<style scoped>\n",
       "    .dataframe tbody tr th:only-of-type {\n",
       "        vertical-align: middle;\n",
       "    }\n",
       "\n",
       "    .dataframe tbody tr th {\n",
       "        vertical-align: top;\n",
       "    }\n",
       "\n",
       "    .dataframe thead th {\n",
       "        text-align: right;\n",
       "    }\n",
       "</style>\n",
       "<table border=\"1\" class=\"dataframe\">\n",
       "  <thead>\n",
       "    <tr style=\"text-align: right;\">\n",
       "      <th></th>\n",
       "      <th>ID</th>\n",
       "      <th>Gender</th>\n",
       "      <th>Income</th>\n",
       "      <th>Age</th>\n",
       "      <th>Rentals</th>\n",
       "      <th>AvgPerVisit</th>\n",
       "      <th>Genre</th>\n",
       "    </tr>\n",
       "  </thead>\n",
       "  <tbody>\n",
       "    <tr>\n",
       "      <th>2</th>\n",
       "      <td>3</td>\n",
       "      <td>F</td>\n",
       "      <td>32000.0</td>\n",
       "      <td>20</td>\n",
       "      <td>42</td>\n",
       "      <td>1.6</td>\n",
       "      <td>Comedy</td>\n",
       "    </tr>\n",
       "    <tr>\n",
       "      <th>5</th>\n",
       "      <td>6</td>\n",
       "      <td>M</td>\n",
       "      <td>18000.0</td>\n",
       "      <td>20</td>\n",
       "      <td>33</td>\n",
       "      <td>1.7</td>\n",
       "      <td>Action</td>\n",
       "    </tr>\n",
       "    <tr>\n",
       "      <th>7</th>\n",
       "      <td>8</td>\n",
       "      <td>M</td>\n",
       "      <td>74000.0</td>\n",
       "      <td>25</td>\n",
       "      <td>31</td>\n",
       "      <td>2.4</td>\n",
       "      <td>Action</td>\n",
       "    </tr>\n",
       "    <tr>\n",
       "      <th>10</th>\n",
       "      <td>11</td>\n",
       "      <td>F</td>\n",
       "      <td>41000.0</td>\n",
       "      <td>22</td>\n",
       "      <td>48</td>\n",
       "      <td>2.3</td>\n",
       "      <td>Drama</td>\n",
       "    </tr>\n",
       "    <tr>\n",
       "      <th>14</th>\n",
       "      <td>15</td>\n",
       "      <td>M</td>\n",
       "      <td>68000.0</td>\n",
       "      <td>30</td>\n",
       "      <td>36</td>\n",
       "      <td>2.7</td>\n",
       "      <td>Comedy</td>\n",
       "    </tr>\n",
       "    <tr>\n",
       "      <th>17</th>\n",
       "      <td>18</td>\n",
       "      <td>F</td>\n",
       "      <td>6000.0</td>\n",
       "      <td>16</td>\n",
       "      <td>39</td>\n",
       "      <td>1.8</td>\n",
       "      <td>Action</td>\n",
       "    </tr>\n",
       "    <tr>\n",
       "      <th>18</th>\n",
       "      <td>19</td>\n",
       "      <td>F</td>\n",
       "      <td>24000.0</td>\n",
       "      <td>25</td>\n",
       "      <td>41</td>\n",
       "      <td>3.1</td>\n",
       "      <td>Comedy</td>\n",
       "    </tr>\n",
       "    <tr>\n",
       "      <th>22</th>\n",
       "      <td>23</td>\n",
       "      <td>F</td>\n",
       "      <td>2000.0</td>\n",
       "      <td>15</td>\n",
       "      <td>30</td>\n",
       "      <td>2.5</td>\n",
       "      <td>Comedy</td>\n",
       "    </tr>\n",
       "    <tr>\n",
       "      <th>25</th>\n",
       "      <td>26</td>\n",
       "      <td>F</td>\n",
       "      <td>56000.0</td>\n",
       "      <td>35</td>\n",
       "      <td>40</td>\n",
       "      <td>2.6</td>\n",
       "      <td>Action</td>\n",
       "    </tr>\n",
       "    <tr>\n",
       "      <th>26</th>\n",
       "      <td>27</td>\n",
       "      <td>F</td>\n",
       "      <td>62000.0</td>\n",
       "      <td>47</td>\n",
       "      <td>32</td>\n",
       "      <td>3.6</td>\n",
       "      <td>Drama</td>\n",
       "    </tr>\n",
       "    <tr>\n",
       "      <th>28</th>\n",
       "      <td>29</td>\n",
       "      <td>F</td>\n",
       "      <td>15000.0</td>\n",
       "      <td>18</td>\n",
       "      <td>37</td>\n",
       "      <td>2.1</td>\n",
       "      <td>Action</td>\n",
       "    </tr>\n",
       "    <tr>\n",
       "      <th>34</th>\n",
       "      <td>35</td>\n",
       "      <td>M</td>\n",
       "      <td>74000.0</td>\n",
       "      <td>29</td>\n",
       "      <td>43</td>\n",
       "      <td>4.6</td>\n",
       "      <td>Action</td>\n",
       "    </tr>\n",
       "    <tr>\n",
       "      <th>35</th>\n",
       "      <td>36</td>\n",
       "      <td>F</td>\n",
       "      <td>29000.0</td>\n",
       "      <td>21</td>\n",
       "      <td>34</td>\n",
       "      <td>2.3</td>\n",
       "      <td>Comedy</td>\n",
       "    </tr>\n",
       "    <tr>\n",
       "      <th>39</th>\n",
       "      <td>40</td>\n",
       "      <td>M</td>\n",
       "      <td>17000.0</td>\n",
       "      <td>19</td>\n",
       "      <td>32</td>\n",
       "      <td>1.8</td>\n",
       "      <td>Action</td>\n",
       "    </tr>\n",
       "  </tbody>\n",
       "</table>\n",
       "</div>"
      ],
      "text/plain": [
       "    ID Gender   Income  Age  Rentals  AvgPerVisit   Genre\n",
       "2    3      F  32000.0   20       42          1.6  Comedy\n",
       "5    6      M  18000.0   20       33          1.7  Action\n",
       "7    8      M  74000.0   25       31          2.4  Action\n",
       "10  11      F  41000.0   22       48          2.3   Drama\n",
       "14  15      M  68000.0   30       36          2.7  Comedy\n",
       "17  18      F   6000.0   16       39          1.8  Action\n",
       "18  19      F  24000.0   25       41          3.1  Comedy\n",
       "22  23      F   2000.0   15       30          2.5  Comedy\n",
       "25  26      F  56000.0   35       40          2.6  Action\n",
       "26  27      F  62000.0   47       32          3.6   Drama\n",
       "28  29      F  15000.0   18       37          2.1  Action\n",
       "34  35      M  74000.0   29       43          4.6  Action\n",
       "35  36      F  29000.0   21       34          2.3  Comedy\n",
       "39  40      M  17000.0   19       32          1.8  Action"
      ]
     },
     "execution_count": 196,
     "metadata": {},
     "output_type": "execute_result"
    }
   ],
   "source": [
    "# Suppose that we would like to find all \"good cutomers\", i.e., those with Rentals value of >= 30:\n",
    "good_cust = vstable[vstable.Rentals>=30]\n",
    "good_cust"
   ]
  },
  {
   "cell_type": "code",
   "execution_count": 197,
   "id": "b3e5f997",
   "metadata": {},
   "outputs": [
    {
     "name": "stdout",
     "output_type": "stream",
     "text": [
      "Good Customers:\n"
     ]
    },
    {
     "data": {
      "text/html": [
       "<div>\n",
       "<style scoped>\n",
       "    .dataframe tbody tr th:only-of-type {\n",
       "        vertical-align: middle;\n",
       "    }\n",
       "\n",
       "    .dataframe tbody tr th {\n",
       "        vertical-align: top;\n",
       "    }\n",
       "\n",
       "    .dataframe thead th {\n",
       "        text-align: right;\n",
       "    }\n",
       "</style>\n",
       "<table border=\"1\" class=\"dataframe\">\n",
       "  <thead>\n",
       "    <tr style=\"text-align: right;\">\n",
       "      <th></th>\n",
       "      <th>ID</th>\n",
       "      <th>Income</th>\n",
       "      <th>Age</th>\n",
       "      <th>Rentals</th>\n",
       "      <th>AvgPerVisit</th>\n",
       "    </tr>\n",
       "  </thead>\n",
       "  <tbody>\n",
       "    <tr>\n",
       "      <th>count</th>\n",
       "      <td>14.000000</td>\n",
       "      <td>14.000000</td>\n",
       "      <td>14.000000</td>\n",
       "      <td>14.000000</td>\n",
       "      <td>14.000000</td>\n",
       "    </tr>\n",
       "    <tr>\n",
       "      <th>mean</th>\n",
       "      <td>21.142857</td>\n",
       "      <td>37000.000000</td>\n",
       "      <td>24.428571</td>\n",
       "      <td>37.000000</td>\n",
       "      <td>2.507143</td>\n",
       "    </tr>\n",
       "    <tr>\n",
       "      <th>std</th>\n",
       "      <td>11.693898</td>\n",
       "      <td>25404.421178</td>\n",
       "      <td>8.599770</td>\n",
       "      <td>5.349335</td>\n",
       "      <td>0.818502</td>\n",
       "    </tr>\n",
       "    <tr>\n",
       "      <th>min</th>\n",
       "      <td>3.000000</td>\n",
       "      <td>2000.000000</td>\n",
       "      <td>15.000000</td>\n",
       "      <td>30.000000</td>\n",
       "      <td>1.600000</td>\n",
       "    </tr>\n",
       "    <tr>\n",
       "      <th>25%</th>\n",
       "      <td>12.000000</td>\n",
       "      <td>17250.000000</td>\n",
       "      <td>19.250000</td>\n",
       "      <td>32.250000</td>\n",
       "      <td>1.875000</td>\n",
       "    </tr>\n",
       "    <tr>\n",
       "      <th>50%</th>\n",
       "      <td>21.000000</td>\n",
       "      <td>30500.000000</td>\n",
       "      <td>21.500000</td>\n",
       "      <td>36.500000</td>\n",
       "      <td>2.350000</td>\n",
       "    </tr>\n",
       "    <tr>\n",
       "      <th>75%</th>\n",
       "      <td>28.500000</td>\n",
       "      <td>60500.000000</td>\n",
       "      <td>28.000000</td>\n",
       "      <td>40.750000</td>\n",
       "      <td>2.675000</td>\n",
       "    </tr>\n",
       "    <tr>\n",
       "      <th>max</th>\n",
       "      <td>40.000000</td>\n",
       "      <td>74000.000000</td>\n",
       "      <td>47.000000</td>\n",
       "      <td>48.000000</td>\n",
       "      <td>4.600000</td>\n",
       "    </tr>\n",
       "  </tbody>\n",
       "</table>\n",
       "</div>"
      ],
      "text/plain": [
       "              ID        Income        Age    Rentals  AvgPerVisit\n",
       "count  14.000000     14.000000  14.000000  14.000000    14.000000\n",
       "mean   21.142857  37000.000000  24.428571  37.000000     2.507143\n",
       "std    11.693898  25404.421178   8.599770   5.349335     0.818502\n",
       "min     3.000000   2000.000000  15.000000  30.000000     1.600000\n",
       "25%    12.000000  17250.000000  19.250000  32.250000     1.875000\n",
       "50%    21.000000  30500.000000  21.500000  36.500000     2.350000\n",
       "75%    28.500000  60500.000000  28.000000  40.750000     2.675000\n",
       "max    40.000000  74000.000000  47.000000  48.000000     4.600000"
      ]
     },
     "execution_count": 197,
     "metadata": {},
     "output_type": "execute_result"
    }
   ],
   "source": [
    "print(\"Good Customers:\")\n",
    "good_cust.describe()"
   ]
  },
  {
   "cell_type": "code",
   "execution_count": 198,
   "id": "e6770d06",
   "metadata": {},
   "outputs": [
    {
     "name": "stdout",
     "output_type": "stream",
     "text": [
      "All Customers:\n"
     ]
    },
    {
     "data": {
      "text/html": [
       "<div>\n",
       "<style scoped>\n",
       "    .dataframe tbody tr th:only-of-type {\n",
       "        vertical-align: middle;\n",
       "    }\n",
       "\n",
       "    .dataframe tbody tr th {\n",
       "        vertical-align: top;\n",
       "    }\n",
       "\n",
       "    .dataframe thead th {\n",
       "        text-align: right;\n",
       "    }\n",
       "</style>\n",
       "<table border=\"1\" class=\"dataframe\">\n",
       "  <thead>\n",
       "    <tr style=\"text-align: right;\">\n",
       "      <th></th>\n",
       "      <th>ID</th>\n",
       "      <th>Income</th>\n",
       "      <th>Age</th>\n",
       "      <th>Rentals</th>\n",
       "      <th>AvgPerVisit</th>\n",
       "    </tr>\n",
       "  </thead>\n",
       "  <tbody>\n",
       "    <tr>\n",
       "      <th>count</th>\n",
       "      <td>40.000000</td>\n",
       "      <td>40.000000</td>\n",
       "      <td>40.000000</td>\n",
       "      <td>40.000000</td>\n",
       "      <td>40.000000</td>\n",
       "    </tr>\n",
       "    <tr>\n",
       "      <th>mean</th>\n",
       "      <td>20.500000</td>\n",
       "      <td>41500.000000</td>\n",
       "      <td>31.500000</td>\n",
       "      <td>26.175000</td>\n",
       "      <td>2.792500</td>\n",
       "    </tr>\n",
       "    <tr>\n",
       "      <th>std</th>\n",
       "      <td>11.690452</td>\n",
       "      <td>22925.744123</td>\n",
       "      <td>12.752074</td>\n",
       "      <td>9.594035</td>\n",
       "      <td>0.833401</td>\n",
       "    </tr>\n",
       "    <tr>\n",
       "      <th>min</th>\n",
       "      <td>1.000000</td>\n",
       "      <td>1000.000000</td>\n",
       "      <td>15.000000</td>\n",
       "      <td>11.000000</td>\n",
       "      <td>1.200000</td>\n",
       "    </tr>\n",
       "    <tr>\n",
       "      <th>25%</th>\n",
       "      <td>10.750000</td>\n",
       "      <td>24750.000000</td>\n",
       "      <td>21.000000</td>\n",
       "      <td>19.000000</td>\n",
       "      <td>2.200000</td>\n",
       "    </tr>\n",
       "    <tr>\n",
       "      <th>50%</th>\n",
       "      <td>20.500000</td>\n",
       "      <td>41000.000000</td>\n",
       "      <td>30.000000</td>\n",
       "      <td>25.000000</td>\n",
       "      <td>2.800000</td>\n",
       "    </tr>\n",
       "    <tr>\n",
       "      <th>75%</th>\n",
       "      <td>30.250000</td>\n",
       "      <td>57500.000000</td>\n",
       "      <td>36.500000</td>\n",
       "      <td>32.250000</td>\n",
       "      <td>3.325000</td>\n",
       "    </tr>\n",
       "    <tr>\n",
       "      <th>max</th>\n",
       "      <td>40.000000</td>\n",
       "      <td>89000.000000</td>\n",
       "      <td>70.000000</td>\n",
       "      <td>48.000000</td>\n",
       "      <td>4.600000</td>\n",
       "    </tr>\n",
       "  </tbody>\n",
       "</table>\n",
       "</div>"
      ],
      "text/plain": [
       "              ID        Income        Age    Rentals  AvgPerVisit\n",
       "count  40.000000     40.000000  40.000000  40.000000    40.000000\n",
       "mean   20.500000  41500.000000  31.500000  26.175000     2.792500\n",
       "std    11.690452  22925.744123  12.752074   9.594035     0.833401\n",
       "min     1.000000   1000.000000  15.000000  11.000000     1.200000\n",
       "25%    10.750000  24750.000000  21.000000  19.000000     2.200000\n",
       "50%    20.500000  41000.000000  30.000000  25.000000     2.800000\n",
       "75%    30.250000  57500.000000  36.500000  32.250000     3.325000\n",
       "max    40.000000  89000.000000  70.000000  48.000000     4.600000"
      ]
     },
     "execution_count": 198,
     "metadata": {},
     "output_type": "execute_result"
    }
   ],
   "source": [
    "print(\"All Customers:\")\n",
    "vstable.describe()"
   ]
  },
  {
   "cell_type": "code",
   "execution_count": 199,
   "id": "d96adf61",
   "metadata": {},
   "outputs": [
    {
     "data": {
      "text/html": [
       "<div>\n",
       "<style scoped>\n",
       "    .dataframe tbody tr th:only-of-type {\n",
       "        vertical-align: middle;\n",
       "    }\n",
       "\n",
       "    .dataframe tbody tr th {\n",
       "        vertical-align: top;\n",
       "    }\n",
       "\n",
       "    .dataframe thead th {\n",
       "        text-align: right;\n",
       "    }\n",
       "</style>\n",
       "<table border=\"1\" class=\"dataframe\">\n",
       "  <thead>\n",
       "    <tr style=\"text-align: right;\">\n",
       "      <th></th>\n",
       "      <th>Gender_F</th>\n",
       "      <th>Gender_M</th>\n",
       "    </tr>\n",
       "  </thead>\n",
       "  <tbody>\n",
       "    <tr>\n",
       "      <th>0</th>\n",
       "      <td>0</td>\n",
       "      <td>1</td>\n",
       "    </tr>\n",
       "    <tr>\n",
       "      <th>1</th>\n",
       "      <td>1</td>\n",
       "      <td>0</td>\n",
       "    </tr>\n",
       "    <tr>\n",
       "      <th>2</th>\n",
       "      <td>1</td>\n",
       "      <td>0</td>\n",
       "    </tr>\n",
       "    <tr>\n",
       "      <th>3</th>\n",
       "      <td>1</td>\n",
       "      <td>0</td>\n",
       "    </tr>\n",
       "    <tr>\n",
       "      <th>4</th>\n",
       "      <td>0</td>\n",
       "      <td>1</td>\n",
       "    </tr>\n",
       "  </tbody>\n",
       "</table>\n",
       "</div>"
      ],
      "text/plain": [
       "   Gender_F  Gender_M\n",
       "0         0         1\n",
       "1         1         0\n",
       "2         1         0\n",
       "3         1         0\n",
       "4         0         1"
      ]
     },
     "execution_count": 199,
     "metadata": {},
     "output_type": "execute_result"
    }
   ],
   "source": [
    "# Creating dummy variables and converting to standard spreadsheet format (all numeric attributes)\n",
    "gender_bin = pd.get_dummies(vstable[\"Gender\"], prefix=\"Gender\")\n",
    "gender_bin.head()"
   ]
  },
  {
   "cell_type": "code",
   "execution_count": 200,
   "id": "51c69881",
   "metadata": {},
   "outputs": [
    {
     "data": {
      "text/html": [
       "<div>\n",
       "<style scoped>\n",
       "    .dataframe tbody tr th:only-of-type {\n",
       "        vertical-align: middle;\n",
       "    }\n",
       "\n",
       "    .dataframe tbody tr th {\n",
       "        vertical-align: top;\n",
       "    }\n",
       "\n",
       "    .dataframe thead th {\n",
       "        text-align: right;\n",
       "    }\n",
       "</style>\n",
       "<table border=\"1\" class=\"dataframe\">\n",
       "  <thead>\n",
       "    <tr style=\"text-align: right;\">\n",
       "      <th></th>\n",
       "      <th>ID</th>\n",
       "      <th>Income</th>\n",
       "      <th>Age</th>\n",
       "      <th>Rentals</th>\n",
       "      <th>AvgPerVisit</th>\n",
       "      <th>Gender_F</th>\n",
       "      <th>Gender_M</th>\n",
       "      <th>Genre_Action</th>\n",
       "      <th>Genre_Comedy</th>\n",
       "      <th>Genre_Drama</th>\n",
       "    </tr>\n",
       "  </thead>\n",
       "  <tbody>\n",
       "    <tr>\n",
       "      <th>0</th>\n",
       "      <td>1</td>\n",
       "      <td>45000.0</td>\n",
       "      <td>25</td>\n",
       "      <td>27</td>\n",
       "      <td>2.5</td>\n",
       "      <td>0</td>\n",
       "      <td>1</td>\n",
       "      <td>1</td>\n",
       "      <td>0</td>\n",
       "      <td>0</td>\n",
       "    </tr>\n",
       "    <tr>\n",
       "      <th>1</th>\n",
       "      <td>2</td>\n",
       "      <td>54000.0</td>\n",
       "      <td>33</td>\n",
       "      <td>12</td>\n",
       "      <td>3.4</td>\n",
       "      <td>1</td>\n",
       "      <td>0</td>\n",
       "      <td>0</td>\n",
       "      <td>0</td>\n",
       "      <td>1</td>\n",
       "    </tr>\n",
       "    <tr>\n",
       "      <th>2</th>\n",
       "      <td>3</td>\n",
       "      <td>32000.0</td>\n",
       "      <td>20</td>\n",
       "      <td>42</td>\n",
       "      <td>1.6</td>\n",
       "      <td>1</td>\n",
       "      <td>0</td>\n",
       "      <td>0</td>\n",
       "      <td>1</td>\n",
       "      <td>0</td>\n",
       "    </tr>\n",
       "    <tr>\n",
       "      <th>3</th>\n",
       "      <td>4</td>\n",
       "      <td>59000.0</td>\n",
       "      <td>70</td>\n",
       "      <td>16</td>\n",
       "      <td>4.2</td>\n",
       "      <td>1</td>\n",
       "      <td>0</td>\n",
       "      <td>0</td>\n",
       "      <td>0</td>\n",
       "      <td>1</td>\n",
       "    </tr>\n",
       "    <tr>\n",
       "      <th>4</th>\n",
       "      <td>5</td>\n",
       "      <td>37000.0</td>\n",
       "      <td>35</td>\n",
       "      <td>25</td>\n",
       "      <td>3.2</td>\n",
       "      <td>0</td>\n",
       "      <td>1</td>\n",
       "      <td>1</td>\n",
       "      <td>0</td>\n",
       "      <td>0</td>\n",
       "    </tr>\n",
       "    <tr>\n",
       "      <th>5</th>\n",
       "      <td>6</td>\n",
       "      <td>18000.0</td>\n",
       "      <td>20</td>\n",
       "      <td>33</td>\n",
       "      <td>1.7</td>\n",
       "      <td>0</td>\n",
       "      <td>1</td>\n",
       "      <td>1</td>\n",
       "      <td>0</td>\n",
       "      <td>0</td>\n",
       "    </tr>\n",
       "    <tr>\n",
       "      <th>6</th>\n",
       "      <td>7</td>\n",
       "      <td>29000.0</td>\n",
       "      <td>45</td>\n",
       "      <td>19</td>\n",
       "      <td>3.8</td>\n",
       "      <td>1</td>\n",
       "      <td>0</td>\n",
       "      <td>0</td>\n",
       "      <td>0</td>\n",
       "      <td>1</td>\n",
       "    </tr>\n",
       "    <tr>\n",
       "      <th>7</th>\n",
       "      <td>8</td>\n",
       "      <td>74000.0</td>\n",
       "      <td>25</td>\n",
       "      <td>31</td>\n",
       "      <td>2.4</td>\n",
       "      <td>0</td>\n",
       "      <td>1</td>\n",
       "      <td>1</td>\n",
       "      <td>0</td>\n",
       "      <td>0</td>\n",
       "    </tr>\n",
       "    <tr>\n",
       "      <th>8</th>\n",
       "      <td>9</td>\n",
       "      <td>38000.0</td>\n",
       "      <td>21</td>\n",
       "      <td>18</td>\n",
       "      <td>2.1</td>\n",
       "      <td>0</td>\n",
       "      <td>1</td>\n",
       "      <td>0</td>\n",
       "      <td>1</td>\n",
       "      <td>0</td>\n",
       "    </tr>\n",
       "    <tr>\n",
       "      <th>9</th>\n",
       "      <td>10</td>\n",
       "      <td>65000.0</td>\n",
       "      <td>40</td>\n",
       "      <td>21</td>\n",
       "      <td>3.3</td>\n",
       "      <td>1</td>\n",
       "      <td>0</td>\n",
       "      <td>0</td>\n",
       "      <td>0</td>\n",
       "      <td>1</td>\n",
       "    </tr>\n",
       "  </tbody>\n",
       "</table>\n",
       "</div>"
      ],
      "text/plain": [
       "   ID   Income  Age  Rentals  AvgPerVisit  Gender_F  Gender_M  Genre_Action  \\\n",
       "0   1  45000.0   25       27          2.5         0         1             1   \n",
       "1   2  54000.0   33       12          3.4         1         0             0   \n",
       "2   3  32000.0   20       42          1.6         1         0             0   \n",
       "3   4  59000.0   70       16          4.2         1         0             0   \n",
       "4   5  37000.0   35       25          3.2         0         1             1   \n",
       "5   6  18000.0   20       33          1.7         0         1             1   \n",
       "6   7  29000.0   45       19          3.8         1         0             0   \n",
       "7   8  74000.0   25       31          2.4         0         1             1   \n",
       "8   9  38000.0   21       18          2.1         0         1             0   \n",
       "9  10  65000.0   40       21          3.3         1         0             0   \n",
       "\n",
       "   Genre_Comedy  Genre_Drama  \n",
       "0             0            0  \n",
       "1             0            1  \n",
       "2             1            0  \n",
       "3             0            1  \n",
       "4             0            0  \n",
       "5             0            0  \n",
       "6             0            1  \n",
       "7             0            0  \n",
       "8             1            0  \n",
       "9             0            1  "
      ]
     },
     "execution_count": 200,
     "metadata": {},
     "output_type": "execute_result"
    }
   ],
   "source": [
    "vs_ssf = pd.get_dummies(vstable)\n",
    "vs_ssf.head(10)"
   ]
  },
  {
   "cell_type": "code",
   "execution_count": 201,
   "id": "6d275a0c",
   "metadata": {},
   "outputs": [
    {
     "data": {
      "text/html": [
       "<div>\n",
       "<style scoped>\n",
       "    .dataframe tbody tr th:only-of-type {\n",
       "        vertical-align: middle;\n",
       "    }\n",
       "\n",
       "    .dataframe tbody tr th {\n",
       "        vertical-align: top;\n",
       "    }\n",
       "\n",
       "    .dataframe thead th {\n",
       "        text-align: right;\n",
       "    }\n",
       "</style>\n",
       "<table border=\"1\" class=\"dataframe\">\n",
       "  <thead>\n",
       "    <tr style=\"text-align: right;\">\n",
       "      <th></th>\n",
       "      <th>ID</th>\n",
       "      <th>Income</th>\n",
       "      <th>Age</th>\n",
       "      <th>Rentals</th>\n",
       "      <th>AvgPerVisit</th>\n",
       "      <th>Gender_F</th>\n",
       "      <th>Gender_M</th>\n",
       "      <th>Genre_Action</th>\n",
       "      <th>Genre_Comedy</th>\n",
       "      <th>Genre_Drama</th>\n",
       "    </tr>\n",
       "  </thead>\n",
       "  <tbody>\n",
       "    <tr>\n",
       "      <th>count</th>\n",
       "      <td>40.000000</td>\n",
       "      <td>40.000000</td>\n",
       "      <td>40.000000</td>\n",
       "      <td>40.000000</td>\n",
       "      <td>40.000000</td>\n",
       "      <td>40.000000</td>\n",
       "      <td>40.000000</td>\n",
       "      <td>40.00000</td>\n",
       "      <td>40.000000</td>\n",
       "      <td>40.000000</td>\n",
       "    </tr>\n",
       "    <tr>\n",
       "      <th>mean</th>\n",
       "      <td>20.500000</td>\n",
       "      <td>41500.000000</td>\n",
       "      <td>31.500000</td>\n",
       "      <td>26.175000</td>\n",
       "      <td>2.792500</td>\n",
       "      <td>0.475000</td>\n",
       "      <td>0.525000</td>\n",
       "      <td>0.37500</td>\n",
       "      <td>0.300000</td>\n",
       "      <td>0.325000</td>\n",
       "    </tr>\n",
       "    <tr>\n",
       "      <th>std</th>\n",
       "      <td>11.690452</td>\n",
       "      <td>22925.744123</td>\n",
       "      <td>12.752074</td>\n",
       "      <td>9.594035</td>\n",
       "      <td>0.833401</td>\n",
       "      <td>0.505736</td>\n",
       "      <td>0.505736</td>\n",
       "      <td>0.49029</td>\n",
       "      <td>0.464095</td>\n",
       "      <td>0.474342</td>\n",
       "    </tr>\n",
       "    <tr>\n",
       "      <th>min</th>\n",
       "      <td>1.000000</td>\n",
       "      <td>1000.000000</td>\n",
       "      <td>15.000000</td>\n",
       "      <td>11.000000</td>\n",
       "      <td>1.200000</td>\n",
       "      <td>0.000000</td>\n",
       "      <td>0.000000</td>\n",
       "      <td>0.00000</td>\n",
       "      <td>0.000000</td>\n",
       "      <td>0.000000</td>\n",
       "    </tr>\n",
       "    <tr>\n",
       "      <th>25%</th>\n",
       "      <td>10.750000</td>\n",
       "      <td>24750.000000</td>\n",
       "      <td>21.000000</td>\n",
       "      <td>19.000000</td>\n",
       "      <td>2.200000</td>\n",
       "      <td>0.000000</td>\n",
       "      <td>0.000000</td>\n",
       "      <td>0.00000</td>\n",
       "      <td>0.000000</td>\n",
       "      <td>0.000000</td>\n",
       "    </tr>\n",
       "    <tr>\n",
       "      <th>50%</th>\n",
       "      <td>20.500000</td>\n",
       "      <td>41000.000000</td>\n",
       "      <td>30.000000</td>\n",
       "      <td>25.000000</td>\n",
       "      <td>2.800000</td>\n",
       "      <td>0.000000</td>\n",
       "      <td>1.000000</td>\n",
       "      <td>0.00000</td>\n",
       "      <td>0.000000</td>\n",
       "      <td>0.000000</td>\n",
       "    </tr>\n",
       "    <tr>\n",
       "      <th>75%</th>\n",
       "      <td>30.250000</td>\n",
       "      <td>57500.000000</td>\n",
       "      <td>36.500000</td>\n",
       "      <td>32.250000</td>\n",
       "      <td>3.325000</td>\n",
       "      <td>1.000000</td>\n",
       "      <td>1.000000</td>\n",
       "      <td>1.00000</td>\n",
       "      <td>1.000000</td>\n",
       "      <td>1.000000</td>\n",
       "    </tr>\n",
       "    <tr>\n",
       "      <th>max</th>\n",
       "      <td>40.000000</td>\n",
       "      <td>89000.000000</td>\n",
       "      <td>70.000000</td>\n",
       "      <td>48.000000</td>\n",
       "      <td>4.600000</td>\n",
       "      <td>1.000000</td>\n",
       "      <td>1.000000</td>\n",
       "      <td>1.00000</td>\n",
       "      <td>1.000000</td>\n",
       "      <td>1.000000</td>\n",
       "    </tr>\n",
       "  </tbody>\n",
       "</table>\n",
       "</div>"
      ],
      "text/plain": [
       "              ID        Income        Age    Rentals  AvgPerVisit   Gender_F  \\\n",
       "count  40.000000     40.000000  40.000000  40.000000    40.000000  40.000000   \n",
       "mean   20.500000  41500.000000  31.500000  26.175000     2.792500   0.475000   \n",
       "std    11.690452  22925.744123  12.752074   9.594035     0.833401   0.505736   \n",
       "min     1.000000   1000.000000  15.000000  11.000000     1.200000   0.000000   \n",
       "25%    10.750000  24750.000000  21.000000  19.000000     2.200000   0.000000   \n",
       "50%    20.500000  41000.000000  30.000000  25.000000     2.800000   0.000000   \n",
       "75%    30.250000  57500.000000  36.500000  32.250000     3.325000   1.000000   \n",
       "max    40.000000  89000.000000  70.000000  48.000000     4.600000   1.000000   \n",
       "\n",
       "        Gender_M  Genre_Action  Genre_Comedy  Genre_Drama  \n",
       "count  40.000000      40.00000     40.000000    40.000000  \n",
       "mean    0.525000       0.37500      0.300000     0.325000  \n",
       "std     0.505736       0.49029      0.464095     0.474342  \n",
       "min     0.000000       0.00000      0.000000     0.000000  \n",
       "25%     0.000000       0.00000      0.000000     0.000000  \n",
       "50%     1.000000       0.00000      0.000000     0.000000  \n",
       "75%     1.000000       1.00000      1.000000     1.000000  \n",
       "max     1.000000       1.00000      1.000000     1.000000  "
      ]
     },
     "execution_count": 201,
     "metadata": {},
     "output_type": "execute_result"
    }
   ],
   "source": [
    "vs_ssf.describe()"
   ]
  },
  {
   "cell_type": "code",
   "execution_count": 202,
   "id": "4106dd4e",
   "metadata": {},
   "outputs": [
    {
     "data": {
      "text/html": [
       "<div>\n",
       "<style scoped>\n",
       "    .dataframe tbody tr th:only-of-type {\n",
       "        vertical-align: middle;\n",
       "    }\n",
       "\n",
       "    .dataframe tbody tr th {\n",
       "        vertical-align: top;\n",
       "    }\n",
       "\n",
       "    .dataframe thead th {\n",
       "        text-align: right;\n",
       "    }\n",
       "</style>\n",
       "<table border=\"1\" class=\"dataframe\">\n",
       "  <thead>\n",
       "    <tr style=\"text-align: right;\">\n",
       "      <th></th>\n",
       "      <th>ID</th>\n",
       "      <th>Income</th>\n",
       "      <th>Age</th>\n",
       "      <th>Rentals</th>\n",
       "      <th>AvgPerVisit</th>\n",
       "      <th>Gender_F</th>\n",
       "      <th>Gender_M</th>\n",
       "      <th>Genre_Action</th>\n",
       "      <th>Genre_Comedy</th>\n",
       "      <th>Genre_Drama</th>\n",
       "    </tr>\n",
       "  </thead>\n",
       "  <tbody>\n",
       "    <tr>\n",
       "      <th>0</th>\n",
       "      <td>0.000000</td>\n",
       "      <td>0.500000</td>\n",
       "      <td>0.181818</td>\n",
       "      <td>0.432432</td>\n",
       "      <td>0.382353</td>\n",
       "      <td>0.0</td>\n",
       "      <td>1.0</td>\n",
       "      <td>1.0</td>\n",
       "      <td>0.0</td>\n",
       "      <td>0.0</td>\n",
       "    </tr>\n",
       "    <tr>\n",
       "      <th>1</th>\n",
       "      <td>0.025641</td>\n",
       "      <td>0.602273</td>\n",
       "      <td>0.327273</td>\n",
       "      <td>0.027027</td>\n",
       "      <td>0.647059</td>\n",
       "      <td>1.0</td>\n",
       "      <td>0.0</td>\n",
       "      <td>0.0</td>\n",
       "      <td>0.0</td>\n",
       "      <td>1.0</td>\n",
       "    </tr>\n",
       "    <tr>\n",
       "      <th>2</th>\n",
       "      <td>0.051282</td>\n",
       "      <td>0.352273</td>\n",
       "      <td>0.090909</td>\n",
       "      <td>0.837838</td>\n",
       "      <td>0.117647</td>\n",
       "      <td>1.0</td>\n",
       "      <td>0.0</td>\n",
       "      <td>0.0</td>\n",
       "      <td>1.0</td>\n",
       "      <td>0.0</td>\n",
       "    </tr>\n",
       "    <tr>\n",
       "      <th>3</th>\n",
       "      <td>0.076923</td>\n",
       "      <td>0.659091</td>\n",
       "      <td>1.000000</td>\n",
       "      <td>0.135135</td>\n",
       "      <td>0.882353</td>\n",
       "      <td>1.0</td>\n",
       "      <td>0.0</td>\n",
       "      <td>0.0</td>\n",
       "      <td>0.0</td>\n",
       "      <td>1.0</td>\n",
       "    </tr>\n",
       "    <tr>\n",
       "      <th>4</th>\n",
       "      <td>0.102564</td>\n",
       "      <td>0.409091</td>\n",
       "      <td>0.363636</td>\n",
       "      <td>0.378378</td>\n",
       "      <td>0.588235</td>\n",
       "      <td>0.0</td>\n",
       "      <td>1.0</td>\n",
       "      <td>1.0</td>\n",
       "      <td>0.0</td>\n",
       "      <td>0.0</td>\n",
       "    </tr>\n",
       "    <tr>\n",
       "      <th>5</th>\n",
       "      <td>0.128205</td>\n",
       "      <td>0.193182</td>\n",
       "      <td>0.090909</td>\n",
       "      <td>0.594595</td>\n",
       "      <td>0.147059</td>\n",
       "      <td>0.0</td>\n",
       "      <td>1.0</td>\n",
       "      <td>1.0</td>\n",
       "      <td>0.0</td>\n",
       "      <td>0.0</td>\n",
       "    </tr>\n",
       "    <tr>\n",
       "      <th>6</th>\n",
       "      <td>0.153846</td>\n",
       "      <td>0.318182</td>\n",
       "      <td>0.545455</td>\n",
       "      <td>0.216216</td>\n",
       "      <td>0.764706</td>\n",
       "      <td>1.0</td>\n",
       "      <td>0.0</td>\n",
       "      <td>0.0</td>\n",
       "      <td>0.0</td>\n",
       "      <td>1.0</td>\n",
       "    </tr>\n",
       "    <tr>\n",
       "      <th>7</th>\n",
       "      <td>0.179487</td>\n",
       "      <td>0.829545</td>\n",
       "      <td>0.181818</td>\n",
       "      <td>0.540541</td>\n",
       "      <td>0.352941</td>\n",
       "      <td>0.0</td>\n",
       "      <td>1.0</td>\n",
       "      <td>1.0</td>\n",
       "      <td>0.0</td>\n",
       "      <td>0.0</td>\n",
       "    </tr>\n",
       "    <tr>\n",
       "      <th>8</th>\n",
       "      <td>0.205128</td>\n",
       "      <td>0.420455</td>\n",
       "      <td>0.109091</td>\n",
       "      <td>0.189189</td>\n",
       "      <td>0.264706</td>\n",
       "      <td>0.0</td>\n",
       "      <td>1.0</td>\n",
       "      <td>0.0</td>\n",
       "      <td>1.0</td>\n",
       "      <td>0.0</td>\n",
       "    </tr>\n",
       "    <tr>\n",
       "      <th>9</th>\n",
       "      <td>0.230769</td>\n",
       "      <td>0.727273</td>\n",
       "      <td>0.454545</td>\n",
       "      <td>0.270270</td>\n",
       "      <td>0.617647</td>\n",
       "      <td>1.0</td>\n",
       "      <td>0.0</td>\n",
       "      <td>0.0</td>\n",
       "      <td>0.0</td>\n",
       "      <td>1.0</td>\n",
       "    </tr>\n",
       "  </tbody>\n",
       "</table>\n",
       "</div>"
      ],
      "text/plain": [
       "         ID    Income       Age   Rentals  AvgPerVisit  Gender_F  Gender_M  \\\n",
       "0  0.000000  0.500000  0.181818  0.432432     0.382353       0.0       1.0   \n",
       "1  0.025641  0.602273  0.327273  0.027027     0.647059       1.0       0.0   \n",
       "2  0.051282  0.352273  0.090909  0.837838     0.117647       1.0       0.0   \n",
       "3  0.076923  0.659091  1.000000  0.135135     0.882353       1.0       0.0   \n",
       "4  0.102564  0.409091  0.363636  0.378378     0.588235       0.0       1.0   \n",
       "5  0.128205  0.193182  0.090909  0.594595     0.147059       0.0       1.0   \n",
       "6  0.153846  0.318182  0.545455  0.216216     0.764706       1.0       0.0   \n",
       "7  0.179487  0.829545  0.181818  0.540541     0.352941       0.0       1.0   \n",
       "8  0.205128  0.420455  0.109091  0.189189     0.264706       0.0       1.0   \n",
       "9  0.230769  0.727273  0.454545  0.270270     0.617647       1.0       0.0   \n",
       "\n",
       "   Genre_Action  Genre_Comedy  Genre_Drama  \n",
       "0           1.0           0.0          0.0  \n",
       "1           0.0           0.0          1.0  \n",
       "2           0.0           1.0          0.0  \n",
       "3           0.0           0.0          1.0  \n",
       "4           1.0           0.0          0.0  \n",
       "5           1.0           0.0          0.0  \n",
       "6           0.0           0.0          1.0  \n",
       "7           1.0           0.0          0.0  \n",
       "8           0.0           1.0          0.0  \n",
       "9           0.0           0.0          1.0  "
      ]
     },
     "execution_count": 202,
     "metadata": {},
     "output_type": "execute_result"
    }
   ],
   "source": [
    "# Min-Max normalization performed on the full numeric data set\n",
    "vs_norm = (vs_ssf - vs_ssf.min()) / (vs_ssf.max()-vs_ssf.min())\n",
    "vs_norm.head(10)"
   ]
  },
  {
   "cell_type": "code",
   "execution_count": 203,
   "id": "49ab5f5c",
   "metadata": {},
   "outputs": [
    {
     "data": {
      "text/html": [
       "<div>\n",
       "<style scoped>\n",
       "    .dataframe tbody tr th:only-of-type {\n",
       "        vertical-align: middle;\n",
       "    }\n",
       "\n",
       "    .dataframe tbody tr th {\n",
       "        vertical-align: top;\n",
       "    }\n",
       "\n",
       "    .dataframe thead th {\n",
       "        text-align: right;\n",
       "    }\n",
       "</style>\n",
       "<table border=\"1\" class=\"dataframe\">\n",
       "  <thead>\n",
       "    <tr style=\"text-align: right;\">\n",
       "      <th></th>\n",
       "      <th>ID</th>\n",
       "      <th>Income</th>\n",
       "      <th>Age</th>\n",
       "      <th>Rentals</th>\n",
       "      <th>AvgPerVisit</th>\n",
       "      <th>Gender_F</th>\n",
       "      <th>Gender_M</th>\n",
       "      <th>Genre_Action</th>\n",
       "      <th>Genre_Comedy</th>\n",
       "      <th>Genre_Drama</th>\n",
       "    </tr>\n",
       "  </thead>\n",
       "  <tbody>\n",
       "    <tr>\n",
       "      <th>ID</th>\n",
       "      <td>1.000000</td>\n",
       "      <td>0.018656</td>\n",
       "      <td>0.000172</td>\n",
       "      <td>-0.043322</td>\n",
       "      <td>-0.002500</td>\n",
       "      <td>-0.058548</td>\n",
       "      <td>0.058548</td>\n",
       "      <td>0.024604</td>\n",
       "      <td>0.151233</td>\n",
       "      <td>-0.173398</td>\n",
       "    </tr>\n",
       "    <tr>\n",
       "      <th>Income</th>\n",
       "      <td>0.018656</td>\n",
       "      <td>1.000000</td>\n",
       "      <td>0.613769</td>\n",
       "      <td>-0.262472</td>\n",
       "      <td>0.468565</td>\n",
       "      <td>-0.036490</td>\n",
       "      <td>0.036490</td>\n",
       "      <td>-0.302256</td>\n",
       "      <td>0.101217</td>\n",
       "      <td>0.213388</td>\n",
       "    </tr>\n",
       "    <tr>\n",
       "      <th>Age</th>\n",
       "      <td>0.000172</td>\n",
       "      <td>0.613769</td>\n",
       "      <td>1.000000</td>\n",
       "      <td>-0.547113</td>\n",
       "      <td>0.629107</td>\n",
       "      <td>0.161022</td>\n",
       "      <td>-0.161022</td>\n",
       "      <td>-0.457274</td>\n",
       "      <td>0.021663</td>\n",
       "      <td>0.451453</td>\n",
       "    </tr>\n",
       "    <tr>\n",
       "      <th>Rentals</th>\n",
       "      <td>-0.043322</td>\n",
       "      <td>-0.262472</td>\n",
       "      <td>-0.547113</td>\n",
       "      <td>1.000000</td>\n",
       "      <td>-0.206353</td>\n",
       "      <td>0.151535</td>\n",
       "      <td>-0.151535</td>\n",
       "      <td>0.307303</td>\n",
       "      <td>-0.035128</td>\n",
       "      <td>-0.283266</td>\n",
       "    </tr>\n",
       "    <tr>\n",
       "      <th>AvgPerVisit</th>\n",
       "      <td>-0.002500</td>\n",
       "      <td>0.468565</td>\n",
       "      <td>0.629107</td>\n",
       "      <td>-0.206353</td>\n",
       "      <td>1.000000</td>\n",
       "      <td>0.203343</td>\n",
       "      <td>-0.203343</td>\n",
       "      <td>-0.306701</td>\n",
       "      <td>-0.119992</td>\n",
       "      <td>0.434413</td>\n",
       "    </tr>\n",
       "    <tr>\n",
       "      <th>Gender_F</th>\n",
       "      <td>-0.058548</td>\n",
       "      <td>-0.036490</td>\n",
       "      <td>0.161022</td>\n",
       "      <td>0.151535</td>\n",
       "      <td>0.203343</td>\n",
       "      <td>1.000000</td>\n",
       "      <td>-1.000000</td>\n",
       "      <td>-0.219744</td>\n",
       "      <td>0.032774</td>\n",
       "      <td>0.195067</td>\n",
       "    </tr>\n",
       "    <tr>\n",
       "      <th>Gender_M</th>\n",
       "      <td>0.058548</td>\n",
       "      <td>0.036490</td>\n",
       "      <td>-0.161022</td>\n",
       "      <td>-0.151535</td>\n",
       "      <td>-0.203343</td>\n",
       "      <td>-1.000000</td>\n",
       "      <td>1.000000</td>\n",
       "      <td>0.219744</td>\n",
       "      <td>-0.032774</td>\n",
       "      <td>-0.195067</td>\n",
       "    </tr>\n",
       "    <tr>\n",
       "      <th>Genre_Action</th>\n",
       "      <td>0.024604</td>\n",
       "      <td>-0.302256</td>\n",
       "      <td>-0.457274</td>\n",
       "      <td>0.307303</td>\n",
       "      <td>-0.306701</td>\n",
       "      <td>-0.219744</td>\n",
       "      <td>0.219744</td>\n",
       "      <td>1.000000</td>\n",
       "      <td>-0.507093</td>\n",
       "      <td>-0.537484</td>\n",
       "    </tr>\n",
       "    <tr>\n",
       "      <th>Genre_Comedy</th>\n",
       "      <td>0.151233</td>\n",
       "      <td>0.101217</td>\n",
       "      <td>0.021663</td>\n",
       "      <td>-0.035128</td>\n",
       "      <td>-0.119992</td>\n",
       "      <td>0.032774</td>\n",
       "      <td>-0.032774</td>\n",
       "      <td>-0.507093</td>\n",
       "      <td>1.000000</td>\n",
       "      <td>-0.454257</td>\n",
       "    </tr>\n",
       "    <tr>\n",
       "      <th>Genre_Drama</th>\n",
       "      <td>-0.173398</td>\n",
       "      <td>0.213388</td>\n",
       "      <td>0.451453</td>\n",
       "      <td>-0.283266</td>\n",
       "      <td>0.434413</td>\n",
       "      <td>0.195067</td>\n",
       "      <td>-0.195067</td>\n",
       "      <td>-0.537484</td>\n",
       "      <td>-0.454257</td>\n",
       "      <td>1.000000</td>\n",
       "    </tr>\n",
       "  </tbody>\n",
       "</table>\n",
       "</div>"
      ],
      "text/plain": [
       "                    ID    Income       Age   Rentals  AvgPerVisit  Gender_F  \\\n",
       "ID            1.000000  0.018656  0.000172 -0.043322    -0.002500 -0.058548   \n",
       "Income        0.018656  1.000000  0.613769 -0.262472     0.468565 -0.036490   \n",
       "Age           0.000172  0.613769  1.000000 -0.547113     0.629107  0.161022   \n",
       "Rentals      -0.043322 -0.262472 -0.547113  1.000000    -0.206353  0.151535   \n",
       "AvgPerVisit  -0.002500  0.468565  0.629107 -0.206353     1.000000  0.203343   \n",
       "Gender_F     -0.058548 -0.036490  0.161022  0.151535     0.203343  1.000000   \n",
       "Gender_M      0.058548  0.036490 -0.161022 -0.151535    -0.203343 -1.000000   \n",
       "Genre_Action  0.024604 -0.302256 -0.457274  0.307303    -0.306701 -0.219744   \n",
       "Genre_Comedy  0.151233  0.101217  0.021663 -0.035128    -0.119992  0.032774   \n",
       "Genre_Drama  -0.173398  0.213388  0.451453 -0.283266     0.434413  0.195067   \n",
       "\n",
       "              Gender_M  Genre_Action  Genre_Comedy  Genre_Drama  \n",
       "ID            0.058548      0.024604      0.151233    -0.173398  \n",
       "Income        0.036490     -0.302256      0.101217     0.213388  \n",
       "Age          -0.161022     -0.457274      0.021663     0.451453  \n",
       "Rentals      -0.151535      0.307303     -0.035128    -0.283266  \n",
       "AvgPerVisit  -0.203343     -0.306701     -0.119992     0.434413  \n",
       "Gender_F     -1.000000     -0.219744      0.032774     0.195067  \n",
       "Gender_M      1.000000      0.219744     -0.032774    -0.195067  \n",
       "Genre_Action  0.219744      1.000000     -0.507093    -0.537484  \n",
       "Genre_Comedy -0.032774     -0.507093      1.000000    -0.454257  \n",
       "Genre_Drama  -0.195067     -0.537484     -0.454257     1.000000  "
      ]
     },
     "execution_count": 203,
     "metadata": {},
     "output_type": "execute_result"
    }
   ],
   "source": [
    "# After converting to all numeric attributes, we can perform correlation analysis on the variable\n",
    "corr_matrix = vs_ssf.corr()\n",
    "corr_matrix"
   ]
  },
  {
   "cell_type": "code",
   "execution_count": 204,
   "id": "3095fba9",
   "metadata": {},
   "outputs": [
    {
     "data": {
      "text/plain": [
       "Rentals         1.000000\n",
       "Genre_Action    0.307303\n",
       "Gender_F        0.151535\n",
       "Genre_Comedy   -0.035128\n",
       "ID             -0.043322\n",
       "Gender_M       -0.151535\n",
       "AvgPerVisit    -0.206353\n",
       "Income         -0.262472\n",
       "Genre_Drama    -0.283266\n",
       "Age            -0.547113\n",
       "Name: Rentals, dtype: float64"
      ]
     },
     "execution_count": 204,
     "metadata": {},
     "output_type": "execute_result"
    }
   ],
   "source": [
    "corr_matrix[\"Rentals\"].sort_values(ascending=False)"
   ]
  },
  {
   "cell_type": "code",
   "execution_count": 205,
   "id": "23f59b16",
   "metadata": {},
   "outputs": [],
   "source": [
    "vs_norm.to_csv(\"Video_Store_Numeric.csv\", float_format=\"%1.2f\")"
   ]
  },
  {
   "cell_type": "code",
   "execution_count": null,
   "id": "c65c1275",
   "metadata": {},
   "outputs": [],
   "source": []
  },
  {
   "cell_type": "code",
   "execution_count": null,
   "id": "feff4f55",
   "metadata": {},
   "outputs": [],
   "source": []
  },
  {
   "cell_type": "markdown",
   "id": "5ba66f94",
   "metadata": {},
   "source": [
    "# Python and Pandas Part-2"
   ]
  },
  {
   "cell_type": "code",
   "execution_count": 215,
   "id": "b07c47a7",
   "metadata": {},
   "outputs": [],
   "source": [
    "import numpy as np\n",
    "import pandas as pd"
   ]
  },
  {
   "cell_type": "code",
   "execution_count": 216,
   "id": "2a40c1ab",
   "metadata": {},
   "outputs": [
    {
     "data": {
      "text/plain": [
       "(50, 8)"
      ]
     },
     "execution_count": 216,
     "metadata": {},
     "output_type": "execute_result"
    }
   ],
   "source": [
    "vstable = pd.read_csv(\"D:/Academic/8th semester/Data Mining Lab/CSV/Video_Store_3.csv\", delimiter=',')\n",
    "vstable.shape"
   ]
  },
  {
   "cell_type": "code",
   "execution_count": 217,
   "id": "6e76e1df",
   "metadata": {},
   "outputs": [
    {
     "data": {
      "text/html": [
       "<div>\n",
       "<style scoped>\n",
       "    .dataframe tbody tr th:only-of-type {\n",
       "        vertical-align: middle;\n",
       "    }\n",
       "\n",
       "    .dataframe tbody tr th {\n",
       "        vertical-align: top;\n",
       "    }\n",
       "\n",
       "    .dataframe thead th {\n",
       "        text-align: right;\n",
       "    }\n",
       "</style>\n",
       "<table border=\"1\" class=\"dataframe\">\n",
       "  <thead>\n",
       "    <tr style=\"text-align: right;\">\n",
       "      <th></th>\n",
       "      <th>Cust ID</th>\n",
       "      <th>Gender</th>\n",
       "      <th>Income</th>\n",
       "      <th>Age</th>\n",
       "      <th>Rentals</th>\n",
       "      <th>Avg Per Visit</th>\n",
       "      <th>Genre</th>\n",
       "      <th>Incidentals</th>\n",
       "    </tr>\n",
       "  </thead>\n",
       "  <tbody>\n",
       "    <tr>\n",
       "      <th>0</th>\n",
       "      <td>1</td>\n",
       "      <td>M</td>\n",
       "      <td>45000</td>\n",
       "      <td>25.0</td>\n",
       "      <td>32</td>\n",
       "      <td>2.5</td>\n",
       "      <td>Action</td>\n",
       "      <td>Yes</td>\n",
       "    </tr>\n",
       "    <tr>\n",
       "      <th>1</th>\n",
       "      <td>2</td>\n",
       "      <td>F</td>\n",
       "      <td>54000</td>\n",
       "      <td>33.0</td>\n",
       "      <td>12</td>\n",
       "      <td>3.4</td>\n",
       "      <td>Drama</td>\n",
       "      <td>No</td>\n",
       "    </tr>\n",
       "    <tr>\n",
       "      <th>2</th>\n",
       "      <td>3</td>\n",
       "      <td>F</td>\n",
       "      <td>32000</td>\n",
       "      <td>NaN</td>\n",
       "      <td>42</td>\n",
       "      <td>1.6</td>\n",
       "      <td>Comedy</td>\n",
       "      <td>No</td>\n",
       "    </tr>\n",
       "    <tr>\n",
       "      <th>3</th>\n",
       "      <td>4</td>\n",
       "      <td>NaN</td>\n",
       "      <td>59000</td>\n",
       "      <td>70.0</td>\n",
       "      <td>16</td>\n",
       "      <td>4.2</td>\n",
       "      <td>Drama</td>\n",
       "      <td>Yes</td>\n",
       "    </tr>\n",
       "    <tr>\n",
       "      <th>4</th>\n",
       "      <td>5</td>\n",
       "      <td>M</td>\n",
       "      <td>37000</td>\n",
       "      <td>35.0</td>\n",
       "      <td>25</td>\n",
       "      <td>3.2</td>\n",
       "      <td>Action</td>\n",
       "      <td>Yes</td>\n",
       "    </tr>\n",
       "    <tr>\n",
       "      <th>5</th>\n",
       "      <td>6</td>\n",
       "      <td>M</td>\n",
       "      <td>18000</td>\n",
       "      <td>20.0</td>\n",
       "      <td>29</td>\n",
       "      <td>1.7</td>\n",
       "      <td>Action</td>\n",
       "      <td>No</td>\n",
       "    </tr>\n",
       "    <tr>\n",
       "      <th>6</th>\n",
       "      <td>7</td>\n",
       "      <td>F</td>\n",
       "      <td>29000</td>\n",
       "      <td>NaN</td>\n",
       "      <td>19</td>\n",
       "      <td>3.8</td>\n",
       "      <td>Drama</td>\n",
       "      <td>No</td>\n",
       "    </tr>\n",
       "    <tr>\n",
       "      <th>7</th>\n",
       "      <td>8</td>\n",
       "      <td>M</td>\n",
       "      <td>74000</td>\n",
       "      <td>25.0</td>\n",
       "      <td>31</td>\n",
       "      <td>2.4</td>\n",
       "      <td>Action</td>\n",
       "      <td>Yes</td>\n",
       "    </tr>\n",
       "    <tr>\n",
       "      <th>8</th>\n",
       "      <td>9</td>\n",
       "      <td>NaN</td>\n",
       "      <td>38000</td>\n",
       "      <td>21.0</td>\n",
       "      <td>18</td>\n",
       "      <td>2.1</td>\n",
       "      <td>Comedy</td>\n",
       "      <td>No</td>\n",
       "    </tr>\n",
       "    <tr>\n",
       "      <th>9</th>\n",
       "      <td>10</td>\n",
       "      <td>F</td>\n",
       "      <td>65000</td>\n",
       "      <td>40.0</td>\n",
       "      <td>21</td>\n",
       "      <td>3.3</td>\n",
       "      <td>Drama</td>\n",
       "      <td>No</td>\n",
       "    </tr>\n",
       "  </tbody>\n",
       "</table>\n",
       "</div>"
      ],
      "text/plain": [
       "   Cust ID Gender  Income   Age  Rentals  Avg Per Visit   Genre Incidentals\n",
       "0        1      M   45000  25.0       32            2.5  Action         Yes\n",
       "1        2      F   54000  33.0       12            3.4   Drama          No\n",
       "2        3      F   32000   NaN       42            1.6  Comedy          No\n",
       "3        4    NaN   59000  70.0       16            4.2   Drama         Yes\n",
       "4        5      M   37000  35.0       25            3.2  Action         Yes\n",
       "5        6      M   18000  20.0       29            1.7  Action          No\n",
       "6        7      F   29000   NaN       19            3.8   Drama          No\n",
       "7        8      M   74000  25.0       31            2.4  Action         Yes\n",
       "8        9    NaN   38000  21.0       18            2.1  Comedy          No\n",
       "9       10      F   65000  40.0       21            3.3   Drama          No"
      ]
     },
     "execution_count": 217,
     "metadata": {},
     "output_type": "execute_result"
    }
   ],
   "source": [
    "vstable.head(10)"
   ]
  },
  {
   "cell_type": "code",
   "execution_count": 218,
   "id": "a83cf9f4",
   "metadata": {},
   "outputs": [
    {
     "name": "stdout",
     "output_type": "stream",
     "text": [
      "<class 'pandas.core.frame.DataFrame'>\n",
      "RangeIndex: 50 entries, 0 to 49\n",
      "Data columns (total 8 columns):\n",
      " #   Column         Non-Null Count  Dtype  \n",
      "---  ------         --------------  -----  \n",
      " 0   Cust ID        50 non-null     int64  \n",
      " 1   Gender         45 non-null     object \n",
      " 2   Income         50 non-null     int64  \n",
      " 3   Age            43 non-null     float64\n",
      " 4   Rentals        50 non-null     int64  \n",
      " 5   Avg Per Visit  50 non-null     float64\n",
      " 6   Genre          50 non-null     object \n",
      " 7   Incidentals    50 non-null     object \n",
      "dtypes: float64(2), int64(3), object(3)\n",
      "memory usage: 3.2+ KB\n"
     ]
    }
   ],
   "source": [
    "vstable.info()"
   ]
  },
  {
   "cell_type": "code",
   "execution_count": 219,
   "id": "838d462f",
   "metadata": {},
   "outputs": [
    {
     "data": {
      "text/html": [
       "<div>\n",
       "<style scoped>\n",
       "    .dataframe tbody tr th:only-of-type {\n",
       "        vertical-align: middle;\n",
       "    }\n",
       "\n",
       "    .dataframe tbody tr th {\n",
       "        vertical-align: top;\n",
       "    }\n",
       "\n",
       "    .dataframe thead th {\n",
       "        text-align: right;\n",
       "    }\n",
       "</style>\n",
       "<table border=\"1\" class=\"dataframe\">\n",
       "  <thead>\n",
       "    <tr style=\"text-align: right;\">\n",
       "      <th></th>\n",
       "      <th>Cust ID</th>\n",
       "      <th>Gender</th>\n",
       "      <th>Income</th>\n",
       "      <th>Age</th>\n",
       "      <th>Rentals</th>\n",
       "      <th>Avg Per Visit</th>\n",
       "      <th>Genre</th>\n",
       "      <th>Incidentals</th>\n",
       "    </tr>\n",
       "  </thead>\n",
       "  <tbody>\n",
       "    <tr>\n",
       "      <th>count</th>\n",
       "      <td>50.00000</td>\n",
       "      <td>45</td>\n",
       "      <td>50.000000</td>\n",
       "      <td>43.000000</td>\n",
       "      <td>50.000000</td>\n",
       "      <td>50.000000</td>\n",
       "      <td>50</td>\n",
       "      <td>50</td>\n",
       "    </tr>\n",
       "    <tr>\n",
       "      <th>unique</th>\n",
       "      <td>NaN</td>\n",
       "      <td>2</td>\n",
       "      <td>NaN</td>\n",
       "      <td>NaN</td>\n",
       "      <td>NaN</td>\n",
       "      <td>NaN</td>\n",
       "      <td>3</td>\n",
       "      <td>2</td>\n",
       "    </tr>\n",
       "    <tr>\n",
       "      <th>top</th>\n",
       "      <td>NaN</td>\n",
       "      <td>F</td>\n",
       "      <td>NaN</td>\n",
       "      <td>NaN</td>\n",
       "      <td>NaN</td>\n",
       "      <td>NaN</td>\n",
       "      <td>Drama</td>\n",
       "      <td>Yes</td>\n",
       "    </tr>\n",
       "    <tr>\n",
       "      <th>freq</th>\n",
       "      <td>NaN</td>\n",
       "      <td>23</td>\n",
       "      <td>NaN</td>\n",
       "      <td>NaN</td>\n",
       "      <td>NaN</td>\n",
       "      <td>NaN</td>\n",
       "      <td>20</td>\n",
       "      <td>26</td>\n",
       "    </tr>\n",
       "    <tr>\n",
       "      <th>mean</th>\n",
       "      <td>25.50000</td>\n",
       "      <td>NaN</td>\n",
       "      <td>42300.000000</td>\n",
       "      <td>30.930233</td>\n",
       "      <td>26.320000</td>\n",
       "      <td>2.748000</td>\n",
       "      <td>NaN</td>\n",
       "      <td>NaN</td>\n",
       "    </tr>\n",
       "    <tr>\n",
       "      <th>std</th>\n",
       "      <td>14.57738</td>\n",
       "      <td>NaN</td>\n",
       "      <td>21409.753642</td>\n",
       "      <td>11.650455</td>\n",
       "      <td>10.047723</td>\n",
       "      <td>0.898125</td>\n",
       "      <td>NaN</td>\n",
       "      <td>NaN</td>\n",
       "    </tr>\n",
       "    <tr>\n",
       "      <th>min</th>\n",
       "      <td>1.00000</td>\n",
       "      <td>NaN</td>\n",
       "      <td>1000.000000</td>\n",
       "      <td>16.000000</td>\n",
       "      <td>9.000000</td>\n",
       "      <td>1.100000</td>\n",
       "      <td>NaN</td>\n",
       "      <td>NaN</td>\n",
       "    </tr>\n",
       "    <tr>\n",
       "      <th>25%</th>\n",
       "      <td>13.25000</td>\n",
       "      <td>NaN</td>\n",
       "      <td>26750.000000</td>\n",
       "      <td>22.000000</td>\n",
       "      <td>19.000000</td>\n",
       "      <td>2.125000</td>\n",
       "      <td>NaN</td>\n",
       "      <td>NaN</td>\n",
       "    </tr>\n",
       "    <tr>\n",
       "      <th>50%</th>\n",
       "      <td>25.50000</td>\n",
       "      <td>NaN</td>\n",
       "      <td>41000.000000</td>\n",
       "      <td>29.000000</td>\n",
       "      <td>25.000000</td>\n",
       "      <td>2.750000</td>\n",
       "      <td>NaN</td>\n",
       "      <td>NaN</td>\n",
       "    </tr>\n",
       "    <tr>\n",
       "      <th>75%</th>\n",
       "      <td>37.75000</td>\n",
       "      <td>NaN</td>\n",
       "      <td>56750.000000</td>\n",
       "      <td>35.000000</td>\n",
       "      <td>32.000000</td>\n",
       "      <td>3.375000</td>\n",
       "      <td>NaN</td>\n",
       "      <td>NaN</td>\n",
       "    </tr>\n",
       "    <tr>\n",
       "      <th>max</th>\n",
       "      <td>50.00000</td>\n",
       "      <td>NaN</td>\n",
       "      <td>89000.000000</td>\n",
       "      <td>70.000000</td>\n",
       "      <td>48.000000</td>\n",
       "      <td>4.700000</td>\n",
       "      <td>NaN</td>\n",
       "      <td>NaN</td>\n",
       "    </tr>\n",
       "  </tbody>\n",
       "</table>\n",
       "</div>"
      ],
      "text/plain": [
       "         Cust ID Gender        Income        Age    Rentals  Avg Per Visit  \\\n",
       "count   50.00000     45     50.000000  43.000000  50.000000      50.000000   \n",
       "unique       NaN      2           NaN        NaN        NaN            NaN   \n",
       "top          NaN      F           NaN        NaN        NaN            NaN   \n",
       "freq         NaN     23           NaN        NaN        NaN            NaN   \n",
       "mean    25.50000    NaN  42300.000000  30.930233  26.320000       2.748000   \n",
       "std     14.57738    NaN  21409.753642  11.650455  10.047723       0.898125   \n",
       "min      1.00000    NaN   1000.000000  16.000000   9.000000       1.100000   \n",
       "25%     13.25000    NaN  26750.000000  22.000000  19.000000       2.125000   \n",
       "50%     25.50000    NaN  41000.000000  29.000000  25.000000       2.750000   \n",
       "75%     37.75000    NaN  56750.000000  35.000000  32.000000       3.375000   \n",
       "max     50.00000    NaN  89000.000000  70.000000  48.000000       4.700000   \n",
       "\n",
       "        Genre Incidentals  \n",
       "count      50          50  \n",
       "unique      3           2  \n",
       "top     Drama         Yes  \n",
       "freq       20          26  \n",
       "mean      NaN         NaN  \n",
       "std       NaN         NaN  \n",
       "min       NaN         NaN  \n",
       "25%       NaN         NaN  \n",
       "50%       NaN         NaN  \n",
       "75%       NaN         NaN  \n",
       "max       NaN         NaN  "
      ]
     },
     "execution_count": 219,
     "metadata": {},
     "output_type": "execute_result"
    }
   ],
   "source": [
    "vstable.describe(include=\"all\")"
   ]
  },
  {
   "cell_type": "code",
   "execution_count": 220,
   "id": "5b62f56b",
   "metadata": {},
   "outputs": [
    {
     "data": {
      "text/html": [
       "<div>\n",
       "<style scoped>\n",
       "    .dataframe tbody tr th:only-of-type {\n",
       "        vertical-align: middle;\n",
       "    }\n",
       "\n",
       "    .dataframe tbody tr th {\n",
       "        vertical-align: top;\n",
       "    }\n",
       "\n",
       "    .dataframe thead th {\n",
       "        text-align: right;\n",
       "    }\n",
       "</style>\n",
       "<table border=\"1\" class=\"dataframe\">\n",
       "  <thead>\n",
       "    <tr style=\"text-align: right;\">\n",
       "      <th></th>\n",
       "      <th>Cust ID</th>\n",
       "      <th>Gender</th>\n",
       "      <th>Income</th>\n",
       "      <th>Age</th>\n",
       "      <th>Rentals</th>\n",
       "      <th>Avg Per Visit</th>\n",
       "      <th>Genre</th>\n",
       "      <th>Incidentals</th>\n",
       "    </tr>\n",
       "  </thead>\n",
       "  <tbody>\n",
       "    <tr>\n",
       "      <th>0</th>\n",
       "      <td>False</td>\n",
       "      <td>False</td>\n",
       "      <td>False</td>\n",
       "      <td>False</td>\n",
       "      <td>False</td>\n",
       "      <td>False</td>\n",
       "      <td>False</td>\n",
       "      <td>False</td>\n",
       "    </tr>\n",
       "    <tr>\n",
       "      <th>1</th>\n",
       "      <td>False</td>\n",
       "      <td>False</td>\n",
       "      <td>False</td>\n",
       "      <td>False</td>\n",
       "      <td>False</td>\n",
       "      <td>False</td>\n",
       "      <td>False</td>\n",
       "      <td>False</td>\n",
       "    </tr>\n",
       "    <tr>\n",
       "      <th>2</th>\n",
       "      <td>False</td>\n",
       "      <td>False</td>\n",
       "      <td>False</td>\n",
       "      <td>True</td>\n",
       "      <td>False</td>\n",
       "      <td>False</td>\n",
       "      <td>False</td>\n",
       "      <td>False</td>\n",
       "    </tr>\n",
       "    <tr>\n",
       "      <th>3</th>\n",
       "      <td>False</td>\n",
       "      <td>True</td>\n",
       "      <td>False</td>\n",
       "      <td>False</td>\n",
       "      <td>False</td>\n",
       "      <td>False</td>\n",
       "      <td>False</td>\n",
       "      <td>False</td>\n",
       "    </tr>\n",
       "    <tr>\n",
       "      <th>4</th>\n",
       "      <td>False</td>\n",
       "      <td>False</td>\n",
       "      <td>False</td>\n",
       "      <td>False</td>\n",
       "      <td>False</td>\n",
       "      <td>False</td>\n",
       "      <td>False</td>\n",
       "      <td>False</td>\n",
       "    </tr>\n",
       "    <tr>\n",
       "      <th>5</th>\n",
       "      <td>False</td>\n",
       "      <td>False</td>\n",
       "      <td>False</td>\n",
       "      <td>False</td>\n",
       "      <td>False</td>\n",
       "      <td>False</td>\n",
       "      <td>False</td>\n",
       "      <td>False</td>\n",
       "    </tr>\n",
       "    <tr>\n",
       "      <th>6</th>\n",
       "      <td>False</td>\n",
       "      <td>False</td>\n",
       "      <td>False</td>\n",
       "      <td>True</td>\n",
       "      <td>False</td>\n",
       "      <td>False</td>\n",
       "      <td>False</td>\n",
       "      <td>False</td>\n",
       "    </tr>\n",
       "    <tr>\n",
       "      <th>7</th>\n",
       "      <td>False</td>\n",
       "      <td>False</td>\n",
       "      <td>False</td>\n",
       "      <td>False</td>\n",
       "      <td>False</td>\n",
       "      <td>False</td>\n",
       "      <td>False</td>\n",
       "      <td>False</td>\n",
       "    </tr>\n",
       "    <tr>\n",
       "      <th>8</th>\n",
       "      <td>False</td>\n",
       "      <td>True</td>\n",
       "      <td>False</td>\n",
       "      <td>False</td>\n",
       "      <td>False</td>\n",
       "      <td>False</td>\n",
       "      <td>False</td>\n",
       "      <td>False</td>\n",
       "    </tr>\n",
       "    <tr>\n",
       "      <th>9</th>\n",
       "      <td>False</td>\n",
       "      <td>False</td>\n",
       "      <td>False</td>\n",
       "      <td>False</td>\n",
       "      <td>False</td>\n",
       "      <td>False</td>\n",
       "      <td>False</td>\n",
       "      <td>False</td>\n",
       "    </tr>\n",
       "  </tbody>\n",
       "</table>\n",
       "</div>"
      ],
      "text/plain": [
       "   Cust ID  Gender  Income    Age  Rentals  Avg Per Visit  Genre  Incidentals\n",
       "0    False   False   False  False    False          False  False        False\n",
       "1    False   False   False  False    False          False  False        False\n",
       "2    False   False   False   True    False          False  False        False\n",
       "3    False    True   False  False    False          False  False        False\n",
       "4    False   False   False  False    False          False  False        False\n",
       "5    False   False   False  False    False          False  False        False\n",
       "6    False   False   False   True    False          False  False        False\n",
       "7    False   False   False  False    False          False  False        False\n",
       "8    False    True   False  False    False          False  False        False\n",
       "9    False   False   False  False    False          False  False        False"
      ]
     },
     "execution_count": 220,
     "metadata": {},
     "output_type": "execute_result"
    }
   ],
   "source": [
    "vstable.isnull()[0:10]"
   ]
  },
  {
   "cell_type": "code",
   "execution_count": 221,
   "id": "27237f15",
   "metadata": {},
   "outputs": [
    {
     "data": {
      "text/html": [
       "<div>\n",
       "<style scoped>\n",
       "    .dataframe tbody tr th:only-of-type {\n",
       "        vertical-align: middle;\n",
       "    }\n",
       "\n",
       "    .dataframe tbody tr th {\n",
       "        vertical-align: top;\n",
       "    }\n",
       "\n",
       "    .dataframe thead th {\n",
       "        text-align: right;\n",
       "    }\n",
       "</style>\n",
       "<table border=\"1\" class=\"dataframe\">\n",
       "  <thead>\n",
       "    <tr style=\"text-align: right;\">\n",
       "      <th></th>\n",
       "      <th>Cust ID</th>\n",
       "      <th>Gender</th>\n",
       "      <th>Income</th>\n",
       "      <th>Age</th>\n",
       "      <th>Rentals</th>\n",
       "      <th>Avg Per Visit</th>\n",
       "      <th>Genre</th>\n",
       "      <th>Incidentals</th>\n",
       "    </tr>\n",
       "  </thead>\n",
       "  <tbody>\n",
       "    <tr>\n",
       "      <th>2</th>\n",
       "      <td>3</td>\n",
       "      <td>F</td>\n",
       "      <td>32000</td>\n",
       "      <td>NaN</td>\n",
       "      <td>42</td>\n",
       "      <td>1.6</td>\n",
       "      <td>Comedy</td>\n",
       "      <td>No</td>\n",
       "    </tr>\n",
       "    <tr>\n",
       "      <th>3</th>\n",
       "      <td>4</td>\n",
       "      <td>NaN</td>\n",
       "      <td>59000</td>\n",
       "      <td>70.0</td>\n",
       "      <td>16</td>\n",
       "      <td>4.2</td>\n",
       "      <td>Drama</td>\n",
       "      <td>Yes</td>\n",
       "    </tr>\n",
       "    <tr>\n",
       "      <th>6</th>\n",
       "      <td>7</td>\n",
       "      <td>F</td>\n",
       "      <td>29000</td>\n",
       "      <td>NaN</td>\n",
       "      <td>19</td>\n",
       "      <td>3.8</td>\n",
       "      <td>Drama</td>\n",
       "      <td>No</td>\n",
       "    </tr>\n",
       "    <tr>\n",
       "      <th>8</th>\n",
       "      <td>9</td>\n",
       "      <td>NaN</td>\n",
       "      <td>38000</td>\n",
       "      <td>21.0</td>\n",
       "      <td>18</td>\n",
       "      <td>2.1</td>\n",
       "      <td>Comedy</td>\n",
       "      <td>No</td>\n",
       "    </tr>\n",
       "    <tr>\n",
       "      <th>13</th>\n",
       "      <td>14</td>\n",
       "      <td>M</td>\n",
       "      <td>45000</td>\n",
       "      <td>NaN</td>\n",
       "      <td>24</td>\n",
       "      <td>2.7</td>\n",
       "      <td>Drama</td>\n",
       "      <td>No</td>\n",
       "    </tr>\n",
       "    <tr>\n",
       "      <th>14</th>\n",
       "      <td>15</td>\n",
       "      <td>NaN</td>\n",
       "      <td>68000</td>\n",
       "      <td>30.0</td>\n",
       "      <td>36</td>\n",
       "      <td>2.7</td>\n",
       "      <td>Comedy</td>\n",
       "      <td>Yes</td>\n",
       "    </tr>\n",
       "    <tr>\n",
       "      <th>22</th>\n",
       "      <td>23</td>\n",
       "      <td>F</td>\n",
       "      <td>2000</td>\n",
       "      <td>NaN</td>\n",
       "      <td>30</td>\n",
       "      <td>2.5</td>\n",
       "      <td>Comedy</td>\n",
       "      <td>No</td>\n",
       "    </tr>\n",
       "    <tr>\n",
       "      <th>24</th>\n",
       "      <td>25</td>\n",
       "      <td>NaN</td>\n",
       "      <td>1000</td>\n",
       "      <td>16.0</td>\n",
       "      <td>25</td>\n",
       "      <td>1.4</td>\n",
       "      <td>Comedy</td>\n",
       "      <td>Yes</td>\n",
       "    </tr>\n",
       "    <tr>\n",
       "      <th>30</th>\n",
       "      <td>31</td>\n",
       "      <td>F</td>\n",
       "      <td>49000</td>\n",
       "      <td>NaN</td>\n",
       "      <td>15</td>\n",
       "      <td>3.2</td>\n",
       "      <td>Comedy</td>\n",
       "      <td>No</td>\n",
       "    </tr>\n",
       "    <tr>\n",
       "      <th>32</th>\n",
       "      <td>33</td>\n",
       "      <td>NaN</td>\n",
       "      <td>23000</td>\n",
       "      <td>25.0</td>\n",
       "      <td>28</td>\n",
       "      <td>2.7</td>\n",
       "      <td>Action</td>\n",
       "      <td>No</td>\n",
       "    </tr>\n",
       "    <tr>\n",
       "      <th>40</th>\n",
       "      <td>41</td>\n",
       "      <td>F</td>\n",
       "      <td>50000</td>\n",
       "      <td>NaN</td>\n",
       "      <td>17</td>\n",
       "      <td>1.4</td>\n",
       "      <td>Drama</td>\n",
       "      <td>No</td>\n",
       "    </tr>\n",
       "    <tr>\n",
       "      <th>45</th>\n",
       "      <td>46</td>\n",
       "      <td>F</td>\n",
       "      <td>57000</td>\n",
       "      <td>NaN</td>\n",
       "      <td>9</td>\n",
       "      <td>1.1</td>\n",
       "      <td>Drama</td>\n",
       "      <td>No</td>\n",
       "    </tr>\n",
       "  </tbody>\n",
       "</table>\n",
       "</div>"
      ],
      "text/plain": [
       "    Cust ID Gender  Income   Age  Rentals  Avg Per Visit   Genre Incidentals\n",
       "2         3      F   32000   NaN       42            1.6  Comedy          No\n",
       "3         4    NaN   59000  70.0       16            4.2   Drama         Yes\n",
       "6         7      F   29000   NaN       19            3.8   Drama          No\n",
       "8         9    NaN   38000  21.0       18            2.1  Comedy          No\n",
       "13       14      M   45000   NaN       24            2.7   Drama          No\n",
       "14       15    NaN   68000  30.0       36            2.7  Comedy         Yes\n",
       "22       23      F    2000   NaN       30            2.5  Comedy          No\n",
       "24       25    NaN    1000  16.0       25            1.4  Comedy         Yes\n",
       "30       31      F   49000   NaN       15            3.2  Comedy          No\n",
       "32       33    NaN   23000  25.0       28            2.7  Action          No\n",
       "40       41      F   50000   NaN       17            1.4   Drama          No\n",
       "45       46      F   57000   NaN        9            1.1   Drama          No"
      ]
     },
     "execution_count": 221,
     "metadata": {},
     "output_type": "execute_result"
    }
   ],
   "source": [
    "vstable[vstable.isnull().any(axis=1)]"
   ]
  },
  {
   "cell_type": "code",
   "execution_count": 222,
   "id": "74d43636",
   "metadata": {},
   "outputs": [
    {
     "data": {
      "text/html": [
       "<div>\n",
       "<style scoped>\n",
       "    .dataframe tbody tr th:only-of-type {\n",
       "        vertical-align: middle;\n",
       "    }\n",
       "\n",
       "    .dataframe tbody tr th {\n",
       "        vertical-align: top;\n",
       "    }\n",
       "\n",
       "    .dataframe thead th {\n",
       "        text-align: right;\n",
       "    }\n",
       "</style>\n",
       "<table border=\"1\" class=\"dataframe\">\n",
       "  <thead>\n",
       "    <tr style=\"text-align: right;\">\n",
       "      <th></th>\n",
       "      <th>Cust ID</th>\n",
       "      <th>Gender</th>\n",
       "      <th>Income</th>\n",
       "      <th>Age</th>\n",
       "      <th>Rentals</th>\n",
       "      <th>Avg Per Visit</th>\n",
       "      <th>Genre</th>\n",
       "      <th>Incidentals</th>\n",
       "    </tr>\n",
       "  </thead>\n",
       "  <tbody>\n",
       "    <tr>\n",
       "      <th>3</th>\n",
       "      <td>4</td>\n",
       "      <td>NaN</td>\n",
       "      <td>59000</td>\n",
       "      <td>70.0</td>\n",
       "      <td>16</td>\n",
       "      <td>4.2</td>\n",
       "      <td>Drama</td>\n",
       "      <td>Yes</td>\n",
       "    </tr>\n",
       "    <tr>\n",
       "      <th>8</th>\n",
       "      <td>9</td>\n",
       "      <td>NaN</td>\n",
       "      <td>38000</td>\n",
       "      <td>21.0</td>\n",
       "      <td>18</td>\n",
       "      <td>2.1</td>\n",
       "      <td>Comedy</td>\n",
       "      <td>No</td>\n",
       "    </tr>\n",
       "    <tr>\n",
       "      <th>14</th>\n",
       "      <td>15</td>\n",
       "      <td>NaN</td>\n",
       "      <td>68000</td>\n",
       "      <td>30.0</td>\n",
       "      <td>36</td>\n",
       "      <td>2.7</td>\n",
       "      <td>Comedy</td>\n",
       "      <td>Yes</td>\n",
       "    </tr>\n",
       "    <tr>\n",
       "      <th>24</th>\n",
       "      <td>25</td>\n",
       "      <td>NaN</td>\n",
       "      <td>1000</td>\n",
       "      <td>16.0</td>\n",
       "      <td>25</td>\n",
       "      <td>1.4</td>\n",
       "      <td>Comedy</td>\n",
       "      <td>Yes</td>\n",
       "    </tr>\n",
       "    <tr>\n",
       "      <th>32</th>\n",
       "      <td>33</td>\n",
       "      <td>NaN</td>\n",
       "      <td>23000</td>\n",
       "      <td>25.0</td>\n",
       "      <td>28</td>\n",
       "      <td>2.7</td>\n",
       "      <td>Action</td>\n",
       "      <td>No</td>\n",
       "    </tr>\n",
       "  </tbody>\n",
       "</table>\n",
       "</div>"
      ],
      "text/plain": [
       "    Cust ID Gender  Income   Age  Rentals  Avg Per Visit   Genre Incidentals\n",
       "3         4    NaN   59000  70.0       16            4.2   Drama         Yes\n",
       "8         9    NaN   38000  21.0       18            2.1  Comedy          No\n",
       "14       15    NaN   68000  30.0       36            2.7  Comedy         Yes\n",
       "24       25    NaN    1000  16.0       25            1.4  Comedy         Yes\n",
       "32       33    NaN   23000  25.0       28            2.7  Action          No"
      ]
     },
     "execution_count": 222,
     "metadata": {},
     "output_type": "execute_result"
    }
   ],
   "source": [
    "vstable[vstable.Gender.isnull()]"
   ]
  },
  {
   "cell_type": "code",
   "execution_count": 223,
   "id": "0b0bf63c",
   "metadata": {},
   "outputs": [],
   "source": [
    "age_mean = vstable.Age.mean()\n",
    "vstable.Age.fillna(age_mean, axis=0, inplace=True)"
   ]
  },
  {
   "cell_type": "code",
   "execution_count": 224,
   "id": "94142cf8",
   "metadata": {},
   "outputs": [
    {
     "data": {
      "text/html": [
       "<div>\n",
       "<style scoped>\n",
       "    .dataframe tbody tr th:only-of-type {\n",
       "        vertical-align: middle;\n",
       "    }\n",
       "\n",
       "    .dataframe tbody tr th {\n",
       "        vertical-align: top;\n",
       "    }\n",
       "\n",
       "    .dataframe thead th {\n",
       "        text-align: right;\n",
       "    }\n",
       "</style>\n",
       "<table border=\"1\" class=\"dataframe\">\n",
       "  <thead>\n",
       "    <tr style=\"text-align: right;\">\n",
       "      <th></th>\n",
       "      <th>Cust ID</th>\n",
       "      <th>Gender</th>\n",
       "      <th>Income</th>\n",
       "      <th>Age</th>\n",
       "      <th>Rentals</th>\n",
       "      <th>Avg Per Visit</th>\n",
       "      <th>Genre</th>\n",
       "      <th>Incidentals</th>\n",
       "    </tr>\n",
       "  </thead>\n",
       "  <tbody>\n",
       "    <tr>\n",
       "      <th>0</th>\n",
       "      <td>1</td>\n",
       "      <td>M</td>\n",
       "      <td>45000</td>\n",
       "      <td>25.000000</td>\n",
       "      <td>32</td>\n",
       "      <td>2.5</td>\n",
       "      <td>Action</td>\n",
       "      <td>Yes</td>\n",
       "    </tr>\n",
       "    <tr>\n",
       "      <th>1</th>\n",
       "      <td>2</td>\n",
       "      <td>F</td>\n",
       "      <td>54000</td>\n",
       "      <td>33.000000</td>\n",
       "      <td>12</td>\n",
       "      <td>3.4</td>\n",
       "      <td>Drama</td>\n",
       "      <td>No</td>\n",
       "    </tr>\n",
       "    <tr>\n",
       "      <th>2</th>\n",
       "      <td>3</td>\n",
       "      <td>F</td>\n",
       "      <td>32000</td>\n",
       "      <td>30.930233</td>\n",
       "      <td>42</td>\n",
       "      <td>1.6</td>\n",
       "      <td>Comedy</td>\n",
       "      <td>No</td>\n",
       "    </tr>\n",
       "    <tr>\n",
       "      <th>3</th>\n",
       "      <td>4</td>\n",
       "      <td>NaN</td>\n",
       "      <td>59000</td>\n",
       "      <td>70.000000</td>\n",
       "      <td>16</td>\n",
       "      <td>4.2</td>\n",
       "      <td>Drama</td>\n",
       "      <td>Yes</td>\n",
       "    </tr>\n",
       "    <tr>\n",
       "      <th>4</th>\n",
       "      <td>5</td>\n",
       "      <td>M</td>\n",
       "      <td>37000</td>\n",
       "      <td>35.000000</td>\n",
       "      <td>25</td>\n",
       "      <td>3.2</td>\n",
       "      <td>Action</td>\n",
       "      <td>Yes</td>\n",
       "    </tr>\n",
       "    <tr>\n",
       "      <th>5</th>\n",
       "      <td>6</td>\n",
       "      <td>M</td>\n",
       "      <td>18000</td>\n",
       "      <td>20.000000</td>\n",
       "      <td>29</td>\n",
       "      <td>1.7</td>\n",
       "      <td>Action</td>\n",
       "      <td>No</td>\n",
       "    </tr>\n",
       "    <tr>\n",
       "      <th>6</th>\n",
       "      <td>7</td>\n",
       "      <td>F</td>\n",
       "      <td>29000</td>\n",
       "      <td>30.930233</td>\n",
       "      <td>19</td>\n",
       "      <td>3.8</td>\n",
       "      <td>Drama</td>\n",
       "      <td>No</td>\n",
       "    </tr>\n",
       "    <tr>\n",
       "      <th>7</th>\n",
       "      <td>8</td>\n",
       "      <td>M</td>\n",
       "      <td>74000</td>\n",
       "      <td>25.000000</td>\n",
       "      <td>31</td>\n",
       "      <td>2.4</td>\n",
       "      <td>Action</td>\n",
       "      <td>Yes</td>\n",
       "    </tr>\n",
       "    <tr>\n",
       "      <th>8</th>\n",
       "      <td>9</td>\n",
       "      <td>NaN</td>\n",
       "      <td>38000</td>\n",
       "      <td>21.000000</td>\n",
       "      <td>18</td>\n",
       "      <td>2.1</td>\n",
       "      <td>Comedy</td>\n",
       "      <td>No</td>\n",
       "    </tr>\n",
       "    <tr>\n",
       "      <th>9</th>\n",
       "      <td>10</td>\n",
       "      <td>F</td>\n",
       "      <td>65000</td>\n",
       "      <td>40.000000</td>\n",
       "      <td>21</td>\n",
       "      <td>3.3</td>\n",
       "      <td>Drama</td>\n",
       "      <td>No</td>\n",
       "    </tr>\n",
       "  </tbody>\n",
       "</table>\n",
       "</div>"
      ],
      "text/plain": [
       "   Cust ID Gender  Income        Age  Rentals  Avg Per Visit   Genre  \\\n",
       "0        1      M   45000  25.000000       32            2.5  Action   \n",
       "1        2      F   54000  33.000000       12            3.4   Drama   \n",
       "2        3      F   32000  30.930233       42            1.6  Comedy   \n",
       "3        4    NaN   59000  70.000000       16            4.2   Drama   \n",
       "4        5      M   37000  35.000000       25            3.2  Action   \n",
       "5        6      M   18000  20.000000       29            1.7  Action   \n",
       "6        7      F   29000  30.930233       19            3.8   Drama   \n",
       "7        8      M   74000  25.000000       31            2.4  Action   \n",
       "8        9    NaN   38000  21.000000       18            2.1  Comedy   \n",
       "9       10      F   65000  40.000000       21            3.3   Drama   \n",
       "\n",
       "  Incidentals  \n",
       "0         Yes  \n",
       "1          No  \n",
       "2          No  \n",
       "3         Yes  \n",
       "4         Yes  \n",
       "5          No  \n",
       "6          No  \n",
       "7         Yes  \n",
       "8          No  \n",
       "9          No  "
      ]
     },
     "execution_count": 224,
     "metadata": {},
     "output_type": "execute_result"
    }
   ],
   "source": [
    "vstable.head(10)"
   ]
  },
  {
   "cell_type": "code",
   "execution_count": 226,
   "id": "44587766",
   "metadata": {},
   "outputs": [
    {
     "data": {
      "text/html": [
       "<div>\n",
       "<style scoped>\n",
       "    .dataframe tbody tr th:only-of-type {\n",
       "        vertical-align: middle;\n",
       "    }\n",
       "\n",
       "    .dataframe tbody tr th {\n",
       "        vertical-align: top;\n",
       "    }\n",
       "\n",
       "    .dataframe thead th {\n",
       "        text-align: right;\n",
       "    }\n",
       "</style>\n",
       "<table border=\"1\" class=\"dataframe\">\n",
       "  <thead>\n",
       "    <tr style=\"text-align: right;\">\n",
       "      <th></th>\n",
       "      <th>Cust ID</th>\n",
       "      <th>Gender</th>\n",
       "      <th>Income</th>\n",
       "      <th>Age</th>\n",
       "      <th>Rentals</th>\n",
       "      <th>Avg Per Visit</th>\n",
       "      <th>Genre</th>\n",
       "      <th>Incidentals</th>\n",
       "    </tr>\n",
       "  </thead>\n",
       "  <tbody>\n",
       "    <tr>\n",
       "      <th>0</th>\n",
       "      <td>1</td>\n",
       "      <td>M</td>\n",
       "      <td>45000</td>\n",
       "      <td>25.000000</td>\n",
       "      <td>32</td>\n",
       "      <td>2.5</td>\n",
       "      <td>Action</td>\n",
       "      <td>Yes</td>\n",
       "    </tr>\n",
       "    <tr>\n",
       "      <th>1</th>\n",
       "      <td>2</td>\n",
       "      <td>F</td>\n",
       "      <td>54000</td>\n",
       "      <td>33.000000</td>\n",
       "      <td>12</td>\n",
       "      <td>3.4</td>\n",
       "      <td>Drama</td>\n",
       "      <td>No</td>\n",
       "    </tr>\n",
       "    <tr>\n",
       "      <th>2</th>\n",
       "      <td>3</td>\n",
       "      <td>F</td>\n",
       "      <td>32000</td>\n",
       "      <td>30.930233</td>\n",
       "      <td>42</td>\n",
       "      <td>1.6</td>\n",
       "      <td>Comedy</td>\n",
       "      <td>No</td>\n",
       "    </tr>\n",
       "    <tr>\n",
       "      <th>4</th>\n",
       "      <td>5</td>\n",
       "      <td>M</td>\n",
       "      <td>37000</td>\n",
       "      <td>35.000000</td>\n",
       "      <td>25</td>\n",
       "      <td>3.2</td>\n",
       "      <td>Action</td>\n",
       "      <td>Yes</td>\n",
       "    </tr>\n",
       "    <tr>\n",
       "      <th>5</th>\n",
       "      <td>6</td>\n",
       "      <td>M</td>\n",
       "      <td>18000</td>\n",
       "      <td>20.000000</td>\n",
       "      <td>29</td>\n",
       "      <td>1.7</td>\n",
       "      <td>Action</td>\n",
       "      <td>No</td>\n",
       "    </tr>\n",
       "    <tr>\n",
       "      <th>6</th>\n",
       "      <td>7</td>\n",
       "      <td>F</td>\n",
       "      <td>29000</td>\n",
       "      <td>30.930233</td>\n",
       "      <td>19</td>\n",
       "      <td>3.8</td>\n",
       "      <td>Drama</td>\n",
       "      <td>No</td>\n",
       "    </tr>\n",
       "    <tr>\n",
       "      <th>7</th>\n",
       "      <td>8</td>\n",
       "      <td>M</td>\n",
       "      <td>74000</td>\n",
       "      <td>25.000000</td>\n",
       "      <td>31</td>\n",
       "      <td>2.4</td>\n",
       "      <td>Action</td>\n",
       "      <td>Yes</td>\n",
       "    </tr>\n",
       "    <tr>\n",
       "      <th>9</th>\n",
       "      <td>10</td>\n",
       "      <td>F</td>\n",
       "      <td>65000</td>\n",
       "      <td>40.000000</td>\n",
       "      <td>21</td>\n",
       "      <td>3.3</td>\n",
       "      <td>Drama</td>\n",
       "      <td>No</td>\n",
       "    </tr>\n",
       "    <tr>\n",
       "      <th>10</th>\n",
       "      <td>11</td>\n",
       "      <td>F</td>\n",
       "      <td>41000</td>\n",
       "      <td>22.000000</td>\n",
       "      <td>48</td>\n",
       "      <td>2.3</td>\n",
       "      <td>Drama</td>\n",
       "      <td>Yes</td>\n",
       "    </tr>\n",
       "    <tr>\n",
       "      <th>11</th>\n",
       "      <td>12</td>\n",
       "      <td>F</td>\n",
       "      <td>26000</td>\n",
       "      <td>22.000000</td>\n",
       "      <td>32</td>\n",
       "      <td>2.9</td>\n",
       "      <td>Action</td>\n",
       "      <td>Yes</td>\n",
       "    </tr>\n",
       "    <tr>\n",
       "      <th>12</th>\n",
       "      <td>13</td>\n",
       "      <td>M</td>\n",
       "      <td>83000</td>\n",
       "      <td>46.000000</td>\n",
       "      <td>14</td>\n",
       "      <td>3.6</td>\n",
       "      <td>Comedy</td>\n",
       "      <td>No</td>\n",
       "    </tr>\n",
       "    <tr>\n",
       "      <th>13</th>\n",
       "      <td>14</td>\n",
       "      <td>M</td>\n",
       "      <td>45000</td>\n",
       "      <td>30.930233</td>\n",
       "      <td>24</td>\n",
       "      <td>2.7</td>\n",
       "      <td>Drama</td>\n",
       "      <td>No</td>\n",
       "    </tr>\n",
       "    <tr>\n",
       "      <th>15</th>\n",
       "      <td>16</td>\n",
       "      <td>M</td>\n",
       "      <td>17000</td>\n",
       "      <td>19.000000</td>\n",
       "      <td>26</td>\n",
       "      <td>2.2</td>\n",
       "      <td>Action</td>\n",
       "      <td>Yes</td>\n",
       "    </tr>\n",
       "    <tr>\n",
       "      <th>16</th>\n",
       "      <td>17</td>\n",
       "      <td>M</td>\n",
       "      <td>36000</td>\n",
       "      <td>35.000000</td>\n",
       "      <td>28</td>\n",
       "      <td>3.5</td>\n",
       "      <td>Drama</td>\n",
       "      <td>Yes</td>\n",
       "    </tr>\n",
       "    <tr>\n",
       "      <th>17</th>\n",
       "      <td>18</td>\n",
       "      <td>F</td>\n",
       "      <td>6000</td>\n",
       "      <td>16.000000</td>\n",
       "      <td>39</td>\n",
       "      <td>1.8</td>\n",
       "      <td>Action</td>\n",
       "      <td>Yes</td>\n",
       "    </tr>\n",
       "  </tbody>\n",
       "</table>\n",
       "</div>"
      ],
      "text/plain": [
       "    Cust ID Gender  Income        Age  Rentals  Avg Per Visit   Genre  \\\n",
       "0         1      M   45000  25.000000       32            2.5  Action   \n",
       "1         2      F   54000  33.000000       12            3.4   Drama   \n",
       "2         3      F   32000  30.930233       42            1.6  Comedy   \n",
       "4         5      M   37000  35.000000       25            3.2  Action   \n",
       "5         6      M   18000  20.000000       29            1.7  Action   \n",
       "6         7      F   29000  30.930233       19            3.8   Drama   \n",
       "7         8      M   74000  25.000000       31            2.4  Action   \n",
       "9        10      F   65000  40.000000       21            3.3   Drama   \n",
       "10       11      F   41000  22.000000       48            2.3   Drama   \n",
       "11       12      F   26000  22.000000       32            2.9  Action   \n",
       "12       13      M   83000  46.000000       14            3.6  Comedy   \n",
       "13       14      M   45000  30.930233       24            2.7   Drama   \n",
       "15       16      M   17000  19.000000       26            2.2  Action   \n",
       "16       17      M   36000  35.000000       28            3.5   Drama   \n",
       "17       18      F    6000  16.000000       39            1.8  Action   \n",
       "\n",
       "   Incidentals  \n",
       "0          Yes  \n",
       "1           No  \n",
       "2           No  \n",
       "4          Yes  \n",
       "5           No  \n",
       "6           No  \n",
       "7          Yes  \n",
       "9           No  \n",
       "10         Yes  \n",
       "11         Yes  \n",
       "12          No  \n",
       "13          No  \n",
       "15         Yes  \n",
       "16         Yes  \n",
       "17         Yes  "
      ]
     },
     "execution_count": 226,
     "metadata": {},
     "output_type": "execute_result"
    }
   ],
   "source": [
    "vstable.drop(vstable[vstable.Gender.isnull()].index, axis=0).head(15)"
   ]
  },
  {
   "cell_type": "code",
   "execution_count": 227,
   "id": "e99502cc",
   "metadata": {},
   "outputs": [
    {
     "data": {
      "text/html": [
       "<div>\n",
       "<style scoped>\n",
       "    .dataframe tbody tr th:only-of-type {\n",
       "        vertical-align: middle;\n",
       "    }\n",
       "\n",
       "    .dataframe tbody tr th {\n",
       "        vertical-align: top;\n",
       "    }\n",
       "\n",
       "    .dataframe thead th {\n",
       "        text-align: right;\n",
       "    }\n",
       "</style>\n",
       "<table border=\"1\" class=\"dataframe\">\n",
       "  <thead>\n",
       "    <tr style=\"text-align: right;\">\n",
       "      <th></th>\n",
       "      <th>Cust ID</th>\n",
       "      <th>Gender</th>\n",
       "      <th>Income</th>\n",
       "      <th>Age</th>\n",
       "      <th>Rentals</th>\n",
       "      <th>Avg Per Visit</th>\n",
       "      <th>Genre</th>\n",
       "      <th>Incidentals</th>\n",
       "    </tr>\n",
       "  </thead>\n",
       "  <tbody>\n",
       "    <tr>\n",
       "      <th>0</th>\n",
       "      <td>1</td>\n",
       "      <td>M</td>\n",
       "      <td>45000</td>\n",
       "      <td>25.000000</td>\n",
       "      <td>32</td>\n",
       "      <td>2.5</td>\n",
       "      <td>Action</td>\n",
       "      <td>Yes</td>\n",
       "    </tr>\n",
       "    <tr>\n",
       "      <th>1</th>\n",
       "      <td>2</td>\n",
       "      <td>F</td>\n",
       "      <td>54000</td>\n",
       "      <td>33.000000</td>\n",
       "      <td>12</td>\n",
       "      <td>3.4</td>\n",
       "      <td>Drama</td>\n",
       "      <td>No</td>\n",
       "    </tr>\n",
       "    <tr>\n",
       "      <th>2</th>\n",
       "      <td>3</td>\n",
       "      <td>F</td>\n",
       "      <td>32000</td>\n",
       "      <td>30.930233</td>\n",
       "      <td>42</td>\n",
       "      <td>1.6</td>\n",
       "      <td>Comedy</td>\n",
       "      <td>No</td>\n",
       "    </tr>\n",
       "    <tr>\n",
       "      <th>3</th>\n",
       "      <td>4</td>\n",
       "      <td>NaN</td>\n",
       "      <td>59000</td>\n",
       "      <td>70.000000</td>\n",
       "      <td>16</td>\n",
       "      <td>4.2</td>\n",
       "      <td>Drama</td>\n",
       "      <td>Yes</td>\n",
       "    </tr>\n",
       "    <tr>\n",
       "      <th>4</th>\n",
       "      <td>5</td>\n",
       "      <td>M</td>\n",
       "      <td>37000</td>\n",
       "      <td>35.000000</td>\n",
       "      <td>25</td>\n",
       "      <td>3.2</td>\n",
       "      <td>Action</td>\n",
       "      <td>Yes</td>\n",
       "    </tr>\n",
       "    <tr>\n",
       "      <th>5</th>\n",
       "      <td>6</td>\n",
       "      <td>M</td>\n",
       "      <td>18000</td>\n",
       "      <td>20.000000</td>\n",
       "      <td>29</td>\n",
       "      <td>1.7</td>\n",
       "      <td>Action</td>\n",
       "      <td>No</td>\n",
       "    </tr>\n",
       "    <tr>\n",
       "      <th>6</th>\n",
       "      <td>7</td>\n",
       "      <td>F</td>\n",
       "      <td>29000</td>\n",
       "      <td>30.930233</td>\n",
       "      <td>19</td>\n",
       "      <td>3.8</td>\n",
       "      <td>Drama</td>\n",
       "      <td>No</td>\n",
       "    </tr>\n",
       "    <tr>\n",
       "      <th>7</th>\n",
       "      <td>8</td>\n",
       "      <td>M</td>\n",
       "      <td>74000</td>\n",
       "      <td>25.000000</td>\n",
       "      <td>31</td>\n",
       "      <td>2.4</td>\n",
       "      <td>Action</td>\n",
       "      <td>Yes</td>\n",
       "    </tr>\n",
       "    <tr>\n",
       "      <th>8</th>\n",
       "      <td>9</td>\n",
       "      <td>NaN</td>\n",
       "      <td>38000</td>\n",
       "      <td>21.000000</td>\n",
       "      <td>18</td>\n",
       "      <td>2.1</td>\n",
       "      <td>Comedy</td>\n",
       "      <td>No</td>\n",
       "    </tr>\n",
       "    <tr>\n",
       "      <th>9</th>\n",
       "      <td>10</td>\n",
       "      <td>F</td>\n",
       "      <td>65000</td>\n",
       "      <td>40.000000</td>\n",
       "      <td>21</td>\n",
       "      <td>3.3</td>\n",
       "      <td>Drama</td>\n",
       "      <td>No</td>\n",
       "    </tr>\n",
       "  </tbody>\n",
       "</table>\n",
       "</div>"
      ],
      "text/plain": [
       "   Cust ID Gender  Income        Age  Rentals  Avg Per Visit   Genre  \\\n",
       "0        1      M   45000  25.000000       32            2.5  Action   \n",
       "1        2      F   54000  33.000000       12            3.4   Drama   \n",
       "2        3      F   32000  30.930233       42            1.6  Comedy   \n",
       "3        4    NaN   59000  70.000000       16            4.2   Drama   \n",
       "4        5      M   37000  35.000000       25            3.2  Action   \n",
       "5        6      M   18000  20.000000       29            1.7  Action   \n",
       "6        7      F   29000  30.930233       19            3.8   Drama   \n",
       "7        8      M   74000  25.000000       31            2.4  Action   \n",
       "8        9    NaN   38000  21.000000       18            2.1  Comedy   \n",
       "9       10      F   65000  40.000000       21            3.3   Drama   \n",
       "\n",
       "  Incidentals  \n",
       "0         Yes  \n",
       "1          No  \n",
       "2          No  \n",
       "3         Yes  \n",
       "4         Yes  \n",
       "5          No  \n",
       "6          No  \n",
       "7         Yes  \n",
       "8          No  \n",
       "9          No  "
      ]
     },
     "execution_count": 227,
     "metadata": {},
     "output_type": "execute_result"
    }
   ],
   "source": [
    "vstable.head(10)"
   ]
  },
  {
   "cell_type": "code",
   "execution_count": 228,
   "id": "bda6e804",
   "metadata": {},
   "outputs": [
    {
     "data": {
      "text/html": [
       "<div>\n",
       "<style scoped>\n",
       "    .dataframe tbody tr th:only-of-type {\n",
       "        vertical-align: middle;\n",
       "    }\n",
       "\n",
       "    .dataframe tbody tr th {\n",
       "        vertical-align: top;\n",
       "    }\n",
       "\n",
       "    .dataframe thead th {\n",
       "        text-align: right;\n",
       "    }\n",
       "</style>\n",
       "<table border=\"1\" class=\"dataframe\">\n",
       "  <thead>\n",
       "    <tr style=\"text-align: right;\">\n",
       "      <th></th>\n",
       "      <th>Cust ID</th>\n",
       "      <th>Gender</th>\n",
       "      <th>Income</th>\n",
       "      <th>Age</th>\n",
       "      <th>Rentals</th>\n",
       "      <th>Avg Per Visit</th>\n",
       "      <th>Genre</th>\n",
       "      <th>Incidentals</th>\n",
       "    </tr>\n",
       "  </thead>\n",
       "  <tbody>\n",
       "    <tr>\n",
       "      <th>0</th>\n",
       "      <td>1</td>\n",
       "      <td>M</td>\n",
       "      <td>45000</td>\n",
       "      <td>25.000000</td>\n",
       "      <td>32</td>\n",
       "      <td>2.5</td>\n",
       "      <td>Action</td>\n",
       "      <td>Yes</td>\n",
       "    </tr>\n",
       "    <tr>\n",
       "      <th>1</th>\n",
       "      <td>2</td>\n",
       "      <td>F</td>\n",
       "      <td>54000</td>\n",
       "      <td>33.000000</td>\n",
       "      <td>12</td>\n",
       "      <td>3.4</td>\n",
       "      <td>Drama</td>\n",
       "      <td>No</td>\n",
       "    </tr>\n",
       "    <tr>\n",
       "      <th>2</th>\n",
       "      <td>3</td>\n",
       "      <td>F</td>\n",
       "      <td>32000</td>\n",
       "      <td>30.930233</td>\n",
       "      <td>42</td>\n",
       "      <td>1.6</td>\n",
       "      <td>Comedy</td>\n",
       "      <td>No</td>\n",
       "    </tr>\n",
       "    <tr>\n",
       "      <th>4</th>\n",
       "      <td>5</td>\n",
       "      <td>M</td>\n",
       "      <td>37000</td>\n",
       "      <td>35.000000</td>\n",
       "      <td>25</td>\n",
       "      <td>3.2</td>\n",
       "      <td>Action</td>\n",
       "      <td>Yes</td>\n",
       "    </tr>\n",
       "    <tr>\n",
       "      <th>5</th>\n",
       "      <td>6</td>\n",
       "      <td>M</td>\n",
       "      <td>18000</td>\n",
       "      <td>20.000000</td>\n",
       "      <td>29</td>\n",
       "      <td>1.7</td>\n",
       "      <td>Action</td>\n",
       "      <td>No</td>\n",
       "    </tr>\n",
       "    <tr>\n",
       "      <th>6</th>\n",
       "      <td>7</td>\n",
       "      <td>F</td>\n",
       "      <td>29000</td>\n",
       "      <td>30.930233</td>\n",
       "      <td>19</td>\n",
       "      <td>3.8</td>\n",
       "      <td>Drama</td>\n",
       "      <td>No</td>\n",
       "    </tr>\n",
       "    <tr>\n",
       "      <th>7</th>\n",
       "      <td>8</td>\n",
       "      <td>M</td>\n",
       "      <td>74000</td>\n",
       "      <td>25.000000</td>\n",
       "      <td>31</td>\n",
       "      <td>2.4</td>\n",
       "      <td>Action</td>\n",
       "      <td>Yes</td>\n",
       "    </tr>\n",
       "    <tr>\n",
       "      <th>9</th>\n",
       "      <td>10</td>\n",
       "      <td>F</td>\n",
       "      <td>65000</td>\n",
       "      <td>40.000000</td>\n",
       "      <td>21</td>\n",
       "      <td>3.3</td>\n",
       "      <td>Drama</td>\n",
       "      <td>No</td>\n",
       "    </tr>\n",
       "    <tr>\n",
       "      <th>10</th>\n",
       "      <td>11</td>\n",
       "      <td>F</td>\n",
       "      <td>41000</td>\n",
       "      <td>22.000000</td>\n",
       "      <td>48</td>\n",
       "      <td>2.3</td>\n",
       "      <td>Drama</td>\n",
       "      <td>Yes</td>\n",
       "    </tr>\n",
       "    <tr>\n",
       "      <th>11</th>\n",
       "      <td>12</td>\n",
       "      <td>F</td>\n",
       "      <td>26000</td>\n",
       "      <td>22.000000</td>\n",
       "      <td>32</td>\n",
       "      <td>2.9</td>\n",
       "      <td>Action</td>\n",
       "      <td>Yes</td>\n",
       "    </tr>\n",
       "  </tbody>\n",
       "</table>\n",
       "</div>"
      ],
      "text/plain": [
       "    Cust ID Gender  Income        Age  Rentals  Avg Per Visit   Genre  \\\n",
       "0         1      M   45000  25.000000       32            2.5  Action   \n",
       "1         2      F   54000  33.000000       12            3.4   Drama   \n",
       "2         3      F   32000  30.930233       42            1.6  Comedy   \n",
       "4         5      M   37000  35.000000       25            3.2  Action   \n",
       "5         6      M   18000  20.000000       29            1.7  Action   \n",
       "6         7      F   29000  30.930233       19            3.8   Drama   \n",
       "7         8      M   74000  25.000000       31            2.4  Action   \n",
       "9        10      F   65000  40.000000       21            3.3   Drama   \n",
       "10       11      F   41000  22.000000       48            2.3   Drama   \n",
       "11       12      F   26000  22.000000       32            2.9  Action   \n",
       "\n",
       "   Incidentals  \n",
       "0          Yes  \n",
       "1           No  \n",
       "2           No  \n",
       "4          Yes  \n",
       "5           No  \n",
       "6           No  \n",
       "7          Yes  \n",
       "9           No  \n",
       "10         Yes  \n",
       "11         Yes  "
      ]
     },
     "execution_count": 228,
     "metadata": {},
     "output_type": "execute_result"
    }
   ],
   "source": [
    "# To permanently remove the rows with NaN Gender values, use the \"inplace\" parameter in the \"drop\" function.\n",
    "vstable.drop(vstable[vstable.Gender.isnull()].index, axis=0, inplace=True)\n",
    "vstable.head(10)"
   ]
  },
  {
   "cell_type": "code",
   "execution_count": null,
   "id": "aa84da84",
   "metadata": {},
   "outputs": [],
   "source": []
  },
  {
   "cell_type": "code",
   "execution_count": null,
   "id": "01423663",
   "metadata": {},
   "outputs": [],
   "source": []
  },
  {
   "cell_type": "code",
   "execution_count": 229,
   "id": "08c56c02",
   "metadata": {},
   "outputs": [
    {
     "data": {
      "text/html": [
       "<div>\n",
       "<style scoped>\n",
       "    .dataframe tbody tr th:only-of-type {\n",
       "        vertical-align: middle;\n",
       "    }\n",
       "\n",
       "    .dataframe tbody tr th {\n",
       "        vertical-align: top;\n",
       "    }\n",
       "\n",
       "    .dataframe thead th {\n",
       "        text-align: right;\n",
       "    }\n",
       "</style>\n",
       "<table border=\"1\" class=\"dataframe\">\n",
       "  <thead>\n",
       "    <tr style=\"text-align: right;\">\n",
       "      <th></th>\n",
       "      <th>Cust ID</th>\n",
       "      <th>Gender</th>\n",
       "      <th>Income</th>\n",
       "      <th>Age</th>\n",
       "      <th>Rentals</th>\n",
       "      <th>Avg Per Visit</th>\n",
       "      <th>Genre</th>\n",
       "      <th>Incidentals</th>\n",
       "    </tr>\n",
       "  </thead>\n",
       "  <tbody>\n",
       "    <tr>\n",
       "      <th>0</th>\n",
       "      <td>1</td>\n",
       "      <td>M</td>\n",
       "      <td>45000</td>\n",
       "      <td>25.0</td>\n",
       "      <td>32</td>\n",
       "      <td>2.5</td>\n",
       "      <td>Action</td>\n",
       "      <td>Yes</td>\n",
       "    </tr>\n",
       "    <tr>\n",
       "      <th>1</th>\n",
       "      <td>2</td>\n",
       "      <td>F</td>\n",
       "      <td>54000</td>\n",
       "      <td>33.0</td>\n",
       "      <td>12</td>\n",
       "      <td>3.4</td>\n",
       "      <td>Drama</td>\n",
       "      <td>No</td>\n",
       "    </tr>\n",
       "    <tr>\n",
       "      <th>2</th>\n",
       "      <td>3</td>\n",
       "      <td>F</td>\n",
       "      <td>32000</td>\n",
       "      <td>NaN</td>\n",
       "      <td>42</td>\n",
       "      <td>1.6</td>\n",
       "      <td>Comedy</td>\n",
       "      <td>No</td>\n",
       "    </tr>\n",
       "    <tr>\n",
       "      <th>3</th>\n",
       "      <td>4</td>\n",
       "      <td>NaN</td>\n",
       "      <td>59000</td>\n",
       "      <td>70.0</td>\n",
       "      <td>16</td>\n",
       "      <td>4.2</td>\n",
       "      <td>Drama</td>\n",
       "      <td>Yes</td>\n",
       "    </tr>\n",
       "    <tr>\n",
       "      <th>4</th>\n",
       "      <td>5</td>\n",
       "      <td>M</td>\n",
       "      <td>37000</td>\n",
       "      <td>35.0</td>\n",
       "      <td>25</td>\n",
       "      <td>3.2</td>\n",
       "      <td>Action</td>\n",
       "      <td>Yes</td>\n",
       "    </tr>\n",
       "    <tr>\n",
       "      <th>5</th>\n",
       "      <td>6</td>\n",
       "      <td>M</td>\n",
       "      <td>18000</td>\n",
       "      <td>20.0</td>\n",
       "      <td>29</td>\n",
       "      <td>1.7</td>\n",
       "      <td>Action</td>\n",
       "      <td>No</td>\n",
       "    </tr>\n",
       "    <tr>\n",
       "      <th>6</th>\n",
       "      <td>7</td>\n",
       "      <td>F</td>\n",
       "      <td>29000</td>\n",
       "      <td>NaN</td>\n",
       "      <td>19</td>\n",
       "      <td>3.8</td>\n",
       "      <td>Drama</td>\n",
       "      <td>No</td>\n",
       "    </tr>\n",
       "    <tr>\n",
       "      <th>7</th>\n",
       "      <td>8</td>\n",
       "      <td>M</td>\n",
       "      <td>74000</td>\n",
       "      <td>25.0</td>\n",
       "      <td>31</td>\n",
       "      <td>2.4</td>\n",
       "      <td>Action</td>\n",
       "      <td>Yes</td>\n",
       "    </tr>\n",
       "    <tr>\n",
       "      <th>8</th>\n",
       "      <td>9</td>\n",
       "      <td>NaN</td>\n",
       "      <td>38000</td>\n",
       "      <td>21.0</td>\n",
       "      <td>18</td>\n",
       "      <td>2.1</td>\n",
       "      <td>Comedy</td>\n",
       "      <td>No</td>\n",
       "    </tr>\n",
       "    <tr>\n",
       "      <th>9</th>\n",
       "      <td>10</td>\n",
       "      <td>F</td>\n",
       "      <td>65000</td>\n",
       "      <td>40.0</td>\n",
       "      <td>21</td>\n",
       "      <td>3.3</td>\n",
       "      <td>Drama</td>\n",
       "      <td>No</td>\n",
       "    </tr>\n",
       "  </tbody>\n",
       "</table>\n",
       "</div>"
      ],
      "text/plain": [
       "   Cust ID Gender  Income   Age  Rentals  Avg Per Visit   Genre Incidentals\n",
       "0        1      M   45000  25.0       32            2.5  Action         Yes\n",
       "1        2      F   54000  33.0       12            3.4   Drama          No\n",
       "2        3      F   32000   NaN       42            1.6  Comedy          No\n",
       "3        4    NaN   59000  70.0       16            4.2   Drama         Yes\n",
       "4        5      M   37000  35.0       25            3.2  Action         Yes\n",
       "5        6      M   18000  20.0       29            1.7  Action          No\n",
       "6        7      F   29000   NaN       19            3.8   Drama          No\n",
       "7        8      M   74000  25.0       31            2.4  Action         Yes\n",
       "8        9    NaN   38000  21.0       18            2.1  Comedy          No\n",
       "9       10      F   65000  40.0       21            3.3   Drama          No"
      ]
     },
     "execution_count": 229,
     "metadata": {},
     "output_type": "execute_result"
    }
   ],
   "source": [
    "vstable2 = pd.read_csv(\"D:/Academic/8th semester/Data Mining Lab/CSV/Video_Store_3.csv\", delimiter=',')\n",
    "vstable2.head(10)"
   ]
  },
  {
   "cell_type": "code",
   "execution_count": 230,
   "id": "fc060a1e",
   "metadata": {},
   "outputs": [
    {
     "data": {
      "text/plain": [
       "(38, 8)"
      ]
     },
     "execution_count": 230,
     "metadata": {},
     "output_type": "execute_result"
    }
   ],
   "source": [
    "vstable2.dropna(axis=0, inplace=True)\n",
    "\n",
    "vstable2.shape"
   ]
  },
  {
   "cell_type": "code",
   "execution_count": 231,
   "id": "fc540ed9",
   "metadata": {},
   "outputs": [
    {
     "data": {
      "text/html": [
       "<div>\n",
       "<style scoped>\n",
       "    .dataframe tbody tr th:only-of-type {\n",
       "        vertical-align: middle;\n",
       "    }\n",
       "\n",
       "    .dataframe tbody tr th {\n",
       "        vertical-align: top;\n",
       "    }\n",
       "\n",
       "    .dataframe thead th {\n",
       "        text-align: right;\n",
       "    }\n",
       "</style>\n",
       "<table border=\"1\" class=\"dataframe\">\n",
       "  <thead>\n",
       "    <tr style=\"text-align: right;\">\n",
       "      <th></th>\n",
       "      <th>Cust ID</th>\n",
       "      <th>Gender</th>\n",
       "      <th>Income</th>\n",
       "      <th>Age</th>\n",
       "      <th>Rentals</th>\n",
       "      <th>Avg Per Visit</th>\n",
       "      <th>Genre</th>\n",
       "      <th>Incidentals</th>\n",
       "    </tr>\n",
       "  </thead>\n",
       "  <tbody>\n",
       "    <tr>\n",
       "      <th>0</th>\n",
       "      <td>1</td>\n",
       "      <td>M</td>\n",
       "      <td>45000</td>\n",
       "      <td>25.0</td>\n",
       "      <td>32</td>\n",
       "      <td>2.5</td>\n",
       "      <td>Action</td>\n",
       "      <td>Yes</td>\n",
       "    </tr>\n",
       "    <tr>\n",
       "      <th>1</th>\n",
       "      <td>2</td>\n",
       "      <td>F</td>\n",
       "      <td>54000</td>\n",
       "      <td>33.0</td>\n",
       "      <td>12</td>\n",
       "      <td>3.4</td>\n",
       "      <td>Drama</td>\n",
       "      <td>No</td>\n",
       "    </tr>\n",
       "    <tr>\n",
       "      <th>4</th>\n",
       "      <td>5</td>\n",
       "      <td>M</td>\n",
       "      <td>37000</td>\n",
       "      <td>35.0</td>\n",
       "      <td>25</td>\n",
       "      <td>3.2</td>\n",
       "      <td>Action</td>\n",
       "      <td>Yes</td>\n",
       "    </tr>\n",
       "    <tr>\n",
       "      <th>5</th>\n",
       "      <td>6</td>\n",
       "      <td>M</td>\n",
       "      <td>18000</td>\n",
       "      <td>20.0</td>\n",
       "      <td>29</td>\n",
       "      <td>1.7</td>\n",
       "      <td>Action</td>\n",
       "      <td>No</td>\n",
       "    </tr>\n",
       "    <tr>\n",
       "      <th>7</th>\n",
       "      <td>8</td>\n",
       "      <td>M</td>\n",
       "      <td>74000</td>\n",
       "      <td>25.0</td>\n",
       "      <td>31</td>\n",
       "      <td>2.4</td>\n",
       "      <td>Action</td>\n",
       "      <td>Yes</td>\n",
       "    </tr>\n",
       "    <tr>\n",
       "      <th>9</th>\n",
       "      <td>10</td>\n",
       "      <td>F</td>\n",
       "      <td>65000</td>\n",
       "      <td>40.0</td>\n",
       "      <td>21</td>\n",
       "      <td>3.3</td>\n",
       "      <td>Drama</td>\n",
       "      <td>No</td>\n",
       "    </tr>\n",
       "    <tr>\n",
       "      <th>10</th>\n",
       "      <td>11</td>\n",
       "      <td>F</td>\n",
       "      <td>41000</td>\n",
       "      <td>22.0</td>\n",
       "      <td>48</td>\n",
       "      <td>2.3</td>\n",
       "      <td>Drama</td>\n",
       "      <td>Yes</td>\n",
       "    </tr>\n",
       "    <tr>\n",
       "      <th>11</th>\n",
       "      <td>12</td>\n",
       "      <td>F</td>\n",
       "      <td>26000</td>\n",
       "      <td>22.0</td>\n",
       "      <td>32</td>\n",
       "      <td>2.9</td>\n",
       "      <td>Action</td>\n",
       "      <td>Yes</td>\n",
       "    </tr>\n",
       "    <tr>\n",
       "      <th>12</th>\n",
       "      <td>13</td>\n",
       "      <td>M</td>\n",
       "      <td>83000</td>\n",
       "      <td>46.0</td>\n",
       "      <td>14</td>\n",
       "      <td>3.6</td>\n",
       "      <td>Comedy</td>\n",
       "      <td>No</td>\n",
       "    </tr>\n",
       "    <tr>\n",
       "      <th>15</th>\n",
       "      <td>16</td>\n",
       "      <td>M</td>\n",
       "      <td>17000</td>\n",
       "      <td>19.0</td>\n",
       "      <td>26</td>\n",
       "      <td>2.2</td>\n",
       "      <td>Action</td>\n",
       "      <td>Yes</td>\n",
       "    </tr>\n",
       "  </tbody>\n",
       "</table>\n",
       "</div>"
      ],
      "text/plain": [
       "    Cust ID Gender  Income   Age  Rentals  Avg Per Visit   Genre Incidentals\n",
       "0         1      M   45000  25.0       32            2.5  Action         Yes\n",
       "1         2      F   54000  33.0       12            3.4   Drama          No\n",
       "4         5      M   37000  35.0       25            3.2  Action         Yes\n",
       "5         6      M   18000  20.0       29            1.7  Action          No\n",
       "7         8      M   74000  25.0       31            2.4  Action         Yes\n",
       "9        10      F   65000  40.0       21            3.3   Drama          No\n",
       "10       11      F   41000  22.0       48            2.3   Drama         Yes\n",
       "11       12      F   26000  22.0       32            2.9  Action         Yes\n",
       "12       13      M   83000  46.0       14            3.6  Comedy          No\n",
       "15       16      M   17000  19.0       26            2.2  Action         Yes"
      ]
     },
     "execution_count": 231,
     "metadata": {},
     "output_type": "execute_result"
    }
   ],
   "source": [
    "vstable2.head(10)"
   ]
  },
  {
   "cell_type": "code",
   "execution_count": null,
   "id": "85f96fb5",
   "metadata": {},
   "outputs": [],
   "source": []
  }
 ],
 "metadata": {
  "kernelspec": {
   "display_name": "Python 3 (ipykernel)",
   "language": "python",
   "name": "python3"
  },
  "language_info": {
   "codemirror_mode": {
    "name": "ipython",
    "version": 3
   },
   "file_extension": ".py",
   "mimetype": "text/x-python",
   "name": "python",
   "nbconvert_exporter": "python",
   "pygments_lexer": "ipython3",
   "version": "3.10.1"
  }
 },
 "nbformat": 4,
 "nbformat_minor": 5
}
