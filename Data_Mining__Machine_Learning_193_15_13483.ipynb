{
  "nbformat": 4,
  "nbformat_minor": 0,
  "metadata": {
    "colab": {
      "name": "Data Mining & Machine Learning: 193-15-13483.ipynb",
      "provenance": [],
      "collapsed_sections": []
    },
    "kernelspec": {
      "name": "python3",
      "display_name": "Python 3"
    },
    "language_info": {
      "name": "python"
    }
  },
  "cells": [
    {
      "cell_type": "code",
      "source": [
        "#Python Basics"
      ],
      "metadata": {
        "id": "ZCa2HekxI97y"
      },
      "execution_count": 42,
      "outputs": []
    },
    {
      "cell_type": "code",
      "source": [
        "2 + 4 * 3"
      ],
      "metadata": {
        "colab": {
          "base_uri": "https://localhost:8080/"
        },
        "id": "mRJ50EYLQ1T5",
        "outputId": "e3ca5fb3-0681-48b2-e721-c7d83760b520"
      },
      "execution_count": 8,
      "outputs": [
        {
          "output_type": "execute_result",
          "data": {
            "text/plain": [
              "14"
            ]
          },
          "metadata": {},
          "execution_count": 8
        }
      ]
    },
    {
      "cell_type": "code",
      "source": [
        "2**4"
      ],
      "metadata": {
        "colab": {
          "base_uri": "https://localhost:8080/"
        },
        "id": "wNiqFFF3IhI7",
        "outputId": "df0a1dea-fac9-4abd-81f8-acb88f8f3109"
      },
      "execution_count": 9,
      "outputs": [
        {
          "output_type": "execute_result",
          "data": {
            "text/plain": [
              "16"
            ]
          },
          "metadata": {},
          "execution_count": 9
        }
      ]
    },
    {
      "cell_type": "code",
      "source": [
        "x = \"Data \" + \"Mining \" + \"and \" + \"Machine\" + \" Learning\"\n",
        "print(x)"
      ],
      "metadata": {
        "colab": {
          "base_uri": "https://localhost:8080/"
        },
        "id": "i41CHP30JepZ",
        "outputId": "d043c9a1-a26c-4575-8e6d-69e2301d9608"
      },
      "execution_count": 43,
      "outputs": [
        {
          "output_type": "stream",
          "name": "stdout",
          "text": [
            "Data Mining and Machine Learning\n"
          ]
        }
      ]
    },
    {
      "cell_type": "code",
      "source": [
        "x.upper()"
      ],
      "metadata": {
        "colab": {
          "base_uri": "https://localhost:8080/",
          "height": 35
        },
        "id": "8eyNTdKVJex5",
        "outputId": "5cf76140-1fd9-4897-d1e1-2c9ae1946f38"
      },
      "execution_count": 44,
      "outputs": [
        {
          "output_type": "execute_result",
          "data": {
            "text/plain": [
              "'DATA MINING AND MACHINE LEARNING'"
            ],
            "application/vnd.google.colaboratory.intrinsic+json": {
              "type": "string"
            }
          },
          "metadata": {},
          "execution_count": 44
        }
      ]
    },
    {
      "cell_type": "code",
      "source": [
        "x.lower()"
      ],
      "metadata": {
        "colab": {
          "base_uri": "https://localhost:8080/",
          "height": 35
        },
        "id": "8fAdTMMIJe0S",
        "outputId": "f93747f6-d08a-4454-c90a-ab4624f8dc72"
      },
      "execution_count": 45,
      "outputs": [
        {
          "output_type": "execute_result",
          "data": {
            "text/plain": [
              "'data mining and machine learning'"
            ],
            "application/vnd.google.colaboratory.intrinsic+json": {
              "type": "string"
            }
          },
          "metadata": {},
          "execution_count": 45
        }
      ]
    },
    {
      "cell_type": "code",
      "source": [
        "len(x)"
      ],
      "metadata": {
        "colab": {
          "base_uri": "https://localhost:8080/"
        },
        "id": "7GWIXxw3Je2n",
        "outputId": "722f2ae2-ceda-4d22-d269-6fd5e4d2525a"
      },
      "execution_count": 46,
      "outputs": [
        {
          "output_type": "execute_result",
          "data": {
            "text/plain": [
              "32"
            ]
          },
          "metadata": {},
          "execution_count": 46
        }
      ]
    },
    {
      "cell_type": "code",
      "source": [
        "a = 7 + 3\n",
        "\n",
        "b = a * 4\n",
        "c = b - 5\n",
        "L = [a,b,c]\n",
        "print(L)"
      ],
      "metadata": {
        "colab": {
          "base_uri": "https://localhost:8080/"
        },
        "id": "_0mI8TBwJe4q",
        "outputId": "874c2c68-1c9b-4069-f349-b07bdbc86a59"
      },
      "execution_count": 47,
      "outputs": [
        {
          "output_type": "stream",
          "name": "stdout",
          "text": [
            "[10, 40, 35]\n"
          ]
        }
      ]
    },
    {
      "cell_type": "code",
      "source": [
        "M = [15, 32, \"d\", 3.5]\n",
        "\n",
        "N = L + M\n",
        "print(N)"
      ],
      "metadata": {
        "colab": {
          "base_uri": "https://localhost:8080/"
        },
        "id": "RzbhcGYIJe7A",
        "outputId": "c396b61d-dc8a-47d7-82e9-d0795accc0b8"
      },
      "execution_count": 48,
      "outputs": [
        {
          "output_type": "stream",
          "name": "stdout",
          "text": [
            "[10, 40, 35, 15, 32, 'd', 3.5]\n"
          ]
        }
      ]
    },
    {
      "cell_type": "code",
      "source": [
        "len(N)"
      ],
      "metadata": {
        "colab": {
          "base_uri": "https://localhost:8080/"
        },
        "id": "pGES5VLQJuw5",
        "outputId": "6646bcf6-864b-4cd2-d3a2-c8a7a2b1411d"
      },
      "execution_count": 49,
      "outputs": [
        {
          "output_type": "execute_result",
          "data": {
            "text/plain": [
              "7"
            ]
          },
          "metadata": {},
          "execution_count": 49
        }
      ]
    },
    {
      "cell_type": "code",
      "source": [
        "N[3]"
      ],
      "metadata": {
        "colab": {
          "base_uri": "https://localhost:8080/"
        },
        "id": "RweI4PvBJuzS",
        "outputId": "288e5def-22ea-4727-8277-919fb34697c1"
      },
      "execution_count": 50,
      "outputs": [
        {
          "output_type": "execute_result",
          "data": {
            "text/plain": [
              "15"
            ]
          },
          "metadata": {},
          "execution_count": 50
        }
      ]
    },
    {
      "cell_type": "code",
      "source": [
        "N[:2]"
      ],
      "metadata": {
        "colab": {
          "base_uri": "https://localhost:8080/"
        },
        "id": "XbSV9TsUJu17",
        "outputId": "48c9f294-b805-465c-8e83-b0dbaf681591"
      },
      "execution_count": 51,
      "outputs": [
        {
          "output_type": "execute_result",
          "data": {
            "text/plain": [
              "[10, 40]"
            ]
          },
          "metadata": {},
          "execution_count": 51
        }
      ]
    },
    {
      "cell_type": "code",
      "source": [
        "N[2:]"
      ],
      "metadata": {
        "colab": {
          "base_uri": "https://localhost:8080/"
        },
        "id": "4jMDytsQJu4g",
        "outputId": "f80134be-bdc2-4ae9-a498-e48fcb74c1ac"
      },
      "execution_count": 52,
      "outputs": [
        {
          "output_type": "execute_result",
          "data": {
            "text/plain": [
              "[35, 15, 32, 'd', 3.5]"
            ]
          },
          "metadata": {},
          "execution_count": 52
        }
      ]
    },
    {
      "cell_type": "code",
      "source": [
        "N[3:6]"
      ],
      "metadata": {
        "colab": {
          "base_uri": "https://localhost:8080/"
        },
        "id": "dTRpC9d7Ju64",
        "outputId": "bb4ba0d0-5dd0-4e75-9c92-50003f0de7dd"
      },
      "execution_count": 53,
      "outputs": [
        {
          "output_type": "execute_result",
          "data": {
            "text/plain": [
              "[15, 32, 'd']"
            ]
          },
          "metadata": {},
          "execution_count": 53
        }
      ]
    },
    {
      "cell_type": "code",
      "source": [
        "# This is what a comment looks like\n",
        "\n",
        "fruits = ['mango','oranges','litchi','bananas']\n",
        "for fruit in fruits:\n",
        "    print(fruit + ' for sale')\n",
        "fruitPrices = {'mango': 2.00, 'oranges': 1.50, 'litchi': 2.75,'bananas': 1.5}\n",
        "for fruit, price in fruitPrices.items():\n",
        "    if price < 2.00:\n",
        "        print('%s cost %f a pound' % (fruit, price))\n",
        "    else:\n",
        "        print(fruit + ' are too expensive!')"
      ],
      "metadata": {
        "colab": {
          "base_uri": "https://localhost:8080/"
        },
        "id": "t9jUQmTjJu9g",
        "outputId": "bb3c5042-0a53-47c1-99f9-30e4d6c0d957"
      },
      "execution_count": 54,
      "outputs": [
        {
          "output_type": "stream",
          "name": "stdout",
          "text": [
            "mango for sale\n",
            "oranges for sale\n",
            "litchi for sale\n",
            "bananas for sale\n",
            "mango are too expensive!\n",
            "oranges cost 1.500000 a pound\n",
            "litchi are too expensive!\n",
            "bananas cost 1.500000 a pound\n"
          ]
        }
      ]
    },
    {
      "cell_type": "code",
      "source": [
        "# Example of python's list comprehension construction:\n",
        "\n",
        "nums = [1,2,3,4,5,6]\n",
        "plusOneNums = [x+1 for x in nums]\n",
        "print(\"plusOneNums =\", plusOneNums)\n",
        "oddNums = [x for x in nums if x % 2 == 1]\n",
        "print(\"oddNums = \", oddNums)\n",
        "oddNumsPlusOne = [x+1 for x in nums if x % 2 ==1]\n",
        "print(\"oddNumsPlusOn = \", oddNumsPlusOne)"
      ],
      "metadata": {
        "colab": {
          "base_uri": "https://localhost:8080/"
        },
        "id": "8-wnWYhfJu_w",
        "outputId": "dc87a094-06bc-4608-ca28-84bb51ea6cea"
      },
      "execution_count": 55,
      "outputs": [
        {
          "output_type": "stream",
          "name": "stdout",
          "text": [
            "plusOneNums = [2, 3, 4, 5, 6, 7]\n",
            "oddNums =  [1, 3, 5]\n",
            "oddNumsPlusOn =  [2, 4, 6]\n"
          ]
        }
      ]
    },
    {
      "cell_type": "code",
      "source": [
        "# Dictionaries\n",
        "\n",
        "studentIds = {'knuth': 42.0, 'turing': 50.0, 'nash': 92.0 }\n",
        "studentIds['turing']"
      ],
      "metadata": {
        "colab": {
          "base_uri": "https://localhost:8080/"
        },
        "id": "-G5a1qxFJvCG",
        "outputId": "fbb23d64-df18-4c15-bb49-1d0103b42753"
      },
      "execution_count": 56,
      "outputs": [
        {
          "output_type": "execute_result",
          "data": {
            "text/plain": [
              "50.0"
            ]
          },
          "metadata": {},
          "execution_count": 56
        }
      ]
    },
    {
      "cell_type": "code",
      "source": [
        "studentIds['ada'] = 97.0\n",
        "studentIds"
      ],
      "metadata": {
        "colab": {
          "base_uri": "https://localhost:8080/"
        },
        "id": "7ANsnwRnJvEV",
        "outputId": "c1312d61-ddca-417f-8b3d-56893e8a97c2"
      },
      "execution_count": 57,
      "outputs": [
        {
          "output_type": "execute_result",
          "data": {
            "text/plain": [
              "{'ada': 97.0, 'knuth': 42.0, 'nash': 92.0, 'turing': 50.0}"
            ]
          },
          "metadata": {},
          "execution_count": 57
        }
      ]
    },
    {
      "cell_type": "code",
      "source": [
        ""
      ],
      "metadata": {
        "id": "TG6TCAxuJvGO"
      },
      "execution_count": null,
      "outputs": []
    },
    {
      "cell_type": "code",
      "source": [
        "del studentIds['knuth']\n",
        "studentIds"
      ],
      "metadata": {
        "colab": {
          "base_uri": "https://localhost:8080/"
        },
        "id": "BBc7lnrHJe9Y",
        "outputId": "4d003cf3-cc1b-4c1c-c8c5-27719512fc8d"
      },
      "execution_count": 58,
      "outputs": [
        {
          "output_type": "execute_result",
          "data": {
            "text/plain": [
              "{'ada': 97.0, 'nash': 92.0, 'turing': 50.0}"
            ]
          },
          "metadata": {},
          "execution_count": 58
        }
      ]
    },
    {
      "cell_type": "code",
      "source": [
        "studentIds['knuth'] = [42.0,'forty-two']\n",
        "studentIds"
      ],
      "metadata": {
        "colab": {
          "base_uri": "https://localhost:8080/"
        },
        "id": "plHl5OLsKHrk",
        "outputId": "888b2341-5e68-4b84-cd5c-cf1937659ac6"
      },
      "execution_count": 59,
      "outputs": [
        {
          "output_type": "execute_result",
          "data": {
            "text/plain": [
              "{'ada': 97.0, 'knuth': [42.0, 'forty-two'], 'nash': 92.0, 'turing': 50.0}"
            ]
          },
          "metadata": {},
          "execution_count": 59
        }
      ]
    },
    {
      "cell_type": "code",
      "source": [
        "studentIds.keys()"
      ],
      "metadata": {
        "colab": {
          "base_uri": "https://localhost:8080/"
        },
        "id": "K56GYnO6KHuE",
        "outputId": "fd151093-68be-414f-cb04-7f235208ec7b"
      },
      "execution_count": 60,
      "outputs": [
        {
          "output_type": "execute_result",
          "data": {
            "text/plain": [
              "dict_keys(['turing', 'nash', 'ada', 'knuth'])"
            ]
          },
          "metadata": {},
          "execution_count": 60
        }
      ]
    },
    {
      "cell_type": "code",
      "source": [
        "studentIds.values()"
      ],
      "metadata": {
        "colab": {
          "base_uri": "https://localhost:8080/"
        },
        "id": "k6XS7IPvKHwc",
        "outputId": "04034b31-8f0e-4ed5-a93b-3cfc8d574e15"
      },
      "execution_count": 61,
      "outputs": [
        {
          "output_type": "execute_result",
          "data": {
            "text/plain": [
              "dict_values([50.0, 92.0, 97.0, [42.0, 'forty-two']])"
            ]
          },
          "metadata": {},
          "execution_count": 61
        }
      ]
    },
    {
      "cell_type": "code",
      "source": [
        "studentIds.items()"
      ],
      "metadata": {
        "colab": {
          "base_uri": "https://localhost:8080/"
        },
        "id": "t79XRKpDKHyi",
        "outputId": "d666def4-3a60-4752-eb84-b1e5584bb398"
      },
      "execution_count": 62,
      "outputs": [
        {
          "output_type": "execute_result",
          "data": {
            "text/plain": [
              "dict_items([('turing', 50.0), ('nash', 92.0), ('ada', 97.0), ('knuth', [42.0, 'forty-two'])])"
            ]
          },
          "metadata": {},
          "execution_count": 62
        }
      ]
    },
    {
      "cell_type": "code",
      "source": [
        "len(studentIds)"
      ],
      "metadata": {
        "colab": {
          "base_uri": "https://localhost:8080/"
        },
        "id": "9KY6VH6AKH01",
        "outputId": "649255c2-9e0f-4cac-d9f3-df28f8274232"
      },
      "execution_count": 63,
      "outputs": [
        {
          "output_type": "execute_result",
          "data": {
            "text/plain": [
              "4"
            ]
          },
          "metadata": {},
          "execution_count": 63
        }
      ]
    },
    {
      "cell_type": "code",
      "source": [
        "#NUMPY"
      ],
      "metadata": {
        "id": "5xCHmDqQKH3H"
      },
      "execution_count": null,
      "outputs": []
    },
    {
      "cell_type": "code",
      "source": [
        "import numpy as np"
      ],
      "metadata": {
        "id": "ZtV6oBuLKH5V"
      },
      "execution_count": 172,
      "outputs": []
    },
    {
      "cell_type": "code",
      "source": [
        "# Creating a 1-d array\n",
        "A = np.array([13,25,3,44,5])\n",
        "A"
      ],
      "metadata": {
        "colab": {
          "base_uri": "https://localhost:8080/"
        },
        "id": "6NRFuUH8KH7I",
        "outputId": "63858421-0ea9-425a-8bea-64ae878fc882"
      },
      "execution_count": 173,
      "outputs": [
        {
          "output_type": "execute_result",
          "data": {
            "text/plain": [
              "array([13, 25,  3, 44,  5])"
            ]
          },
          "metadata": {},
          "execution_count": 173
        }
      ]
    },
    {
      "cell_type": "code",
      "source": [
        "# Creating a 1-d array from an existing Python list\n",
        "\n",
        "L = [11, 22, 23, 42, 55, 46]\n",
        "A = np.array(L)\n",
        "A"
      ],
      "metadata": {
        "colab": {
          "base_uri": "https://localhost:8080/"
        },
        "id": "juUKaqZRKH9D",
        "outputId": "9ba6be9d-affd-4c74-905a-885be431b9de"
      },
      "execution_count": 174,
      "outputs": [
        {
          "output_type": "execute_result",
          "data": {
            "text/plain": [
              "array([11, 22, 23, 42, 55, 46])"
            ]
          },
          "metadata": {},
          "execution_count": 174
        }
      ]
    },
    {
      "cell_type": "code",
      "source": [
        "A / 3"
      ],
      "metadata": {
        "colab": {
          "base_uri": "https://localhost:8080/"
        },
        "id": "0q8LUCsnKH_T",
        "outputId": "ae01e431-8943-409c-bdac-fd76b0f32495"
      },
      "execution_count": 175,
      "outputs": [
        {
          "output_type": "execute_result",
          "data": {
            "text/plain": [
              "array([ 3.6667,  7.3333,  7.6667, 14.    , 18.3333, 15.3333])"
            ]
          },
          "metadata": {},
          "execution_count": 175
        }
      ]
    },
    {
      "cell_type": "code",
      "source": [
        "np.array([1.0,2,3,4,5]) / 6"
      ],
      "metadata": {
        "colab": {
          "base_uri": "https://localhost:8080/"
        },
        "id": "idm6ZrQ_KIBe",
        "outputId": "738376df-2925-4ff6-e51e-3941e35964cf"
      },
      "execution_count": 176,
      "outputs": [
        {
          "output_type": "execute_result",
          "data": {
            "text/plain": [
              "array([0.1667, 0.3333, 0.5   , 0.6667, 0.8333])"
            ]
          },
          "metadata": {},
          "execution_count": 176
        }
      ]
    },
    {
      "cell_type": "code",
      "source": [
        "M = np.array([2, 3, 4, 5, 6, 7])\n",
        "\n",
        "P = L * M\n",
        "P"
      ],
      "metadata": {
        "colab": {
          "base_uri": "https://localhost:8080/"
        },
        "id": "g0QAdtSAKIDi",
        "outputId": "d85c707f-bcf2-4192-983d-fa5d08770f16"
      },
      "execution_count": 177,
      "outputs": [
        {
          "output_type": "execute_result",
          "data": {
            "text/plain": [
              "array([ 22,  66,  92, 210, 330, 322])"
            ]
          },
          "metadata": {},
          "execution_count": 177
        }
      ]
    },
    {
      "cell_type": "code",
      "source": [
        "P.sum()"
      ],
      "metadata": {
        "colab": {
          "base_uri": "https://localhost:8080/"
        },
        "id": "vQwPmUkDKIFy",
        "outputId": "9f49b59c-a02e-49d8-f6b7-23c3eb91adb1"
      },
      "execution_count": 178,
      "outputs": [
        {
          "output_type": "execute_result",
          "data": {
            "text/plain": [
              "1042"
            ]
          },
          "metadata": {},
          "execution_count": 178
        }
      ]
    },
    {
      "cell_type": "code",
      "source": [
        "P.mean()"
      ],
      "metadata": {
        "colab": {
          "base_uri": "https://localhost:8080/"
        },
        "id": "aKJ3c03QKIIJ",
        "outputId": "c91a6da8-b015-44b9-a644-ded1da151e64"
      },
      "execution_count": 179,
      "outputs": [
        {
          "output_type": "execute_result",
          "data": {
            "text/plain": [
              "173.66666666666666"
            ]
          },
          "metadata": {},
          "execution_count": 179
        }
      ]
    },
    {
      "cell_type": "code",
      "source": [
        "# Dot product of two vectors\n",
        "print(L)\n",
        "print(M)\n",
        "np.dot(L, M) # works like sum of M[i]*L[i]"
      ],
      "metadata": {
        "colab": {
          "base_uri": "https://localhost:8080/"
        },
        "id": "jJ3PAgn_KIKs",
        "outputId": "89050a95-b206-409d-8db2-ae6d0968cd2c"
      },
      "execution_count": 180,
      "outputs": [
        {
          "output_type": "stream",
          "name": "stdout",
          "text": [
            "[11, 22, 23, 42, 55, 46]\n",
            "[2 3 4 5 6 7]\n"
          ]
        },
        {
          "output_type": "execute_result",
          "data": {
            "text/plain": [
              "1042"
            ]
          },
          "metadata": {},
          "execution_count": 180
        }
      ]
    },
    {
      "cell_type": "code",
      "source": [
        "# Creating a 2-d array\n",
        "X = np.array([[1,2,3],[4,5,6],[7,8,9]])\n",
        "X"
      ],
      "metadata": {
        "colab": {
          "base_uri": "https://localhost:8080/"
        },
        "id": "RW6k2s7uKIMx",
        "outputId": "ac11a24d-ac56-4528-ffce-2a0f914dd629"
      },
      "execution_count": 181,
      "outputs": [
        {
          "output_type": "execute_result",
          "data": {
            "text/plain": [
              "array([[1, 2, 3],\n",
              "       [4, 5, 6],\n",
              "       [7, 8, 9]])"
            ]
          },
          "metadata": {},
          "execution_count": 181
        }
      ]
    },
    {
      "cell_type": "code",
      "source": [
        "# Transpose a 2-d array\n",
        "X.T"
      ],
      "metadata": {
        "colab": {
          "base_uri": "https://localhost:8080/"
        },
        "id": "x3D-MzfIKIPG",
        "outputId": "762b26c6-ad2e-4ff2-f6e8-97d64e24721f"
      },
      "execution_count": 182,
      "outputs": [
        {
          "output_type": "execute_result",
          "data": {
            "text/plain": [
              "array([[1, 4, 7],\n",
              "       [2, 5, 8],\n",
              "       [3, 6, 9]])"
            ]
          },
          "metadata": {},
          "execution_count": 182
        }
      ]
    },
    {
      "cell_type": "code",
      "source": [
        "# Array slicing\n",
        "X[1,2]"
      ],
      "metadata": {
        "colab": {
          "base_uri": "https://localhost:8080/"
        },
        "id": "4kRl5c50Je_w",
        "outputId": "642197b3-8e0c-4071-d4e9-a4ec565eda8e"
      },
      "execution_count": 183,
      "outputs": [
        {
          "output_type": "execute_result",
          "data": {
            "text/plain": [
              "6"
            ]
          },
          "metadata": {},
          "execution_count": 183
        }
      ]
    },
    {
      "cell_type": "code",
      "source": [
        "# Array slicing\n",
        "\n",
        "X[2,2]"
      ],
      "metadata": {
        "colab": {
          "base_uri": "https://localhost:8080/"
        },
        "id": "YKyLPtYGJfBr",
        "outputId": "78fe6414-0c61-443f-ca12-980dd2fb0120"
      },
      "execution_count": 184,
      "outputs": [
        {
          "output_type": "execute_result",
          "data": {
            "text/plain": [
              "9"
            ]
          },
          "metadata": {},
          "execution_count": 184
        }
      ]
    },
    {
      "cell_type": "code",
      "source": [
        "X[:,1]"
      ],
      "metadata": {
        "colab": {
          "base_uri": "https://localhost:8080/"
        },
        "id": "4Y54JKS3JfEI",
        "outputId": "29e3b850-f7ed-4862-8b9f-77aa2bb4d1d4"
      },
      "execution_count": 185,
      "outputs": [
        {
          "output_type": "execute_result",
          "data": {
            "text/plain": [
              "array([2, 5, 8])"
            ]
          },
          "metadata": {},
          "execution_count": 185
        }
      ]
    },
    {
      "cell_type": "code",
      "source": [
        "X[0,:]"
      ],
      "metadata": {
        "colab": {
          "base_uri": "https://localhost:8080/"
        },
        "id": "8T4a-qiiJfGc",
        "outputId": "e99322bf-1071-4543-e07a-8fc8a7fa1126"
      },
      "execution_count": 186,
      "outputs": [
        {
          "output_type": "execute_result",
          "data": {
            "text/plain": [
              "array([1, 2, 3])"
            ]
          },
          "metadata": {},
          "execution_count": 186
        }
      ]
    },
    {
      "cell_type": "code",
      "source": [
        "X[1:,1:]"
      ],
      "metadata": {
        "colab": {
          "base_uri": "https://localhost:8080/"
        },
        "id": "e-SA89qKM3vr",
        "outputId": "2f897805-ea0f-4899-ed8d-9b5b294cf76f"
      },
      "execution_count": 187,
      "outputs": [
        {
          "output_type": "execute_result",
          "data": {
            "text/plain": [
              "array([[5, 6],\n",
              "       [8, 9]])"
            ]
          },
          "metadata": {},
          "execution_count": 187
        }
      ]
    },
    {
      "cell_type": "code",
      "source": [
        "X[1:,0:3]"
      ],
      "metadata": {
        "colab": {
          "base_uri": "https://localhost:8080/"
        },
        "id": "2g8rfcLaM3yI",
        "outputId": "1e3c12d5-a728-4eb0-c4d4-7d66ce2f10d3"
      },
      "execution_count": 188,
      "outputs": [
        {
          "output_type": "execute_result",
          "data": {
            "text/plain": [
              "array([[4, 5, 6],\n",
              "       [7, 8, 9]])"
            ]
          },
          "metadata": {},
          "execution_count": 188
        }
      ]
    },
    {
      "cell_type": "code",
      "source": [
        "# Using arrays to index into other arrays (e.g., Boolean masks)\n",
        "\n",
        "A = np.array([1, 2, 3, 4, 5, 6])\n",
        "A > 3"
      ],
      "metadata": {
        "colab": {
          "base_uri": "https://localhost:8080/"
        },
        "id": "2MpwhKZXM30e",
        "outputId": "08dea7be-f482-48c2-b1d3-a7f3b0d88a1b"
      },
      "execution_count": 189,
      "outputs": [
        {
          "output_type": "execute_result",
          "data": {
            "text/plain": [
              "array([False, False, False,  True,  True,  True])"
            ]
          },
          "metadata": {},
          "execution_count": 189
        }
      ]
    },
    {
      "cell_type": "code",
      "source": [
        "A[A > 3]"
      ],
      "metadata": {
        "colab": {
          "base_uri": "https://localhost:8080/"
        },
        "id": "rT5CJyDwM321",
        "outputId": "c7f18dc3-94f6-4d73-ab99-15df83c48911"
      },
      "execution_count": 190,
      "outputs": [
        {
          "output_type": "execute_result",
          "data": {
            "text/plain": [
              "array([4, 5, 6])"
            ]
          },
          "metadata": {},
          "execution_count": 190
        }
      ]
    },
    {
      "cell_type": "code",
      "source": [
        "sum(A[A > 3])"
      ],
      "metadata": {
        "colab": {
          "base_uri": "https://localhost:8080/"
        },
        "id": "IXsla3zNM34y",
        "outputId": "b897b05a-e052-44ef-e7e2-db43a03e9797"
      },
      "execution_count": 191,
      "outputs": [
        {
          "output_type": "execute_result",
          "data": {
            "text/plain": [
              "15"
            ]
          },
          "metadata": {},
          "execution_count": 191
        }
      ]
    },
    {
      "cell_type": "code",
      "source": [
        "Ind = (A > 1) & (A < 6)\n",
        "print(Ind)\n",
        "A[Ind]"
      ],
      "metadata": {
        "colab": {
          "base_uri": "https://localhost:8080/"
        },
        "id": "YoIpXAYcM37R",
        "outputId": "affbc033-ad28-4568-f384-48110b3c9f43"
      },
      "execution_count": 192,
      "outputs": [
        {
          "output_type": "stream",
          "name": "stdout",
          "text": [
            "[False  True  True  True  True False]\n"
          ]
        },
        {
          "output_type": "execute_result",
          "data": {
            "text/plain": [
              "array([2, 3, 4, 5])"
            ]
          },
          "metadata": {},
          "execution_count": 192
        }
      ]
    },
    {
      "cell_type": "code",
      "source": [
        ""
      ],
      "metadata": {
        "id": "S2DWyNWArAzz"
      },
      "execution_count": null,
      "outputs": []
    },
    {
      "cell_type": "code",
      "source": [
        ""
      ],
      "metadata": {
        "id": "Vnq_uQz_NMR8"
      },
      "execution_count": null,
      "outputs": []
    },
    {
      "cell_type": "code",
      "source": [
        "#Numpy part-2"
      ],
      "metadata": {
        "id": "B9ai24zsM39n"
      },
      "execution_count": 193,
      "outputs": []
    },
    {
      "cell_type": "code",
      "source": [
        "data = np.genfromtxt(\"/content/Video_Store.csv\", delimiter= \",\", dtype= None)"
      ],
      "metadata": {
        "id": "iT9oMg0ZOXAM"
      },
      "execution_count": 298,
      "outputs": []
    },
    {
      "cell_type": "code",
      "source": [
        "data"
      ],
      "metadata": {
        "colab": {
          "base_uri": "https://localhost:8080/"
        },
        "id": "jfnAHU5xOXCh",
        "outputId": "a73165d0-772f-4f0d-86a3-142c506bf42c"
      },
      "execution_count": 259,
      "outputs": [
        {
          "output_type": "execute_result",
          "data": {
            "text/plain": [
              "array([[b'ID', b'Gender', b'Income', b'Age', b'Rentals', b'AvgPerVisit',\n",
              "        b'Genre'],\n",
              "       [b'1', b'M', b'45000 ', b'25', b'27', b'2.5', b'Action'],\n",
              "       [b'2', b'F', b'54000 ', b'33', b'12', b'3.4', b'Drama'],\n",
              "       [b'3', b'F', b'32000 ', b'20', b'42', b'1.6', b'Comedy'],\n",
              "       [b'4', b'F', b'59000 ', b'70', b'16', b'4.2', b'Drama'],\n",
              "       [b'5', b'M', b'37000 ', b'35', b'25', b'3.2', b'Action'],\n",
              "       [b'6', b'M', b'18000 ', b'20', b'33', b'1.7', b'Action'],\n",
              "       [b'7', b'F', b'29000 ', b'45', b'19', b'3.8', b'Drama'],\n",
              "       [b'8', b'M', b'74000 ', b'25', b'31', b'2.4', b'Action'],\n",
              "       [b'9', b'M', b'38000 ', b'21', b'18', b'2.1', b'Comedy'],\n",
              "       [b'10', b'F', b'65000 ', b'40', b'21', b'3.3', b'Drama'],\n",
              "       [b'11', b'F', b'41000 ', b'22', b'48', b'2.3', b'Drama'],\n",
              "       [b'12', b'F', b'26000 ', b'22', b'29', b'2.9', b'Action'],\n",
              "       [b'13', b'M', b'83000 ', b'46', b'14', b'3.6', b'Comedy'],\n",
              "       [b'14', b'M', b'45000 ', b'36', b'24', b'2.7', b'Drama'],\n",
              "       [b'15', b'M', b'68000 ', b'30', b'36', b'2.7', b'Comedy'],\n",
              "       [b'16', b'M', b'17000 ', b'19', b'26', b'2.2', b'Action'],\n",
              "       [b'17', b'M', b'36000 ', b'35', b'28', b'3.5', b'Drama'],\n",
              "       [b'18', b'F', b'6000 ', b'16', b'39', b'1.8', b'Action'],\n",
              "       [b'19', b'F', b'24000 ', b'25', b'41', b'3.1', b'Comedy'],\n",
              "       [b'20', b'M', b'12000 ', b'16', b'23', b'2.2', b'Action'],\n",
              "       [b'21', b'F', b'47000 ', b'52', b'11', b'3.1', b'Drama'],\n",
              "       [b'22', b'M', b'25000 ', b'33', b'16', b'2.9', b'Drama'],\n",
              "       [b'23', b'F', b'2000 ', b'15', b'30', b'2.5', b'Comedy'],\n",
              "       [b'24', b'F', b'79000 ', b'35', b'22', b'3.8', b'Drama'],\n",
              "       [b'25', b'M', b'1000 ', b'16', b'25', b'1.4', b'Comedy'],\n",
              "       [b'26', b'F', b'56000 ', b'35', b'40', b'2.6', b'Action'],\n",
              "       [b'27', b'F', b'62000 ', b'47', b'32', b'3.6', b'Drama'],\n",
              "       [b'28', b'M', b'57000 ', b'52', b'22', b'4.1', b'Comedy'],\n",
              "       [b'29', b'F', b'15000 ', b'18', b'37', b'2.1', b'Action'],\n",
              "       [b'30', b'M', b'41000 ', b'25', b'17', b'1.4', b'Action'],\n",
              "       [b'31', b'F', b'49000 ', b'56', b'15', b'3.2', b'Comedy'],\n",
              "       [b'32', b'M', b'47000 ', b'30', b'21', b'3.1', b'Drama'],\n",
              "       [b'33', b'M', b'23000 ', b'25', b'28', b'2.7', b'Action'],\n",
              "       [b'34', b'F', b'29000 ', b'32', b'19', b'2.9', b'Action'],\n",
              "       [b'35', b'M', b'74000 ', b'29', b'43', b'4.6', b'Action'],\n",
              "       [b'36', b'F', b'29000 ', b'21', b'34', b'2.3', b'Comedy'],\n",
              "       [b'37', b'M', b'89000 ', b'46', b'12', b'1.2', b'Comedy'],\n",
              "       [b'38', b'M', b'41000 ', b'38', b'20', b'3.3', b'Drama'],\n",
              "       [b'39', b'F', b'68000 ', b'35', b'19', b'3.9', b'Comedy'],\n",
              "       [b'40', b'M', b'17000 ', b'19', b'32', b'1.8', b'Action']], dtype='|S11')"
            ]
          },
          "metadata": {},
          "execution_count": 259
        }
      ]
    },
    {
      "cell_type": "code",
      "source": [
        "labels = data[0]\n",
        "labels"
      ],
      "metadata": {
        "colab": {
          "base_uri": "https://localhost:8080/"
        },
        "id": "igEUwtIgOXEc",
        "outputId": "dac7dba2-c552-4939-e9ab-32b7c8cd3f04"
      },
      "execution_count": 261,
      "outputs": [
        {
          "output_type": "execute_result",
          "data": {
            "text/plain": [
              "array([b'ID', b'Gender', b'Income', b'Age', b'Rentals', b'AvgPerVisit',\n",
              "       b'Genre'], dtype='|S11')"
            ]
          },
          "metadata": {},
          "execution_count": 261
        }
      ]
    },
    {
      "cell_type": "code",
      "source": [
        "data = data[1:]"
      ],
      "metadata": {
        "id": "9ouQs8wvOXGi"
      },
      "execution_count": 262,
      "outputs": []
    },
    {
      "cell_type": "code",
      "source": [
        "age = np.array(data[:,3], dtype = int)"
      ],
      "metadata": {
        "id": "r8ec9lWcOXIz"
      },
      "execution_count": 263,
      "outputs": []
    },
    {
      "cell_type": "code",
      "source": [
        "sal = np.array(data[:,2], dtype = float)"
      ],
      "metadata": {
        "id": "t4IUqmO5M4sG"
      },
      "execution_count": 264,
      "outputs": []
    },
    {
      "cell_type": "code",
      "source": [
        "age"
      ],
      "metadata": {
        "colab": {
          "base_uri": "https://localhost:8080/"
        },
        "id": "mrwDmWtdM4ur",
        "outputId": "1a40f68c-532e-4c2a-de05-41a323746686"
      },
      "execution_count": 265,
      "outputs": [
        {
          "output_type": "execute_result",
          "data": {
            "text/plain": [
              "array([25, 33, 20, 70, 35, 20, 45, 25, 21, 40, 22, 22, 46, 36, 30, 19, 35, 16,\n",
              "       25, 16, 52, 33, 15, 35, 16, 35, 47, 52, 18, 25, 56, 30, 25, 32, 29, 21,\n",
              "       46, 38, 35, 19])"
            ]
          },
          "metadata": {},
          "execution_count": 265
        }
      ]
    },
    {
      "cell_type": "code",
      "source": [
        "sal"
      ],
      "metadata": {
        "colab": {
          "base_uri": "https://localhost:8080/"
        },
        "id": "1ZFr8KxLM4w7",
        "outputId": "3e81c42d-a0d8-48fb-8931-2c85431b46de"
      },
      "execution_count": 266,
      "outputs": [
        {
          "output_type": "execute_result",
          "data": {
            "text/plain": [
              "array([45000., 54000., 32000., 59000., 37000., 18000., 29000., 74000., 38000.,\n",
              "       65000., 41000., 26000., 83000., 45000., 68000., 17000., 36000.,  6000.,\n",
              "       24000., 12000., 47000., 25000.,  2000., 79000.,  1000., 56000., 62000.,\n",
              "       57000., 15000., 41000., 49000., 47000., 23000., 29000., 74000., 29000.,\n",
              "       89000., 41000., 68000., 17000.])"
            ]
          },
          "metadata": {},
          "execution_count": 266
        }
      ]
    },
    {
      "cell_type": "code",
      "source": [
        "sal.min()"
      ],
      "metadata": {
        "colab": {
          "base_uri": "https://localhost:8080/"
        },
        "id": "IlPJ8UtSM4zS",
        "outputId": "2edca24e-4d39-4d66-bf62-da3c229feb89"
      },
      "execution_count": 267,
      "outputs": [
        {
          "output_type": "execute_result",
          "data": {
            "text/plain": [
              "1000.0"
            ]
          },
          "metadata": {},
          "execution_count": 267
        }
      ]
    },
    {
      "cell_type": "code",
      "source": [
        "sal.max()"
      ],
      "metadata": {
        "colab": {
          "base_uri": "https://localhost:8080/"
        },
        "id": "r8zzkTJ7M41W",
        "outputId": "4d8d5ed8-56dc-4974-8342-fd0122fa356e"
      },
      "execution_count": 268,
      "outputs": [
        {
          "output_type": "execute_result",
          "data": {
            "text/plain": [
              "89000.0"
            ]
          },
          "metadata": {},
          "execution_count": 268
        }
      ]
    },
    {
      "cell_type": "code",
      "source": [
        "age.mean()"
      ],
      "metadata": {
        "colab": {
          "base_uri": "https://localhost:8080/"
        },
        "id": "l_v31MioM43m",
        "outputId": "ceca8092-499e-4706-b776-16d7ae48cde7"
      },
      "execution_count": 269,
      "outputs": [
        {
          "output_type": "execute_result",
          "data": {
            "text/plain": [
              "31.5"
            ]
          },
          "metadata": {},
          "execution_count": 269
        }
      ]
    },
    {
      "cell_type": "code",
      "source": [
        "age.std()"
      ],
      "metadata": {
        "colab": {
          "base_uri": "https://localhost:8080/"
        },
        "id": "m9PXl6MLiW-H",
        "outputId": "f9f59cd2-4d4a-4f13-a8d7-9cf9f7d76a8b"
      },
      "execution_count": 270,
      "outputs": [
        {
          "output_type": "execute_result",
          "data": {
            "text/plain": [
              "12.591663909110663"
            ]
          },
          "metadata": {},
          "execution_count": 270
        }
      ]
    },
    {
      "cell_type": "code",
      "source": [
        "visit_avg = np.array(data[:,5], dtype = float)\n",
        "rentals = np.array(data[:,4], dtype = float)"
      ],
      "metadata": {
        "id": "spnXH8WMiXAe"
      },
      "execution_count": 271,
      "outputs": []
    },
    {
      "cell_type": "code",
      "source": [
        "salary_range = sal.max() - sal.min()\n",
        "norm_salary = (sal- sal.min())/salary_range\n",
        "norm_salary"
      ],
      "metadata": {
        "colab": {
          "base_uri": "https://localhost:8080/"
        },
        "id": "j1j0b3m2iXCr",
        "outputId": "78400786-65a5-499e-dafb-d71751a468da"
      },
      "execution_count": 272,
      "outputs": [
        {
          "output_type": "execute_result",
          "data": {
            "text/plain": [
              "array([0.5   , 0.6023, 0.3523, 0.6591, 0.4091, 0.1932, 0.3182, 0.8295, 0.4205,\n",
              "       0.7273, 0.4545, 0.2841, 0.9318, 0.5   , 0.7614, 0.1818, 0.3977, 0.0568,\n",
              "       0.2614, 0.125 , 0.5227, 0.2727, 0.0114, 0.8864, 0.    , 0.625 , 0.6932,\n",
              "       0.6364, 0.1591, 0.4545, 0.5455, 0.5227, 0.25  , 0.3182, 0.8295, 0.3182,\n",
              "       1.    , 0.4545, 0.7614, 0.1818])"
            ]
          },
          "metadata": {},
          "execution_count": 272
        }
      ]
    },
    {
      "cell_type": "code",
      "source": [
        "is_good = np.array(rentals >= 30)\n",
        "good_cust = np.array(data[is_good])\n",
        "good_cust"
      ],
      "metadata": {
        "colab": {
          "base_uri": "https://localhost:8080/"
        },
        "id": "8HjZhkCBiXEs",
        "outputId": "f3abd79a-357b-41b5-ec2e-d171b67a9f97"
      },
      "execution_count": 273,
      "outputs": [
        {
          "output_type": "execute_result",
          "data": {
            "text/plain": [
              "array([[b'3', b'F', b'32000 ', b'20', b'42', b'1.6', b'Comedy'],\n",
              "       [b'6', b'M', b'18000 ', b'20', b'33', b'1.7', b'Action'],\n",
              "       [b'8', b'M', b'74000 ', b'25', b'31', b'2.4', b'Action'],\n",
              "       [b'11', b'F', b'41000 ', b'22', b'48', b'2.3', b'Drama'],\n",
              "       [b'15', b'M', b'68000 ', b'30', b'36', b'2.7', b'Comedy'],\n",
              "       [b'18', b'F', b'6000 ', b'16', b'39', b'1.8', b'Action'],\n",
              "       [b'19', b'F', b'24000 ', b'25', b'41', b'3.1', b'Comedy'],\n",
              "       [b'23', b'F', b'2000 ', b'15', b'30', b'2.5', b'Comedy'],\n",
              "       [b'26', b'F', b'56000 ', b'35', b'40', b'2.6', b'Action'],\n",
              "       [b'27', b'F', b'62000 ', b'47', b'32', b'3.6', b'Drama'],\n",
              "       [b'29', b'F', b'15000 ', b'18', b'37', b'2.1', b'Action'],\n",
              "       [b'35', b'M', b'74000 ', b'29', b'43', b'4.6', b'Action'],\n",
              "       [b'36', b'F', b'29000 ', b'21', b'34', b'2.3', b'Comedy'],\n",
              "       [b'40', b'M', b'17000 ', b'19', b'32', b'1.8', b'Action']], dtype='|S11')"
            ]
          },
          "metadata": {},
          "execution_count": 273
        }
      ]
    },
    {
      "cell_type": "code",
      "source": [
        "gender = np.array(data[:,1])\n",
        "gender"
      ],
      "metadata": {
        "colab": {
          "base_uri": "https://localhost:8080/"
        },
        "id": "cAUQ4t6aiXGt",
        "outputId": "867d9dd3-8639-440d-bf37-c52179f1e59a"
      },
      "execution_count": 274,
      "outputs": [
        {
          "output_type": "execute_result",
          "data": {
            "text/plain": [
              "array([b'M', b'F', b'F', b'F', b'M', b'M', b'F', b'M', b'M', b'F', b'F', b'F',\n",
              "       b'M', b'M', b'M', b'M', b'M', b'F', b'F', b'M', b'F', b'M', b'F', b'F',\n",
              "       b'M', b'F', b'F', b'M', b'F', b'M', b'F', b'M', b'M', b'F', b'M', b'F',\n",
              "       b'M', b'M', b'F', b'M'], dtype='|S11')"
            ]
          },
          "metadata": {},
          "execution_count": 274
        }
      ]
    },
    {
      "cell_type": "code",
      "source": [
        "gen_f = np.zeros(len(gender))\n",
        "gen_f"
      ],
      "metadata": {
        "colab": {
          "base_uri": "https://localhost:8080/"
        },
        "id": "SeHloDc7iXIr",
        "outputId": "ec1f5cca-8633-46c8-eac7-7c06045e374e"
      },
      "execution_count": 275,
      "outputs": [
        {
          "output_type": "execute_result",
          "data": {
            "text/plain": [
              "array([0., 0., 0., 0., 0., 0., 0., 0., 0., 0., 0., 0., 0., 0., 0., 0., 0., 0.,\n",
              "       0., 0., 0., 0., 0., 0., 0., 0., 0., 0., 0., 0., 0., 0., 0., 0., 0., 0.,\n",
              "       0., 0., 0., 0.])"
            ]
          },
          "metadata": {},
          "execution_count": 275
        }
      ]
    },
    {
      "cell_type": "code",
      "source": [
        "gen_f[gender == b\"F\"] = 1\n",
        "gen_f"
      ],
      "metadata": {
        "colab": {
          "base_uri": "https://localhost:8080/"
        },
        "id": "kHK8-WxKiXKv",
        "outputId": "7cfeb6f8-7645-4223-eb0c-7bde36e07195"
      },
      "execution_count": 276,
      "outputs": [
        {
          "output_type": "execute_result",
          "data": {
            "text/plain": [
              "array([0., 1., 1., 1., 0., 0., 1., 0., 0., 1., 1., 1., 0., 0., 0., 0., 0., 1.,\n",
              "       1., 0., 1., 0., 1., 1., 0., 1., 1., 0., 1., 0., 1., 0., 0., 1., 0., 1.,\n",
              "       0., 0., 1., 0.])"
            ]
          },
          "metadata": {},
          "execution_count": 276
        }
      ]
    },
    {
      "cell_type": "code",
      "source": [
        "gen_m = np.zeros(len(gender))\n",
        "gen_m[gender == b\"M\"] = 1 \n",
        "gen_m"
      ],
      "metadata": {
        "colab": {
          "base_uri": "https://localhost:8080/"
        },
        "id": "GW4ePZT-iXMz",
        "outputId": "288ce396-17d5-4d4d-837c-865df149d633"
      },
      "execution_count": 277,
      "outputs": [
        {
          "output_type": "execute_result",
          "data": {
            "text/plain": [
              "array([1., 0., 0., 0., 1., 1., 0., 1., 1., 0., 0., 0., 1., 1., 1., 1., 1., 0.,\n",
              "       0., 1., 0., 1., 0., 0., 1., 0., 0., 1., 0., 1., 0., 1., 1., 0., 1., 0.,\n",
              "       1., 1., 0., 1.])"
            ]
          },
          "metadata": {},
          "execution_count": 277
        }
      ]
    },
    {
      "cell_type": "code",
      "source": [
        "data_new = np.array([gen_f, gen_m, sal, age, rentals, visit_avg])\n",
        "data_new"
      ],
      "metadata": {
        "colab": {
          "base_uri": "https://localhost:8080/"
        },
        "id": "mj1yQs0xiXO1",
        "outputId": "67c973a4-cb1c-49fc-bf39-51ebbfcf83be"
      },
      "execution_count": 278,
      "outputs": [
        {
          "output_type": "execute_result",
          "data": {
            "text/plain": [
              "array([[    0. ,     1. ,     1. ,     1. ,     0. ,     0. ,     1. ,\n",
              "            0. ,     0. ,     1. ,     1. ,     1. ,     0. ,     0. ,\n",
              "            0. ,     0. ,     0. ,     1. ,     1. ,     0. ,     1. ,\n",
              "            0. ,     1. ,     1. ,     0. ,     1. ,     1. ,     0. ,\n",
              "            1. ,     0. ,     1. ,     0. ,     0. ,     1. ,     0. ,\n",
              "            1. ,     0. ,     0. ,     1. ,     0. ],\n",
              "       [    1. ,     0. ,     0. ,     0. ,     1. ,     1. ,     0. ,\n",
              "            1. ,     1. ,     0. ,     0. ,     0. ,     1. ,     1. ,\n",
              "            1. ,     1. ,     1. ,     0. ,     0. ,     1. ,     0. ,\n",
              "            1. ,     0. ,     0. ,     1. ,     0. ,     0. ,     1. ,\n",
              "            0. ,     1. ,     0. ,     1. ,     1. ,     0. ,     1. ,\n",
              "            0. ,     1. ,     1. ,     0. ,     1. ],\n",
              "       [45000. , 54000. , 32000. , 59000. , 37000. , 18000. , 29000. ,\n",
              "        74000. , 38000. , 65000. , 41000. , 26000. , 83000. , 45000. ,\n",
              "        68000. , 17000. , 36000. ,  6000. , 24000. , 12000. , 47000. ,\n",
              "        25000. ,  2000. , 79000. ,  1000. , 56000. , 62000. , 57000. ,\n",
              "        15000. , 41000. , 49000. , 47000. , 23000. , 29000. , 74000. ,\n",
              "        29000. , 89000. , 41000. , 68000. , 17000. ],\n",
              "       [   25. ,    33. ,    20. ,    70. ,    35. ,    20. ,    45. ,\n",
              "           25. ,    21. ,    40. ,    22. ,    22. ,    46. ,    36. ,\n",
              "           30. ,    19. ,    35. ,    16. ,    25. ,    16. ,    52. ,\n",
              "           33. ,    15. ,    35. ,    16. ,    35. ,    47. ,    52. ,\n",
              "           18. ,    25. ,    56. ,    30. ,    25. ,    32. ,    29. ,\n",
              "           21. ,    46. ,    38. ,    35. ,    19. ],\n",
              "       [   27. ,    12. ,    42. ,    16. ,    25. ,    33. ,    19. ,\n",
              "           31. ,    18. ,    21. ,    48. ,    29. ,    14. ,    24. ,\n",
              "           36. ,    26. ,    28. ,    39. ,    41. ,    23. ,    11. ,\n",
              "           16. ,    30. ,    22. ,    25. ,    40. ,    32. ,    22. ,\n",
              "           37. ,    17. ,    15. ,    21. ,    28. ,    19. ,    43. ,\n",
              "           34. ,    12. ,    20. ,    19. ,    32. ],\n",
              "       [    2.5,     3.4,     1.6,     4.2,     3.2,     1.7,     3.8,\n",
              "            2.4,     2.1,     3.3,     2.3,     2.9,     3.6,     2.7,\n",
              "            2.7,     2.2,     3.5,     1.8,     3.1,     2.2,     3.1,\n",
              "            2.9,     2.5,     3.8,     1.4,     2.6,     3.6,     4.1,\n",
              "            2.1,     1.4,     3.2,     3.1,     2.7,     2.9,     4.6,\n",
              "            2.3,     1.2,     3.3,     3.9,     1.8]])"
            ]
          },
          "metadata": {},
          "execution_count": 278
        }
      ]
    },
    {
      "cell_type": "code",
      "source": [
        "data_new = data_new.T\n",
        "data_new"
      ],
      "metadata": {
        "colab": {
          "base_uri": "https://localhost:8080/"
        },
        "id": "fwykDvMaiXQ1",
        "outputId": "22d41373-af7e-4b38-f8ad-2f5456dfd8ff"
      },
      "execution_count": 279,
      "outputs": [
        {
          "output_type": "execute_result",
          "data": {
            "text/plain": [
              "array([[    0. ,     1. , 45000. ,    25. ,    27. ,     2.5],\n",
              "       [    1. ,     0. , 54000. ,    33. ,    12. ,     3.4],\n",
              "       [    1. ,     0. , 32000. ,    20. ,    42. ,     1.6],\n",
              "       [    1. ,     0. , 59000. ,    70. ,    16. ,     4.2],\n",
              "       [    0. ,     1. , 37000. ,    35. ,    25. ,     3.2],\n",
              "       [    0. ,     1. , 18000. ,    20. ,    33. ,     1.7],\n",
              "       [    1. ,     0. , 29000. ,    45. ,    19. ,     3.8],\n",
              "       [    0. ,     1. , 74000. ,    25. ,    31. ,     2.4],\n",
              "       [    0. ,     1. , 38000. ,    21. ,    18. ,     2.1],\n",
              "       [    1. ,     0. , 65000. ,    40. ,    21. ,     3.3],\n",
              "       [    1. ,     0. , 41000. ,    22. ,    48. ,     2.3],\n",
              "       [    1. ,     0. , 26000. ,    22. ,    29. ,     2.9],\n",
              "       [    0. ,     1. , 83000. ,    46. ,    14. ,     3.6],\n",
              "       [    0. ,     1. , 45000. ,    36. ,    24. ,     2.7],\n",
              "       [    0. ,     1. , 68000. ,    30. ,    36. ,     2.7],\n",
              "       [    0. ,     1. , 17000. ,    19. ,    26. ,     2.2],\n",
              "       [    0. ,     1. , 36000. ,    35. ,    28. ,     3.5],\n",
              "       [    1. ,     0. ,  6000. ,    16. ,    39. ,     1.8],\n",
              "       [    1. ,     0. , 24000. ,    25. ,    41. ,     3.1],\n",
              "       [    0. ,     1. , 12000. ,    16. ,    23. ,     2.2],\n",
              "       [    1. ,     0. , 47000. ,    52. ,    11. ,     3.1],\n",
              "       [    0. ,     1. , 25000. ,    33. ,    16. ,     2.9],\n",
              "       [    1. ,     0. ,  2000. ,    15. ,    30. ,     2.5],\n",
              "       [    1. ,     0. , 79000. ,    35. ,    22. ,     3.8],\n",
              "       [    0. ,     1. ,  1000. ,    16. ,    25. ,     1.4],\n",
              "       [    1. ,     0. , 56000. ,    35. ,    40. ,     2.6],\n",
              "       [    1. ,     0. , 62000. ,    47. ,    32. ,     3.6],\n",
              "       [    0. ,     1. , 57000. ,    52. ,    22. ,     4.1],\n",
              "       [    1. ,     0. , 15000. ,    18. ,    37. ,     2.1],\n",
              "       [    0. ,     1. , 41000. ,    25. ,    17. ,     1.4],\n",
              "       [    1. ,     0. , 49000. ,    56. ,    15. ,     3.2],\n",
              "       [    0. ,     1. , 47000. ,    30. ,    21. ,     3.1],\n",
              "       [    0. ,     1. , 23000. ,    25. ,    28. ,     2.7],\n",
              "       [    1. ,     0. , 29000. ,    32. ,    19. ,     2.9],\n",
              "       [    0. ,     1. , 74000. ,    29. ,    43. ,     4.6],\n",
              "       [    1. ,     0. , 29000. ,    21. ,    34. ,     2.3],\n",
              "       [    0. ,     1. , 89000. ,    46. ,    12. ,     1.2],\n",
              "       [    0. ,     1. , 41000. ,    38. ,    20. ,     3.3],\n",
              "       [    1. ,     0. , 68000. ,    35. ,    19. ,     3.9],\n",
              "       [    0. ,     1. , 17000. ,    19. ,    32. ,     1.8]])"
            ]
          },
          "metadata": {},
          "execution_count": 279
        }
      ]
    },
    {
      "cell_type": "code",
      "source": [
        "f_mean, m_mean, sal_mean, age_mean, rental_mean, visit_mean = data_new.mean(axis = 0)\n",
        "print(\"F, M, Sal, Age, Rentals, Visit\")\n",
        "print(\"Mean\", f_mean, m_mean, sal_mean, age_mean, rental_mean, visit_mean)"
      ],
      "metadata": {
        "colab": {
          "base_uri": "https://localhost:8080/"
        },
        "id": "fD-2L59viXSz",
        "outputId": "10c19620-5b2e-4035-ea03-6867eaf500f3"
      },
      "execution_count": 280,
      "outputs": [
        {
          "output_type": "stream",
          "name": "stdout",
          "text": [
            "F, M, Sal, Age, Rentals, Visit\n",
            "Mean 0.475 0.525 41500.0 31.5 26.175 2.7924999999999995\n"
          ]
        }
      ]
    },
    {
      "cell_type": "code",
      "source": [
        "out_file = open(\"new file2\", \"w\")\n",
        "np.savetxt(out_file, data_new, fmt = \"%d,%d,%f,%d,%f,%f\")"
      ],
      "metadata": {
        "id": "9db3ebSKiXU7"
      },
      "execution_count": 281,
      "outputs": []
    },
    {
      "cell_type": "code",
      "source": [
        "data_n = np.genfromtxt(\"/content/Video_Store.csv\", delimiter= \",\", names = True, usecols = (1,2,3,4,5,6), dtype= (\"S1\", float, int, int, float, \"S10\"))\n",
        "data_n"
      ],
      "metadata": {
        "colab": {
          "base_uri": "https://localhost:8080/",
          "height": 1000
        },
        "id": "_4ik1H86iXXf",
        "outputId": "19d3f3d8-d49d-408b-cb34-30d733bfb287"
      },
      "execution_count": 350,
      "outputs": [
        {
          "output_type": "error",
          "ename": "ValueError",
          "evalue": "ignored",
          "traceback": [
            "\u001b[0;31m---------------------------------------------------------------------------\u001b[0m",
            "\u001b[0;31mValueError\u001b[0m                                Traceback (most recent call last)",
            "\u001b[0;32m<ipython-input-350-538723f4f9f6>\u001b[0m in \u001b[0;36m<module>\u001b[0;34m()\u001b[0m\n\u001b[0;32m----> 1\u001b[0;31m \u001b[0mdata_n\u001b[0m \u001b[0;34m=\u001b[0m \u001b[0mnp\u001b[0m\u001b[0;34m.\u001b[0m\u001b[0mgenfromtxt\u001b[0m\u001b[0;34m(\u001b[0m\u001b[0;34m\"/content/Video_Store.csv\"\u001b[0m\u001b[0;34m,\u001b[0m \u001b[0mdelimiter\u001b[0m\u001b[0;34m=\u001b[0m \u001b[0;34m\",\"\u001b[0m\u001b[0;34m,\u001b[0m \u001b[0mnames\u001b[0m \u001b[0;34m=\u001b[0m \u001b[0;32mTrue\u001b[0m\u001b[0;34m,\u001b[0m \u001b[0musecols\u001b[0m \u001b[0;34m=\u001b[0m \u001b[0;34m(\u001b[0m\u001b[0;36m1\u001b[0m\u001b[0;34m,\u001b[0m\u001b[0;36m2\u001b[0m\u001b[0;34m,\u001b[0m\u001b[0;36m3\u001b[0m\u001b[0;34m,\u001b[0m\u001b[0;36m4\u001b[0m\u001b[0;34m,\u001b[0m\u001b[0;36m5\u001b[0m\u001b[0;34m,\u001b[0m\u001b[0;36m6\u001b[0m\u001b[0;34m)\u001b[0m\u001b[0;34m,\u001b[0m \u001b[0mdtype\u001b[0m\u001b[0;34m=\u001b[0m \u001b[0;34m(\u001b[0m\u001b[0;34m\"S1\"\u001b[0m\u001b[0;34m,\u001b[0m \u001b[0mfloat\u001b[0m\u001b[0;34m,\u001b[0m \u001b[0mint\u001b[0m\u001b[0;34m,\u001b[0m \u001b[0mint\u001b[0m\u001b[0;34m,\u001b[0m \u001b[0mfloat\u001b[0m\u001b[0;34m,\u001b[0m \u001b[0;34m\"S10\"\u001b[0m\u001b[0;34m)\u001b[0m\u001b[0;34m)\u001b[0m\u001b[0;34m\u001b[0m\u001b[0;34m\u001b[0m\u001b[0m\n\u001b[0m\u001b[1;32m      2\u001b[0m \u001b[0mdata_n\u001b[0m\u001b[0;34m\u001b[0m\u001b[0;34m\u001b[0m\u001b[0m\n",
            "\u001b[0;32m/usr/local/lib/python3.7/dist-packages/numpy/lib/npyio.py\u001b[0m in \u001b[0;36mgenfromtxt\u001b[0;34m(fname, dtype, comments, delimiter, skip_header, skip_footer, converters, missing_values, filling_values, usecols, names, excludelist, deletechars, replace_space, autostrip, case_sensitive, defaultfmt, unpack, usemask, loose, invalid_raise, max_rows, encoding, like)\u001b[0m\n\u001b[1;32m   2122\u001b[0m             \u001b[0;31m# Raise an exception ?\u001b[0m\u001b[0;34m\u001b[0m\u001b[0;34m\u001b[0m\u001b[0;34m\u001b[0m\u001b[0m\n\u001b[1;32m   2123\u001b[0m             \u001b[0;32mif\u001b[0m \u001b[0minvalid_raise\u001b[0m\u001b[0;34m:\u001b[0m\u001b[0;34m\u001b[0m\u001b[0;34m\u001b[0m\u001b[0m\n\u001b[0;32m-> 2124\u001b[0;31m                 \u001b[0;32mraise\u001b[0m \u001b[0mValueError\u001b[0m\u001b[0;34m(\u001b[0m\u001b[0merrmsg\u001b[0m\u001b[0;34m)\u001b[0m\u001b[0;34m\u001b[0m\u001b[0;34m\u001b[0m\u001b[0m\n\u001b[0m\u001b[1;32m   2125\u001b[0m             \u001b[0;31m# Issue a warning ?\u001b[0m\u001b[0;34m\u001b[0m\u001b[0;34m\u001b[0m\u001b[0;34m\u001b[0m\u001b[0m\n\u001b[1;32m   2126\u001b[0m             \u001b[0;32melse\u001b[0m\u001b[0;34m:\u001b[0m\u001b[0;34m\u001b[0m\u001b[0;34m\u001b[0m\u001b[0m\n",
            "\u001b[0;31mValueError\u001b[0m: Some errors were detected !\n    Line #2 (got 6 columns instead of 6)\n    Line #3 (got 6 columns instead of 6)\n    Line #4 (got 6 columns instead of 6)\n    Line #5 (got 6 columns instead of 6)\n    Line #6 (got 6 columns instead of 6)\n    Line #7 (got 6 columns instead of 6)\n    Line #8 (got 6 columns instead of 6)\n    Line #9 (got 6 columns instead of 6)\n    Line #10 (got 6 columns instead of 6)\n    Line #11 (got 6 columns instead of 6)\n    Line #12 (got 6 columns instead of 6)\n    Line #13 (got 6 columns instead of 6)\n    Line #14 (got 6 columns instead of 6)\n    Line #15 (got 6 columns instead of 6)\n    Line #16 (got 6 columns instead of 6)\n    Line #17 (got 6 columns instead of 6)\n    Line #18 (got 6 columns instead of 6)\n    Line #19 (got 6 columns instead of 6)\n    Line #20 (got 6 columns instead of 6)\n    Line #21 (got 6 columns instead of 6)\n    Line #22 (got 6 columns instead of 6)\n    Line #23 (got 6 columns instead of 6)\n    Line #24 (got 6 columns instead of 6)\n    Line #25 (got 6 columns instead of 6)\n    Line #26 (got 6 columns instead of 6)\n    Line #27 (got 6 columns instead of 6)\n    Line #28 (got 6 columns instead of 6)\n    Line #29 (got 6 columns instead of 6)\n    Line #30 (got 6 columns instead of 6)\n    Line #31 (got 6 columns instead of 6)\n    Line #32 (got 6 columns instead of 6)\n    Line #33 (got 6 columns instead of 6)\n    Line #34 (got 6 columns instead of 6)\n    Line #35 (got 6 columns instead of 6)\n    Line #36 (got 6 columns instead of 6)\n    Line #37 (got 6 columns instead of 6)\n    Line #38 (got 6 columns instead of 6)\n    Line #39 (got 6 columns instead of 6)\n    Line #40 (got 6 columns instead of 6)"
          ]
        }
      ]
    },
    {
      "cell_type": "code",
      "source": [
        "names = data_n.dtype.names\n",
        "data_dic = [dict(zip(names,record)) for record in data_n]\n",
        "data_dic"
      ],
      "metadata": {
        "colab": {
          "base_uri": "https://localhost:8080/"
        },
        "id": "rA47cLdMiXaM",
        "outputId": "28f52c4c-7771-47e3-e4c2-4ded1e47c38f"
      },
      "execution_count": 300,
      "outputs": [
        {
          "output_type": "execute_result",
          "data": {
            "text/plain": [
              "[{'Age': 25,\n",
              "  'AvgPerVisit': 2.5,\n",
              "  'Gender': b'M',\n",
              "  'Genre': b'Action',\n",
              "  'Income': 45000.0,\n",
              "  'Rentals': 27},\n",
              " {'Age': 33,\n",
              "  'AvgPerVisit': 3.4,\n",
              "  'Gender': b'F',\n",
              "  'Genre': b'Drama',\n",
              "  'Income': 54000.0,\n",
              "  'Rentals': 12},\n",
              " {'Age': 20,\n",
              "  'AvgPerVisit': 1.6,\n",
              "  'Gender': b'F',\n",
              "  'Genre': b'Comedy',\n",
              "  'Income': 32000.0,\n",
              "  'Rentals': 42},\n",
              " {'Age': 70,\n",
              "  'AvgPerVisit': 4.2,\n",
              "  'Gender': b'F',\n",
              "  'Genre': b'Drama',\n",
              "  'Income': 59000.0,\n",
              "  'Rentals': 16},\n",
              " {'Age': 35,\n",
              "  'AvgPerVisit': 3.2,\n",
              "  'Gender': b'M',\n",
              "  'Genre': b'Action',\n",
              "  'Income': 37000.0,\n",
              "  'Rentals': 25},\n",
              " {'Age': 20,\n",
              "  'AvgPerVisit': 1.7,\n",
              "  'Gender': b'M',\n",
              "  'Genre': b'Action',\n",
              "  'Income': 18000.0,\n",
              "  'Rentals': 33},\n",
              " {'Age': 45,\n",
              "  'AvgPerVisit': 3.8,\n",
              "  'Gender': b'F',\n",
              "  'Genre': b'Drama',\n",
              "  'Income': 29000.0,\n",
              "  'Rentals': 19},\n",
              " {'Age': 25,\n",
              "  'AvgPerVisit': 2.4,\n",
              "  'Gender': b'M',\n",
              "  'Genre': b'Action',\n",
              "  'Income': 74000.0,\n",
              "  'Rentals': 31},\n",
              " {'Age': 21,\n",
              "  'AvgPerVisit': 2.1,\n",
              "  'Gender': b'M',\n",
              "  'Genre': b'Comedy',\n",
              "  'Income': 38000.0,\n",
              "  'Rentals': 18},\n",
              " {'Age': 40,\n",
              "  'AvgPerVisit': 3.3,\n",
              "  'Gender': b'F',\n",
              "  'Genre': b'Drama',\n",
              "  'Income': 65000.0,\n",
              "  'Rentals': 21},\n",
              " {'Age': 22,\n",
              "  'AvgPerVisit': 2.3,\n",
              "  'Gender': b'F',\n",
              "  'Genre': b'Drama',\n",
              "  'Income': 41000.0,\n",
              "  'Rentals': 48},\n",
              " {'Age': 22,\n",
              "  'AvgPerVisit': 2.9,\n",
              "  'Gender': b'F',\n",
              "  'Genre': b'Action',\n",
              "  'Income': 26000.0,\n",
              "  'Rentals': 29},\n",
              " {'Age': 46,\n",
              "  'AvgPerVisit': 3.6,\n",
              "  'Gender': b'M',\n",
              "  'Genre': b'Comedy',\n",
              "  'Income': 83000.0,\n",
              "  'Rentals': 14},\n",
              " {'Age': 36,\n",
              "  'AvgPerVisit': 2.7,\n",
              "  'Gender': b'M',\n",
              "  'Genre': b'Drama',\n",
              "  'Income': 45000.0,\n",
              "  'Rentals': 24},\n",
              " {'Age': 30,\n",
              "  'AvgPerVisit': 2.7,\n",
              "  'Gender': b'M',\n",
              "  'Genre': b'Comedy',\n",
              "  'Income': 68000.0,\n",
              "  'Rentals': 36},\n",
              " {'Age': 19,\n",
              "  'AvgPerVisit': 2.2,\n",
              "  'Gender': b'M',\n",
              "  'Genre': b'Action',\n",
              "  'Income': 17000.0,\n",
              "  'Rentals': 26},\n",
              " {'Age': 35,\n",
              "  'AvgPerVisit': 3.5,\n",
              "  'Gender': b'M',\n",
              "  'Genre': b'Drama',\n",
              "  'Income': 36000.0,\n",
              "  'Rentals': 28},\n",
              " {'Age': 16,\n",
              "  'AvgPerVisit': 1.8,\n",
              "  'Gender': b'F',\n",
              "  'Genre': b'Action',\n",
              "  'Income': 6000.0,\n",
              "  'Rentals': 39},\n",
              " {'Age': 25,\n",
              "  'AvgPerVisit': 3.1,\n",
              "  'Gender': b'F',\n",
              "  'Genre': b'Comedy',\n",
              "  'Income': 24000.0,\n",
              "  'Rentals': 41},\n",
              " {'Age': 16,\n",
              "  'AvgPerVisit': 2.2,\n",
              "  'Gender': b'M',\n",
              "  'Genre': b'Action',\n",
              "  'Income': 12000.0,\n",
              "  'Rentals': 23},\n",
              " {'Age': 52,\n",
              "  'AvgPerVisit': 3.1,\n",
              "  'Gender': b'F',\n",
              "  'Genre': b'Drama',\n",
              "  'Income': 47000.0,\n",
              "  'Rentals': 11},\n",
              " {'Age': 33,\n",
              "  'AvgPerVisit': 2.9,\n",
              "  'Gender': b'M',\n",
              "  'Genre': b'Drama',\n",
              "  'Income': 25000.0,\n",
              "  'Rentals': 16},\n",
              " {'Age': 15,\n",
              "  'AvgPerVisit': 2.5,\n",
              "  'Gender': b'F',\n",
              "  'Genre': b'Comedy',\n",
              "  'Income': 2000.0,\n",
              "  'Rentals': 30},\n",
              " {'Age': 35,\n",
              "  'AvgPerVisit': 3.8,\n",
              "  'Gender': b'F',\n",
              "  'Genre': b'Drama',\n",
              "  'Income': 79000.0,\n",
              "  'Rentals': 22},\n",
              " {'Age': 16,\n",
              "  'AvgPerVisit': 1.4,\n",
              "  'Gender': b'M',\n",
              "  'Genre': b'Comedy',\n",
              "  'Income': 1000.0,\n",
              "  'Rentals': 25},\n",
              " {'Age': 35,\n",
              "  'AvgPerVisit': 2.6,\n",
              "  'Gender': b'F',\n",
              "  'Genre': b'Action',\n",
              "  'Income': 56000.0,\n",
              "  'Rentals': 40},\n",
              " {'Age': 47,\n",
              "  'AvgPerVisit': 3.6,\n",
              "  'Gender': b'F',\n",
              "  'Genre': b'Drama',\n",
              "  'Income': 62000.0,\n",
              "  'Rentals': 32},\n",
              " {'Age': 52,\n",
              "  'AvgPerVisit': 4.1,\n",
              "  'Gender': b'M',\n",
              "  'Genre': b'Comedy',\n",
              "  'Income': 57000.0,\n",
              "  'Rentals': 22},\n",
              " {'Age': 18,\n",
              "  'AvgPerVisit': 2.1,\n",
              "  'Gender': b'F',\n",
              "  'Genre': b'Action',\n",
              "  'Income': 15000.0,\n",
              "  'Rentals': 37},\n",
              " {'Age': 25,\n",
              "  'AvgPerVisit': 1.4,\n",
              "  'Gender': b'M',\n",
              "  'Genre': b'Action',\n",
              "  'Income': 41000.0,\n",
              "  'Rentals': 17},\n",
              " {'Age': 56,\n",
              "  'AvgPerVisit': 3.2,\n",
              "  'Gender': b'F',\n",
              "  'Genre': b'Comedy',\n",
              "  'Income': 49000.0,\n",
              "  'Rentals': 15},\n",
              " {'Age': 30,\n",
              "  'AvgPerVisit': 3.1,\n",
              "  'Gender': b'M',\n",
              "  'Genre': b'Drama',\n",
              "  'Income': 47000.0,\n",
              "  'Rentals': 21},\n",
              " {'Age': 25,\n",
              "  'AvgPerVisit': 2.7,\n",
              "  'Gender': b'M',\n",
              "  'Genre': b'Action',\n",
              "  'Income': 23000.0,\n",
              "  'Rentals': 28},\n",
              " {'Age': 32,\n",
              "  'AvgPerVisit': 2.9,\n",
              "  'Gender': b'F',\n",
              "  'Genre': b'Action',\n",
              "  'Income': 29000.0,\n",
              "  'Rentals': 19},\n",
              " {'Age': 29,\n",
              "  'AvgPerVisit': 4.6,\n",
              "  'Gender': b'M',\n",
              "  'Genre': b'Action',\n",
              "  'Income': 74000.0,\n",
              "  'Rentals': 43},\n",
              " {'Age': 21,\n",
              "  'AvgPerVisit': 2.3,\n",
              "  'Gender': b'F',\n",
              "  'Genre': b'Comedy',\n",
              "  'Income': 29000.0,\n",
              "  'Rentals': 34},\n",
              " {'Age': 46,\n",
              "  'AvgPerVisit': 1.2,\n",
              "  'Gender': b'M',\n",
              "  'Genre': b'Comedy',\n",
              "  'Income': 89000.0,\n",
              "  'Rentals': 12},\n",
              " {'Age': 38,\n",
              "  'AvgPerVisit': 3.3,\n",
              "  'Gender': b'M',\n",
              "  'Genre': b'Drama',\n",
              "  'Income': 41000.0,\n",
              "  'Rentals': 20},\n",
              " {'Age': 35,\n",
              "  'AvgPerVisit': 3.9,\n",
              "  'Gender': b'F',\n",
              "  'Genre': b'Comedy',\n",
              "  'Income': 68000.0,\n",
              "  'Rentals': 19},\n",
              " {'Age': 19,\n",
              "  'AvgPerVisit': 1.8,\n",
              "  'Gender': b'M',\n",
              "  'Genre': b'Action',\n",
              "  'Income': 17000.0,\n",
              "  'Rentals': 32}]"
            ]
          },
          "metadata": {},
          "execution_count": 300
        }
      ]
    },
    {
      "cell_type": "code",
      "source": [
        "import matplotlib.pyplot as plt\n",
        "plt.hist(data_n[\"Income\"], bins = 9, alpha = 0.5)\n",
        "plt.xlabel(\"Income\")\n",
        "plt.ylabel(\"Count\")\n",
        "plt.title(\"Histogram of Income\")\n",
        "plt.axis([0, 100000, 0, 10])\n",
        "plt.grid(True)\n",
        "plt.show()"
      ],
      "metadata": {
        "colab": {
          "base_uri": "https://localhost:8080/",
          "height": 295
        },
        "id": "qP5wDQzLiXbx",
        "outputId": "2b164acd-bfb8-4b63-dd40-287703ae8ff4"
      },
      "execution_count": 286,
      "outputs": [
        {
          "output_type": "display_data",
          "data": {
            "text/plain": [
              "<Figure size 432x288 with 1 Axes>"
            ],
            "image/png": "[encoded data removed]"
          },
          "metadata": {
            "needs_background": "light"
          }
        }
      ]
    },
    {
      "cell_type": "code",
      "source": [
        "m_counts = [14, 6, 8] \n",
        "f_counts = [8, 6, 12] \n",
        "N = len(f_counts)"
      ],
      "metadata": {
        "id": "dlu3WLT3iXdp"
      },
      "execution_count": 287,
      "outputs": []
    },
    {
      "cell_type": "code",
      "source": [
        "ind = np.arange(N)\n",
        "\n",
        "ind = ind + 0.15\n",
        "width = 0.35 \n",
        "fig, ax = plt.subplots()\n",
        "rects1 = ax.bar(ind, f_counts, width, color='g')\n",
        "rects2 = ax.bar(ind+width, m_counts, width, color='r')\n",
        "rects1 = plt.bar(ind, f_counts, width, color='g')\n",
        "rects2 = plt.bar(ind+width, m_counts, width, color='r')\n",
        "ax.set_ylabel('Counts')\n",
        "ax.set_ybound(upper=16)\n",
        "ax.set_title('Counts by Genre and Gender')\n",
        "ax.set_xticks(ind+width)\n",
        "ax.set_xticklabels( ('Action', 'Comedy', 'Drama') )\n",
        "ax.legend()"
      ],
      "metadata": {
        "colab": {
          "base_uri": "https://localhost:8080/",
          "height": 316
        },
        "id": "RU-Y6OSAiXfx",
        "outputId": "da975e00-7b46-4e6c-c8cf-92ead3419c9d"
      },
      "execution_count": 288,
      "outputs": [
        {
          "output_type": "stream",
          "name": "stderr",
          "text": [
            "No handles with labels found to put in legend.\n"
          ]
        },
        {
          "output_type": "execute_result",
          "data": {
            "text/plain": [
              "<matplotlib.legend.Legend at 0x7f7e5c3b7d90>"
            ]
          },
          "metadata": {},
          "execution_count": 288
        },
        {
          "output_type": "display_data",
          "data": {
            "text/plain": [
              "<Figure size 432x288 with 1 Axes>"
            ],
            "image/png": "[encoded data removed]"
          },
          "metadata": {
            "needs_background": "light"
          }
        }
      ]
    },
    {
      "cell_type": "code",
      "source": [
        "fig = plt.figure(figsize=(5, 4))\n",
        "\n",
        "ax = fig.add_subplot(1,1,1) \n",
        "ax.scatter(data_n['Age'], data_n['Income'], color=\"green\", marker=\"*\")\n",
        "ax.set_title(\"Age VS. Income\")\n",
        "ax.set_xlabel(\"Age\")\n",
        "ax.set_ylabel(\"Income\")\n",
        "plt.show()"
      ],
      "metadata": {
        "colab": {
          "base_uri": "https://localhost:8080/",
          "height": 295
        },
        "id": "ETsM4mfIiXhg",
        "outputId": "7b5c2db1-1afc-48d7-e428-c4478bd13f4d"
      },
      "execution_count": 289,
      "outputs": [
        {
          "output_type": "display_data",
          "data": {
            "text/plain": [
              "<Figure size 360x288 with 1 Axes>"
            ],
            "image/png": "[encoded data removed]"
          },
          "metadata": {
            "needs_background": "light"
          }
        }
      ]
    },
    {
      "cell_type": "code",
      "source": [
        ""
      ],
      "metadata": {
        "id": "uzbgdZyYqMIi"
      },
      "execution_count": null,
      "outputs": []
    },
    {
      "cell_type": "code",
      "source": [
        ""
      ],
      "metadata": {
        "id": "QT_Y3OpwqV2L"
      },
      "execution_count": null,
      "outputs": []
    },
    {
      "cell_type": "code",
      "source": [
        "#Working with Populations Dataset with Numpy"
      ],
      "metadata": {
        "id": "bL15YeoTqMZ0"
      },
      "execution_count": null,
      "outputs": []
    },
    {
      "cell_type": "code",
      "source": [
        "datafile = open(\"/content/populations.txt\", \"r\")\n",
        "labels_line = datafile.readline().strip()\n",
        "poptable = []\n",
        "total = 0\n",
        "for line in datafile.readlines():\n",
        "    line = line.strip()\n",
        "    row = line.split(\"\\t\")\n",
        "    record = [int(row[0]),float(row[1]),float(row[2]), float(row[3])]\n",
        "    print(record)\n",
        "    poptable.append(record)\n",
        "    total += 1\n",
        "print(total)"
      ],
      "metadata": {
        "colab": {
          "base_uri": "https://localhost:8080/"
        },
        "id": "fAaa5IrCkFWN",
        "outputId": "ccb1a92a-5f3e-4d3d-b1e8-603007f6335c"
      },
      "execution_count": 292,
      "outputs": [
        {
          "output_type": "stream",
          "name": "stdout",
          "text": [
            "[1900, 30000.0, 4000.0, 48300.0]\n",
            "[1901, 47200.0, 6100.0, 48200.0]\n",
            "[1902, 70200.0, 9800.0, 41500.0]\n",
            "[1903, 77400.0, 35200.0, 38200.0]\n",
            "[1904, 36300.0, 59400.0, 40600.0]\n",
            "[1905, 20600.0, 41700.0, 39800.0]\n",
            "[1906, 18100.0, 19000.0, 38600.0]\n",
            "[1907, 21400.0, 13000.0, 42300.0]\n",
            "[1908, 22000.0, 8300.0, 44500.0]\n",
            "[1909, 25400.0, 9100.0, 42100.0]\n",
            "[1910, 27100.0, 7400.0, 46000.0]\n",
            "[1911, 40300.0, 8000.0, 46800.0]\n",
            "[1912, 57000.0, 12300.0, 43800.0]\n",
            "[1913, 76600.0, 19500.0, 40900.0]\n",
            "[1914, 52300.0, 45700.0, 39400.0]\n",
            "[1915, 19500.0, 51100.0, 39000.0]\n",
            "[1916, 11200.0, 29700.0, 36700.0]\n",
            "[1917, 7600.0, 15800.0, 41800.0]\n",
            "[1918, 14600.0, 9700.0, 43300.0]\n",
            "[1919, 16200.0, 10100.0, 41300.0]\n",
            "[1920, 24700.0, 8600.0, 47300.0]\n",
            "21\n"
          ]
        }
      ]
    },
    {
      "cell_type": "code",
      "source": [
        "print(poptable)"
      ],
      "metadata": {
        "colab": {
          "base_uri": "https://localhost:8080/"
        },
        "id": "8EYzipG3iXjq",
        "outputId": "65eb88f8-61be-47bc-b1af-be8fc014e7cc"
      },
      "execution_count": 293,
      "outputs": [
        {
          "output_type": "stream",
          "name": "stdout",
          "text": [
            "[[1900, 30000.0, 4000.0, 48300.0], [1901, 47200.0, 6100.0, 48200.0], [1902, 70200.0, 9800.0, 41500.0], [1903, 77400.0, 35200.0, 38200.0], [1904, 36300.0, 59400.0, 40600.0], [1905, 20600.0, 41700.0, 39800.0], [1906, 18100.0, 19000.0, 38600.0], [1907, 21400.0, 13000.0, 42300.0], [1908, 22000.0, 8300.0, 44500.0], [1909, 25400.0, 9100.0, 42100.0], [1910, 27100.0, 7400.0, 46000.0], [1911, 40300.0, 8000.0, 46800.0], [1912, 57000.0, 12300.0, 43800.0], [1913, 76600.0, 19500.0, 40900.0], [1914, 52300.0, 45700.0, 39400.0], [1915, 19500.0, 51100.0, 39000.0], [1916, 11200.0, 29700.0, 36700.0], [1917, 7600.0, 15800.0, 41800.0], [1918, 14600.0, 9700.0, 43300.0], [1919, 16200.0, 10100.0, 41300.0], [1920, 24700.0, 8600.0, 47300.0]]\n"
          ]
        }
      ]
    },
    {
      "cell_type": "code",
      "source": [
        "poptable[0:4]"
      ],
      "metadata": {
        "colab": {
          "base_uri": "https://localhost:8080/"
        },
        "id": "TvrBkz24kd_l",
        "outputId": "22e5a8d9-8ae9-41d9-b214-3cf5ab30d55a"
      },
      "execution_count": 294,
      "outputs": [
        {
          "output_type": "execute_result",
          "data": {
            "text/plain": [
              "[[1900, 30000.0, 4000.0, 48300.0],\n",
              " [1901, 47200.0, 6100.0, 48200.0],\n",
              " [1902, 70200.0, 9800.0, 41500.0],\n",
              " [1903, 77400.0, 35200.0, 38200.0]]"
            ]
          },
          "metadata": {},
          "execution_count": 294
        }
      ]
    },
    {
      "cell_type": "code",
      "source": [
        "hares = {}\n",
        "\n",
        "lynxes = {}\n",
        "carrots = {}\n",
        "for row in poptable:\n",
        "    hares[row[0]] = row[1]\n",
        "    lynxes[row[0]] = row[2]\n",
        "    carrots[row[0]] = row[3]"
      ],
      "metadata": {
        "id": "R7wUPOomiXlz"
      },
      "execution_count": 295,
      "outputs": []
    },
    {
      "cell_type": "code",
      "source": [
        "print(hares[1903])"
      ],
      "metadata": {
        "colab": {
          "base_uri": "https://localhost:8080/"
        },
        "id": "aHSIm7g6kiAf",
        "outputId": "13a2fec3-e09f-48f0-e20a-bc8fa9bf8747"
      },
      "execution_count": 296,
      "outputs": [
        {
          "output_type": "stream",
          "name": "stdout",
          "text": [
            "77400.0\n"
          ]
        }
      ]
    },
    {
      "cell_type": "code",
      "source": [
        "hares_above_50k = [yr for yr in hares.keys() if hares[yr]>50000.0]\n",
        "hares_above_50k"
      ],
      "metadata": {
        "colab": {
          "base_uri": "https://localhost:8080/"
        },
        "id": "kAFQ9L7VkiC3",
        "outputId": "ab1ebd85-6a03-47e3-91be-5217644b735d"
      },
      "execution_count": 301,
      "outputs": [
        {
          "output_type": "execute_result",
          "data": {
            "text/plain": [
              "[1902, 1903, 1912, 1913, 1914]"
            ]
          },
          "metadata": {},
          "execution_count": 301
        }
      ]
    },
    {
      "cell_type": "code",
      "source": [
        ""
      ],
      "metadata": {
        "id": "w4AXtVq-py7z"
      },
      "execution_count": null,
      "outputs": []
    },
    {
      "cell_type": "code",
      "source": [
        ""
      ],
      "metadata": {
        "id": "6J_C-L3mq6oE"
      },
      "execution_count": null,
      "outputs": []
    },
    {
      "cell_type": "code",
      "source": [
        "#Pandas"
      ],
      "metadata": {
        "id": "cCj8PmAIpzF6"
      },
      "execution_count": null,
      "outputs": []
    },
    {
      "cell_type": "code",
      "source": [
        "import pandas as pd\n",
        "df = pd.read_csv(\"/content/populations.txt\", delimiter = \"\\t\")\n",
        "df.head(5)"
      ],
      "metadata": {
        "colab": {
          "base_uri": "https://localhost:8080/",
          "height": 206
        },
        "id": "d72SA8WBkiE_",
        "outputId": "ec886843-ae33-4449-b683-3b3aa8b985f1"
      },
      "execution_count": 305,
      "outputs": [
        {
          "output_type": "execute_result",
          "data": {
            "text/plain": [
              "   year     hare     lynx  carrot\n",
              "0  1900  30000.0   4000.0   48300\n",
              "1  1901  47200.0   6100.0   48200\n",
              "2  1902  70200.0   9800.0   41500\n",
              "3  1903  77400.0  35200.0   38200\n",
              "4  1904  36300.0  59400.0   40600"
            ],
            "text/html": [
              "\n",
              "  <div id=\"df-36fdb3a5-88e8-4980-a451-c808cea693b2\">\n",
              "    <div class=\"colab-df-container\">\n",
              "      <div>\n",
              "<style scoped>\n",
              "    .dataframe tbody tr th:only-of-type {\n",
              "        vertical-align: middle;\n",
              "    }\n",
              "\n",
              "    .dataframe tbody tr th {\n",
              "        vertical-align: top;\n",
              "    }\n",
              "\n",
              "    .dataframe thead th {\n",
              "        text-align: right;\n",
              "    }\n",
              "</style>\n",
              "<table border=\"1\" class=\"dataframe\">\n",
              "  <thead>\n",
              "    <tr style=\"text-align: right;\">\n",
              "      <th></th>\n",
              "      <th>year</th>\n",
              "      <th>hare</th>\n",
              "      <th>lynx</th>\n",
              "      <th>carrot</th>\n",
              "    </tr>\n",
              "  </thead>\n",
              "  <tbody>\n",
              "    <tr>\n",
              "      <th>0</th>\n",
              "      <td>1900</td>\n",
              "      <td>30000.0</td>\n",
              "      <td>4000.0</td>\n",
              "      <td>48300</td>\n",
              "    </tr>\n",
              "    <tr>\n",
              "      <th>1</th>\n",
              "      <td>1901</td>\n",
              "      <td>47200.0</td>\n",
              "      <td>6100.0</td>\n",
              "      <td>48200</td>\n",
              "    </tr>\n",
              "    <tr>\n",
              "      <th>2</th>\n",
              "      <td>1902</td>\n",
              "      <td>70200.0</td>\n",
              "      <td>9800.0</td>\n",
              "      <td>41500</td>\n",
              "    </tr>\n",
              "    <tr>\n",
              "      <th>3</th>\n",
              "      <td>1903</td>\n",
              "      <td>77400.0</td>\n",
              "      <td>35200.0</td>\n",
              "      <td>38200</td>\n",
              "    </tr>\n",
              "    <tr>\n",
              "      <th>4</th>\n",
              "      <td>1904</td>\n",
              "      <td>36300.0</td>\n",
              "      <td>59400.0</td>\n",
              "      <td>40600</td>\n",
              "    </tr>\n",
              "  </tbody>\n",
              "</table>\n",
              "</div>\n",
              "      <button class=\"colab-df-convert\" onclick=\"convertToInteractive('df-36fdb3a5-88e8-4980-a451-c808cea693b2')\"\n",
              "              title=\"Convert this dataframe to an interactive table.\"\n",
              "              style=\"display:none;\">\n",
              "        \n",
              "  <svg xmlns=\"http://www.w3.org/2000/svg\" height=\"24px\"viewBox=\"0 0 24 24\"\n",
              "       width=\"24px\">\n",
              "    <path d=\"M0 0h24v24H0V0z\" fill=\"none\"/>\n",
              "    <path d=\"M18.56 5.44l.94 2.06.94-2.06 2.06-.94-2.06-.94-.94-2.06-.94 2.06-2.06.94zm-11 1L8.5 8.5l.94-2.06 2.06-.94-2.06-.94L8.5 2.5l-.94 2.06-2.06.94zm10 10l.94 2.06.94-2.06 2.06-.94-2.06-.94-.94-2.06-.94 2.06-2.06.94z\"/><path d=\"M17.41 7.96l-1.37-1.37c-.4-.4-.92-.59-1.43-.59-.52 0-1.04.2-1.43.59L10.3 9.45l-7.72 7.72c-.78.78-.78 2.05 0 2.83L4 21.41c.39.39.9.59 1.41.59.51 0 1.02-.2 1.41-.59l7.78-7.78 2.81-2.81c.8-.78.8-2.07 0-2.86zM5.41 20L4 18.59l7.72-7.72 1.47 1.35L5.41 20z\"/>\n",
              "  </svg>\n",
              "      </button>\n",
              "      \n",
              "  <style>\n",
              "    .colab-df-container {\n",
              "      display:flex;\n",
              "      flex-wrap:wrap;\n",
              "      gap: 12px;\n",
              "    }\n",
              "\n",
              "    .colab-df-convert {\n",
              "      background-color: #E8F0FE;\n",
              "      border: none;\n",
              "      border-radius: 50%;\n",
              "      cursor: pointer;\n",
              "      display: none;\n",
              "      fill: #1967D2;\n",
              "      height: 32px;\n",
              "      padding: 0 0 0 0;\n",
              "      width: 32px;\n",
              "    }\n",
              "\n",
              "    .colab-df-convert:hover {\n",
              "      background-color: #E2EBFA;\n",
              "      box-shadow: 0px 1px 2px rgba(60, 64, 67, 0.3), 0px 1px 3px 1px rgba(60, 64, 67, 0.15);\n",
              "      fill: #174EA6;\n",
              "    }\n",
              "\n",
              "    [theme=dark] .colab-df-convert {\n",
              "      background-color: #3B4455;\n",
              "      fill: #D2E3FC;\n",
              "    }\n",
              "\n",
              "    [theme=dark] .colab-df-convert:hover {\n",
              "      background-color: #434B5C;\n",
              "      box-shadow: 0px 1px 3px 1px rgba(0, 0, 0, 0.15);\n",
              "      filter: drop-shadow(0px 1px 2px rgba(0, 0, 0, 0.3));\n",
              "      fill: #FFFFFF;\n",
              "    }\n",
              "  </style>\n",
              "\n",
              "      <script>\n",
              "        const buttonEl =\n",
              "          document.querySelector('#df-36fdb3a5-88e8-4980-a451-c808cea693b2 button.colab-df-convert');\n",
              "        buttonEl.style.display =\n",
              "          google.colab.kernel.accessAllowed ? 'block' : 'none';\n",
              "\n",
              "        async function convertToInteractive(key) {\n",
              "          const element = document.querySelector('#df-36fdb3a5-88e8-4980-a451-c808cea693b2');\n",
              "          const dataTable =\n",
              "            await google.colab.kernel.invokeFunction('convertToInteractive',\n",
              "                                                     [key], {});\n",
              "          if (!dataTable) return;\n",
              "\n",
              "          const docLinkHtml = 'Like what you see? Visit the ' +\n",
              "            '<a target=\"_blank\" href=https://colab.research.google.com/notebooks/data_table.ipynb>data table notebook</a>'\n",
              "            + ' to learn more about interactive tables.';\n",
              "          element.innerHTML = '';\n",
              "          dataTable['output_type'] = 'display_data';\n",
              "          await google.colab.output.renderOutput(dataTable, element);\n",
              "          const docLink = document.createElement('div');\n",
              "          docLink.innerHTML = docLinkHtml;\n",
              "          element.appendChild(docLink);\n",
              "        }\n",
              "      </script>\n",
              "    </div>\n",
              "  </div>\n",
              "  "
            ]
          },
          "metadata": {},
          "execution_count": 305
        }
      ]
    },
    {
      "cell_type": "code",
      "source": [
        "df.tail(2)"
      ],
      "metadata": {
        "colab": {
          "base_uri": "https://localhost:8080/",
          "height": 112
        },
        "id": "lub7gTgXkiHB",
        "outputId": "12ce5882-17ff-4ba0-b3a5-b58911492b50"
      },
      "execution_count": 306,
      "outputs": [
        {
          "output_type": "execute_result",
          "data": {
            "text/plain": [
              "    year     hare     lynx  carrot\n",
              "19  1919  16200.0  10100.0   41300\n",
              "20  1920  24700.0   8600.0   47300"
            ],
            "text/html": [
              "\n",
              "  <div id=\"df-f4a15c24-17e8-461d-91e0-305e8b4426e1\">\n",
              "    <div class=\"colab-df-container\">\n",
              "      <div>\n",
              "<style scoped>\n",
              "    .dataframe tbody tr th:only-of-type {\n",
              "        vertical-align: middle;\n",
              "    }\n",
              "\n",
              "    .dataframe tbody tr th {\n",
              "        vertical-align: top;\n",
              "    }\n",
              "\n",
              "    .dataframe thead th {\n",
              "        text-align: right;\n",
              "    }\n",
              "</style>\n",
              "<table border=\"1\" class=\"dataframe\">\n",
              "  <thead>\n",
              "    <tr style=\"text-align: right;\">\n",
              "      <th></th>\n",
              "      <th>year</th>\n",
              "      <th>hare</th>\n",
              "      <th>lynx</th>\n",
              "      <th>carrot</th>\n",
              "    </tr>\n",
              "  </thead>\n",
              "  <tbody>\n",
              "    <tr>\n",
              "      <th>19</th>\n",
              "      <td>1919</td>\n",
              "      <td>16200.0</td>\n",
              "      <td>10100.0</td>\n",
              "      <td>41300</td>\n",
              "    </tr>\n",
              "    <tr>\n",
              "      <th>20</th>\n",
              "      <td>1920</td>\n",
              "      <td>24700.0</td>\n",
              "      <td>8600.0</td>\n",
              "      <td>47300</td>\n",
              "    </tr>\n",
              "  </tbody>\n",
              "</table>\n",
              "</div>\n",
              "      <button class=\"colab-df-convert\" onclick=\"convertToInteractive('df-f4a15c24-17e8-461d-91e0-305e8b4426e1')\"\n",
              "              title=\"Convert this dataframe to an interactive table.\"\n",
              "              style=\"display:none;\">\n",
              "        \n",
              "  <svg xmlns=\"http://www.w3.org/2000/svg\" height=\"24px\"viewBox=\"0 0 24 24\"\n",
              "       width=\"24px\">\n",
              "    <path d=\"M0 0h24v24H0V0z\" fill=\"none\"/>\n",
              "    <path d=\"M18.56 5.44l.94 2.06.94-2.06 2.06-.94-2.06-.94-.94-2.06-.94 2.06-2.06.94zm-11 1L8.5 8.5l.94-2.06 2.06-.94-2.06-.94L8.5 2.5l-.94 2.06-2.06.94zm10 10l.94 2.06.94-2.06 2.06-.94-2.06-.94-.94-2.06-.94 2.06-2.06.94z\"/><path d=\"M17.41 7.96l-1.37-1.37c-.4-.4-.92-.59-1.43-.59-.52 0-1.04.2-1.43.59L10.3 9.45l-7.72 7.72c-.78.78-.78 2.05 0 2.83L4 21.41c.39.39.9.59 1.41.59.51 0 1.02-.2 1.41-.59l7.78-7.78 2.81-2.81c.8-.78.8-2.07 0-2.86zM5.41 20L4 18.59l7.72-7.72 1.47 1.35L5.41 20z\"/>\n",
              "  </svg>\n",
              "      </button>\n",
              "      \n",
              "  <style>\n",
              "    .colab-df-container {\n",
              "      display:flex;\n",
              "      flex-wrap:wrap;\n",
              "      gap: 12px;\n",
              "    }\n",
              "\n",
              "    .colab-df-convert {\n",
              "      background-color: #E8F0FE;\n",
              "      border: none;\n",
              "      border-radius: 50%;\n",
              "      cursor: pointer;\n",
              "      display: none;\n",
              "      fill: #1967D2;\n",
              "      height: 32px;\n",
              "      padding: 0 0 0 0;\n",
              "      width: 32px;\n",
              "    }\n",
              "\n",
              "    .colab-df-convert:hover {\n",
              "      background-color: #E2EBFA;\n",
              "      box-shadow: 0px 1px 2px rgba(60, 64, 67, 0.3), 0px 1px 3px 1px rgba(60, 64, 67, 0.15);\n",
              "      fill: #174EA6;\n",
              "    }\n",
              "\n",
              "    [theme=dark] .colab-df-convert {\n",
              "      background-color: #3B4455;\n",
              "      fill: #D2E3FC;\n",
              "    }\n",
              "\n",
              "    [theme=dark] .colab-df-convert:hover {\n",
              "      background-color: #434B5C;\n",
              "      box-shadow: 0px 1px 3px 1px rgba(0, 0, 0, 0.15);\n",
              "      filter: drop-shadow(0px 1px 2px rgba(0, 0, 0, 0.3));\n",
              "      fill: #FFFFFF;\n",
              "    }\n",
              "  </style>\n",
              "\n",
              "      <script>\n",
              "        const buttonEl =\n",
              "          document.querySelector('#df-f4a15c24-17e8-461d-91e0-305e8b4426e1 button.colab-df-convert');\n",
              "        buttonEl.style.display =\n",
              "          google.colab.kernel.accessAllowed ? 'block' : 'none';\n",
              "\n",
              "        async function convertToInteractive(key) {\n",
              "          const element = document.querySelector('#df-f4a15c24-17e8-461d-91e0-305e8b4426e1');\n",
              "          const dataTable =\n",
              "            await google.colab.kernel.invokeFunction('convertToInteractive',\n",
              "                                                     [key], {});\n",
              "          if (!dataTable) return;\n",
              "\n",
              "          const docLinkHtml = 'Like what you see? Visit the ' +\n",
              "            '<a target=\"_blank\" href=https://colab.research.google.com/notebooks/data_table.ipynb>data table notebook</a>'\n",
              "            + ' to learn more about interactive tables.';\n",
              "          element.innerHTML = '';\n",
              "          dataTable['output_type'] = 'display_data';\n",
              "          await google.colab.output.renderOutput(dataTable, element);\n",
              "          const docLink = document.createElement('div');\n",
              "          docLink.innerHTML = docLinkHtml;\n",
              "          element.appendChild(docLink);\n",
              "        }\n",
              "      </script>\n",
              "    </div>\n",
              "  </div>\n",
              "  "
            ]
          },
          "metadata": {},
          "execution_count": 306
        }
      ]
    },
    {
      "cell_type": "code",
      "source": [
        "df.sample(3)"
      ],
      "metadata": {
        "colab": {
          "base_uri": "https://localhost:8080/",
          "height": 143
        },
        "id": "vuEUtIH9kiI7",
        "outputId": "b11447fe-d521-44c1-e974-e49095590391"
      },
      "execution_count": 307,
      "outputs": [
        {
          "output_type": "execute_result",
          "data": {
            "text/plain": [
              "   year     hare     lynx  carrot\n",
              "5  1905  20600.0  41700.0   39800\n",
              "1  1901  47200.0   6100.0   48200\n",
              "4  1904  36300.0  59400.0   40600"
            ],
            "text/html": [
              "\n",
              "  <div id=\"df-c9a18814-cae1-488f-bafb-b5d796f4f911\">\n",
              "    <div class=\"colab-df-container\">\n",
              "      <div>\n",
              "<style scoped>\n",
              "    .dataframe tbody tr th:only-of-type {\n",
              "        vertical-align: middle;\n",
              "    }\n",
              "\n",
              "    .dataframe tbody tr th {\n",
              "        vertical-align: top;\n",
              "    }\n",
              "\n",
              "    .dataframe thead th {\n",
              "        text-align: right;\n",
              "    }\n",
              "</style>\n",
              "<table border=\"1\" class=\"dataframe\">\n",
              "  <thead>\n",
              "    <tr style=\"text-align: right;\">\n",
              "      <th></th>\n",
              "      <th>year</th>\n",
              "      <th>hare</th>\n",
              "      <th>lynx</th>\n",
              "      <th>carrot</th>\n",
              "    </tr>\n",
              "  </thead>\n",
              "  <tbody>\n",
              "    <tr>\n",
              "      <th>5</th>\n",
              "      <td>1905</td>\n",
              "      <td>20600.0</td>\n",
              "      <td>41700.0</td>\n",
              "      <td>39800</td>\n",
              "    </tr>\n",
              "    <tr>\n",
              "      <th>1</th>\n",
              "      <td>1901</td>\n",
              "      <td>47200.0</td>\n",
              "      <td>6100.0</td>\n",
              "      <td>48200</td>\n",
              "    </tr>\n",
              "    <tr>\n",
              "      <th>4</th>\n",
              "      <td>1904</td>\n",
              "      <td>36300.0</td>\n",
              "      <td>59400.0</td>\n",
              "      <td>40600</td>\n",
              "    </tr>\n",
              "  </tbody>\n",
              "</table>\n",
              "</div>\n",
              "      <button class=\"colab-df-convert\" onclick=\"convertToInteractive('df-c9a18814-cae1-488f-bafb-b5d796f4f911')\"\n",
              "              title=\"Convert this dataframe to an interactive table.\"\n",
              "              style=\"display:none;\">\n",
              "        \n",
              "  <svg xmlns=\"http://www.w3.org/2000/svg\" height=\"24px\"viewBox=\"0 0 24 24\"\n",
              "       width=\"24px\">\n",
              "    <path d=\"M0 0h24v24H0V0z\" fill=\"none\"/>\n",
              "    <path d=\"M18.56 5.44l.94 2.06.94-2.06 2.06-.94-2.06-.94-.94-2.06-.94 2.06-2.06.94zm-11 1L8.5 8.5l.94-2.06 2.06-.94-2.06-.94L8.5 2.5l-.94 2.06-2.06.94zm10 10l.94 2.06.94-2.06 2.06-.94-2.06-.94-.94-2.06-.94 2.06-2.06.94z\"/><path d=\"M17.41 7.96l-1.37-1.37c-.4-.4-.92-.59-1.43-.59-.52 0-1.04.2-1.43.59L10.3 9.45l-7.72 7.72c-.78.78-.78 2.05 0 2.83L4 21.41c.39.39.9.59 1.41.59.51 0 1.02-.2 1.41-.59l7.78-7.78 2.81-2.81c.8-.78.8-2.07 0-2.86zM5.41 20L4 18.59l7.72-7.72 1.47 1.35L5.41 20z\"/>\n",
              "  </svg>\n",
              "      </button>\n",
              "      \n",
              "  <style>\n",
              "    .colab-df-container {\n",
              "      display:flex;\n",
              "      flex-wrap:wrap;\n",
              "      gap: 12px;\n",
              "    }\n",
              "\n",
              "    .colab-df-convert {\n",
              "      background-color: #E8F0FE;\n",
              "      border: none;\n",
              "      border-radius: 50%;\n",
              "      cursor: pointer;\n",
              "      display: none;\n",
              "      fill: #1967D2;\n",
              "      height: 32px;\n",
              "      padding: 0 0 0 0;\n",
              "      width: 32px;\n",
              "    }\n",
              "\n",
              "    .colab-df-convert:hover {\n",
              "      background-color: #E2EBFA;\n",
              "      box-shadow: 0px 1px 2px rgba(60, 64, 67, 0.3), 0px 1px 3px 1px rgba(60, 64, 67, 0.15);\n",
              "      fill: #174EA6;\n",
              "    }\n",
              "\n",
              "    [theme=dark] .colab-df-convert {\n",
              "      background-color: #3B4455;\n",
              "      fill: #D2E3FC;\n",
              "    }\n",
              "\n",
              "    [theme=dark] .colab-df-convert:hover {\n",
              "      background-color: #434B5C;\n",
              "      box-shadow: 0px 1px 3px 1px rgba(0, 0, 0, 0.15);\n",
              "      filter: drop-shadow(0px 1px 2px rgba(0, 0, 0, 0.3));\n",
              "      fill: #FFFFFF;\n",
              "    }\n",
              "  </style>\n",
              "\n",
              "      <script>\n",
              "        const buttonEl =\n",
              "          document.querySelector('#df-c9a18814-cae1-488f-bafb-b5d796f4f911 button.colab-df-convert');\n",
              "        buttonEl.style.display =\n",
              "          google.colab.kernel.accessAllowed ? 'block' : 'none';\n",
              "\n",
              "        async function convertToInteractive(key) {\n",
              "          const element = document.querySelector('#df-c9a18814-cae1-488f-bafb-b5d796f4f911');\n",
              "          const dataTable =\n",
              "            await google.colab.kernel.invokeFunction('convertToInteractive',\n",
              "                                                     [key], {});\n",
              "          if (!dataTable) return;\n",
              "\n",
              "          const docLinkHtml = 'Like what you see? Visit the ' +\n",
              "            '<a target=\"_blank\" href=https://colab.research.google.com/notebooks/data_table.ipynb>data table notebook</a>'\n",
              "            + ' to learn more about interactive tables.';\n",
              "          element.innerHTML = '';\n",
              "          dataTable['output_type'] = 'display_data';\n",
              "          await google.colab.output.renderOutput(dataTable, element);\n",
              "          const docLink = document.createElement('div');\n",
              "          docLink.innerHTML = docLinkHtml;\n",
              "          element.appendChild(docLink);\n",
              "        }\n",
              "      </script>\n",
              "    </div>\n",
              "  </div>\n",
              "  "
            ]
          },
          "metadata": {},
          "execution_count": 307
        }
      ]
    },
    {
      "cell_type": "code",
      "source": [
        "df.columns"
      ],
      "metadata": {
        "colab": {
          "base_uri": "https://localhost:8080/"
        },
        "id": "BFMtDgThkiLD",
        "outputId": "3b03d760-851e-4caa-d138-f8b15a7126ab"
      },
      "execution_count": 308,
      "outputs": [
        {
          "output_type": "execute_result",
          "data": {
            "text/plain": [
              "Index(['year', 'hare', 'lynx', 'carrot'], dtype='object')"
            ]
          },
          "metadata": {},
          "execution_count": 308
        }
      ]
    },
    {
      "cell_type": "code",
      "source": [
        "df.values"
      ],
      "metadata": {
        "colab": {
          "base_uri": "https://localhost:8080/"
        },
        "id": "4cTIMjPnkiNF",
        "outputId": "d5ad4978-77cb-44cc-b764-f0b7aff278d3"
      },
      "execution_count": 309,
      "outputs": [
        {
          "output_type": "execute_result",
          "data": {
            "text/plain": [
              "array([[ 1900., 30000.,  4000., 48300.],\n",
              "       [ 1901., 47200.,  6100., 48200.],\n",
              "       [ 1902., 70200.,  9800., 41500.],\n",
              "       [ 1903., 77400., 35200., 38200.],\n",
              "       [ 1904., 36300., 59400., 40600.],\n",
              "       [ 1905., 20600., 41700., 39800.],\n",
              "       [ 1906., 18100., 19000., 38600.],\n",
              "       [ 1907., 21400., 13000., 42300.],\n",
              "       [ 1908., 22000.,  8300., 44500.],\n",
              "       [ 1909., 25400.,  9100., 42100.],\n",
              "       [ 1910., 27100.,  7400., 46000.],\n",
              "       [ 1911., 40300.,  8000., 46800.],\n",
              "       [ 1912., 57000., 12300., 43800.],\n",
              "       [ 1913., 76600., 19500., 40900.],\n",
              "       [ 1914., 52300., 45700., 39400.],\n",
              "       [ 1915., 19500., 51100., 39000.],\n",
              "       [ 1916., 11200., 29700., 36700.],\n",
              "       [ 1917.,  7600., 15800., 41800.],\n",
              "       [ 1918., 14600.,  9700., 43300.],\n",
              "       [ 1919., 16200., 10100., 41300.],\n",
              "       [ 1920., 24700.,  8600., 47300.]])"
            ]
          },
          "metadata": {},
          "execution_count": 309
        }
      ]
    },
    {
      "cell_type": "code",
      "source": [
        "df.dtypes"
      ],
      "metadata": {
        "colab": {
          "base_uri": "https://localhost:8080/"
        },
        "id": "DVg_jryqkiO_",
        "outputId": "adc0dbb3-e5d4-43f8-c8fa-e44f60b21b42"
      },
      "execution_count": 310,
      "outputs": [
        {
          "output_type": "execute_result",
          "data": {
            "text/plain": [
              "year        int64\n",
              "hare      float64\n",
              "lynx      float64\n",
              "carrot      int64\n",
              "dtype: object"
            ]
          },
          "metadata": {},
          "execution_count": 310
        }
      ]
    },
    {
      "cell_type": "code",
      "source": [
        "df[\"hare\"].sample(3)"
      ],
      "metadata": {
        "colab": {
          "base_uri": "https://localhost:8080/"
        },
        "id": "_-BvKzOikiRY",
        "outputId": "7ff02fc1-1653-41bb-c702-8c31f937eddd"
      },
      "execution_count": 311,
      "outputs": [
        {
          "output_type": "execute_result",
          "data": {
            "text/plain": [
              "16    11200.0\n",
              "11    40300.0\n",
              "6     18100.0\n",
              "Name: hare, dtype: float64"
            ]
          },
          "metadata": {},
          "execution_count": 311
        }
      ]
    },
    {
      "cell_type": "code",
      "source": [
        "df.carrot.tail(3)"
      ],
      "metadata": {
        "colab": {
          "base_uri": "https://localhost:8080/"
        },
        "id": "veo6edz7kiTk",
        "outputId": "60d6f7f4-3659-4595-9626-00b8fa98a9a3"
      },
      "execution_count": 312,
      "outputs": [
        {
          "output_type": "execute_result",
          "data": {
            "text/plain": [
              "18    43300\n",
              "19    41300\n",
              "20    47300\n",
              "Name: carrot, dtype: int64"
            ]
          },
          "metadata": {},
          "execution_count": 312
        }
      ]
    },
    {
      "cell_type": "code",
      "source": [
        "df.std()"
      ],
      "metadata": {
        "colab": {
          "base_uri": "https://localhost:8080/"
        },
        "id": "9DfuymR4kiVs",
        "outputId": "948f5503-b23b-4b2d-fff4-5e44891a9684"
      },
      "execution_count": 313,
      "outputs": [
        {
          "output_type": "execute_result",
          "data": {
            "text/plain": [
              "year          6.204837\n",
              "hare      21413.981859\n",
              "lynx      16655.999920\n",
              "carrot     3404.555771\n",
              "dtype: float64"
            ]
          },
          "metadata": {},
          "execution_count": 313
        }
      ]
    },
    {
      "cell_type": "code",
      "source": [
        "df.mean()"
      ],
      "metadata": {
        "colab": {
          "base_uri": "https://localhost:8080/"
        },
        "id": "vag2I7pCkiYJ",
        "outputId": "68577292-d65e-4597-c4e2-b013ec8fe558"
      },
      "execution_count": 314,
      "outputs": [
        {
          "output_type": "execute_result",
          "data": {
            "text/plain": [
              "year       1910.000000\n",
              "hare      34080.952381\n",
              "lynx      20166.666667\n",
              "carrot    42400.000000\n",
              "dtype: float64"
            ]
          },
          "metadata": {},
          "execution_count": 314
        }
      ]
    },
    {
      "cell_type": "code",
      "source": [
        "df.median()"
      ],
      "metadata": {
        "colab": {
          "base_uri": "https://localhost:8080/"
        },
        "id": "zfloRMG4kiad",
        "outputId": "c72ee4ce-5381-4dc3-f9c1-0919b13bea9d"
      },
      "execution_count": 315,
      "outputs": [
        {
          "output_type": "execute_result",
          "data": {
            "text/plain": [
              "year       1910.0\n",
              "hare      25400.0\n",
              "lynx      12300.0\n",
              "carrot    41800.0\n",
              "dtype: float64"
            ]
          },
          "metadata": {},
          "execution_count": 315
        }
      ]
    },
    {
      "cell_type": "code",
      "source": [
        "df[\"carrot\"].mean()"
      ],
      "metadata": {
        "colab": {
          "base_uri": "https://localhost:8080/"
        },
        "id": "YO0apwVnkicn",
        "outputId": "871a8b4a-457f-4574-ab64-7911dfbb08f5"
      },
      "execution_count": 316,
      "outputs": [
        {
          "output_type": "execute_result",
          "data": {
            "text/plain": [
              "42400.0"
            ]
          },
          "metadata": {},
          "execution_count": 316
        }
      ]
    },
    {
      "cell_type": "code",
      "source": [
        "df.describe()"
      ],
      "metadata": {
        "colab": {
          "base_uri": "https://localhost:8080/",
          "height": 300
        },
        "id": "Cmnok3IQkiel",
        "outputId": "c0dcbfea-6222-4d39-c62c-676296d59660"
      },
      "execution_count": 317,
      "outputs": [
        {
          "output_type": "execute_result",
          "data": {
            "text/plain": [
              "              year          hare          lynx        carrot\n",
              "count    21.000000     21.000000     21.000000     21.000000\n",
              "mean   1910.000000  34080.952381  20166.666667  42400.000000\n",
              "std       6.204837  21413.981859  16655.999920   3404.555771\n",
              "min    1900.000000   7600.000000   4000.000000  36700.000000\n",
              "25%    1905.000000  19500.000000   8600.000000  39800.000000\n",
              "50%    1910.000000  25400.000000  12300.000000  41800.000000\n",
              "75%    1915.000000  47200.000000  29700.000000  44500.000000\n",
              "max    1920.000000  77400.000000  59400.000000  48300.000000"
            ],
            "text/html": [
              "\n",
              "  <div id=\"df-18dcc9b8-9136-42cb-91f3-b50cf4713b4e\">\n",
              "    <div class=\"colab-df-container\">\n",
              "      <div>\n",
              "<style scoped>\n",
              "    .dataframe tbody tr th:only-of-type {\n",
              "        vertical-align: middle;\n",
              "    }\n",
              "\n",
              "    .dataframe tbody tr th {\n",
              "        vertical-align: top;\n",
              "    }\n",
              "\n",
              "    .dataframe thead th {\n",
              "        text-align: right;\n",
              "    }\n",
              "</style>\n",
              "<table border=\"1\" class=\"dataframe\">\n",
              "  <thead>\n",
              "    <tr style=\"text-align: right;\">\n",
              "      <th></th>\n",
              "      <th>year</th>\n",
              "      <th>hare</th>\n",
              "      <th>lynx</th>\n",
              "      <th>carrot</th>\n",
              "    </tr>\n",
              "  </thead>\n",
              "  <tbody>\n",
              "    <tr>\n",
              "      <th>count</th>\n",
              "      <td>21.000000</td>\n",
              "      <td>21.000000</td>\n",
              "      <td>21.000000</td>\n",
              "      <td>21.000000</td>\n",
              "    </tr>\n",
              "    <tr>\n",
              "      <th>mean</th>\n",
              "      <td>1910.000000</td>\n",
              "      <td>34080.952381</td>\n",
              "      <td>20166.666667</td>\n",
              "      <td>42400.000000</td>\n",
              "    </tr>\n",
              "    <tr>\n",
              "      <th>std</th>\n",
              "      <td>6.204837</td>\n",
              "      <td>21413.981859</td>\n",
              "      <td>16655.999920</td>\n",
              "      <td>3404.555771</td>\n",
              "    </tr>\n",
              "    <tr>\n",
              "      <th>min</th>\n",
              "      <td>1900.000000</td>\n",
              "      <td>7600.000000</td>\n",
              "      <td>4000.000000</td>\n",
              "      <td>36700.000000</td>\n",
              "    </tr>\n",
              "    <tr>\n",
              "      <th>25%</th>\n",
              "      <td>1905.000000</td>\n",
              "      <td>19500.000000</td>\n",
              "      <td>8600.000000</td>\n",
              "      <td>39800.000000</td>\n",
              "    </tr>\n",
              "    <tr>\n",
              "      <th>50%</th>\n",
              "      <td>1910.000000</td>\n",
              "      <td>25400.000000</td>\n",
              "      <td>12300.000000</td>\n",
              "      <td>41800.000000</td>\n",
              "    </tr>\n",
              "    <tr>\n",
              "      <th>75%</th>\n",
              "      <td>1915.000000</td>\n",
              "      <td>47200.000000</td>\n",
              "      <td>29700.000000</td>\n",
              "      <td>44500.000000</td>\n",
              "    </tr>\n",
              "    <tr>\n",
              "      <th>max</th>\n",
              "      <td>1920.000000</td>\n",
              "      <td>77400.000000</td>\n",
              "      <td>59400.000000</td>\n",
              "      <td>48300.000000</td>\n",
              "    </tr>\n",
              "  </tbody>\n",
              "</table>\n",
              "</div>\n",
              "      <button class=\"colab-df-convert\" onclick=\"convertToInteractive('df-18dcc9b8-9136-42cb-91f3-b50cf4713b4e')\"\n",
              "              title=\"Convert this dataframe to an interactive table.\"\n",
              "              style=\"display:none;\">\n",
              "        \n",
              "  <svg xmlns=\"http://www.w3.org/2000/svg\" height=\"24px\"viewBox=\"0 0 24 24\"\n",
              "       width=\"24px\">\n",
              "    <path d=\"M0 0h24v24H0V0z\" fill=\"none\"/>\n",
              "    <path d=\"M18.56 5.44l.94 2.06.94-2.06 2.06-.94-2.06-.94-.94-2.06-.94 2.06-2.06.94zm-11 1L8.5 8.5l.94-2.06 2.06-.94-2.06-.94L8.5 2.5l-.94 2.06-2.06.94zm10 10l.94 2.06.94-2.06 2.06-.94-2.06-.94-.94-2.06-.94 2.06-2.06.94z\"/><path d=\"M17.41 7.96l-1.37-1.37c-.4-.4-.92-.59-1.43-.59-.52 0-1.04.2-1.43.59L10.3 9.45l-7.72 7.72c-.78.78-.78 2.05 0 2.83L4 21.41c.39.39.9.59 1.41.59.51 0 1.02-.2 1.41-.59l7.78-7.78 2.81-2.81c.8-.78.8-2.07 0-2.86zM5.41 20L4 18.59l7.72-7.72 1.47 1.35L5.41 20z\"/>\n",
              "  </svg>\n",
              "      </button>\n",
              "      \n",
              "  <style>\n",
              "    .colab-df-container {\n",
              "      display:flex;\n",
              "      flex-wrap:wrap;\n",
              "      gap: 12px;\n",
              "    }\n",
              "\n",
              "    .colab-df-convert {\n",
              "      background-color: #E8F0FE;\n",
              "      border: none;\n",
              "      border-radius: 50%;\n",
              "      cursor: pointer;\n",
              "      display: none;\n",
              "      fill: #1967D2;\n",
              "      height: 32px;\n",
              "      padding: 0 0 0 0;\n",
              "      width: 32px;\n",
              "    }\n",
              "\n",
              "    .colab-df-convert:hover {\n",
              "      background-color: #E2EBFA;\n",
              "      box-shadow: 0px 1px 2px rgba(60, 64, 67, 0.3), 0px 1px 3px 1px rgba(60, 64, 67, 0.15);\n",
              "      fill: #174EA6;\n",
              "    }\n",
              "\n",
              "    [theme=dark] .colab-df-convert {\n",
              "      background-color: #3B4455;\n",
              "      fill: #D2E3FC;\n",
              "    }\n",
              "\n",
              "    [theme=dark] .colab-df-convert:hover {\n",
              "      background-color: #434B5C;\n",
              "      box-shadow: 0px 1px 3px 1px rgba(0, 0, 0, 0.15);\n",
              "      filter: drop-shadow(0px 1px 2px rgba(0, 0, 0, 0.3));\n",
              "      fill: #FFFFFF;\n",
              "    }\n",
              "  </style>\n",
              "\n",
              "      <script>\n",
              "        const buttonEl =\n",
              "          document.querySelector('#df-18dcc9b8-9136-42cb-91f3-b50cf4713b4e button.colab-df-convert');\n",
              "        buttonEl.style.display =\n",
              "          google.colab.kernel.accessAllowed ? 'block' : 'none';\n",
              "\n",
              "        async function convertToInteractive(key) {\n",
              "          const element = document.querySelector('#df-18dcc9b8-9136-42cb-91f3-b50cf4713b4e');\n",
              "          const dataTable =\n",
              "            await google.colab.kernel.invokeFunction('convertToInteractive',\n",
              "                                                     [key], {});\n",
              "          if (!dataTable) return;\n",
              "\n",
              "          const docLinkHtml = 'Like what you see? Visit the ' +\n",
              "            '<a target=\"_blank\" href=https://colab.research.google.com/notebooks/data_table.ipynb>data table notebook</a>'\n",
              "            + ' to learn more about interactive tables.';\n",
              "          element.innerHTML = '';\n",
              "          dataTable['output_type'] = 'display_data';\n",
              "          await google.colab.output.renderOutput(dataTable, element);\n",
              "          const docLink = document.createElement('div');\n",
              "          docLink.innerHTML = docLinkHtml;\n",
              "          element.appendChild(docLink);\n",
              "        }\n",
              "      </script>\n",
              "    </div>\n",
              "  </div>\n",
              "  "
            ]
          },
          "metadata": {},
          "execution_count": 317
        }
      ]
    },
    {
      "cell_type": "code",
      "source": [
        "df[[\"year\",\t\"hare\",\t\"lynx\"]].describe()"
      ],
      "metadata": {
        "colab": {
          "base_uri": "https://localhost:8080/",
          "height": 300
        },
        "id": "HCBkaOw2kig2",
        "outputId": "7d987ef3-b3aa-4d7f-8fd2-548ebec4359e"
      },
      "execution_count": 318,
      "outputs": [
        {
          "output_type": "execute_result",
          "data": {
            "text/plain": [
              "              year          hare          lynx\n",
              "count    21.000000     21.000000     21.000000\n",
              "mean   1910.000000  34080.952381  20166.666667\n",
              "std       6.204837  21413.981859  16655.999920\n",
              "min    1900.000000   7600.000000   4000.000000\n",
              "25%    1905.000000  19500.000000   8600.000000\n",
              "50%    1910.000000  25400.000000  12300.000000\n",
              "75%    1915.000000  47200.000000  29700.000000\n",
              "max    1920.000000  77400.000000  59400.000000"
            ],
            "text/html": [
              "\n",
              "  <div id=\"df-020ab6ff-f112-4a6b-99ab-bd38e59525b4\">\n",
              "    <div class=\"colab-df-container\">\n",
              "      <div>\n",
              "<style scoped>\n",
              "    .dataframe tbody tr th:only-of-type {\n",
              "        vertical-align: middle;\n",
              "    }\n",
              "\n",
              "    .dataframe tbody tr th {\n",
              "        vertical-align: top;\n",
              "    }\n",
              "\n",
              "    .dataframe thead th {\n",
              "        text-align: right;\n",
              "    }\n",
              "</style>\n",
              "<table border=\"1\" class=\"dataframe\">\n",
              "  <thead>\n",
              "    <tr style=\"text-align: right;\">\n",
              "      <th></th>\n",
              "      <th>year</th>\n",
              "      <th>hare</th>\n",
              "      <th>lynx</th>\n",
              "    </tr>\n",
              "  </thead>\n",
              "  <tbody>\n",
              "    <tr>\n",
              "      <th>count</th>\n",
              "      <td>21.000000</td>\n",
              "      <td>21.000000</td>\n",
              "      <td>21.000000</td>\n",
              "    </tr>\n",
              "    <tr>\n",
              "      <th>mean</th>\n",
              "      <td>1910.000000</td>\n",
              "      <td>34080.952381</td>\n",
              "      <td>20166.666667</td>\n",
              "    </tr>\n",
              "    <tr>\n",
              "      <th>std</th>\n",
              "      <td>6.204837</td>\n",
              "      <td>21413.981859</td>\n",
              "      <td>16655.999920</td>\n",
              "    </tr>\n",
              "    <tr>\n",
              "      <th>min</th>\n",
              "      <td>1900.000000</td>\n",
              "      <td>7600.000000</td>\n",
              "      <td>4000.000000</td>\n",
              "    </tr>\n",
              "    <tr>\n",
              "      <th>25%</th>\n",
              "      <td>1905.000000</td>\n",
              "      <td>19500.000000</td>\n",
              "      <td>8600.000000</td>\n",
              "    </tr>\n",
              "    <tr>\n",
              "      <th>50%</th>\n",
              "      <td>1910.000000</td>\n",
              "      <td>25400.000000</td>\n",
              "      <td>12300.000000</td>\n",
              "    </tr>\n",
              "    <tr>\n",
              "      <th>75%</th>\n",
              "      <td>1915.000000</td>\n",
              "      <td>47200.000000</td>\n",
              "      <td>29700.000000</td>\n",
              "    </tr>\n",
              "    <tr>\n",
              "      <th>max</th>\n",
              "      <td>1920.000000</td>\n",
              "      <td>77400.000000</td>\n",
              "      <td>59400.000000</td>\n",
              "    </tr>\n",
              "  </tbody>\n",
              "</table>\n",
              "</div>\n",
              "      <button class=\"colab-df-convert\" onclick=\"convertToInteractive('df-020ab6ff-f112-4a6b-99ab-bd38e59525b4')\"\n",
              "              title=\"Convert this dataframe to an interactive table.\"\n",
              "              style=\"display:none;\">\n",
              "        \n",
              "  <svg xmlns=\"http://www.w3.org/2000/svg\" height=\"24px\"viewBox=\"0 0 24 24\"\n",
              "       width=\"24px\">\n",
              "    <path d=\"M0 0h24v24H0V0z\" fill=\"none\"/>\n",
              "    <path d=\"M18.56 5.44l.94 2.06.94-2.06 2.06-.94-2.06-.94-.94-2.06-.94 2.06-2.06.94zm-11 1L8.5 8.5l.94-2.06 2.06-.94-2.06-.94L8.5 2.5l-.94 2.06-2.06.94zm10 10l.94 2.06.94-2.06 2.06-.94-2.06-.94-.94-2.06-.94 2.06-2.06.94z\"/><path d=\"M17.41 7.96l-1.37-1.37c-.4-.4-.92-.59-1.43-.59-.52 0-1.04.2-1.43.59L10.3 9.45l-7.72 7.72c-.78.78-.78 2.05 0 2.83L4 21.41c.39.39.9.59 1.41.59.51 0 1.02-.2 1.41-.59l7.78-7.78 2.81-2.81c.8-.78.8-2.07 0-2.86zM5.41 20L4 18.59l7.72-7.72 1.47 1.35L5.41 20z\"/>\n",
              "  </svg>\n",
              "      </button>\n",
              "      \n",
              "  <style>\n",
              "    .colab-df-container {\n",
              "      display:flex;\n",
              "      flex-wrap:wrap;\n",
              "      gap: 12px;\n",
              "    }\n",
              "\n",
              "    .colab-df-convert {\n",
              "      background-color: #E8F0FE;\n",
              "      border: none;\n",
              "      border-radius: 50%;\n",
              "      cursor: pointer;\n",
              "      display: none;\n",
              "      fill: #1967D2;\n",
              "      height: 32px;\n",
              "      padding: 0 0 0 0;\n",
              "      width: 32px;\n",
              "    }\n",
              "\n",
              "    .colab-df-convert:hover {\n",
              "      background-color: #E2EBFA;\n",
              "      box-shadow: 0px 1px 2px rgba(60, 64, 67, 0.3), 0px 1px 3px 1px rgba(60, 64, 67, 0.15);\n",
              "      fill: #174EA6;\n",
              "    }\n",
              "\n",
              "    [theme=dark] .colab-df-convert {\n",
              "      background-color: #3B4455;\n",
              "      fill: #D2E3FC;\n",
              "    }\n",
              "\n",
              "    [theme=dark] .colab-df-convert:hover {\n",
              "      background-color: #434B5C;\n",
              "      box-shadow: 0px 1px 3px 1px rgba(0, 0, 0, 0.15);\n",
              "      filter: drop-shadow(0px 1px 2px rgba(0, 0, 0, 0.3));\n",
              "      fill: #FFFFFF;\n",
              "    }\n",
              "  </style>\n",
              "\n",
              "      <script>\n",
              "        const buttonEl =\n",
              "          document.querySelector('#df-020ab6ff-f112-4a6b-99ab-bd38e59525b4 button.colab-df-convert');\n",
              "        buttonEl.style.display =\n",
              "          google.colab.kernel.accessAllowed ? 'block' : 'none';\n",
              "\n",
              "        async function convertToInteractive(key) {\n",
              "          const element = document.querySelector('#df-020ab6ff-f112-4a6b-99ab-bd38e59525b4');\n",
              "          const dataTable =\n",
              "            await google.colab.kernel.invokeFunction('convertToInteractive',\n",
              "                                                     [key], {});\n",
              "          if (!dataTable) return;\n",
              "\n",
              "          const docLinkHtml = 'Like what you see? Visit the ' +\n",
              "            '<a target=\"_blank\" href=https://colab.research.google.com/notebooks/data_table.ipynb>data table notebook</a>'\n",
              "            + ' to learn more about interactive tables.';\n",
              "          element.innerHTML = '';\n",
              "          dataTable['output_type'] = 'display_data';\n",
              "          await google.colab.output.renderOutput(dataTable, element);\n",
              "          const docLink = document.createElement('div');\n",
              "          docLink.innerHTML = docLinkHtml;\n",
              "          element.appendChild(docLink);\n",
              "        }\n",
              "      </script>\n",
              "    </div>\n",
              "  </div>\n",
              "  "
            ]
          },
          "metadata": {},
          "execution_count": 318
        }
      ]
    },
    {
      "cell_type": "code",
      "source": [
        "df.sort_values(by = [\"hare\"])"
      ],
      "metadata": {
        "colab": {
          "base_uri": "https://localhost:8080/",
          "height": 708
        },
        "id": "zTtv_81Jkill",
        "outputId": "36985b71-a360-431e-f487-201624b44183"
      },
      "execution_count": 319,
      "outputs": [
        {
          "output_type": "execute_result",
          "data": {
            "text/plain": [
              "    year     hare     lynx  carrot\n",
              "17  1917   7600.0  15800.0   41800\n",
              "16  1916  11200.0  29700.0   36700\n",
              "18  1918  14600.0   9700.0   43300\n",
              "19  1919  16200.0  10100.0   41300\n",
              "6   1906  18100.0  19000.0   38600\n",
              "15  1915  19500.0  51100.0   39000\n",
              "5   1905  20600.0  41700.0   39800\n",
              "7   1907  21400.0  13000.0   42300\n",
              "8   1908  22000.0   8300.0   44500\n",
              "20  1920  24700.0   8600.0   47300\n",
              "9   1909  25400.0   9100.0   42100\n",
              "10  1910  27100.0   7400.0   46000\n",
              "0   1900  30000.0   4000.0   48300\n",
              "4   1904  36300.0  59400.0   40600\n",
              "11  1911  40300.0   8000.0   46800\n",
              "1   1901  47200.0   6100.0   48200\n",
              "14  1914  52300.0  45700.0   39400\n",
              "12  1912  57000.0  12300.0   43800\n",
              "2   1902  70200.0   9800.0   41500\n",
              "13  1913  76600.0  19500.0   40900\n",
              "3   1903  77400.0  35200.0   38200"
            ],
            "text/html": [
              "\n",
              "  <div id=\"df-aed39eac-a930-466a-867b-4bcc708d54f1\">\n",
              "    <div class=\"colab-df-container\">\n",
              "      <div>\n",
              "<style scoped>\n",
              "    .dataframe tbody tr th:only-of-type {\n",
              "        vertical-align: middle;\n",
              "    }\n",
              "\n",
              "    .dataframe tbody tr th {\n",
              "        vertical-align: top;\n",
              "    }\n",
              "\n",
              "    .dataframe thead th {\n",
              "        text-align: right;\n",
              "    }\n",
              "</style>\n",
              "<table border=\"1\" class=\"dataframe\">\n",
              "  <thead>\n",
              "    <tr style=\"text-align: right;\">\n",
              "      <th></th>\n",
              "      <th>year</th>\n",
              "      <th>hare</th>\n",
              "      <th>lynx</th>\n",
              "      <th>carrot</th>\n",
              "    </tr>\n",
              "  </thead>\n",
              "  <tbody>\n",
              "    <tr>\n",
              "      <th>17</th>\n",
              "      <td>1917</td>\n",
              "      <td>7600.0</td>\n",
              "      <td>15800.0</td>\n",
              "      <td>41800</td>\n",
              "    </tr>\n",
              "    <tr>\n",
              "      <th>16</th>\n",
              "      <td>1916</td>\n",
              "      <td>11200.0</td>\n",
              "      <td>29700.0</td>\n",
              "      <td>36700</td>\n",
              "    </tr>\n",
              "    <tr>\n",
              "      <th>18</th>\n",
              "      <td>1918</td>\n",
              "      <td>14600.0</td>\n",
              "      <td>9700.0</td>\n",
              "      <td>43300</td>\n",
              "    </tr>\n",
              "    <tr>\n",
              "      <th>19</th>\n",
              "      <td>1919</td>\n",
              "      <td>16200.0</td>\n",
              "      <td>10100.0</td>\n",
              "      <td>41300</td>\n",
              "    </tr>\n",
              "    <tr>\n",
              "      <th>6</th>\n",
              "      <td>1906</td>\n",
              "      <td>18100.0</td>\n",
              "      <td>19000.0</td>\n",
              "      <td>38600</td>\n",
              "    </tr>\n",
              "    <tr>\n",
              "      <th>15</th>\n",
              "      <td>1915</td>\n",
              "      <td>19500.0</td>\n",
              "      <td>51100.0</td>\n",
              "      <td>39000</td>\n",
              "    </tr>\n",
              "    <tr>\n",
              "      <th>5</th>\n",
              "      <td>1905</td>\n",
              "      <td>20600.0</td>\n",
              "      <td>41700.0</td>\n",
              "      <td>39800</td>\n",
              "    </tr>\n",
              "    <tr>\n",
              "      <th>7</th>\n",
              "      <td>1907</td>\n",
              "      <td>21400.0</td>\n",
              "      <td>13000.0</td>\n",
              "      <td>42300</td>\n",
              "    </tr>\n",
              "    <tr>\n",
              "      <th>8</th>\n",
              "      <td>1908</td>\n",
              "      <td>22000.0</td>\n",
              "      <td>8300.0</td>\n",
              "      <td>44500</td>\n",
              "    </tr>\n",
              "    <tr>\n",
              "      <th>20</th>\n",
              "      <td>1920</td>\n",
              "      <td>24700.0</td>\n",
              "      <td>8600.0</td>\n",
              "      <td>47300</td>\n",
              "    </tr>\n",
              "    <tr>\n",
              "      <th>9</th>\n",
              "      <td>1909</td>\n",
              "      <td>25400.0</td>\n",
              "      <td>9100.0</td>\n",
              "      <td>42100</td>\n",
              "    </tr>\n",
              "    <tr>\n",
              "      <th>10</th>\n",
              "      <td>1910</td>\n",
              "      <td>27100.0</td>\n",
              "      <td>7400.0</td>\n",
              "      <td>46000</td>\n",
              "    </tr>\n",
              "    <tr>\n",
              "      <th>0</th>\n",
              "      <td>1900</td>\n",
              "      <td>30000.0</td>\n",
              "      <td>4000.0</td>\n",
              "      <td>48300</td>\n",
              "    </tr>\n",
              "    <tr>\n",
              "      <th>4</th>\n",
              "      <td>1904</td>\n",
              "      <td>36300.0</td>\n",
              "      <td>59400.0</td>\n",
              "      <td>40600</td>\n",
              "    </tr>\n",
              "    <tr>\n",
              "      <th>11</th>\n",
              "      <td>1911</td>\n",
              "      <td>40300.0</td>\n",
              "      <td>8000.0</td>\n",
              "      <td>46800</td>\n",
              "    </tr>\n",
              "    <tr>\n",
              "      <th>1</th>\n",
              "      <td>1901</td>\n",
              "      <td>47200.0</td>\n",
              "      <td>6100.0</td>\n",
              "      <td>48200</td>\n",
              "    </tr>\n",
              "    <tr>\n",
              "      <th>14</th>\n",
              "      <td>1914</td>\n",
              "      <td>52300.0</td>\n",
              "      <td>45700.0</td>\n",
              "      <td>39400</td>\n",
              "    </tr>\n",
              "    <tr>\n",
              "      <th>12</th>\n",
              "      <td>1912</td>\n",
              "      <td>57000.0</td>\n",
              "      <td>12300.0</td>\n",
              "      <td>43800</td>\n",
              "    </tr>\n",
              "    <tr>\n",
              "      <th>2</th>\n",
              "      <td>1902</td>\n",
              "      <td>70200.0</td>\n",
              "      <td>9800.0</td>\n",
              "      <td>41500</td>\n",
              "    </tr>\n",
              "    <tr>\n",
              "      <th>13</th>\n",
              "      <td>1913</td>\n",
              "      <td>76600.0</td>\n",
              "      <td>19500.0</td>\n",
              "      <td>40900</td>\n",
              "    </tr>\n",
              "    <tr>\n",
              "      <th>3</th>\n",
              "      <td>1903</td>\n",
              "      <td>77400.0</td>\n",
              "      <td>35200.0</td>\n",
              "      <td>38200</td>\n",
              "    </tr>\n",
              "  </tbody>\n",
              "</table>\n",
              "</div>\n",
              "      <button class=\"colab-df-convert\" onclick=\"convertToInteractive('df-aed39eac-a930-466a-867b-4bcc708d54f1')\"\n",
              "              title=\"Convert this dataframe to an interactive table.\"\n",
              "              style=\"display:none;\">\n",
              "        \n",
              "  <svg xmlns=\"http://www.w3.org/2000/svg\" height=\"24px\"viewBox=\"0 0 24 24\"\n",
              "       width=\"24px\">\n",
              "    <path d=\"M0 0h24v24H0V0z\" fill=\"none\"/>\n",
              "    <path d=\"M18.56 5.44l.94 2.06.94-2.06 2.06-.94-2.06-.94-.94-2.06-.94 2.06-2.06.94zm-11 1L8.5 8.5l.94-2.06 2.06-.94-2.06-.94L8.5 2.5l-.94 2.06-2.06.94zm10 10l.94 2.06.94-2.06 2.06-.94-2.06-.94-.94-2.06-.94 2.06-2.06.94z\"/><path d=\"M17.41 7.96l-1.37-1.37c-.4-.4-.92-.59-1.43-.59-.52 0-1.04.2-1.43.59L10.3 9.45l-7.72 7.72c-.78.78-.78 2.05 0 2.83L4 21.41c.39.39.9.59 1.41.59.51 0 1.02-.2 1.41-.59l7.78-7.78 2.81-2.81c.8-.78.8-2.07 0-2.86zM5.41 20L4 18.59l7.72-7.72 1.47 1.35L5.41 20z\"/>\n",
              "  </svg>\n",
              "      </button>\n",
              "      \n",
              "  <style>\n",
              "    .colab-df-container {\n",
              "      display:flex;\n",
              "      flex-wrap:wrap;\n",
              "      gap: 12px;\n",
              "    }\n",
              "\n",
              "    .colab-df-convert {\n",
              "      background-color: #E8F0FE;\n",
              "      border: none;\n",
              "      border-radius: 50%;\n",
              "      cursor: pointer;\n",
              "      display: none;\n",
              "      fill: #1967D2;\n",
              "      height: 32px;\n",
              "      padding: 0 0 0 0;\n",
              "      width: 32px;\n",
              "    }\n",
              "\n",
              "    .colab-df-convert:hover {\n",
              "      background-color: #E2EBFA;\n",
              "      box-shadow: 0px 1px 2px rgba(60, 64, 67, 0.3), 0px 1px 3px 1px rgba(60, 64, 67, 0.15);\n",
              "      fill: #174EA6;\n",
              "    }\n",
              "\n",
              "    [theme=dark] .colab-df-convert {\n",
              "      background-color: #3B4455;\n",
              "      fill: #D2E3FC;\n",
              "    }\n",
              "\n",
              "    [theme=dark] .colab-df-convert:hover {\n",
              "      background-color: #434B5C;\n",
              "      box-shadow: 0px 1px 3px 1px rgba(0, 0, 0, 0.15);\n",
              "      filter: drop-shadow(0px 1px 2px rgba(0, 0, 0, 0.3));\n",
              "      fill: #FFFFFF;\n",
              "    }\n",
              "  </style>\n",
              "\n",
              "      <script>\n",
              "        const buttonEl =\n",
              "          document.querySelector('#df-aed39eac-a930-466a-867b-4bcc708d54f1 button.colab-df-convert');\n",
              "        buttonEl.style.display =\n",
              "          google.colab.kernel.accessAllowed ? 'block' : 'none';\n",
              "\n",
              "        async function convertToInteractive(key) {\n",
              "          const element = document.querySelector('#df-aed39eac-a930-466a-867b-4bcc708d54f1');\n",
              "          const dataTable =\n",
              "            await google.colab.kernel.invokeFunction('convertToInteractive',\n",
              "                                                     [key], {});\n",
              "          if (!dataTable) return;\n",
              "\n",
              "          const docLinkHtml = 'Like what you see? Visit the ' +\n",
              "            '<a target=\"_blank\" href=https://colab.research.google.com/notebooks/data_table.ipynb>data table notebook</a>'\n",
              "            + ' to learn more about interactive tables.';\n",
              "          element.innerHTML = '';\n",
              "          dataTable['output_type'] = 'display_data';\n",
              "          await google.colab.output.renderOutput(dataTable, element);\n",
              "          const docLink = document.createElement('div');\n",
              "          docLink.innerHTML = docLinkHtml;\n",
              "          element.appendChild(docLink);\n",
              "        }\n",
              "      </script>\n",
              "    </div>\n",
              "  </div>\n",
              "  "
            ]
          },
          "metadata": {},
          "execution_count": 319
        }
      ]
    },
    {
      "cell_type": "code",
      "source": [
        "df.carrot >= 40000"
      ],
      "metadata": {
        "colab": {
          "base_uri": "https://localhost:8080/"
        },
        "id": "9GgbkJIBkinr",
        "outputId": "54075973-274d-430b-c4f8-9484b753d2fa"
      },
      "execution_count": 320,
      "outputs": [
        {
          "output_type": "execute_result",
          "data": {
            "text/plain": [
              "0      True\n",
              "1      True\n",
              "2      True\n",
              "3     False\n",
              "4      True\n",
              "5     False\n",
              "6     False\n",
              "7      True\n",
              "8      True\n",
              "9      True\n",
              "10     True\n",
              "11     True\n",
              "12     True\n",
              "13     True\n",
              "14    False\n",
              "15    False\n",
              "16    False\n",
              "17     True\n",
              "18     True\n",
              "19     True\n",
              "20     True\n",
              "Name: carrot, dtype: bool"
            ]
          },
          "metadata": {},
          "execution_count": 320
        }
      ]
    },
    {
      "cell_type": "code",
      "source": [
        "df[df.carrot > 40000].year"
      ],
      "metadata": {
        "colab": {
          "base_uri": "https://localhost:8080/"
        },
        "id": "-3gal7ITkiqr",
        "outputId": "8ae7b952-f2f8-47da-a8c9-14fa86d276cd"
      },
      "execution_count": 321,
      "outputs": [
        {
          "output_type": "execute_result",
          "data": {
            "text/plain": [
              "0     1900\n",
              "1     1901\n",
              "2     1902\n",
              "4     1904\n",
              "7     1907\n",
              "8     1908\n",
              "9     1909\n",
              "10    1910\n",
              "11    1911\n",
              "12    1912\n",
              "13    1913\n",
              "17    1917\n",
              "18    1918\n",
              "19    1919\n",
              "20    1920\n",
              "Name: year, dtype: int64"
            ]
          },
          "metadata": {},
          "execution_count": 321
        }
      ]
    },
    {
      "cell_type": "code",
      "source": [
        "above_50 = (df[\"hare\"] > 50000) | (df[\"carrot\"] > 50000)\n",
        "df[above_50]"
      ],
      "metadata": {
        "colab": {
          "base_uri": "https://localhost:8080/",
          "height": 206
        },
        "id": "qByilUcukitt",
        "outputId": "b6a7819f-c502-4bdd-d143-c8165d0df689"
      },
      "execution_count": 322,
      "outputs": [
        {
          "output_type": "execute_result",
          "data": {
            "text/plain": [
              "    year     hare     lynx  carrot\n",
              "2   1902  70200.0   9800.0   41500\n",
              "3   1903  77400.0  35200.0   38200\n",
              "12  1912  57000.0  12300.0   43800\n",
              "13  1913  76600.0  19500.0   40900\n",
              "14  1914  52300.0  45700.0   39400"
            ],
            "text/html": [
              "\n",
              "  <div id=\"df-e451c676-ad8f-4e41-a527-9ecc5435bee7\">\n",
              "    <div class=\"colab-df-container\">\n",
              "      <div>\n",
              "<style scoped>\n",
              "    .dataframe tbody tr th:only-of-type {\n",
              "        vertical-align: middle;\n",
              "    }\n",
              "\n",
              "    .dataframe tbody tr th {\n",
              "        vertical-align: top;\n",
              "    }\n",
              "\n",
              "    .dataframe thead th {\n",
              "        text-align: right;\n",
              "    }\n",
              "</style>\n",
              "<table border=\"1\" class=\"dataframe\">\n",
              "  <thead>\n",
              "    <tr style=\"text-align: right;\">\n",
              "      <th></th>\n",
              "      <th>year</th>\n",
              "      <th>hare</th>\n",
              "      <th>lynx</th>\n",
              "      <th>carrot</th>\n",
              "    </tr>\n",
              "  </thead>\n",
              "  <tbody>\n",
              "    <tr>\n",
              "      <th>2</th>\n",
              "      <td>1902</td>\n",
              "      <td>70200.0</td>\n",
              "      <td>9800.0</td>\n",
              "      <td>41500</td>\n",
              "    </tr>\n",
              "    <tr>\n",
              "      <th>3</th>\n",
              "      <td>1903</td>\n",
              "      <td>77400.0</td>\n",
              "      <td>35200.0</td>\n",
              "      <td>38200</td>\n",
              "    </tr>\n",
              "    <tr>\n",
              "      <th>12</th>\n",
              "      <td>1912</td>\n",
              "      <td>57000.0</td>\n",
              "      <td>12300.0</td>\n",
              "      <td>43800</td>\n",
              "    </tr>\n",
              "    <tr>\n",
              "      <th>13</th>\n",
              "      <td>1913</td>\n",
              "      <td>76600.0</td>\n",
              "      <td>19500.0</td>\n",
              "      <td>40900</td>\n",
              "    </tr>\n",
              "    <tr>\n",
              "      <th>14</th>\n",
              "      <td>1914</td>\n",
              "      <td>52300.0</td>\n",
              "      <td>45700.0</td>\n",
              "      <td>39400</td>\n",
              "    </tr>\n",
              "  </tbody>\n",
              "</table>\n",
              "</div>\n",
              "      <button class=\"colab-df-convert\" onclick=\"convertToInteractive('df-e451c676-ad8f-4e41-a527-9ecc5435bee7')\"\n",
              "              title=\"Convert this dataframe to an interactive table.\"\n",
              "              style=\"display:none;\">\n",
              "        \n",
              "  <svg xmlns=\"http://www.w3.org/2000/svg\" height=\"24px\"viewBox=\"0 0 24 24\"\n",
              "       width=\"24px\">\n",
              "    <path d=\"M0 0h24v24H0V0z\" fill=\"none\"/>\n",
              "    <path d=\"M18.56 5.44l.94 2.06.94-2.06 2.06-.94-2.06-.94-.94-2.06-.94 2.06-2.06.94zm-11 1L8.5 8.5l.94-2.06 2.06-.94-2.06-.94L8.5 2.5l-.94 2.06-2.06.94zm10 10l.94 2.06.94-2.06 2.06-.94-2.06-.94-.94-2.06-.94 2.06-2.06.94z\"/><path d=\"M17.41 7.96l-1.37-1.37c-.4-.4-.92-.59-1.43-.59-.52 0-1.04.2-1.43.59L10.3 9.45l-7.72 7.72c-.78.78-.78 2.05 0 2.83L4 21.41c.39.39.9.59 1.41.59.51 0 1.02-.2 1.41-.59l7.78-7.78 2.81-2.81c.8-.78.8-2.07 0-2.86zM5.41 20L4 18.59l7.72-7.72 1.47 1.35L5.41 20z\"/>\n",
              "  </svg>\n",
              "      </button>\n",
              "      \n",
              "  <style>\n",
              "    .colab-df-container {\n",
              "      display:flex;\n",
              "      flex-wrap:wrap;\n",
              "      gap: 12px;\n",
              "    }\n",
              "\n",
              "    .colab-df-convert {\n",
              "      background-color: #E8F0FE;\n",
              "      border: none;\n",
              "      border-radius: 50%;\n",
              "      cursor: pointer;\n",
              "      display: none;\n",
              "      fill: #1967D2;\n",
              "      height: 32px;\n",
              "      padding: 0 0 0 0;\n",
              "      width: 32px;\n",
              "    }\n",
              "\n",
              "    .colab-df-convert:hover {\n",
              "      background-color: #E2EBFA;\n",
              "      box-shadow: 0px 1px 2px rgba(60, 64, 67, 0.3), 0px 1px 3px 1px rgba(60, 64, 67, 0.15);\n",
              "      fill: #174EA6;\n",
              "    }\n",
              "\n",
              "    [theme=dark] .colab-df-convert {\n",
              "      background-color: #3B4455;\n",
              "      fill: #D2E3FC;\n",
              "    }\n",
              "\n",
              "    [theme=dark] .colab-df-convert:hover {\n",
              "      background-color: #434B5C;\n",
              "      box-shadow: 0px 1px 3px 1px rgba(0, 0, 0, 0.15);\n",
              "      filter: drop-shadow(0px 1px 2px rgba(0, 0, 0, 0.3));\n",
              "      fill: #FFFFFF;\n",
              "    }\n",
              "  </style>\n",
              "\n",
              "      <script>\n",
              "        const buttonEl =\n",
              "          document.querySelector('#df-e451c676-ad8f-4e41-a527-9ecc5435bee7 button.colab-df-convert');\n",
              "        buttonEl.style.display =\n",
              "          google.colab.kernel.accessAllowed ? 'block' : 'none';\n",
              "\n",
              "        async function convertToInteractive(key) {\n",
              "          const element = document.querySelector('#df-e451c676-ad8f-4e41-a527-9ecc5435bee7');\n",
              "          const dataTable =\n",
              "            await google.colab.kernel.invokeFunction('convertToInteractive',\n",
              "                                                     [key], {});\n",
              "          if (!dataTable) return;\n",
              "\n",
              "          const docLinkHtml = 'Like what you see? Visit the ' +\n",
              "            '<a target=\"_blank\" href=https://colab.research.google.com/notebooks/data_table.ipynb>data table notebook</a>'\n",
              "            + ' to learn more about interactive tables.';\n",
              "          element.innerHTML = '';\n",
              "          dataTable['output_type'] = 'display_data';\n",
              "          await google.colab.output.renderOutput(dataTable, element);\n",
              "          const docLink = document.createElement('div');\n",
              "          docLink.innerHTML = docLinkHtml;\n",
              "          element.appendChild(docLink);\n",
              "        }\n",
              "      </script>\n",
              "    </div>\n",
              "  </div>\n",
              "  "
            ]
          },
          "metadata": {},
          "execution_count": 322
        }
      ]
    },
    {
      "cell_type": "code",
      "source": [
        "drop = df.drop(\"year\", axis = 1)\n",
        "drop.sample(5)"
      ],
      "metadata": {
        "colab": {
          "base_uri": "https://localhost:8080/",
          "height": 206
        },
        "id": "LeF67bi5kivE",
        "outputId": "0a7ed223-7b02-45a3-cf30-32dcb8f96737"
      },
      "execution_count": 323,
      "outputs": [
        {
          "output_type": "execute_result",
          "data": {
            "text/plain": [
              "       hare     lynx  carrot\n",
              "5   20600.0  41700.0   39800\n",
              "20  24700.0   8600.0   47300\n",
              "3   77400.0  35200.0   38200\n",
              "18  14600.0   9700.0   43300\n",
              "14  52300.0  45700.0   39400"
            ],
            "text/html": [
              "\n",
              "  <div id=\"df-b9913d00-98cf-4e16-95d7-b87cffe7f063\">\n",
              "    <div class=\"colab-df-container\">\n",
              "      <div>\n",
              "<style scoped>\n",
              "    .dataframe tbody tr th:only-of-type {\n",
              "        vertical-align: middle;\n",
              "    }\n",
              "\n",
              "    .dataframe tbody tr th {\n",
              "        vertical-align: top;\n",
              "    }\n",
              "\n",
              "    .dataframe thead th {\n",
              "        text-align: right;\n",
              "    }\n",
              "</style>\n",
              "<table border=\"1\" class=\"dataframe\">\n",
              "  <thead>\n",
              "    <tr style=\"text-align: right;\">\n",
              "      <th></th>\n",
              "      <th>hare</th>\n",
              "      <th>lynx</th>\n",
              "      <th>carrot</th>\n",
              "    </tr>\n",
              "  </thead>\n",
              "  <tbody>\n",
              "    <tr>\n",
              "      <th>5</th>\n",
              "      <td>20600.0</td>\n",
              "      <td>41700.0</td>\n",
              "      <td>39800</td>\n",
              "    </tr>\n",
              "    <tr>\n",
              "      <th>20</th>\n",
              "      <td>24700.0</td>\n",
              "      <td>8600.0</td>\n",
              "      <td>47300</td>\n",
              "    </tr>\n",
              "    <tr>\n",
              "      <th>3</th>\n",
              "      <td>77400.0</td>\n",
              "      <td>35200.0</td>\n",
              "      <td>38200</td>\n",
              "    </tr>\n",
              "    <tr>\n",
              "      <th>18</th>\n",
              "      <td>14600.0</td>\n",
              "      <td>9700.0</td>\n",
              "      <td>43300</td>\n",
              "    </tr>\n",
              "    <tr>\n",
              "      <th>14</th>\n",
              "      <td>52300.0</td>\n",
              "      <td>45700.0</td>\n",
              "      <td>39400</td>\n",
              "    </tr>\n",
              "  </tbody>\n",
              "</table>\n",
              "</div>\n",
              "      <button class=\"colab-df-convert\" onclick=\"convertToInteractive('df-b9913d00-98cf-4e16-95d7-b87cffe7f063')\"\n",
              "              title=\"Convert this dataframe to an interactive table.\"\n",
              "              style=\"display:none;\">\n",
              "        \n",
              "  <svg xmlns=\"http://www.w3.org/2000/svg\" height=\"24px\"viewBox=\"0 0 24 24\"\n",
              "       width=\"24px\">\n",
              "    <path d=\"M0 0h24v24H0V0z\" fill=\"none\"/>\n",
              "    <path d=\"M18.56 5.44l.94 2.06.94-2.06 2.06-.94-2.06-.94-.94-2.06-.94 2.06-2.06.94zm-11 1L8.5 8.5l.94-2.06 2.06-.94-2.06-.94L8.5 2.5l-.94 2.06-2.06.94zm10 10l.94 2.06.94-2.06 2.06-.94-2.06-.94-.94-2.06-.94 2.06-2.06.94z\"/><path d=\"M17.41 7.96l-1.37-1.37c-.4-.4-.92-.59-1.43-.59-.52 0-1.04.2-1.43.59L10.3 9.45l-7.72 7.72c-.78.78-.78 2.05 0 2.83L4 21.41c.39.39.9.59 1.41.59.51 0 1.02-.2 1.41-.59l7.78-7.78 2.81-2.81c.8-.78.8-2.07 0-2.86zM5.41 20L4 18.59l7.72-7.72 1.47 1.35L5.41 20z\"/>\n",
              "  </svg>\n",
              "      </button>\n",
              "      \n",
              "  <style>\n",
              "    .colab-df-container {\n",
              "      display:flex;\n",
              "      flex-wrap:wrap;\n",
              "      gap: 12px;\n",
              "    }\n",
              "\n",
              "    .colab-df-convert {\n",
              "      background-color: #E8F0FE;\n",
              "      border: none;\n",
              "      border-radius: 50%;\n",
              "      cursor: pointer;\n",
              "      display: none;\n",
              "      fill: #1967D2;\n",
              "      height: 32px;\n",
              "      padding: 0 0 0 0;\n",
              "      width: 32px;\n",
              "    }\n",
              "\n",
              "    .colab-df-convert:hover {\n",
              "      background-color: #E2EBFA;\n",
              "      box-shadow: 0px 1px 2px rgba(60, 64, 67, 0.3), 0px 1px 3px 1px rgba(60, 64, 67, 0.15);\n",
              "      fill: #174EA6;\n",
              "    }\n",
              "\n",
              "    [theme=dark] .colab-df-convert {\n",
              "      background-color: #3B4455;\n",
              "      fill: #D2E3FC;\n",
              "    }\n",
              "\n",
              "    [theme=dark] .colab-df-convert:hover {\n",
              "      background-color: #434B5C;\n",
              "      box-shadow: 0px 1px 3px 1px rgba(0, 0, 0, 0.15);\n",
              "      filter: drop-shadow(0px 1px 2px rgba(0, 0, 0, 0.3));\n",
              "      fill: #FFFFFF;\n",
              "    }\n",
              "  </style>\n",
              "\n",
              "      <script>\n",
              "        const buttonEl =\n",
              "          document.querySelector('#df-b9913d00-98cf-4e16-95d7-b87cffe7f063 button.colab-df-convert');\n",
              "        buttonEl.style.display =\n",
              "          google.colab.kernel.accessAllowed ? 'block' : 'none';\n",
              "\n",
              "        async function convertToInteractive(key) {\n",
              "          const element = document.querySelector('#df-b9913d00-98cf-4e16-95d7-b87cffe7f063');\n",
              "          const dataTable =\n",
              "            await google.colab.kernel.invokeFunction('convertToInteractive',\n",
              "                                                     [key], {});\n",
              "          if (!dataTable) return;\n",
              "\n",
              "          const docLinkHtml = 'Like what you see? Visit the ' +\n",
              "            '<a target=\"_blank\" href=https://colab.research.google.com/notebooks/data_table.ipynb>data table notebook</a>'\n",
              "            + ' to learn more about interactive tables.';\n",
              "          element.innerHTML = '';\n",
              "          dataTable['output_type'] = 'display_data';\n",
              "          await google.colab.output.renderOutput(dataTable, element);\n",
              "          const docLink = document.createElement('div');\n",
              "          docLink.innerHTML = docLinkHtml;\n",
              "          element.appendChild(docLink);\n",
              "        }\n",
              "      </script>\n",
              "    </div>\n",
              "  </div>\n",
              "  "
            ]
          },
          "metadata": {},
          "execution_count": 323
        }
      ]
    },
    {
      "cell_type": "code",
      "source": [
        "new_data = np.array(drop)\n",
        "new_data"
      ],
      "metadata": {
        "colab": {
          "base_uri": "https://localhost:8080/"
        },
        "id": "gDNWjYK4kiwV",
        "outputId": "9cdeacb6-4b96-47f8-fa7f-ce2a701c0c1d"
      },
      "execution_count": 324,
      "outputs": [
        {
          "output_type": "execute_result",
          "data": {
            "text/plain": [
              "array([[30000.,  4000., 48300.],\n",
              "       [47200.,  6100., 48200.],\n",
              "       [70200.,  9800., 41500.],\n",
              "       [77400., 35200., 38200.],\n",
              "       [36300., 59400., 40600.],\n",
              "       [20600., 41700., 39800.],\n",
              "       [18100., 19000., 38600.],\n",
              "       [21400., 13000., 42300.],\n",
              "       [22000.,  8300., 44500.],\n",
              "       [25400.,  9100., 42100.],\n",
              "       [27100.,  7400., 46000.],\n",
              "       [40300.,  8000., 46800.],\n",
              "       [57000., 12300., 43800.],\n",
              "       [76600., 19500., 40900.],\n",
              "       [52300., 45700., 39400.],\n",
              "       [19500., 51100., 39000.],\n",
              "       [11200., 29700., 36700.],\n",
              "       [ 7600., 15800., 41800.],\n",
              "       [14600.,  9700., 43300.],\n",
              "       [16200., 10100., 41300.],\n",
              "       [24700.,  8600., 47300.]])"
            ]
          },
          "metadata": {},
          "execution_count": 324
        }
      ]
    },
    {
      "cell_type": "code",
      "source": [
        "plt.plot(df[\"year\"], df[\"hare\"])"
      ],
      "metadata": {
        "colab": {
          "base_uri": "https://localhost:8080/",
          "height": 284
        },
        "id": "G2H4XEndkiyo",
        "outputId": "22e0f1d6-c0b6-4432-e2f1-86886c9a8df3"
      },
      "execution_count": 325,
      "outputs": [
        {
          "output_type": "execute_result",
          "data": {
            "text/plain": [
              "[<matplotlib.lines.Line2D at 0x7f7e5c241990>]"
            ]
          },
          "metadata": {},
          "execution_count": 325
        },
        {
          "output_type": "display_data",
          "data": {
            "text/plain": [
              "<Figure size 432x288 with 1 Axes>"
            ],
            "image/png": "[encoded data removed]"
          },
          "metadata": {
            "needs_background": "light"
          }
        }
      ]
    },
    {
      "cell_type": "code",
      "source": [
        "plt.plot(df[\"year\"], drop, label = [\"hare\", \"lynx\", \"carrot\"])\n",
        "plt.legend((\"hare\", \"lynx\", \"carrot\"))"
      ],
      "metadata": {
        "colab": {
          "base_uri": "https://localhost:8080/",
          "height": 283
        },
        "id": "8GCN1DtPki0-",
        "outputId": "70659b7d-9bd8-49d4-e1ed-4a786ba1ddbb"
      },
      "execution_count": 326,
      "outputs": [
        {
          "output_type": "execute_result",
          "data": {
            "text/plain": [
              "<matplotlib.legend.Legend at 0x7f7e5c284bd0>"
            ]
          },
          "metadata": {},
          "execution_count": 326
        },
        {
          "output_type": "display_data",
          "data": {
            "text/plain": [
              "<Figure size 432x288 with 1 Axes>"
            ],
            "image/png": "[encoded data removed]"
          },
          "metadata": {
            "needs_background": "light"
          }
        }
      ]
    },
    {
      "cell_type": "code",
      "source": [
        "df.boxplot(column = [\"hare\", \"lynx\", \"carrot\"])"
      ],
      "metadata": {
        "colab": {
          "base_uri": "https://localhost:8080/",
          "height": 283
        },
        "id": "FpcFZ_YTki29",
        "outputId": "09d5f53c-4c0a-454d-d827-e288806bcb2a"
      },
      "execution_count": 327,
      "outputs": [
        {
          "output_type": "execute_result",
          "data": {
            "text/plain": [
              "<matplotlib.axes._subplots.AxesSubplot at 0x7f7e5c1dbdd0>"
            ]
          },
          "metadata": {},
          "execution_count": 327
        },
        {
          "output_type": "display_data",
          "data": {
            "text/plain": [
              "<Figure size 432x288 with 1 Axes>"
            ],
            "image/png": "[encoded data removed]"
          },
          "metadata": {
            "needs_background": "light"
          }
        }
      ]
    },
    {
      "cell_type": "code",
      "source": [
        "randit = np.random.randint(low = 100, high = 5000, size = 50 )\n",
        "randit"
      ],
      "metadata": {
        "colab": {
          "base_uri": "https://localhost:8080/"
        },
        "id": "8r5rmaOUki5U",
        "outputId": "ce6827b0-7c80-45fc-cfb5-e01c5ab029c6"
      },
      "execution_count": 328,
      "outputs": [
        {
          "output_type": "execute_result",
          "data": {
            "text/plain": [
              "array([2424, 2653, 3891, 3561, 2663, 1782, 3384, 3395, 2536, 2737, 2026, 4563,\n",
              "       1980, 3485,  155, 3938, 1416, 1585, 3155, 3314, 4955, 3916, 4696, 3182,\n",
              "       3547, 2433, 1646,  757, 2870, 4654, 1851, 1721, 1165,  330, 1558,  857,\n",
              "       3223,  177, 4411, 2149, 1779, 4142, 1056, 4052,  150, 1996, 3584,  502,\n",
              "        698, 1373])"
            ]
          },
          "metadata": {},
          "execution_count": 328
        }
      ]
    },
    {
      "cell_type": "code",
      "source": [
        "pd.plotting.scatter_matrix(df[[\"hare\", \"lynx\", \"carrot\"]], figsize = (10,5))"
      ],
      "metadata": {
        "colab": {
          "base_uri": "https://localhost:8080/",
          "height": 523
        },
        "id": "51b2cpykki7g",
        "outputId": "0277734a-6ff7-46b4-91f9-6ccfd973ee67"
      },
      "execution_count": 329,
      "outputs": [
        {
          "output_type": "execute_result",
          "data": {
            "text/plain": [
              "array([[<matplotlib.axes._subplots.AxesSubplot object at 0x7f7e5c10d9d0>,\n",
              "        <matplotlib.axes._subplots.AxesSubplot object at 0x7f7e5c0cd190>,\n",
              "        <matplotlib.axes._subplots.AxesSubplot object at 0x7f7e5c081790>],\n",
              "       [<matplotlib.axes._subplots.AxesSubplot object at 0x7f7e5c038d90>,\n",
              "        <matplotlib.axes._subplots.AxesSubplot object at 0x7f7e5bffd3d0>,\n",
              "        <matplotlib.axes._subplots.AxesSubplot object at 0x7f7e5bfb49d0>],\n",
              "       [<matplotlib.axes._subplots.AxesSubplot object at 0x7f7e5bf5fc90>,\n",
              "        <matplotlib.axes._subplots.AxesSubplot object at 0x7f7e5bf2c650>,\n",
              "        <matplotlib.axes._subplots.AxesSubplot object at 0x7f7e5bf2c690>]],\n",
              "      dtype=object)"
            ]
          },
          "metadata": {},
          "execution_count": 329
        },
        {
          "output_type": "display_data",
          "data": {
            "text/plain": [
              "<Figure size 720x360 with 9 Axes>"
            ],
            "image/png": "[encoded data removed]"
          },
          "metadata": {
            "needs_background": "light"
          }
        }
      ]
    },
    {
      "cell_type": "code",
      "source": [
        ""
      ],
      "metadata": {
        "id": "_6ykB9eLki9w"
      },
      "execution_count": null,
      "outputs": []
    },
    {
      "cell_type": "code",
      "source": [
        "df = pd.read_csv(\"/content/Video_Store.csv\")\n",
        "df.head(3)"
      ],
      "metadata": {
        "colab": {
          "base_uri": "https://localhost:8080/",
          "height": 143
        },
        "id": "ET4hI4qbki_3",
        "outputId": "ee103d95-9492-41c4-f38c-8aea665aaef8"
      },
      "execution_count": 331,
      "outputs": [
        {
          "output_type": "execute_result",
          "data": {
            "text/plain": [
              "   0  1  45000.00  25.00  27.00  2.50\n",
              "0  1  0   54000.0   33.0   12.0   3.4\n",
              "1  1  0   32000.0   20.0   42.0   1.6\n",
              "2  1  0   59000.0   70.0   16.0   4.2"
            ],
            "text/html": [
              "\n",
              "  <div id=\"df-d13506c0-b033-41da-8bb5-b17750531852\">\n",
              "    <div class=\"colab-df-container\">\n",
              "      <div>\n",
              "<style scoped>\n",
              "    .dataframe tbody tr th:only-of-type {\n",
              "        vertical-align: middle;\n",
              "    }\n",
              "\n",
              "    .dataframe tbody tr th {\n",
              "        vertical-align: top;\n",
              "    }\n",
              "\n",
              "    .dataframe thead th {\n",
              "        text-align: right;\n",
              "    }\n",
              "</style>\n",
              "<table border=\"1\" class=\"dataframe\">\n",
              "  <thead>\n",
              "    <tr style=\"text-align: right;\">\n",
              "      <th></th>\n",
              "      <th>0</th>\n",
              "      <th>1</th>\n",
              "      <th>45000.00</th>\n",
              "      <th>25.00</th>\n",
              "      <th>27.00</th>\n",
              "      <th>2.50</th>\n",
              "    </tr>\n",
              "  </thead>\n",
              "  <tbody>\n",
              "    <tr>\n",
              "      <th>0</th>\n",
              "      <td>1</td>\n",
              "      <td>0</td>\n",
              "      <td>54000.0</td>\n",
              "      <td>33.0</td>\n",
              "      <td>12.0</td>\n",
              "      <td>3.4</td>\n",
              "    </tr>\n",
              "    <tr>\n",
              "      <th>1</th>\n",
              "      <td>1</td>\n",
              "      <td>0</td>\n",
              "      <td>32000.0</td>\n",
              "      <td>20.0</td>\n",
              "      <td>42.0</td>\n",
              "      <td>1.6</td>\n",
              "    </tr>\n",
              "    <tr>\n",
              "      <th>2</th>\n",
              "      <td>1</td>\n",
              "      <td>0</td>\n",
              "      <td>59000.0</td>\n",
              "      <td>70.0</td>\n",
              "      <td>16.0</td>\n",
              "      <td>4.2</td>\n",
              "    </tr>\n",
              "  </tbody>\n",
              "</table>\n",
              "</div>\n",
              "      <button class=\"colab-df-convert\" onclick=\"convertToInteractive('df-d13506c0-b033-41da-8bb5-b17750531852')\"\n",
              "              title=\"Convert this dataframe to an interactive table.\"\n",
              "              style=\"display:none;\">\n",
              "        \n",
              "  <svg xmlns=\"http://www.w3.org/2000/svg\" height=\"24px\"viewBox=\"0 0 24 24\"\n",
              "       width=\"24px\">\n",
              "    <path d=\"M0 0h24v24H0V0z\" fill=\"none\"/>\n",
              "    <path d=\"M18.56 5.44l.94 2.06.94-2.06 2.06-.94-2.06-.94-.94-2.06-.94 2.06-2.06.94zm-11 1L8.5 8.5l.94-2.06 2.06-.94-2.06-.94L8.5 2.5l-.94 2.06-2.06.94zm10 10l.94 2.06.94-2.06 2.06-.94-2.06-.94-.94-2.06-.94 2.06-2.06.94z\"/><path d=\"M17.41 7.96l-1.37-1.37c-.4-.4-.92-.59-1.43-.59-.52 0-1.04.2-1.43.59L10.3 9.45l-7.72 7.72c-.78.78-.78 2.05 0 2.83L4 21.41c.39.39.9.59 1.41.59.51 0 1.02-.2 1.41-.59l7.78-7.78 2.81-2.81c.8-.78.8-2.07 0-2.86zM5.41 20L4 18.59l7.72-7.72 1.47 1.35L5.41 20z\"/>\n",
              "  </svg>\n",
              "      </button>\n",
              "      \n",
              "  <style>\n",
              "    .colab-df-container {\n",
              "      display:flex;\n",
              "      flex-wrap:wrap;\n",
              "      gap: 12px;\n",
              "    }\n",
              "\n",
              "    .colab-df-convert {\n",
              "      background-color: #E8F0FE;\n",
              "      border: none;\n",
              "      border-radius: 50%;\n",
              "      cursor: pointer;\n",
              "      display: none;\n",
              "      fill: #1967D2;\n",
              "      height: 32px;\n",
              "      padding: 0 0 0 0;\n",
              "      width: 32px;\n",
              "    }\n",
              "\n",
              "    .colab-df-convert:hover {\n",
              "      background-color: #E2EBFA;\n",
              "      box-shadow: 0px 1px 2px rgba(60, 64, 67, 0.3), 0px 1px 3px 1px rgba(60, 64, 67, 0.15);\n",
              "      fill: #174EA6;\n",
              "    }\n",
              "\n",
              "    [theme=dark] .colab-df-convert {\n",
              "      background-color: #3B4455;\n",
              "      fill: #D2E3FC;\n",
              "    }\n",
              "\n",
              "    [theme=dark] .colab-df-convert:hover {\n",
              "      background-color: #434B5C;\n",
              "      box-shadow: 0px 1px 3px 1px rgba(0, 0, 0, 0.15);\n",
              "      filter: drop-shadow(0px 1px 2px rgba(0, 0, 0, 0.3));\n",
              "      fill: #FFFFFF;\n",
              "    }\n",
              "  </style>\n",
              "\n",
              "      <script>\n",
              "        const buttonEl =\n",
              "          document.querySelector('#df-d13506c0-b033-41da-8bb5-b17750531852 button.colab-df-convert');\n",
              "        buttonEl.style.display =\n",
              "          google.colab.kernel.accessAllowed ? 'block' : 'none';\n",
              "\n",
              "        async function convertToInteractive(key) {\n",
              "          const element = document.querySelector('#df-d13506c0-b033-41da-8bb5-b17750531852');\n",
              "          const dataTable =\n",
              "            await google.colab.kernel.invokeFunction('convertToInteractive',\n",
              "                                                     [key], {});\n",
              "          if (!dataTable) return;\n",
              "\n",
              "          const docLinkHtml = 'Like what you see? Visit the ' +\n",
              "            '<a target=\"_blank\" href=https://colab.research.google.com/notebooks/data_table.ipynb>data table notebook</a>'\n",
              "            + ' to learn more about interactive tables.';\n",
              "          element.innerHTML = '';\n",
              "          dataTable['output_type'] = 'display_data';\n",
              "          await google.colab.output.renderOutput(dataTable, element);\n",
              "          const docLink = document.createElement('div');\n",
              "          docLink.innerHTML = docLinkHtml;\n",
              "          element.appendChild(docLink);\n",
              "        }\n",
              "      </script>\n",
              "    </div>\n",
              "  </div>\n",
              "  "
            ]
          },
          "metadata": {},
          "execution_count": 331
        }
      ]
    },
    {
      "cell_type": "code",
      "source": [
        "df.info()"
      ],
      "metadata": {
        "colab": {
          "base_uri": "https://localhost:8080/"
        },
        "id": "WfasJ2GlkjCN",
        "outputId": "5e3df71b-96d3-4adf-e48d-3121c288a169"
      },
      "execution_count": 332,
      "outputs": [
        {
          "output_type": "stream",
          "name": "stdout",
          "text": [
            "<class 'pandas.core.frame.DataFrame'>\n",
            "RangeIndex: 39 entries, 0 to 38\n",
            "Data columns (total 6 columns):\n",
            " #   Column    Non-Null Count  Dtype  \n",
            "---  ------    --------------  -----  \n",
            " 0   0         39 non-null     int64  \n",
            " 1   1         39 non-null     int64  \n",
            " 2   45000.00  39 non-null     float64\n",
            " 3   25.00     39 non-null     float64\n",
            " 4   27.00     39 non-null     float64\n",
            " 5   2.50      39 non-null     float64\n",
            "dtypes: float64(4), int64(2)\n",
            "memory usage: 2.0 KB\n"
          ]
        }
      ]
    },
    {
      "cell_type": "code",
      "source": [
        "df.columns"
      ],
      "metadata": {
        "colab": {
          "base_uri": "https://localhost:8080/"
        },
        "id": "F8-K_5_6kjHL",
        "outputId": "bf38ed36-b437-4d06-cd4f-93d12836034d"
      },
      "execution_count": 333,
      "outputs": [
        {
          "output_type": "execute_result",
          "data": {
            "text/plain": [
              "Index(['0', '1', '45000.00', '25.00', '27.00', '2.50'], dtype='object')"
            ]
          },
          "metadata": {},
          "execution_count": 333
        }
      ]
    },
    {
      "cell_type": "code",
      "source": [
        "df.isnull().sum()"
      ],
      "metadata": {
        "colab": {
          "base_uri": "https://localhost:8080/"
        },
        "id": "opT_ZeibkjJc",
        "outputId": "d06b3f1e-9766-424d-893d-7b0b1c3553f8"
      },
      "execution_count": 334,
      "outputs": [
        {
          "output_type": "execute_result",
          "data": {
            "text/plain": [
              "0           0\n",
              "1           0\n",
              "45000.00    0\n",
              "25.00       0\n",
              "27.00       0\n",
              "2.50        0\n",
              "dtype: int64"
            ]
          },
          "metadata": {},
          "execution_count": 334
        }
      ]
    },
    {
      "cell_type": "code",
      "source": [
        "df.shape"
      ],
      "metadata": {
        "colab": {
          "base_uri": "https://localhost:8080/"
        },
        "id": "YJ1ce6J_kjLv",
        "outputId": "2b6f9dbe-081b-4892-d3b9-02e9c84f0958"
      },
      "execution_count": 335,
      "outputs": [
        {
          "output_type": "execute_result",
          "data": {
            "text/plain": [
              "(39, 6)"
            ]
          },
          "metadata": {},
          "execution_count": 335
        }
      ]
    },
    {
      "cell_type": "code",
      "source": [
        "df.nunique()"
      ],
      "metadata": {
        "colab": {
          "base_uri": "https://localhost:8080/"
        },
        "id": "038pNdpJkjNl",
        "outputId": "f6c9be53-25f8-4760-e098-f95931ba4c69"
      },
      "execution_count": 336,
      "outputs": [
        {
          "output_type": "execute_result",
          "data": {
            "text/plain": [
              "0            2\n",
              "1            2\n",
              "45000.00    31\n",
              "25.00       22\n",
              "27.00       30\n",
              "2.50        24\n",
              "dtype: int64"
            ]
          },
          "metadata": {},
          "execution_count": 336
        }
      ]
    },
    {
      "cell_type": "code",
      "source": [
        "df.iloc[0]"
      ],
      "metadata": {
        "colab": {
          "base_uri": "https://localhost:8080/"
        },
        "id": "Y1abCMsvnQgD",
        "outputId": "975094ca-cef1-4f9d-be5f-cb07dbe6cfc7"
      },
      "execution_count": 339,
      "outputs": [
        {
          "output_type": "execute_result",
          "data": {
            "text/plain": [
              "0               1.0\n",
              "1               0.0\n",
              "45000.00    54000.0\n",
              "25.00          33.0\n",
              "27.00          12.0\n",
              "2.50            3.4\n",
              "Name: 0, dtype: float64"
            ]
          },
          "metadata": {},
          "execution_count": 339
        }
      ]
    },
    {
      "cell_type": "code",
      "source": [
        "df[1:3]"
      ],
      "metadata": {
        "colab": {
          "base_uri": "https://localhost:8080/",
          "height": 112
        },
        "id": "q4TbnITynQiJ",
        "outputId": "b8d2032e-7700-4c9f-9bfb-7e13dc79c248"
      },
      "execution_count": 340,
      "outputs": [
        {
          "output_type": "execute_result",
          "data": {
            "text/plain": [
              "   0  1  45000.00  25.00  27.00  2.50\n",
              "1  1  0   32000.0   20.0   42.0   1.6\n",
              "2  1  0   59000.0   70.0   16.0   4.2"
            ],
            "text/html": [
              "\n",
              "  <div id=\"df-1c24b049-2f39-4536-b45c-c01c4df26033\">\n",
              "    <div class=\"colab-df-container\">\n",
              "      <div>\n",
              "<style scoped>\n",
              "    .dataframe tbody tr th:only-of-type {\n",
              "        vertical-align: middle;\n",
              "    }\n",
              "\n",
              "    .dataframe tbody tr th {\n",
              "        vertical-align: top;\n",
              "    }\n",
              "\n",
              "    .dataframe thead th {\n",
              "        text-align: right;\n",
              "    }\n",
              "</style>\n",
              "<table border=\"1\" class=\"dataframe\">\n",
              "  <thead>\n",
              "    <tr style=\"text-align: right;\">\n",
              "      <th></th>\n",
              "      <th>0</th>\n",
              "      <th>1</th>\n",
              "      <th>45000.00</th>\n",
              "      <th>25.00</th>\n",
              "      <th>27.00</th>\n",
              "      <th>2.50</th>\n",
              "    </tr>\n",
              "  </thead>\n",
              "  <tbody>\n",
              "    <tr>\n",
              "      <th>1</th>\n",
              "      <td>1</td>\n",
              "      <td>0</td>\n",
              "      <td>32000.0</td>\n",
              "      <td>20.0</td>\n",
              "      <td>42.0</td>\n",
              "      <td>1.6</td>\n",
              "    </tr>\n",
              "    <tr>\n",
              "      <th>2</th>\n",
              "      <td>1</td>\n",
              "      <td>0</td>\n",
              "      <td>59000.0</td>\n",
              "      <td>70.0</td>\n",
              "      <td>16.0</td>\n",
              "      <td>4.2</td>\n",
              "    </tr>\n",
              "  </tbody>\n",
              "</table>\n",
              "</div>\n",
              "      <button class=\"colab-df-convert\" onclick=\"convertToInteractive('df-1c24b049-2f39-4536-b45c-c01c4df26033')\"\n",
              "              title=\"Convert this dataframe to an interactive table.\"\n",
              "              style=\"display:none;\">\n",
              "        \n",
              "  <svg xmlns=\"http://www.w3.org/2000/svg\" height=\"24px\"viewBox=\"0 0 24 24\"\n",
              "       width=\"24px\">\n",
              "    <path d=\"M0 0h24v24H0V0z\" fill=\"none\"/>\n",
              "    <path d=\"M18.56 5.44l.94 2.06.94-2.06 2.06-.94-2.06-.94-.94-2.06-.94 2.06-2.06.94zm-11 1L8.5 8.5l.94-2.06 2.06-.94-2.06-.94L8.5 2.5l-.94 2.06-2.06.94zm10 10l.94 2.06.94-2.06 2.06-.94-2.06-.94-.94-2.06-.94 2.06-2.06.94z\"/><path d=\"M17.41 7.96l-1.37-1.37c-.4-.4-.92-.59-1.43-.59-.52 0-1.04.2-1.43.59L10.3 9.45l-7.72 7.72c-.78.78-.78 2.05 0 2.83L4 21.41c.39.39.9.59 1.41.59.51 0 1.02-.2 1.41-.59l7.78-7.78 2.81-2.81c.8-.78.8-2.07 0-2.86zM5.41 20L4 18.59l7.72-7.72 1.47 1.35L5.41 20z\"/>\n",
              "  </svg>\n",
              "      </button>\n",
              "      \n",
              "  <style>\n",
              "    .colab-df-container {\n",
              "      display:flex;\n",
              "      flex-wrap:wrap;\n",
              "      gap: 12px;\n",
              "    }\n",
              "\n",
              "    .colab-df-convert {\n",
              "      background-color: #E8F0FE;\n",
              "      border: none;\n",
              "      border-radius: 50%;\n",
              "      cursor: pointer;\n",
              "      display: none;\n",
              "      fill: #1967D2;\n",
              "      height: 32px;\n",
              "      padding: 0 0 0 0;\n",
              "      width: 32px;\n",
              "    }\n",
              "\n",
              "    .colab-df-convert:hover {\n",
              "      background-color: #E2EBFA;\n",
              "      box-shadow: 0px 1px 2px rgba(60, 64, 67, 0.3), 0px 1px 3px 1px rgba(60, 64, 67, 0.15);\n",
              "      fill: #174EA6;\n",
              "    }\n",
              "\n",
              "    [theme=dark] .colab-df-convert {\n",
              "      background-color: #3B4455;\n",
              "      fill: #D2E3FC;\n",
              "    }\n",
              "\n",
              "    [theme=dark] .colab-df-convert:hover {\n",
              "      background-color: #434B5C;\n",
              "      box-shadow: 0px 1px 3px 1px rgba(0, 0, 0, 0.15);\n",
              "      filter: drop-shadow(0px 1px 2px rgba(0, 0, 0, 0.3));\n",
              "      fill: #FFFFFF;\n",
              "    }\n",
              "  </style>\n",
              "\n",
              "      <script>\n",
              "        const buttonEl =\n",
              "          document.querySelector('#df-1c24b049-2f39-4536-b45c-c01c4df26033 button.colab-df-convert');\n",
              "        buttonEl.style.display =\n",
              "          google.colab.kernel.accessAllowed ? 'block' : 'none';\n",
              "\n",
              "        async function convertToInteractive(key) {\n",
              "          const element = document.querySelector('#df-1c24b049-2f39-4536-b45c-c01c4df26033');\n",
              "          const dataTable =\n",
              "            await google.colab.kernel.invokeFunction('convertToInteractive',\n",
              "                                                     [key], {});\n",
              "          if (!dataTable) return;\n",
              "\n",
              "          const docLinkHtml = 'Like what you see? Visit the ' +\n",
              "            '<a target=\"_blank\" href=https://colab.research.google.com/notebooks/data_table.ipynb>data table notebook</a>'\n",
              "            + ' to learn more about interactive tables.';\n",
              "          element.innerHTML = '';\n",
              "          dataTable['output_type'] = 'display_data';\n",
              "          await google.colab.output.renderOutput(dataTable, element);\n",
              "          const docLink = document.createElement('div');\n",
              "          docLink.innerHTML = docLinkHtml;\n",
              "          element.appendChild(docLink);\n",
              "        }\n",
              "      </script>\n",
              "    </div>\n",
              "  </div>\n",
              "  "
            ]
          },
          "metadata": {},
          "execution_count": 340
        }
      ]
    },
    {
      "cell_type": "code",
      "source": [
        "df[35:]"
      ],
      "metadata": {
        "colab": {
          "base_uri": "https://localhost:8080/",
          "height": 175
        },
        "id": "kxSf9TxsnQkm",
        "outputId": "6c583d1f-dcc0-4713-91f8-0e24676cf261"
      },
      "execution_count": 341,
      "outputs": [
        {
          "output_type": "execute_result",
          "data": {
            "text/plain": [
              "    0  1  45000.00  25.00  27.00  2.50\n",
              "35  0  1   89000.0   46.0   12.0   1.2\n",
              "36  0  1   41000.0   38.0   20.0   3.3\n",
              "37  1  0   68000.0   35.0   19.0   3.9\n",
              "38  0  1   17000.0   19.0   32.0   1.8"
            ],
            "text/html": [
              "\n",
              "  <div id=\"df-80f2a5c7-9373-4fda-835d-e095dfba3b49\">\n",
              "    <div class=\"colab-df-container\">\n",
              "      <div>\n",
              "<style scoped>\n",
              "    .dataframe tbody tr th:only-of-type {\n",
              "        vertical-align: middle;\n",
              "    }\n",
              "\n",
              "    .dataframe tbody tr th {\n",
              "        vertical-align: top;\n",
              "    }\n",
              "\n",
              "    .dataframe thead th {\n",
              "        text-align: right;\n",
              "    }\n",
              "</style>\n",
              "<table border=\"1\" class=\"dataframe\">\n",
              "  <thead>\n",
              "    <tr style=\"text-align: right;\">\n",
              "      <th></th>\n",
              "      <th>0</th>\n",
              "      <th>1</th>\n",
              "      <th>45000.00</th>\n",
              "      <th>25.00</th>\n",
              "      <th>27.00</th>\n",
              "      <th>2.50</th>\n",
              "    </tr>\n",
              "  </thead>\n",
              "  <tbody>\n",
              "    <tr>\n",
              "      <th>35</th>\n",
              "      <td>0</td>\n",
              "      <td>1</td>\n",
              "      <td>89000.0</td>\n",
              "      <td>46.0</td>\n",
              "      <td>12.0</td>\n",
              "      <td>1.2</td>\n",
              "    </tr>\n",
              "    <tr>\n",
              "      <th>36</th>\n",
              "      <td>0</td>\n",
              "      <td>1</td>\n",
              "      <td>41000.0</td>\n",
              "      <td>38.0</td>\n",
              "      <td>20.0</td>\n",
              "      <td>3.3</td>\n",
              "    </tr>\n",
              "    <tr>\n",
              "      <th>37</th>\n",
              "      <td>1</td>\n",
              "      <td>0</td>\n",
              "      <td>68000.0</td>\n",
              "      <td>35.0</td>\n",
              "      <td>19.0</td>\n",
              "      <td>3.9</td>\n",
              "    </tr>\n",
              "    <tr>\n",
              "      <th>38</th>\n",
              "      <td>0</td>\n",
              "      <td>1</td>\n",
              "      <td>17000.0</td>\n",
              "      <td>19.0</td>\n",
              "      <td>32.0</td>\n",
              "      <td>1.8</td>\n",
              "    </tr>\n",
              "  </tbody>\n",
              "</table>\n",
              "</div>\n",
              "      <button class=\"colab-df-convert\" onclick=\"convertToInteractive('df-80f2a5c7-9373-4fda-835d-e095dfba3b49')\"\n",
              "              title=\"Convert this dataframe to an interactive table.\"\n",
              "              style=\"display:none;\">\n",
              "        \n",
              "  <svg xmlns=\"http://www.w3.org/2000/svg\" height=\"24px\"viewBox=\"0 0 24 24\"\n",
              "       width=\"24px\">\n",
              "    <path d=\"M0 0h24v24H0V0z\" fill=\"none\"/>\n",
              "    <path d=\"M18.56 5.44l.94 2.06.94-2.06 2.06-.94-2.06-.94-.94-2.06-.94 2.06-2.06.94zm-11 1L8.5 8.5l.94-2.06 2.06-.94-2.06-.94L8.5 2.5l-.94 2.06-2.06.94zm10 10l.94 2.06.94-2.06 2.06-.94-2.06-.94-.94-2.06-.94 2.06-2.06.94z\"/><path d=\"M17.41 7.96l-1.37-1.37c-.4-.4-.92-.59-1.43-.59-.52 0-1.04.2-1.43.59L10.3 9.45l-7.72 7.72c-.78.78-.78 2.05 0 2.83L4 21.41c.39.39.9.59 1.41.59.51 0 1.02-.2 1.41-.59l7.78-7.78 2.81-2.81c.8-.78.8-2.07 0-2.86zM5.41 20L4 18.59l7.72-7.72 1.47 1.35L5.41 20z\"/>\n",
              "  </svg>\n",
              "      </button>\n",
              "      \n",
              "  <style>\n",
              "    .colab-df-container {\n",
              "      display:flex;\n",
              "      flex-wrap:wrap;\n",
              "      gap: 12px;\n",
              "    }\n",
              "\n",
              "    .colab-df-convert {\n",
              "      background-color: #E8F0FE;\n",
              "      border: none;\n",
              "      border-radius: 50%;\n",
              "      cursor: pointer;\n",
              "      display: none;\n",
              "      fill: #1967D2;\n",
              "      height: 32px;\n",
              "      padding: 0 0 0 0;\n",
              "      width: 32px;\n",
              "    }\n",
              "\n",
              "    .colab-df-convert:hover {\n",
              "      background-color: #E2EBFA;\n",
              "      box-shadow: 0px 1px 2px rgba(60, 64, 67, 0.3), 0px 1px 3px 1px rgba(60, 64, 67, 0.15);\n",
              "      fill: #174EA6;\n",
              "    }\n",
              "\n",
              "    [theme=dark] .colab-df-convert {\n",
              "      background-color: #3B4455;\n",
              "      fill: #D2E3FC;\n",
              "    }\n",
              "\n",
              "    [theme=dark] .colab-df-convert:hover {\n",
              "      background-color: #434B5C;\n",
              "      box-shadow: 0px 1px 3px 1px rgba(0, 0, 0, 0.15);\n",
              "      filter: drop-shadow(0px 1px 2px rgba(0, 0, 0, 0.3));\n",
              "      fill: #FFFFFF;\n",
              "    }\n",
              "  </style>\n",
              "\n",
              "      <script>\n",
              "        const buttonEl =\n",
              "          document.querySelector('#df-80f2a5c7-9373-4fda-835d-e095dfba3b49 button.colab-df-convert');\n",
              "        buttonEl.style.display =\n",
              "          google.colab.kernel.accessAllowed ? 'block' : 'none';\n",
              "\n",
              "        async function convertToInteractive(key) {\n",
              "          const element = document.querySelector('#df-80f2a5c7-9373-4fda-835d-e095dfba3b49');\n",
              "          const dataTable =\n",
              "            await google.colab.kernel.invokeFunction('convertToInteractive',\n",
              "                                                     [key], {});\n",
              "          if (!dataTable) return;\n",
              "\n",
              "          const docLinkHtml = 'Like what you see? Visit the ' +\n",
              "            '<a target=\"_blank\" href=https://colab.research.google.com/notebooks/data_table.ipynb>data table notebook</a>'\n",
              "            + ' to learn more about interactive tables.';\n",
              "          element.innerHTML = '';\n",
              "          dataTable['output_type'] = 'display_data';\n",
              "          await google.colab.output.renderOutput(dataTable, element);\n",
              "          const docLink = document.createElement('div');\n",
              "          docLink.innerHTML = docLinkHtml;\n",
              "          element.appendChild(docLink);\n",
              "        }\n",
              "      </script>\n",
              "    </div>\n",
              "  </div>\n",
              "  "
            ]
          },
          "metadata": {},
          "execution_count": 341
        }
      ]
    },
    {
      "cell_type": "code",
      "source": [
        "df.iloc[1:3,:4]"
      ],
      "metadata": {
        "colab": {
          "base_uri": "https://localhost:8080/",
          "height": 112
        },
        "id": "n_PqlYQCnQmc",
        "outputId": "c0f6a8f6-3932-480e-9416-232a03930c5a"
      },
      "execution_count": 342,
      "outputs": [
        {
          "output_type": "execute_result",
          "data": {
            "text/plain": [
              "   0  1  45000.00  25.00\n",
              "1  1  0   32000.0   20.0\n",
              "2  1  0   59000.0   70.0"
            ],
            "text/html": [
              "\n",
              "  <div id=\"df-abeb6e4c-6301-48a4-a0b4-d02ab0d15cfa\">\n",
              "    <div class=\"colab-df-container\">\n",
              "      <div>\n",
              "<style scoped>\n",
              "    .dataframe tbody tr th:only-of-type {\n",
              "        vertical-align: middle;\n",
              "    }\n",
              "\n",
              "    .dataframe tbody tr th {\n",
              "        vertical-align: top;\n",
              "    }\n",
              "\n",
              "    .dataframe thead th {\n",
              "        text-align: right;\n",
              "    }\n",
              "</style>\n",
              "<table border=\"1\" class=\"dataframe\">\n",
              "  <thead>\n",
              "    <tr style=\"text-align: right;\">\n",
              "      <th></th>\n",
              "      <th>0</th>\n",
              "      <th>1</th>\n",
              "      <th>45000.00</th>\n",
              "      <th>25.00</th>\n",
              "    </tr>\n",
              "  </thead>\n",
              "  <tbody>\n",
              "    <tr>\n",
              "      <th>1</th>\n",
              "      <td>1</td>\n",
              "      <td>0</td>\n",
              "      <td>32000.0</td>\n",
              "      <td>20.0</td>\n",
              "    </tr>\n",
              "    <tr>\n",
              "      <th>2</th>\n",
              "      <td>1</td>\n",
              "      <td>0</td>\n",
              "      <td>59000.0</td>\n",
              "      <td>70.0</td>\n",
              "    </tr>\n",
              "  </tbody>\n",
              "</table>\n",
              "</div>\n",
              "      <button class=\"colab-df-convert\" onclick=\"convertToInteractive('df-abeb6e4c-6301-48a4-a0b4-d02ab0d15cfa')\"\n",
              "              title=\"Convert this dataframe to an interactive table.\"\n",
              "              style=\"display:none;\">\n",
              "        \n",
              "  <svg xmlns=\"http://www.w3.org/2000/svg\" height=\"24px\"viewBox=\"0 0 24 24\"\n",
              "       width=\"24px\">\n",
              "    <path d=\"M0 0h24v24H0V0z\" fill=\"none\"/>\n",
              "    <path d=\"M18.56 5.44l.94 2.06.94-2.06 2.06-.94-2.06-.94-.94-2.06-.94 2.06-2.06.94zm-11 1L8.5 8.5l.94-2.06 2.06-.94-2.06-.94L8.5 2.5l-.94 2.06-2.06.94zm10 10l.94 2.06.94-2.06 2.06-.94-2.06-.94-.94-2.06-.94 2.06-2.06.94z\"/><path d=\"M17.41 7.96l-1.37-1.37c-.4-.4-.92-.59-1.43-.59-.52 0-1.04.2-1.43.59L10.3 9.45l-7.72 7.72c-.78.78-.78 2.05 0 2.83L4 21.41c.39.39.9.59 1.41.59.51 0 1.02-.2 1.41-.59l7.78-7.78 2.81-2.81c.8-.78.8-2.07 0-2.86zM5.41 20L4 18.59l7.72-7.72 1.47 1.35L5.41 20z\"/>\n",
              "  </svg>\n",
              "      </button>\n",
              "      \n",
              "  <style>\n",
              "    .colab-df-container {\n",
              "      display:flex;\n",
              "      flex-wrap:wrap;\n",
              "      gap: 12px;\n",
              "    }\n",
              "\n",
              "    .colab-df-convert {\n",
              "      background-color: #E8F0FE;\n",
              "      border: none;\n",
              "      border-radius: 50%;\n",
              "      cursor: pointer;\n",
              "      display: none;\n",
              "      fill: #1967D2;\n",
              "      height: 32px;\n",
              "      padding: 0 0 0 0;\n",
              "      width: 32px;\n",
              "    }\n",
              "\n",
              "    .colab-df-convert:hover {\n",
              "      background-color: #E2EBFA;\n",
              "      box-shadow: 0px 1px 2px rgba(60, 64, 67, 0.3), 0px 1px 3px 1px rgba(60, 64, 67, 0.15);\n",
              "      fill: #174EA6;\n",
              "    }\n",
              "\n",
              "    [theme=dark] .colab-df-convert {\n",
              "      background-color: #3B4455;\n",
              "      fill: #D2E3FC;\n",
              "    }\n",
              "\n",
              "    [theme=dark] .colab-df-convert:hover {\n",
              "      background-color: #434B5C;\n",
              "      box-shadow: 0px 1px 3px 1px rgba(0, 0, 0, 0.15);\n",
              "      filter: drop-shadow(0px 1px 2px rgba(0, 0, 0, 0.3));\n",
              "      fill: #FFFFFF;\n",
              "    }\n",
              "  </style>\n",
              "\n",
              "      <script>\n",
              "        const buttonEl =\n",
              "          document.querySelector('#df-abeb6e4c-6301-48a4-a0b4-d02ab0d15cfa button.colab-df-convert');\n",
              "        buttonEl.style.display =\n",
              "          google.colab.kernel.accessAllowed ? 'block' : 'none';\n",
              "\n",
              "        async function convertToInteractive(key) {\n",
              "          const element = document.querySelector('#df-abeb6e4c-6301-48a4-a0b4-d02ab0d15cfa');\n",
              "          const dataTable =\n",
              "            await google.colab.kernel.invokeFunction('convertToInteractive',\n",
              "                                                     [key], {});\n",
              "          if (!dataTable) return;\n",
              "\n",
              "          const docLinkHtml = 'Like what you see? Visit the ' +\n",
              "            '<a target=\"_blank\" href=https://colab.research.google.com/notebooks/data_table.ipynb>data table notebook</a>'\n",
              "            + ' to learn more about interactive tables.';\n",
              "          element.innerHTML = '';\n",
              "          dataTable['output_type'] = 'display_data';\n",
              "          await google.colab.output.renderOutput(dataTable, element);\n",
              "          const docLink = document.createElement('div');\n",
              "          docLink.innerHTML = docLinkHtml;\n",
              "          element.appendChild(docLink);\n",
              "        }\n",
              "      </script>\n",
              "    </div>\n",
              "  </div>\n",
              "  "
            ]
          },
          "metadata": {},
          "execution_count": 342
        }
      ]
    },
    {
      "cell_type": "code",
      "source": [
        "df.info()"
      ],
      "metadata": {
        "colab": {
          "base_uri": "https://localhost:8080/"
        },
        "id": "6Xgs4pOUnQvN",
        "outputId": "6d37f103-9a44-4350-f808-d3a5506c0534"
      },
      "execution_count": 347,
      "outputs": [
        {
          "output_type": "stream",
          "name": "stdout",
          "text": [
            "<class 'pandas.core.frame.DataFrame'>\n",
            "RangeIndex: 39 entries, 0 to 38\n",
            "Data columns (total 6 columns):\n",
            " #   Column    Non-Null Count  Dtype  \n",
            "---  ------    --------------  -----  \n",
            " 0   0         39 non-null     int64  \n",
            " 1   1         39 non-null     int64  \n",
            " 2   45000.00  39 non-null     float64\n",
            " 3   25.00     39 non-null     float64\n",
            " 4   27.00     39 non-null     float64\n",
            " 5   2.50      39 non-null     float64\n",
            "dtypes: float64(4), int64(2)\n",
            "memory usage: 2.0 KB\n"
          ]
        }
      ]
    },
    {
      "cell_type": "code",
      "source": [
        ""
      ],
      "metadata": {
        "id": "LrsW_UMHnQ3S"
      },
      "execution_count": null,
      "outputs": []
    },
    {
      "cell_type": "code",
      "source": [
        ""
      ],
      "metadata": {
        "id": "fZVDoXoAnQ5b"
      },
      "execution_count": null,
      "outputs": []
    },
    {
      "cell_type": "code",
      "source": [
        ""
      ],
      "metadata": {
        "id": "ZLmqdndEnQ8W"
      },
      "execution_count": null,
      "outputs": []
    },
    {
      "cell_type": "code",
      "source": [
        ""
      ],
      "metadata": {
        "id": "19jUggahnQ97"
      },
      "execution_count": null,
      "outputs": []
    },
    {
      "cell_type": "code",
      "source": [
        ""
      ],
      "metadata": {
        "id": "1szlJ2MznQ_O"
      },
      "execution_count": null,
      "outputs": []
    },
    {
      "cell_type": "code",
      "source": [
        ""
      ],
      "metadata": {
        "id": "N5OQQPNYnRBM"
      },
      "execution_count": null,
      "outputs": []
    },
    {
      "cell_type": "code",
      "source": [
        ""
      ],
      "metadata": {
        "id": "eXe-yOJRnRDc"
      },
      "execution_count": null,
      "outputs": []
    },
    {
      "cell_type": "code",
      "source": [
        ""
      ],
      "metadata": {
        "id": "JjJalpxCnRFs"
      },
      "execution_count": null,
      "outputs": []
    },
    {
      "cell_type": "code",
      "source": [
        ""
      ],
      "metadata": {
        "id": "1eLvj_ujnRH7"
      },
      "execution_count": null,
      "outputs": []
    },
    {
      "cell_type": "code",
      "source": [
        ""
      ],
      "metadata": {
        "id": "_-CBQh8pnRKH"
      },
      "execution_count": null,
      "outputs": []
    },
    {
      "cell_type": "code",
      "source": [
        ""
      ],
      "metadata": {
        "id": "AkrcIAQynRMe"
      },
      "execution_count": null,
      "outputs": []
    },
    {
      "cell_type": "code",
      "source": [
        ""
      ],
      "metadata": {
        "id": "vTBgXbafnROl"
      },
      "execution_count": null,
      "outputs": []
    },
    {
      "cell_type": "code",
      "source": [
        ""
      ],
      "metadata": {
        "id": "rEU4zBxXnRQ8"
      },
      "execution_count": null,
      "outputs": []
    },
    {
      "cell_type": "code",
      "source": [
        ""
      ],
      "metadata": {
        "id": "VqIjQiD1nRTo"
      },
      "execution_count": null,
      "outputs": []
    },
    {
      "cell_type": "code",
      "source": [
        ""
      ],
      "metadata": {
        "id": "1G0G_yFLnRVt"
      },
      "execution_count": null,
      "outputs": []
    },
    {
      "cell_type": "code",
      "source": [
        ""
      ],
      "metadata": {
        "id": "EpSC5SRJnRXy"
      },
      "execution_count": null,
      "outputs": []
    },
    {
      "cell_type": "code",
      "source": [
        ""
      ],
      "metadata": {
        "id": "fTVBkQFinRaW"
      },
      "execution_count": null,
      "outputs": []
    },
    {
      "cell_type": "code",
      "source": [
        ""
      ],
      "metadata": {
        "id": "mdol6_AcnRcy"
      },
      "execution_count": null,
      "outputs": []
    },
    {
      "cell_type": "code",
      "source": [
        ""
      ],
      "metadata": {
        "id": "yuq3q_m2nRfQ"
      },
      "execution_count": null,
      "outputs": []
    },
    {
      "cell_type": "code",
      "source": [
        ""
      ],
      "metadata": {
        "id": "NoFjm9bdnRhd"
      },
      "execution_count": null,
      "outputs": []
    },
    {
      "cell_type": "code",
      "source": [
        ""
      ],
      "metadata": {
        "id": "WzPbcmHXnRkD"
      },
      "execution_count": null,
      "outputs": []
    },
    {
      "cell_type": "code",
      "source": [
        ""
      ],
      "metadata": {
        "id": "UK5M_us7nRmk"
      },
      "execution_count": null,
      "outputs": []
    },
    {
      "cell_type": "code",
      "source": [
        ""
      ],
      "metadata": {
        "id": "bDpkNDrhnRos"
      },
      "execution_count": null,
      "outputs": []
    },
    {
      "cell_type": "code",
      "source": [
        ""
      ],
      "metadata": {
        "id": "bIeoZFJ8nRrg"
      },
      "execution_count": null,
      "outputs": []
    },
    {
      "cell_type": "code",
      "source": [
        ""
      ],
      "metadata": {
        "id": "1ynVlahHnRuT"
      },
      "execution_count": null,
      "outputs": []
    }
  ]
}